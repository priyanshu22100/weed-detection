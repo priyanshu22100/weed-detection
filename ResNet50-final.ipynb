{
 "cells": [
  {
   "cell_type": "markdown",
   "metadata": {},
   "source": [
    "# **Training for ResNet50**\n"
   ]
  },
  {
   "cell_type": "code",
   "execution_count": null,
   "metadata": {
    "_cell_guid": "b1076dfc-b9ad-4769-8c92-a6c4dae69d19",
    "_uuid": "8f2839f25d086af736a60e9eeb907d3b93b6e0e5",
    "trusted": true
   },
   "outputs": [],
   "source": [
    "import numpy as np \n",
    "import pandas as pd \n",
    "import os\n",
    "for dirname, _, filenames in os.walk('/kaggle/input'):\n",
    "    for filename in filenames:\n",
    "        print(os.path.join(dirname, filename))\n"
   ]
  },
  {
   "cell_type": "markdown",
   "metadata": {},
   "source": [
    "# **Libraries to import**"
   ]
  },
  {
   "cell_type": "code",
   "execution_count": null,
   "metadata": {
    "trusted": true
   },
   "outputs": [],
   "source": [
    "import os\n",
    "import cv2\n",
    "import shutil\n",
    "import random\n",
    "import numpy as np\n",
    "import torch\n",
    "import torch.nn as nn\n",
    "import torchvision.models as models\n",
    "import torchvision.transforms as T\n",
    "import seaborn as sns\n",
    "import matplotlib.pyplot as plt\n",
    "from tqdm import tqdm\n",
    "from sklearn.model_selection import train_test_split\n",
    "from sklearn.metrics import confusion_matrix, classification_report\n",
    "from torch.utils.data import Dataset, DataLoader\n",
    "from PIL import Image\n"
   ]
  },
  {
   "cell_type": "markdown",
   "metadata": {},
   "source": [
    "# **Data Preproccessing**"
   ]
  },
  {
   "cell_type": "code",
   "execution_count": 1,
   "metadata": {
    "execution": {
     "iopub.execute_input": "2025-02-05T07:33:29.798096Z",
     "iopub.status.busy": "2025-02-05T07:33:29.797895Z",
     "iopub.status.idle": "2025-02-05T07:33:44.027204Z",
     "shell.execute_reply": "2025-02-05T07:33:44.026328Z",
     "shell.execute_reply.started": "2025-02-05T07:33:29.798077Z"
    },
    "trusted": true
   },
   "outputs": [
    {
     "name": "stdout",
     "output_type": "stream",
     "text": [
      "\n",
      "Original dataset statistics:\n",
      "Total original images: 200\n",
      "Training images before augmentation: 160\n",
      "Validation images: 40\n",
      "Unlabeled images: 1000\n"
     ]
    },
    {
     "name": "stderr",
     "output_type": "stream",
     "text": [
      "Processing training images: 100%|██████████| 160/160 [00:03<00:00, 40.15it/s]\n",
      "Processing validation images: 100%|██████████| 40/40 [00:00<00:00, 69.58it/s]\n",
      "Processing test images: 100%|██████████| 50/50 [00:00<00:00, 75.74it/s]\n",
      "Processing unlabeled images: 100%|██████████| 1000/1000 [00:07<00:00, 126.84it/s]"
     ]
    },
    {
     "name": "stdout",
     "output_type": "stream",
     "text": [
      "\n",
      "Final dataset statistics:\n",
      "\n",
      "Image counts:\n",
      "Training images (original): 160\n",
      "Training images (augmented): 480\n",
      "Training images (total): 640\n",
      "Validation images: 40\n",
      "Test images: 50\n",
      "Unlabeled images: 1000\n",
      "\n",
      "Dataset sizes:\n",
      "Training set size: 46.38 MB\n",
      "Validation set size: 2.52 MB\n",
      "Test set size: 3.08 MB\n",
      "Unlabeled set size: 60.48 MB\n",
      "Total dataset size: 112.47 MB\n",
      "\n",
      "Files per directory:\n",
      "train/images: 640 files\n",
      "train/labels: 640 files\n",
      "val/images: 40 files\n",
      "val/labels: 40 files\n",
      "test/images: 50 files\n",
      "test/labels: 50 files\n",
      "unlabeled/images: 1000 files\n"
     ]
    },
    {
     "name": "stderr",
     "output_type": "stream",
     "text": [
      "\n"
     ]
    }
   ],
   "source": [
    "# Organizing Datasets\n",
    "def create_directory_structure(base_path):\n",
    "    folders = [\n",
    "        \"train/images\", \"train/labels\",\n",
    "        \"val/images\", \"val/labels\",\n",
    "        \"test/images\", \"test/labels\",\n",
    "        \"unlabeled/images\"\n",
    "    ]\n",
    "    for folder in folders:\n",
    "        os.makedirs(os.path.join(base_path, folder), exist_ok=True)\n",
    "        \n",
    "    return folders # Returns the list of created folder paths\n",
    "\n",
    "# Applying Data augmentation\n",
    "def adjust_annotations(annotations, crop_x, crop_y, crop_w, crop_h, orig_w, orig_h):\n",
    "    \"\"\"Adjust bounding box annotations after cropping.\"\"\"\n",
    "    new_annotations = []\n",
    "    for line in annotations:\n",
    "        class_id, x_center, y_center, width, height = map(float, line.strip().split())\n",
    "        x_abs, y_abs = x_center * orig_w, y_center * orig_h\n",
    "        width, height = width * orig_w, height * orig_h\n",
    "        \n",
    "        x1, y1 = x_abs - width / 2, y_abs - height / 2\n",
    "        x2, y2 = x_abs + width / 2, y_abs + height / 2\n",
    "        \n",
    "        if x1 >= crop_x and y1 >= crop_y and x2 <= crop_x + crop_w and y2 <= crop_y + crop_h:\n",
    "            x1_new, y1_new = x1 - crop_x, y1 - crop_y\n",
    "            x2_new, y2_new = x2 - crop_x, y2 - crop_y\n",
    "            x_center_new = (x1_new + x2_new) / 2 / crop_w\n",
    "            y_center_new = (y1_new + y2_new) / 2 / crop_h\n",
    "            width_new = (x2_new - x1_new) / crop_w\n",
    "            height_new = (y2_new - y1_new) / crop_h\n",
    "            new_annotations.append(f\"{class_id} {x_center_new:.6f} {y_center_new:.6f} {width_new:.6f} {height_new:.6f}\")\n",
    "    return new_annotations\n",
    "\n",
    "def random_crop(image, annotations, crop_size=(224, 224)):\n",
    "    \"\"\"Randomly cropping image and adjusting annotations.\"\"\"\n",
    "    h, w, _ = image.shape\n",
    "    crop_h, crop_w = crop_size\n",
    "    if crop_h > h or crop_w > w:\n",
    "        return image, annotations\n",
    "    x_start = random.randint(0, w - crop_w)\n",
    "    y_start = random.randint(0, h - crop_h)\n",
    "    cropped_image = image[y_start:y_start + crop_h, x_start:x_start + crop_w]\n",
    "    new_annotations = adjust_annotations(annotations, x_start, y_start, crop_w, crop_h, w, h)\n",
    "    return cropped_image, new_annotations\n",
    "\n",
    "def invert_colors(image):\n",
    "    \"\"\"Inverting image colors.\"\"\"\n",
    "    return cv2.bitwise_not(image)\n",
    "\n",
    "def apply_gaussian_blur(image, kernel_size=(5, 5)):\n",
    "    \"\"\"Applying Gaussian blur to image.\"\"\"\n",
    "    return cv2.GaussianBlur(image, kernel_size, 0)\n",
    "    \n",
    "def process_training_set(train_orig, source_paths, dest_paths, augment=True):\n",
    "    \"\"\"Processing training set with optional augmentation.\"\"\"\n",
    "    processed_count = 0\n",
    "    augmented_count = 0\n",
    "    \n",
    "    for img_name in tqdm(train_orig, desc=\"Processing training images\"):\n",
    "        img_path = os.path.join(source_paths['images'], img_name)\n",
    "        ann_path = os.path.join(source_paths['annotations'], img_name.replace(\".jpg\", \".txt\"))\n",
    "        \n",
    "        if not os.path.exists(ann_path):\n",
    "            continue\n",
    "        \n",
    "        image = cv2.imread(img_path)\n",
    "        with open(ann_path, \"r\") as f:\n",
    "            annotations = f.readlines()\n",
    "        \n",
    "        # Copy original\n",
    "        shutil.copy(img_path, os.path.join(dest_paths['images'], img_name))\n",
    "        shutil.copy(ann_path, os.path.join(dest_paths['labels'], img_name.replace(\".jpg\", \".txt\")))\n",
    "        processed_count += 1\n",
    "        \n",
    "        if augment:\n",
    "            # Generate augmentations\n",
    "            augmentations = [\n",
    "                random_crop(image, annotations),\n",
    "                (invert_colors(image), annotations),\n",
    "                (apply_gaussian_blur(image), annotations)\n",
    "            ]\n",
    "            \n",
    "            for i, (aug_img, aug_ann) in enumerate(augmentations):\n",
    "                aug_img_name = f\"aug_{i}_{img_name}\"\n",
    "                aug_ann_name = f\"aug_{i}_{img_name.replace('.jpg', '.txt')}\"\n",
    "                cv2.imwrite(os.path.join(dest_paths['images'], aug_img_name), aug_img)\n",
    "                with open(os.path.join(dest_paths['labels'], aug_ann_name), \"w\") as f:\n",
    "                    f.write(\"\\n\".join(aug_ann))\n",
    "                augmented_count += 1\n",
    "                \n",
    "    return processed_count, augmented_count\n",
    "\n",
    "def process_unlabeled_set(unlabeled_images, source_paths, dest_paths):\n",
    "    \"\"\" Process unlabeled images (without annotations). \"\"\"\n",
    "    processed_count = 0\n",
    "    \n",
    "    for img_name in tqdm(unlabeled_images, desc=\"Processing unlabeled images\"):\n",
    "        img_path = os.path.join(source_paths['unlabeled_images'], img_name)  # Corrected this path\n",
    "        if not os.path.exists(img_path):\n",
    "            continue\n",
    "        \n",
    "        # Copy original image to unlabeled folder\n",
    "        shutil.copy(img_path, os.path.join(dest_paths['images'], img_name))\n",
    "        processed_count += 1\n",
    "    \n",
    "    return processed_count\n",
    "\n",
    "# Data Splitting and Statistics \n",
    "def process_dataset_split(image_list, source_paths, dest_paths, split_name=\"\"):\n",
    "    \"\"\"Process dataset split (validation or test).\"\"\"\n",
    "    processed_count = 0\n",
    "    for img_name in tqdm(image_list, desc=f\"Processing {split_name} images\"):\n",
    "        img_path = os.path.join(source_paths['images'], img_name)\n",
    "        ann_path = os.path.join(source_paths['annotations'], img_name.replace(\".jpg\", \".txt\"))\n",
    "        \n",
    "        if not os.path.exists(ann_path):\n",
    "            continue\n",
    "        \n",
    "        shutil.copy(img_path, os.path.join(dest_paths['images'], img_name))\n",
    "        shutil.copy(ann_path, os.path.join(dest_paths['labels'], img_name.replace(\".jpg\", \".txt\")))\n",
    "        processed_count += 1\n",
    "    \n",
    "    return processed_count\n",
    "\n",
    "def get_dir_size(path):\n",
    "    \"\"\"Get directory size in MB.\"\"\"\n",
    "    total_size = 0\n",
    "    for dirpath, dirnames, filenames in os.walk(path):\n",
    "        for f in filenames:\n",
    "            fp = os.path.join(dirpath, f)\n",
    "            total_size += os.path.getsize(fp)\n",
    "    return total_size / (1024 * 1024) \n",
    "\n",
    "def main():\n",
    "    # Defining paths for accessing dataset on kaggle\n",
    "    base_path = \"/kaggle/input/weedzip\"\n",
    "    source_paths = {\n",
    "        'labeled_images': os.path.join(base_path, \"labeled/images\"),\n",
    "        'labeled_annotations': os.path.join(base_path, \"labeled/annotations\"),\n",
    "        'test_images': os.path.join(base_path, \"test/images\"),\n",
    "        'test_annotations': os.path.join(base_path, \"test/annotations\"),\n",
    "        'unlabeled_images': os.path.join(base_path, \"unlabeled\")\n",
    "    }\n",
    "    \n",
    "    preprocessed_path = \"/kaggle/working/Preprocessed_img_weed\"\n",
    "    folders = create_directory_structure(preprocessed_path)\n",
    "    \n",
    "    # Split original dataset\n",
    "    all_original_images = os.listdir(source_paths['labeled_images'])\n",
    "    train_orig, val_orig = train_test_split(all_original_images, test_size=0.2, random_state=42)\n",
    "    \n",
    "    # Split unlabeled dataset\n",
    "    unlabeled_images = os.listdir(source_paths['unlabeled_images'])\n",
    "    \n",
    "    # Print initial statistics\n",
    "    print(\"\\nOriginal dataset statistics:\")\n",
    "    print(f\"Total original images: {len(all_original_images)}\")\n",
    "    print(f\"Training images before augmentation: {len(train_orig)}\")\n",
    "    print(f\"Validation images: {len(val_orig)}\")\n",
    "    print(f\"Unlabeled images: {len(unlabeled_images)}\")\n",
    "    \n",
    "    # Process training set\n",
    "    train_paths = {\n",
    "        'images': os.path.join(preprocessed_path, \"train/images\"),\n",
    "        'labels': os.path.join(preprocessed_path, \"train/labels\")\n",
    "    }\n",
    "    processed_train, augmented_count = process_training_set(\n",
    "        train_orig,\n",
    "        {'images': source_paths['labeled_images'], 'annotations': source_paths['labeled_annotations']},\n",
    "        train_paths\n",
    "    )\n",
    "    \n",
    "    # Process validation set\n",
    "    val_paths = {\n",
    "        'images': os.path.join(preprocessed_path, \"val/images\"),\n",
    "        'labels': os.path.join(preprocessed_path, \"val/labels\")\n",
    "    }\n",
    "    processed_val = process_dataset_split(\n",
    "        val_orig,\n",
    "        {'images': source_paths['labeled_images'], 'annotations': source_paths['labeled_annotations']},\n",
    "        val_paths,\n",
    "        \"validation\"\n",
    "    )\n",
    "    \n",
    "    # Process test set\n",
    "    test_paths = {\n",
    "        'images': os.path.join(preprocessed_path, \"test/images\"),\n",
    "        'labels': os.path.join(preprocessed_path, \"test/labels\")\n",
    "    }\n",
    "    processed_test = process_dataset_split(\n",
    "        os.listdir(source_paths['test_images']),\n",
    "        {'images': source_paths['test_images'], 'annotations': source_paths['test_annotations']},\n",
    "        test_paths,\n",
    "        \"test\"\n",
    "    )\n",
    "    \n",
    "    # Process unlabeled set\n",
    "    unlabeled_paths = {\n",
    "        'images': os.path.join(preprocessed_path, \"unlabeled/images\")\n",
    "    }\n",
    "    if not os.path.exists(unlabeled_paths['images']):\n",
    "        os.makedirs(unlabeled_paths['images'])\n",
    "    \n",
    "    processed_unlabeled = process_unlabeled_set(\n",
    "        unlabeled_images,\n",
    "        {'unlabeled_images': source_paths['unlabeled_images']},\n",
    "        unlabeled_paths\n",
    "    )\n",
    "    \n",
    "    # Print comprehensive dataset statistics\n",
    "    print(\"\\nFinal dataset statistics:\")\n",
    "    print(\"\\nImage counts:\")\n",
    "    print(f\"Training images (original): {processed_train}\")\n",
    "    print(f\"Training images (augmented): {augmented_count}\")\n",
    "    print(f\"Training images (total): {processed_train + augmented_count}\")\n",
    "    print(f\"Validation images: {processed_val}\")\n",
    "    print(f\"Test images: {processed_test}\")\n",
    "    print(f\"Unlabeled images: {processed_unlabeled}\")\n",
    "    \n",
    "    print(\"\\nDataset sizes:\")\n",
    "    print(f\"Training set size: {get_dir_size(os.path.join(preprocessed_path, 'train')):.2f} MB\")\n",
    "    print(f\"Validation set size: {get_dir_size(os.path.join(preprocessed_path, 'val')):.2f} MB\")\n",
    "    print(f\"Test set size: {get_dir_size(os.path.join(preprocessed_path, 'test')):.2f} MB\")\n",
    "    print(f\"Unlabeled set size: {get_dir_size(os.path.join(preprocessed_path, 'unlabeled')):.2f} MB\")\n",
    "    print(f\"Total dataset size: {get_dir_size(preprocessed_path):.2f} MB\")\n",
    "    \n",
    "    print(\"\\nFiles per directory:\")\n",
    "    for folder in folders:\n",
    "        path = os.path.join(preprocessed_path, folder)\n",
    "        print(f\"{folder}: {len(os.listdir(path))} files\")\n",
    "\n",
    "if __name__ == \"__main__\":\n",
    "    main()\n"
   ]
  },
  {
   "cell_type": "markdown",
   "metadata": {},
   "source": [
    "# **Data Training**"
   ]
  },
  {
   "cell_type": "code",
   "execution_count": 7,
   "metadata": {
    "execution": {
     "iopub.execute_input": "2025-02-05T07:51:40.922527Z",
     "iopub.status.busy": "2025-02-05T07:51:40.922218Z",
     "iopub.status.idle": "2025-02-05T08:18:10.862773Z",
     "shell.execute_reply": "2025-02-05T08:18:10.861865Z",
     "shell.execute_reply.started": "2025-02-05T07:51:40.922500Z"
    },
    "trusted": true
   },
   "outputs": [
    {
     "name": "stdout",
     "output_type": "stream",
     "text": [
      "Using device: cuda\n"
     ]
    },
    {
     "name": "stderr",
     "output_type": "stream",
     "text": [
      "Epoch 1: 100%|██████████| 20/20 [00:13<00:00,  1.45it/s]\n"
     ]
    },
    {
     "name": "stdout",
     "output_type": "stream",
     "text": [
      "Epoch 1, Loss: 0.4312, Train Acc: 97.97%, Val Acc: 95.00%\n",
      "Best model saved!\n"
     ]
    },
    {
     "name": "stderr",
     "output_type": "stream",
     "text": [
      "Epoch 2: 100%|██████████| 20/20 [00:13<00:00,  1.46it/s]\n"
     ]
    },
    {
     "name": "stdout",
     "output_type": "stream",
     "text": [
      "Epoch 2, Loss: 0.1179, Train Acc: 98.59%, Val Acc: 95.00%\n"
     ]
    },
    {
     "name": "stderr",
     "output_type": "stream",
     "text": [
      "Epoch 3: 100%|██████████| 20/20 [00:13<00:00,  1.45it/s]\n"
     ]
    },
    {
     "name": "stdout",
     "output_type": "stream",
     "text": [
      "Epoch 3, Loss: 0.0735, Train Acc: 99.06%, Val Acc: 95.00%\n"
     ]
    },
    {
     "name": "stderr",
     "output_type": "stream",
     "text": [
      "Epoch 4: 100%|██████████| 20/20 [00:13<00:00,  1.47it/s]\n"
     ]
    },
    {
     "name": "stdout",
     "output_type": "stream",
     "text": [
      "Epoch 4, Loss: 0.0310, Train Acc: 99.53%, Val Acc: 95.00%\n"
     ]
    },
    {
     "name": "stderr",
     "output_type": "stream",
     "text": [
      "Epoch 5: 100%|██████████| 20/20 [00:13<00:00,  1.46it/s]\n"
     ]
    },
    {
     "name": "stdout",
     "output_type": "stream",
     "text": [
      "Epoch 5, Loss: 0.0267, Train Acc: 99.53%, Val Acc: 92.50%\n"
     ]
    },
    {
     "name": "stderr",
     "output_type": "stream",
     "text": [
      "Epoch 6: 100%|██████████| 20/20 [00:13<00:00,  1.45it/s]\n"
     ]
    },
    {
     "name": "stdout",
     "output_type": "stream",
     "text": [
      "Epoch 6, Loss: 0.0271, Train Acc: 99.53%, Val Acc: 95.00%\n"
     ]
    },
    {
     "name": "stderr",
     "output_type": "stream",
     "text": [
      "Epoch 7: 100%|██████████| 20/20 [00:13<00:00,  1.46it/s]\n"
     ]
    },
    {
     "name": "stdout",
     "output_type": "stream",
     "text": [
      "Epoch 7, Loss: 0.0246, Train Acc: 99.53%, Val Acc: 95.00%\n"
     ]
    },
    {
     "name": "stderr",
     "output_type": "stream",
     "text": [
      "Epoch 8: 100%|██████████| 20/20 [00:13<00:00,  1.44it/s]\n"
     ]
    },
    {
     "name": "stdout",
     "output_type": "stream",
     "text": [
      "Epoch 8, Loss: 0.0157, Train Acc: 99.53%, Val Acc: 92.50%\n"
     ]
    },
    {
     "name": "stderr",
     "output_type": "stream",
     "text": [
      "Epoch 9: 100%|██████████| 20/20 [00:14<00:00,  1.40it/s]\n"
     ]
    },
    {
     "name": "stdout",
     "output_type": "stream",
     "text": [
      "Epoch 9, Loss: 0.0282, Train Acc: 99.38%, Val Acc: 97.50%\n",
      "Best model saved!\n"
     ]
    },
    {
     "name": "stderr",
     "output_type": "stream",
     "text": [
      "Epoch 10: 100%|██████████| 20/20 [00:13<00:00,  1.43it/s]\n"
     ]
    },
    {
     "name": "stdout",
     "output_type": "stream",
     "text": [
      "Epoch 10, Loss: 0.0167, Train Acc: 99.53%, Val Acc: 95.00%\n"
     ]
    },
    {
     "name": "stderr",
     "output_type": "stream",
     "text": [
      "Epoch 11: 100%|██████████| 20/20 [00:13<00:00,  1.46it/s]\n"
     ]
    },
    {
     "name": "stdout",
     "output_type": "stream",
     "text": [
      "Epoch 11, Loss: 0.0141, Train Acc: 99.53%, Val Acc: 92.50%\n"
     ]
    },
    {
     "name": "stderr",
     "output_type": "stream",
     "text": [
      "Epoch 12: 100%|██████████| 20/20 [00:13<00:00,  1.44it/s]\n"
     ]
    },
    {
     "name": "stdout",
     "output_type": "stream",
     "text": [
      "Epoch 12, Loss: 0.0311, Train Acc: 99.69%, Val Acc: 92.50%\n"
     ]
    },
    {
     "name": "stderr",
     "output_type": "stream",
     "text": [
      "Epoch 13: 100%|██████████| 20/20 [00:13<00:00,  1.46it/s]\n"
     ]
    },
    {
     "name": "stdout",
     "output_type": "stream",
     "text": [
      "Epoch 13, Loss: 0.0168, Train Acc: 99.38%, Val Acc: 95.00%\n"
     ]
    },
    {
     "name": "stderr",
     "output_type": "stream",
     "text": [
      "Epoch 14: 100%|██████████| 20/20 [00:13<00:00,  1.46it/s]\n"
     ]
    },
    {
     "name": "stdout",
     "output_type": "stream",
     "text": [
      "Epoch 14, Loss: 0.0101, Train Acc: 99.53%, Val Acc: 90.00%\n"
     ]
    },
    {
     "name": "stderr",
     "output_type": "stream",
     "text": [
      "Epoch 15: 100%|██████████| 20/20 [00:13<00:00,  1.45it/s]\n"
     ]
    },
    {
     "name": "stdout",
     "output_type": "stream",
     "text": [
      "Epoch 15, Loss: 0.0095, Train Acc: 99.53%, Val Acc: 90.00%\n"
     ]
    },
    {
     "name": "stderr",
     "output_type": "stream",
     "text": [
      "Epoch 16: 100%|██████████| 20/20 [00:13<00:00,  1.45it/s]\n"
     ]
    },
    {
     "name": "stdout",
     "output_type": "stream",
     "text": [
      "Epoch 16, Loss: 0.0089, Train Acc: 99.69%, Val Acc: 92.50%\n"
     ]
    },
    {
     "name": "stderr",
     "output_type": "stream",
     "text": [
      "Epoch 17: 100%|██████████| 20/20 [00:14<00:00,  1.42it/s]\n"
     ]
    },
    {
     "name": "stdout",
     "output_type": "stream",
     "text": [
      "Epoch 17, Loss: 0.0087, Train Acc: 99.53%, Val Acc: 92.50%\n"
     ]
    },
    {
     "name": "stderr",
     "output_type": "stream",
     "text": [
      "Epoch 18: 100%|██████████| 20/20 [00:13<00:00,  1.46it/s]\n"
     ]
    },
    {
     "name": "stdout",
     "output_type": "stream",
     "text": [
      "Epoch 18, Loss: 0.0081, Train Acc: 99.69%, Val Acc: 92.50%\n"
     ]
    },
    {
     "name": "stderr",
     "output_type": "stream",
     "text": [
      "Epoch 19: 100%|██████████| 20/20 [00:13<00:00,  1.45it/s]\n"
     ]
    },
    {
     "name": "stdout",
     "output_type": "stream",
     "text": [
      "Epoch 19, Loss: 0.0060, Train Acc: 100.00%, Val Acc: 92.50%\n"
     ]
    },
    {
     "name": "stderr",
     "output_type": "stream",
     "text": [
      "Epoch 20: 100%|██████████| 20/20 [00:13<00:00,  1.47it/s]\n"
     ]
    },
    {
     "name": "stdout",
     "output_type": "stream",
     "text": [
      "Epoch 20, Loss: 0.0076, Train Acc: 99.84%, Val Acc: 92.50%\n"
     ]
    },
    {
     "name": "stderr",
     "output_type": "stream",
     "text": [
      "Epoch 21: 100%|██████████| 20/20 [00:13<00:00,  1.44it/s]\n"
     ]
    },
    {
     "name": "stdout",
     "output_type": "stream",
     "text": [
      "Epoch 21, Loss: 0.0169, Train Acc: 99.84%, Val Acc: 92.50%\n"
     ]
    },
    {
     "name": "stderr",
     "output_type": "stream",
     "text": [
      "Epoch 22: 100%|██████████| 20/20 [00:13<00:00,  1.46it/s]\n"
     ]
    },
    {
     "name": "stdout",
     "output_type": "stream",
     "text": [
      "Epoch 22, Loss: 0.0129, Train Acc: 99.84%, Val Acc: 90.00%\n"
     ]
    },
    {
     "name": "stderr",
     "output_type": "stream",
     "text": [
      "Epoch 23: 100%|██████████| 20/20 [00:13<00:00,  1.46it/s]\n"
     ]
    },
    {
     "name": "stdout",
     "output_type": "stream",
     "text": [
      "Epoch 23, Loss: 0.0120, Train Acc: 99.53%, Val Acc: 90.00%\n"
     ]
    },
    {
     "name": "stderr",
     "output_type": "stream",
     "text": [
      "Epoch 24: 100%|██████████| 20/20 [00:13<00:00,  1.43it/s]\n"
     ]
    },
    {
     "name": "stdout",
     "output_type": "stream",
     "text": [
      "Epoch 24, Loss: 0.0170, Train Acc: 99.69%, Val Acc: 87.50%\n"
     ]
    },
    {
     "name": "stderr",
     "output_type": "stream",
     "text": [
      "Epoch 25: 100%|██████████| 20/20 [00:14<00:00,  1.43it/s]\n"
     ]
    },
    {
     "name": "stdout",
     "output_type": "stream",
     "text": [
      "Epoch 25, Loss: 0.0694, Train Acc: 99.53%, Val Acc: 90.00%\n"
     ]
    },
    {
     "name": "stderr",
     "output_type": "stream",
     "text": [
      "Epoch 26: 100%|██████████| 20/20 [00:14<00:00,  1.38it/s]\n"
     ]
    },
    {
     "name": "stdout",
     "output_type": "stream",
     "text": [
      "Epoch 26, Loss: 0.0614, Train Acc: 99.53%, Val Acc: 92.50%\n"
     ]
    },
    {
     "name": "stderr",
     "output_type": "stream",
     "text": [
      "Epoch 27: 100%|██████████| 20/20 [00:14<00:00,  1.40it/s]\n"
     ]
    },
    {
     "name": "stdout",
     "output_type": "stream",
     "text": [
      "Epoch 27, Loss: 0.0404, Train Acc: 99.53%, Val Acc: 92.50%\n"
     ]
    },
    {
     "name": "stderr",
     "output_type": "stream",
     "text": [
      "Epoch 28: 100%|██████████| 20/20 [00:14<00:00,  1.35it/s]\n"
     ]
    },
    {
     "name": "stdout",
     "output_type": "stream",
     "text": [
      "Epoch 28, Loss: 0.0247, Train Acc: 99.53%, Val Acc: 92.50%\n"
     ]
    },
    {
     "name": "stderr",
     "output_type": "stream",
     "text": [
      "Epoch 29: 100%|██████████| 20/20 [00:14<00:00,  1.36it/s]\n"
     ]
    },
    {
     "name": "stdout",
     "output_type": "stream",
     "text": [
      "Epoch 29, Loss: 0.0405, Train Acc: 99.69%, Val Acc: 92.50%\n"
     ]
    },
    {
     "name": "stderr",
     "output_type": "stream",
     "text": [
      "Epoch 30: 100%|██████████| 20/20 [00:15<00:00,  1.33it/s]\n"
     ]
    },
    {
     "name": "stdout",
     "output_type": "stream",
     "text": [
      "Epoch 30, Loss: 0.0296, Train Acc: 99.69%, Val Acc: 92.50%\n"
     ]
    },
    {
     "name": "stderr",
     "output_type": "stream",
     "text": [
      "Epoch 31: 100%|██████████| 20/20 [00:15<00:00,  1.32it/s]\n"
     ]
    },
    {
     "name": "stdout",
     "output_type": "stream",
     "text": [
      "Epoch 31, Loss: 0.0389, Train Acc: 99.69%, Val Acc: 90.00%\n"
     ]
    },
    {
     "name": "stderr",
     "output_type": "stream",
     "text": [
      "Epoch 32: 100%|██████████| 20/20 [00:15<00:00,  1.30it/s]\n"
     ]
    },
    {
     "name": "stdout",
     "output_type": "stream",
     "text": [
      "Epoch 32, Loss: 0.0150, Train Acc: 99.69%, Val Acc: 92.50%\n"
     ]
    },
    {
     "name": "stderr",
     "output_type": "stream",
     "text": [
      "Epoch 33: 100%|██████████| 20/20 [00:15<00:00,  1.31it/s]\n"
     ]
    },
    {
     "name": "stdout",
     "output_type": "stream",
     "text": [
      "Epoch 33, Loss: 0.0158, Train Acc: 99.38%, Val Acc: 90.00%\n"
     ]
    },
    {
     "name": "stderr",
     "output_type": "stream",
     "text": [
      "Epoch 34: 100%|██████████| 20/20 [00:15<00:00,  1.30it/s]\n"
     ]
    },
    {
     "name": "stdout",
     "output_type": "stream",
     "text": [
      "Epoch 34, Loss: 0.0206, Train Acc: 99.69%, Val Acc: 92.50%\n"
     ]
    },
    {
     "name": "stderr",
     "output_type": "stream",
     "text": [
      "Epoch 35: 100%|██████████| 20/20 [00:15<00:00,  1.30it/s]\n"
     ]
    },
    {
     "name": "stdout",
     "output_type": "stream",
     "text": [
      "Epoch 35, Loss: 0.0157, Train Acc: 99.69%, Val Acc: 92.50%\n"
     ]
    },
    {
     "name": "stderr",
     "output_type": "stream",
     "text": [
      "Epoch 36: 100%|██████████| 20/20 [00:15<00:00,  1.28it/s]\n"
     ]
    },
    {
     "name": "stdout",
     "output_type": "stream",
     "text": [
      "Epoch 36, Loss: 0.0313, Train Acc: 99.53%, Val Acc: 87.50%\n"
     ]
    },
    {
     "name": "stderr",
     "output_type": "stream",
     "text": [
      "Epoch 37: 100%|██████████| 20/20 [00:15<00:00,  1.29it/s]\n"
     ]
    },
    {
     "name": "stdout",
     "output_type": "stream",
     "text": [
      "Epoch 37, Loss: 0.0208, Train Acc: 99.69%, Val Acc: 92.50%\n"
     ]
    },
    {
     "name": "stderr",
     "output_type": "stream",
     "text": [
      "Epoch 38: 100%|██████████| 20/20 [00:15<00:00,  1.25it/s]\n"
     ]
    },
    {
     "name": "stdout",
     "output_type": "stream",
     "text": [
      "Epoch 38, Loss: 0.0114, Train Acc: 100.00%, Val Acc: 90.00%\n"
     ]
    },
    {
     "name": "stderr",
     "output_type": "stream",
     "text": [
      "Epoch 39: 100%|██████████| 20/20 [00:15<00:00,  1.28it/s]\n"
     ]
    },
    {
     "name": "stdout",
     "output_type": "stream",
     "text": [
      "Epoch 39, Loss: 0.0220, Train Acc: 99.53%, Val Acc: 92.50%\n"
     ]
    },
    {
     "name": "stderr",
     "output_type": "stream",
     "text": [
      "Epoch 40: 100%|██████████| 20/20 [00:15<00:00,  1.26it/s]\n"
     ]
    },
    {
     "name": "stdout",
     "output_type": "stream",
     "text": [
      "Epoch 40, Loss: 0.0351, Train Acc: 99.84%, Val Acc: 92.50%\n"
     ]
    },
    {
     "name": "stderr",
     "output_type": "stream",
     "text": [
      "Epoch 41: 100%|██████████| 20/20 [00:15<00:00,  1.27it/s]\n"
     ]
    },
    {
     "name": "stdout",
     "output_type": "stream",
     "text": [
      "Epoch 41, Loss: 0.0343, Train Acc: 99.53%, Val Acc: 92.50%\n"
     ]
    },
    {
     "name": "stderr",
     "output_type": "stream",
     "text": [
      "Epoch 42: 100%|██████████| 20/20 [00:15<00:00,  1.26it/s]\n"
     ]
    },
    {
     "name": "stdout",
     "output_type": "stream",
     "text": [
      "Epoch 42, Loss: 0.0208, Train Acc: 99.53%, Val Acc: 90.00%\n"
     ]
    },
    {
     "name": "stderr",
     "output_type": "stream",
     "text": [
      "Epoch 43: 100%|██████████| 20/20 [00:15<00:00,  1.27it/s]\n"
     ]
    },
    {
     "name": "stdout",
     "output_type": "stream",
     "text": [
      "Epoch 43, Loss: 0.0218, Train Acc: 99.69%, Val Acc: 90.00%\n"
     ]
    },
    {
     "name": "stderr",
     "output_type": "stream",
     "text": [
      "Epoch 44: 100%|██████████| 20/20 [00:15<00:00,  1.26it/s]\n"
     ]
    },
    {
     "name": "stdout",
     "output_type": "stream",
     "text": [
      "Epoch 44, Loss: 0.0124, Train Acc: 99.53%, Val Acc: 92.50%\n"
     ]
    },
    {
     "name": "stderr",
     "output_type": "stream",
     "text": [
      "Epoch 45: 100%|██████████| 20/20 [00:15<00:00,  1.26it/s]\n"
     ]
    },
    {
     "name": "stdout",
     "output_type": "stream",
     "text": [
      "Epoch 45, Loss: 0.0108, Train Acc: 99.53%, Val Acc: 92.50%\n"
     ]
    },
    {
     "name": "stderr",
     "output_type": "stream",
     "text": [
      "Epoch 46: 100%|██████████| 20/20 [00:16<00:00,  1.24it/s]\n"
     ]
    },
    {
     "name": "stdout",
     "output_type": "stream",
     "text": [
      "Epoch 46, Loss: 0.0381, Train Acc: 99.22%, Val Acc: 90.00%\n"
     ]
    },
    {
     "name": "stderr",
     "output_type": "stream",
     "text": [
      "Epoch 47: 100%|██████████| 20/20 [00:15<00:00,  1.25it/s]\n"
     ]
    },
    {
     "name": "stdout",
     "output_type": "stream",
     "text": [
      "Epoch 47, Loss: 0.0424, Train Acc: 99.53%, Val Acc: 90.00%\n"
     ]
    },
    {
     "name": "stderr",
     "output_type": "stream",
     "text": [
      "Epoch 48: 100%|██████████| 20/20 [00:16<00:00,  1.25it/s]\n"
     ]
    },
    {
     "name": "stdout",
     "output_type": "stream",
     "text": [
      "Epoch 48, Loss: 0.0278, Train Acc: 100.00%, Val Acc: 92.50%\n"
     ]
    },
    {
     "name": "stderr",
     "output_type": "stream",
     "text": [
      "Epoch 49: 100%|██████████| 20/20 [00:16<00:00,  1.24it/s]\n"
     ]
    },
    {
     "name": "stdout",
     "output_type": "stream",
     "text": [
      "Epoch 49, Loss: 0.0149, Train Acc: 99.69%, Val Acc: 92.50%\n"
     ]
    },
    {
     "name": "stderr",
     "output_type": "stream",
     "text": [
      "Epoch 50: 100%|██████████| 20/20 [00:16<00:00,  1.23it/s]\n"
     ]
    },
    {
     "name": "stdout",
     "output_type": "stream",
     "text": [
      "Epoch 50, Loss: 0.0105, Train Acc: 99.84%, Val Acc: 92.50%\n"
     ]
    },
    {
     "name": "stderr",
     "output_type": "stream",
     "text": [
      "Epoch 51: 100%|██████████| 20/20 [00:16<00:00,  1.24it/s]\n"
     ]
    },
    {
     "name": "stdout",
     "output_type": "stream",
     "text": [
      "Epoch 51, Loss: 0.0084, Train Acc: 99.69%, Val Acc: 92.50%\n"
     ]
    },
    {
     "name": "stderr",
     "output_type": "stream",
     "text": [
      "Epoch 52: 100%|██████████| 20/20 [00:16<00:00,  1.23it/s]\n"
     ]
    },
    {
     "name": "stdout",
     "output_type": "stream",
     "text": [
      "Epoch 52, Loss: 0.0129, Train Acc: 99.69%, Val Acc: 92.50%\n"
     ]
    },
    {
     "name": "stderr",
     "output_type": "stream",
     "text": [
      "Epoch 53: 100%|██████████| 20/20 [00:16<00:00,  1.24it/s]\n"
     ]
    },
    {
     "name": "stdout",
     "output_type": "stream",
     "text": [
      "Epoch 53, Loss: 0.0557, Train Acc: 99.22%, Val Acc: 92.50%\n"
     ]
    },
    {
     "name": "stderr",
     "output_type": "stream",
     "text": [
      "Epoch 54: 100%|██████████| 20/20 [00:16<00:00,  1.21it/s]\n"
     ]
    },
    {
     "name": "stdout",
     "output_type": "stream",
     "text": [
      "Epoch 54, Loss: 0.0281, Train Acc: 99.69%, Val Acc: 92.50%\n"
     ]
    },
    {
     "name": "stderr",
     "output_type": "stream",
     "text": [
      "Epoch 55: 100%|██████████| 20/20 [00:16<00:00,  1.24it/s]\n"
     ]
    },
    {
     "name": "stdout",
     "output_type": "stream",
     "text": [
      "Epoch 55, Loss: 0.0227, Train Acc: 99.69%, Val Acc: 92.50%\n"
     ]
    },
    {
     "name": "stderr",
     "output_type": "stream",
     "text": [
      "Epoch 56: 100%|██████████| 20/20 [00:16<00:00,  1.23it/s]\n"
     ]
    },
    {
     "name": "stdout",
     "output_type": "stream",
     "text": [
      "Epoch 56, Loss: 0.0198, Train Acc: 100.00%, Val Acc: 92.50%\n"
     ]
    },
    {
     "name": "stderr",
     "output_type": "stream",
     "text": [
      "Epoch 57: 100%|██████████| 20/20 [00:16<00:00,  1.23it/s]\n"
     ]
    },
    {
     "name": "stdout",
     "output_type": "stream",
     "text": [
      "Epoch 57, Loss: 0.0129, Train Acc: 99.53%, Val Acc: 92.50%\n"
     ]
    },
    {
     "name": "stderr",
     "output_type": "stream",
     "text": [
      "Epoch 58: 100%|██████████| 20/20 [00:16<00:00,  1.21it/s]\n"
     ]
    },
    {
     "name": "stdout",
     "output_type": "stream",
     "text": [
      "Epoch 58, Loss: 0.0108, Train Acc: 99.69%, Val Acc: 92.50%\n"
     ]
    },
    {
     "name": "stderr",
     "output_type": "stream",
     "text": [
      "Epoch 59: 100%|██████████| 20/20 [00:16<00:00,  1.22it/s]\n"
     ]
    },
    {
     "name": "stdout",
     "output_type": "stream",
     "text": [
      "Epoch 59, Loss: 0.0124, Train Acc: 99.38%, Val Acc: 90.00%\n"
     ]
    },
    {
     "name": "stderr",
     "output_type": "stream",
     "text": [
      "Epoch 60: 100%|██████████| 20/20 [00:16<00:00,  1.23it/s]\n"
     ]
    },
    {
     "name": "stdout",
     "output_type": "stream",
     "text": [
      "Epoch 60, Loss: 0.0084, Train Acc: 99.69%, Val Acc: 92.50%\n"
     ]
    },
    {
     "name": "stderr",
     "output_type": "stream",
     "text": [
      "Epoch 61: 100%|██████████| 20/20 [00:16<00:00,  1.22it/s]\n"
     ]
    },
    {
     "name": "stdout",
     "output_type": "stream",
     "text": [
      "Epoch 61, Loss: 0.0082, Train Acc: 99.22%, Val Acc: 92.50%\n"
     ]
    },
    {
     "name": "stderr",
     "output_type": "stream",
     "text": [
      "Epoch 62: 100%|██████████| 20/20 [00:16<00:00,  1.22it/s]\n"
     ]
    },
    {
     "name": "stdout",
     "output_type": "stream",
     "text": [
      "Epoch 62, Loss: 0.0072, Train Acc: 99.84%, Val Acc: 92.50%\n"
     ]
    },
    {
     "name": "stderr",
     "output_type": "stream",
     "text": [
      "Epoch 63: 100%|██████████| 20/20 [00:16<00:00,  1.21it/s]\n"
     ]
    },
    {
     "name": "stdout",
     "output_type": "stream",
     "text": [
      "Epoch 63, Loss: 0.0117, Train Acc: 99.69%, Val Acc: 90.00%\n"
     ]
    },
    {
     "name": "stderr",
     "output_type": "stream",
     "text": [
      "Epoch 64: 100%|██████████| 20/20 [00:16<00:00,  1.22it/s]\n"
     ]
    },
    {
     "name": "stdout",
     "output_type": "stream",
     "text": [
      "Epoch 64, Loss: 0.0114, Train Acc: 99.38%, Val Acc: 90.00%\n"
     ]
    },
    {
     "name": "stderr",
     "output_type": "stream",
     "text": [
      "Epoch 65: 100%|██████████| 20/20 [00:16<00:00,  1.21it/s]\n"
     ]
    },
    {
     "name": "stdout",
     "output_type": "stream",
     "text": [
      "Epoch 65, Loss: 0.0100, Train Acc: 99.53%, Val Acc: 90.00%\n"
     ]
    },
    {
     "name": "stderr",
     "output_type": "stream",
     "text": [
      "Epoch 66: 100%|██████████| 20/20 [00:16<00:00,  1.22it/s]\n"
     ]
    },
    {
     "name": "stdout",
     "output_type": "stream",
     "text": [
      "Epoch 66, Loss: 0.0081, Train Acc: 99.69%, Val Acc: 92.50%\n"
     ]
    },
    {
     "name": "stderr",
     "output_type": "stream",
     "text": [
      "Epoch 67: 100%|██████████| 20/20 [00:16<00:00,  1.20it/s]\n"
     ]
    },
    {
     "name": "stdout",
     "output_type": "stream",
     "text": [
      "Epoch 67, Loss: 0.0114, Train Acc: 99.38%, Val Acc: 92.50%\n"
     ]
    },
    {
     "name": "stderr",
     "output_type": "stream",
     "text": [
      "Epoch 68: 100%|██████████| 20/20 [00:16<00:00,  1.22it/s]\n"
     ]
    },
    {
     "name": "stdout",
     "output_type": "stream",
     "text": [
      "Epoch 68, Loss: 0.0094, Train Acc: 99.69%, Val Acc: 90.00%\n"
     ]
    },
    {
     "name": "stderr",
     "output_type": "stream",
     "text": [
      "Epoch 69: 100%|██████████| 20/20 [00:16<00:00,  1.20it/s]\n"
     ]
    },
    {
     "name": "stdout",
     "output_type": "stream",
     "text": [
      "Epoch 69, Loss: 0.0204, Train Acc: 99.53%, Val Acc: 90.00%\n"
     ]
    },
    {
     "name": "stderr",
     "output_type": "stream",
     "text": [
      "Epoch 70: 100%|██████████| 20/20 [00:16<00:00,  1.21it/s]\n"
     ]
    },
    {
     "name": "stdout",
     "output_type": "stream",
     "text": [
      "Epoch 70, Loss: 0.0128, Train Acc: 99.69%, Val Acc: 87.50%\n"
     ]
    },
    {
     "name": "stderr",
     "output_type": "stream",
     "text": [
      "Epoch 71: 100%|██████████| 20/20 [00:16<00:00,  1.19it/s]\n"
     ]
    },
    {
     "name": "stdout",
     "output_type": "stream",
     "text": [
      "Epoch 71, Loss: 0.0104, Train Acc: 99.84%, Val Acc: 90.00%\n"
     ]
    },
    {
     "name": "stderr",
     "output_type": "stream",
     "text": [
      "Epoch 72: 100%|██████████| 20/20 [00:16<00:00,  1.19it/s]\n"
     ]
    },
    {
     "name": "stdout",
     "output_type": "stream",
     "text": [
      "Epoch 72, Loss: 0.0084, Train Acc: 99.84%, Val Acc: 90.00%\n"
     ]
    },
    {
     "name": "stderr",
     "output_type": "stream",
     "text": [
      "Epoch 73: 100%|██████████| 20/20 [00:17<00:00,  1.17it/s]\n"
     ]
    },
    {
     "name": "stdout",
     "output_type": "stream",
     "text": [
      "Epoch 73, Loss: 0.0068, Train Acc: 99.69%, Val Acc: 87.50%\n"
     ]
    },
    {
     "name": "stderr",
     "output_type": "stream",
     "text": [
      "Epoch 74: 100%|██████████| 20/20 [00:16<00:00,  1.20it/s]\n"
     ]
    },
    {
     "name": "stdout",
     "output_type": "stream",
     "text": [
      "Epoch 74, Loss: 0.0149, Train Acc: 99.53%, Val Acc: 90.00%\n"
     ]
    },
    {
     "name": "stderr",
     "output_type": "stream",
     "text": [
      "Epoch 75: 100%|██████████| 20/20 [00:16<00:00,  1.19it/s]\n"
     ]
    },
    {
     "name": "stdout",
     "output_type": "stream",
     "text": [
      "Epoch 75, Loss: 0.0275, Train Acc: 99.84%, Val Acc: 90.00%\n"
     ]
    },
    {
     "name": "stderr",
     "output_type": "stream",
     "text": [
      "Epoch 76: 100%|██████████| 20/20 [00:16<00:00,  1.20it/s]\n"
     ]
    },
    {
     "name": "stdout",
     "output_type": "stream",
     "text": [
      "Epoch 76, Loss: 0.0250, Train Acc: 99.69%, Val Acc: 87.50%\n"
     ]
    },
    {
     "name": "stderr",
     "output_type": "stream",
     "text": [
      "Epoch 77: 100%|██████████| 20/20 [00:16<00:00,  1.21it/s]\n"
     ]
    },
    {
     "name": "stdout",
     "output_type": "stream",
     "text": [
      "Epoch 77, Loss: 0.0563, Train Acc: 99.22%, Val Acc: 92.50%\n"
     ]
    },
    {
     "name": "stderr",
     "output_type": "stream",
     "text": [
      "Epoch 78: 100%|██████████| 20/20 [00:16<00:00,  1.18it/s]\n"
     ]
    },
    {
     "name": "stdout",
     "output_type": "stream",
     "text": [
      "Epoch 78, Loss: 0.0373, Train Acc: 99.53%, Val Acc: 92.50%\n"
     ]
    },
    {
     "name": "stderr",
     "output_type": "stream",
     "text": [
      "Epoch 79: 100%|██████████| 20/20 [00:16<00:00,  1.20it/s]\n"
     ]
    },
    {
     "name": "stdout",
     "output_type": "stream",
     "text": [
      "Epoch 79, Loss: 0.0157, Train Acc: 99.84%, Val Acc: 87.50%\n"
     ]
    },
    {
     "name": "stderr",
     "output_type": "stream",
     "text": [
      "Epoch 80: 100%|██████████| 20/20 [00:16<00:00,  1.19it/s]\n"
     ]
    },
    {
     "name": "stdout",
     "output_type": "stream",
     "text": [
      "Epoch 80, Loss: 0.0247, Train Acc: 99.53%, Val Acc: 87.50%\n"
     ]
    },
    {
     "name": "stderr",
     "output_type": "stream",
     "text": [
      "Epoch 81: 100%|██████████| 20/20 [00:16<00:00,  1.21it/s]\n"
     ]
    },
    {
     "name": "stdout",
     "output_type": "stream",
     "text": [
      "Epoch 81, Loss: 0.0287, Train Acc: 99.84%, Val Acc: 87.50%\n"
     ]
    },
    {
     "name": "stderr",
     "output_type": "stream",
     "text": [
      "Epoch 82: 100%|██████████| 20/20 [00:16<00:00,  1.19it/s]\n"
     ]
    },
    {
     "name": "stdout",
     "output_type": "stream",
     "text": [
      "Epoch 82, Loss: 0.0221, Train Acc: 99.69%, Val Acc: 90.00%\n"
     ]
    },
    {
     "name": "stderr",
     "output_type": "stream",
     "text": [
      "Epoch 83: 100%|██████████| 20/20 [00:16<00:00,  1.20it/s]\n"
     ]
    },
    {
     "name": "stdout",
     "output_type": "stream",
     "text": [
      "Epoch 83, Loss: 0.0180, Train Acc: 99.53%, Val Acc: 87.50%\n"
     ]
    },
    {
     "name": "stderr",
     "output_type": "stream",
     "text": [
      "Epoch 84: 100%|██████████| 20/20 [00:16<00:00,  1.18it/s]\n"
     ]
    },
    {
     "name": "stdout",
     "output_type": "stream",
     "text": [
      "Epoch 84, Loss: 0.0138, Train Acc: 99.53%, Val Acc: 87.50%\n"
     ]
    },
    {
     "name": "stderr",
     "output_type": "stream",
     "text": [
      "Epoch 85: 100%|██████████| 20/20 [00:16<00:00,  1.20it/s]\n"
     ]
    },
    {
     "name": "stdout",
     "output_type": "stream",
     "text": [
      "Epoch 85, Loss: 0.0172, Train Acc: 99.69%, Val Acc: 87.50%\n"
     ]
    },
    {
     "name": "stderr",
     "output_type": "stream",
     "text": [
      "Epoch 86: 100%|██████████| 20/20 [00:16<00:00,  1.20it/s]\n"
     ]
    },
    {
     "name": "stdout",
     "output_type": "stream",
     "text": [
      "Epoch 86, Loss: 0.0252, Train Acc: 99.53%, Val Acc: 87.50%\n"
     ]
    },
    {
     "name": "stderr",
     "output_type": "stream",
     "text": [
      "Epoch 87: 100%|██████████| 20/20 [00:16<00:00,  1.21it/s]\n"
     ]
    },
    {
     "name": "stdout",
     "output_type": "stream",
     "text": [
      "Epoch 87, Loss: 0.0101, Train Acc: 99.53%, Val Acc: 87.50%\n"
     ]
    },
    {
     "name": "stderr",
     "output_type": "stream",
     "text": [
      "Epoch 88: 100%|██████████| 20/20 [00:16<00:00,  1.19it/s]\n"
     ]
    },
    {
     "name": "stdout",
     "output_type": "stream",
     "text": [
      "Epoch 88, Loss: 0.0080, Train Acc: 99.69%, Val Acc: 87.50%\n"
     ]
    },
    {
     "name": "stderr",
     "output_type": "stream",
     "text": [
      "Epoch 89: 100%|██████████| 20/20 [00:16<00:00,  1.18it/s]\n"
     ]
    },
    {
     "name": "stdout",
     "output_type": "stream",
     "text": [
      "Epoch 89, Loss: 0.0086, Train Acc: 99.38%, Val Acc: 87.50%\n"
     ]
    },
    {
     "name": "stderr",
     "output_type": "stream",
     "text": [
      "Epoch 90: 100%|██████████| 20/20 [00:16<00:00,  1.20it/s]\n"
     ]
    },
    {
     "name": "stdout",
     "output_type": "stream",
     "text": [
      "Epoch 90, Loss: 0.0185, Train Acc: 99.38%, Val Acc: 87.50%\n"
     ]
    },
    {
     "name": "stderr",
     "output_type": "stream",
     "text": [
      "Epoch 91: 100%|██████████| 20/20 [00:16<00:00,  1.20it/s]\n"
     ]
    },
    {
     "name": "stdout",
     "output_type": "stream",
     "text": [
      "Epoch 91, Loss: 0.0212, Train Acc: 99.84%, Val Acc: 87.50%\n"
     ]
    },
    {
     "name": "stderr",
     "output_type": "stream",
     "text": [
      "Epoch 92: 100%|██████████| 20/20 [00:16<00:00,  1.20it/s]\n"
     ]
    },
    {
     "name": "stdout",
     "output_type": "stream",
     "text": [
      "Epoch 92, Loss: 0.0210, Train Acc: 99.84%, Val Acc: 87.50%\n"
     ]
    },
    {
     "name": "stderr",
     "output_type": "stream",
     "text": [
      "Epoch 93: 100%|██████████| 20/20 [00:16<00:00,  1.19it/s]\n"
     ]
    },
    {
     "name": "stdout",
     "output_type": "stream",
     "text": [
      "Epoch 93, Loss: 0.0263, Train Acc: 99.84%, Val Acc: 87.50%\n"
     ]
    },
    {
     "name": "stderr",
     "output_type": "stream",
     "text": [
      "Epoch 94: 100%|██████████| 20/20 [00:16<00:00,  1.20it/s]\n"
     ]
    },
    {
     "name": "stdout",
     "output_type": "stream",
     "text": [
      "Epoch 94, Loss: 0.0346, Train Acc: 99.69%, Val Acc: 87.50%\n"
     ]
    },
    {
     "name": "stderr",
     "output_type": "stream",
     "text": [
      "Epoch 95: 100%|██████████| 20/20 [00:16<00:00,  1.18it/s]\n"
     ]
    },
    {
     "name": "stdout",
     "output_type": "stream",
     "text": [
      "Epoch 95, Loss: 0.0403, Train Acc: 99.84%, Val Acc: 87.50%\n"
     ]
    },
    {
     "name": "stderr",
     "output_type": "stream",
     "text": [
      "Epoch 96: 100%|██████████| 20/20 [00:16<00:00,  1.20it/s]\n"
     ]
    },
    {
     "name": "stdout",
     "output_type": "stream",
     "text": [
      "Epoch 96, Loss: 0.0225, Train Acc: 99.69%, Val Acc: 90.00%\n"
     ]
    },
    {
     "name": "stderr",
     "output_type": "stream",
     "text": [
      "Epoch 97: 100%|██████████| 20/20 [00:16<00:00,  1.18it/s]\n"
     ]
    },
    {
     "name": "stdout",
     "output_type": "stream",
     "text": [
      "Epoch 97, Loss: 0.0366, Train Acc: 99.69%, Val Acc: 87.50%\n"
     ]
    },
    {
     "name": "stderr",
     "output_type": "stream",
     "text": [
      "Epoch 98: 100%|██████████| 20/20 [00:16<00:00,  1.21it/s]\n"
     ]
    },
    {
     "name": "stdout",
     "output_type": "stream",
     "text": [
      "Epoch 98, Loss: 0.0134, Train Acc: 99.53%, Val Acc: 87.50%\n"
     ]
    },
    {
     "name": "stderr",
     "output_type": "stream",
     "text": [
      "Epoch 99: 100%|██████████| 20/20 [00:16<00:00,  1.18it/s]\n"
     ]
    },
    {
     "name": "stdout",
     "output_type": "stream",
     "text": [
      "Epoch 99, Loss: 0.0164, Train Acc: 99.84%, Val Acc: 87.50%\n"
     ]
    },
    {
     "name": "stderr",
     "output_type": "stream",
     "text": [
      "Epoch 100: 100%|██████████| 20/20 [00:16<00:00,  1.19it/s]\n"
     ]
    },
    {
     "name": "stdout",
     "output_type": "stream",
     "text": [
      "Epoch 100, Loss: 0.0135, Train Acc: 99.69%, Val Acc: 87.50%\n"
     ]
    }
   ],
   "source": [
    "\n",
    "# Accessing the preproceesd dataset for training\n",
    "PREPROCESSED_PATH = r\"/kaggle/working/Preprocessed_img_weed\"\n",
    "\n",
    "# Class for loading weed classification images and labels.\n",
    "class WeedDataset(Dataset):\n",
    "    def __init__(self, image_dir, label_dir=None, transform=None, is_unlabeled=False):\n",
    "        self.image_dir = image_dir\n",
    "        self.label_dir = label_dir\n",
    "        self.transform = transform\n",
    "        self.is_unlabeled = is_unlabeled\n",
    "        self.image_files = sorted(os.listdir(image_dir))\n",
    "        \n",
    "    def __len__(self):\n",
    "        return len(self.image_files)\n",
    "    \n",
    "    def read_label_file(self, label_path):\n",
    "        try:\n",
    "            with open(label_path, 'r') as f:\n",
    "                lines = f.readlines()\n",
    "                # Filter out empty lines and whitespace\n",
    "                lines = [line.strip() for line in lines if line.strip()]\n",
    "                \n",
    "                if not lines:\n",
    "                    return 1 \n",
    "                \n",
    "                for line in lines:\n",
    "                    parts = line.split()\n",
    "                    if parts and parts[0] == '0': \n",
    "                        return 0  # Weed\n",
    "                return 1  # Crop\n",
    "        except Exception as e:\n",
    "            print(f\"Error reading label file {label_path}: {str(e)}\")\n",
    "            return 1  # Default to crop in case of errors\n",
    "    \n",
    "    def __getitem__(self, idx):\n",
    "        img_name = self.image_files[idx]\n",
    "        img_path = os.path.join(self.image_dir, img_name)\n",
    "        \n",
    "        try:\n",
    "            image = Image.open(img_path).convert('RGB')\n",
    "        except Exception as e:\n",
    "            print(f\"Error loading image {img_path}: {str(e)}\")\n",
    "            # Create a blank image in case of error\n",
    "            image = Image.new('RGB', (224, 224))\n",
    "        \n",
    "        if self.transform:\n",
    "            image = self.transform(image)\n",
    "        \n",
    "        if self.is_unlabeled:\n",
    "            return image.to(device)\n",
    "            \n",
    "        label_path = os.path.join(self.label_dir, img_name.replace('.jpg', '.txt'))\n",
    "        label = torch.tensor(self.read_label_file(label_path))\n",
    "            \n",
    "        return image.to(device), label.to(device)\n",
    "    \n",
    "#                          * MEAN TEACHER METHOD (MTM) OVERVIEW *\n",
    "\n",
    "# Implementing a semi-supervised learning approach for weed detection using a Student-teacher framework with ResNet-50.\n",
    "#\n",
    "#  - The **student model** learns from both labeled and pseudo-labeled data.\n",
    "#  - The **teacher model** provides pseudo-labels for unlabeled data.\n",
    "#  - The teacher model is updated using **Exponential Moving Average (EMA)\n",
    "\n",
    "class SemiSupervisedWeedDetector:\n",
    "    def __init__(self, confidence_threshold=0.85):\n",
    "        self.student_model = self._create_model().to(device)\n",
    "        self.teacher_model = self._create_model().to(device)\n",
    "        self.confidence_threshold = confidence_threshold\n",
    "        self.ema_decay = 0.999\n",
    "        \n",
    "    def _create_model(self):\n",
    "        model = models.resnet50(weights=models.ResNet50_Weights.DEFAULT)\n",
    "        model.fc = nn.Linear(model.fc.in_features, 2)\n",
    "        return model\n",
    "        \n",
    "    def update_teacher(self):\n",
    "        for teacher_param, student_param in zip(self.teacher_model.parameters(), \n",
    "                                                self.student_model.parameters()):\n",
    "            teacher_param.data = self.ema_decay * teacher_param.data + (1 - self.ema_decay) * student_param.data\n",
    "    \n",
    "    def train_step(self, labeled_batch, unlabeled_batch):\n",
    "        images, labels = labeled_batch\n",
    "        unlabeled_images = unlabeled_batch\n",
    "        \n",
    "        outputs = self.student_model(images)\n",
    "        supervised_loss = nn.CrossEntropyLoss()(outputs, labels)\n",
    "        \n",
    "        with torch.no_grad():\n",
    "            pseudo_logits = self.teacher_model(unlabeled_images)\n",
    "            pseudo_probs = torch.softmax(pseudo_logits, dim=1)\n",
    "            confidence, pseudo_labels = torch.max(pseudo_probs, dim=1)\n",
    "        \n",
    "        mask = confidence > self.confidence_threshold\n",
    "        \n",
    "        if mask.sum() > 0:\n",
    "            unsupervised_loss = nn.CrossEntropyLoss()(self.student_model(unlabeled_images[mask]), pseudo_labels[mask])\n",
    "        else:\n",
    "            unsupervised_loss = torch.tensor(0.0).to(device)\n",
    "        \n",
    "        total_loss = supervised_loss + unsupervised_loss\n",
    "        return total_loss\n",
    "    \n",
    "    def train(self, labeled_loader, unlabeled_loader, val_loader, num_epochs=100):\n",
    "        optimizer = torch.optim.AdamW(self.student_model.parameters(), lr=1e-4)\n",
    "        best_val_acc = 0\n",
    "        \n",
    "        for epoch in range(num_epochs):\n",
    "            self.student_model.train()\n",
    "            epoch_loss = 0\n",
    "            correct, total = 0, 0\n",
    "            \n",
    "            pbar = tqdm(zip(labeled_loader, unlabeled_loader), total=min(len(labeled_loader), len(unlabeled_loader)))\n",
    "            for labeled_batch, unlabeled_batch in pbar:\n",
    "                optimizer.zero_grad()\n",
    "                loss = self.train_step(labeled_batch, unlabeled_batch)\n",
    "                loss.backward()\n",
    "                optimizer.step()\n",
    "                self.update_teacher()\n",
    "                epoch_loss += loss.item()\n",
    "                \n",
    "                images, labels = labeled_batch\n",
    "                outputs = self.student_model(images)\n",
    "                _, predicted = torch.max(outputs, 1)\n",
    "                correct += (predicted == labels).sum().item()\n",
    "                total += labels.size(0)\n",
    "                \n",
    "                pbar.set_description(f\"Epoch {epoch+1}\")\n",
    "            \n",
    "            train_acc = 100 * correct / total\n",
    "            val_acc = self.evaluate(val_loader)\n",
    "            \n",
    "            print(f\"Epoch {epoch + 1}, Loss: {epoch_loss / len(labeled_loader):.4f}, Train Acc: {train_acc:.2f}%, Val Acc: {val_acc:.2f}%\")\n",
    "            \n",
    "            if val_acc > best_val_acc:\n",
    "                best_val_acc = val_acc\n",
    "                torch.save(self.student_model.state_dict(), 'best_model.pth')\n",
    "                print(\"Best model saved!\")\n",
    "    \n",
    "    def evaluate(self, loader):\n",
    "        self.student_model.eval()\n",
    "        correct, total = 0, 0\n",
    "        \n",
    "        with torch.no_grad():\n",
    "            for images, labels in loader:\n",
    "                outputs = self.student_model(images)\n",
    "                _, predicted = torch.max(outputs, 1)\n",
    "                correct += (predicted == labels).sum().item()\n",
    "                total += labels.size(0)\n",
    "        \n",
    "        return 100 * correct / total\n",
    "#-------------------------------------------------------------------------------------\n",
    "\n",
    "# Define transformations for training data\n",
    "\n",
    "train_transform = T.Compose([\n",
    "    T.Resize((224, 224)),\n",
    "    T.RandomHorizontalFlip(),\n",
    "    T.RandomVerticalFlip(),\n",
    "    T.RandomRotation(30),\n",
    "    T.ColorJitter(brightness=0.4, contrast=0.4, saturation=0.4),\n",
    "    T.ToTensor(),\n",
    "    T.Normalize(mean=[0.485, 0.456, 0.406], std=[0.229, 0.224, 0.225])\n",
    "])\n",
    "\n",
    "\n",
    "val_transform = T.Compose([\n",
    "    T.Resize((224, 224)),\n",
    "    T.ToTensor(),\n",
    "    T.Normalize(mean=[0.485, 0.456, 0.406], std=[0.229, 0.224, 0.225])\n",
    "])\n",
    "\n",
    "# Create datasets and loaders\n",
    "train_dataset = WeedDataset(os.path.join(PREPROCESSED_PATH, \"train/images\"), os.path.join(PREPROCESSED_PATH, \"train/labels\"), train_transform)\n",
    "val_dataset = WeedDataset(os.path.join(PREPROCESSED_PATH, \"val/images\"), os.path.join(PREPROCESSED_PATH, \"val/labels\"), val_transform)\n",
    "unlabeled_dataset = WeedDataset(os.path.join(PREPROCESSED_PATH, \"unlabeled/images\"), transform=train_transform, is_unlabeled=True)\n",
    "\n",
    "train_loader = DataLoader(train_dataset, batch_size=32, shuffle=True)\n",
    "val_loader = DataLoader(val_dataset, batch_size=32, shuffle=False)\n",
    "unlabeled_loader = DataLoader(unlabeled_dataset, batch_size=32)\n",
    "\n",
    "# Initialize and train the model\n",
    "model = SemiSupervisedWeedDetector()\n",
    "model.train(train_loader, unlabeled_loader, val_loader, num_epochs=100)"
   ]
  },
  {
   "cell_type": "markdown",
   "metadata": {},
   "source": [
    "# **Data Testing**"
   ]
  },
  {
   "cell_type": "code",
   "execution_count": 8,
   "metadata": {
    "execution": {
     "iopub.execute_input": "2025-02-05T08:18:17.157046Z",
     "iopub.status.busy": "2025-02-05T08:18:17.156740Z",
     "iopub.status.idle": "2025-02-05T08:18:17.390854Z",
     "shell.execute_reply": "2025-02-05T08:18:17.389814Z",
     "shell.execute_reply.started": "2025-02-05T08:18:17.157023Z"
    },
    "trusted": true
   },
   "outputs": [
    {
     "name": "stdout",
     "output_type": "stream",
     "text": [
      "Model saved at semi_supervised_weed_model.pth\n"
     ]
    }
   ],
   "source": [
    "MODEL_SAVE_PATH = \"semi_supervised_weed_model.pth\"\n",
    "torch.save(model.student_model.state_dict(), MODEL_SAVE_PATH)\n",
    "print(f\"Model saved at {MODEL_SAVE_PATH}\")"
   ]
  },
  {
   "cell_type": "code",
   "execution_count": 11,
   "metadata": {
    "execution": {
     "iopub.execute_input": "2025-02-05T08:20:24.516968Z",
     "iopub.status.busy": "2025-02-05T08:20:24.516589Z",
     "iopub.status.idle": "2025-02-05T08:20:25.110485Z",
     "shell.execute_reply": "2025-02-05T08:20:25.109788Z",
     "shell.execute_reply.started": "2025-02-05T08:20:24.516939Z"
    },
    "trusted": true
   },
   "outputs": [
    {
     "name": "stderr",
     "output_type": "stream",
     "text": [
      "<ipython-input-11-ea01e88b1ed1>:6: FutureWarning: You are using `torch.load` with `weights_only=False` (the current default value), which uses the default pickle module implicitly. It is possible to construct malicious pickle data which will execute arbitrary code during unpickling (See https://github.com/pytorch/pytorch/blob/main/SECURITY.md#untrusted-models for more details). In a future release, the default value for `weights_only` will be flipped to `True`. This limits the functions that could be executed during unpickling. Arbitrary objects will no longer be allowed to be loaded via this mode unless they are explicitly allowlisted by the user via `torch.serialization.add_safe_globals`. We recommend you start setting `weights_only=True` for any use case where you don't have full control of the loaded file. Please open an issue on GitHub for any issues related to this experimental feature.\n",
      "  model.student_model.load_state_dict(torch.load(r'/kaggle/working/best_model.pth'))\n",
      "Evaluating Test Accuracy: 100%|██████████| 2/2 [00:00<00:00,  6.33it/s]\n"
     ]
    },
    {
     "name": "stdout",
     "output_type": "stream",
     "text": [
      "✅ Test Accuracy: 100.00%\n",
      "\n",
      "Confusion Matrix:\n",
      "[[24  0]\n",
      " [ 0 26]]\n"
     ]
    },
    {
     "data": {
      "image/png": "[encoded data removed]",
      "text/plain": [
       "<Figure size 600x500 with 2 Axes>"
      ]
     },
     "metadata": {},
     "output_type": "display_data"
    },
    {
     "name": "stdout",
     "output_type": "stream",
     "text": [
      "\n",
      "Classification Report:\n",
      "              precision    recall  f1-score   support\n",
      "\n",
      "    Non-Weed       1.00      1.00      1.00        24\n",
      "        Weed       1.00      1.00      1.00        26\n",
      "\n",
      "    accuracy                           1.00        50\n",
      "   macro avg       1.00      1.00      1.00        50\n",
      "weighted avg       1.00      1.00      1.00        50\n",
      "\n"
     ]
    }
   ],
   "source": [
    "# Path for test dataset\n",
    "TEST_IMAGE_PATH = r\"/kaggle/working/Preprocessed_img_weed/test/images\"\n",
    "TEST_LABEL_PATH = r\"/kaggle/working/Preprocessed_img_weed/test/labels\"\n",
    "\n",
    "# Loading the best trained model\n",
    "model.student_model.load_state_dict(torch.load(r'/kaggle/working/best_model.pth'))\n",
    "model.student_model = model.student_model.to(device)  \n",
    "model.student_model.eval()\n",
    "\n",
    "#---------------------------------------------------------------------------------------\n",
    "\n",
    "# Defining the test dataset with labels using the new read_label_file method\n",
    "class TestDatasetWithLabels(Dataset):\n",
    "    def __init__(self, image_dir, label_dir, transform=None):\n",
    "        self.image_dir = image_dir\n",
    "        self.label_dir = label_dir\n",
    "        self.transform = transform\n",
    "        self.image_files = sorted(os.listdir(image_dir))\n",
    "        \n",
    "    def __len__(self):\n",
    "        return len(self.image_files)\n",
    "\n",
    "    def read_label_file(self, label_path):\n",
    "        try:\n",
    "            with open(label_path, 'r') as f:\n",
    "                lines = f.readlines()\n",
    "                lines = [line.strip() for line in lines if line.strip()]\n",
    "                \n",
    "                if not lines:\n",
    "                    return 1 \n",
    "                \n",
    "                for line in lines:\n",
    "                    parts = line.split()\n",
    "                    if parts and parts[0] == '0':  \n",
    "                        return 0  \n",
    "                return 1  # Crop\n",
    "        except Exception as e:\n",
    "            print(f\"Error reading label file {label_path}: {str(e)}\")\n",
    "            return 1\n",
    "    \n",
    "    def __getitem__(self, idx):\n",
    "        \"\"\"Fetch an image and its label.\"\"\"\n",
    "        img_name = self.image_files[idx]\n",
    "        img_path = os.path.join(self.image_dir, img_name)\n",
    "        image = Image.open(img_path).convert('RGB')\n",
    "\n",
    "        if self.transform:\n",
    "            image = self.transform(image)\n",
    "        label_path = os.path.join(self.label_dir, img_name.replace('.jpg', '.txt'))\n",
    "        label = torch.tensor(self.read_label_file(label_path))  \n",
    "\n",
    "        return image, label\n",
    "\n",
    "# Defining test transform (same as validation)\n",
    "test_transform = T.Compose([\n",
    "    T.Resize((224, 224)),\n",
    "    T.ToTensor(),\n",
    "    T.Normalize(mean=[0.485, 0.456, 0.406], std=[0.229, 0.224, 0.225])\n",
    "])\n",
    "test_dataset = TestDatasetWithLabels(TEST_IMAGE_PATH, TEST_LABEL_PATH, transform=test_transform)\n",
    "test_loader = DataLoader(test_dataset, batch_size=32, shuffle=False)\n",
    "\n",
    "y_true = []\n",
    "y_pred = []\n",
    "\n",
    "correct, total = 0, 0\n",
    "with torch.no_grad():\n",
    "    for images, labels in tqdm(test_loader, desc=\"Evaluating Test Accuracy\"):\n",
    "        images, labels = images.to(device), labels.to(device) \n",
    "        outputs = model.student_model(images)\n",
    "        _, predicted = torch.max(outputs, 1)\n",
    "        y_true.extend(labels.cpu().numpy())\n",
    "        y_pred.extend(predicted.cpu().numpy())\n",
    "        correct += (predicted == labels).sum().item()\n",
    "        total += labels.size(0)\n",
    "\n",
    "# Computing accuracy\n",
    "test_accuracy = 100 * correct / total\n",
    "print(f\"✅ Test Accuracy: {test_accuracy:.2f}%\")\n",
    "conf_matrix = confusion_matrix(y_true, y_pred)\n",
    "print(\"\\nConfusion Matrix:\")\n",
    "print(conf_matrix)\n",
    "plt.figure(figsize=(6, 5))\n",
    "sns.heatmap(conf_matrix, annot=True, fmt='d', cmap='Blues', xticklabels=['Non-Weed', 'Weed'], yticklabels=['Non-Weed', 'Weed'])\n",
    "plt.xlabel('Predicted Label')\n",
    "plt.ylabel('True Label')\n",
    "plt.title('Confusion Matrix')\n",
    "plt.show()\n",
    "print(\"\\nClassification Report:\")\n",
    "print(classification_report(y_true, y_pred, target_names=['Non-Weed', 'Weed'])) "
   ]
  },
  {
   "cell_type": "markdown",
   "metadata": {},
   "source": [
    "# **Observations**\n",
    "*By simply fine-tuning a ResNet-50 model for classification task without using MTM method we achieved an accuracy of 74% on test dataset.*"
   ]
  },
  {
   "cell_type": "markdown",
   "metadata": {},
   "source": [
    "*Without data augmentation on training set we achieved F1-Score of 0.98.*"
   ]
  },
  {
   "cell_type": "markdown",
   "metadata": {},
   "source": [
    "*For 50 epochs we obtained accuracy of 98%.*"
   ]
  },
  {
   "cell_type": "markdown",
   "metadata": {},
   "source": [
    "*With 100 epochs and appropriate data augmentation we achieved F1-Score of 1.*"
   ]
  }
 ],
 "metadata": {
  "kaggle": {
   "accelerator": "gpu",
   "dataSources": [
    {
     "datasetId": 6569314,
     "sourceId": 10611371,
     "sourceType": "datasetVersion"
    }
   ],
   "dockerImageVersionId": 30840,
   "isGpuEnabled": true,
   "isInternetEnabled": true,
   "language": "python",
   "sourceType": "notebook"
  },
  "kernelspec": {
   "display_name": "Python 3",
   "language": "python",
   "name": "python3"
  },
  "language_info": {
   "codemirror_mode": {
    "name": "ipython",
    "version": 3
   },
   "file_extension": ".py",
   "mimetype": "text/x-python",
   "name": "python",
   "nbconvert_exporter": "python",
   "pygments_lexer": "ipython3",
   "version": "3.10.12"
  }
 },
 "nbformat": 4,
 "nbformat_minor": 4
}
