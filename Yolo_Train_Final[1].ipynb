{
 "cells": [
  {
   "cell_type": "markdown",
   "metadata": {},
   "source": [
    "# **Training for yolo-v8s**\n"
   ]
  },
  {
   "cell_type": "code",
   "execution_count": 1,
   "metadata": {
    "_cell_guid": "b1076dfc-b9ad-4769-8c92-a6c4dae69d19",
    "_uuid": "8f2839f25d086af736a60e9eeb907d3b93b6e0e5",
    "execution": {
     "iopub.execute_input": "2025-02-05T14:03:47.075472Z",
     "iopub.status.busy": "2025-02-05T14:03:47.075163Z",
     "iopub.status.idle": "2025-02-05T14:03:48.699904Z",
     "shell.execute_reply": "2025-02-05T14:03:48.698908Z",
     "shell.execute_reply.started": "2025-02-05T14:03:47.075438Z"
    },
    "trusted": true
   },
   "outputs": [
    {
     "name": "stdout",
     "output_type": "stream",
     "text": [
      "/kaggle/input/weedzip/unlabeled/agri_0_5225_jpeg.rf.ab0d818fca3b3b0ef3411dea1a56000f.jpg\n",
      "/kaggle/input/weedzip/unlabeled/agri_0_2390_jpeg.rf.b4af55b63fe3ad51e5ccaa7fae52a15a.jpg\n",
      "/kaggle/input/weedzip/unlabeled/agri_0_2633_jpeg.rf.80320a4fd05d32f7fae265c2d09ef7c4.jpg\n",
      "/kaggle/input/weedzip/unlabeled/agri_0_1509_jpeg.rf.0d24077902e5229abad25227f9b58df9.jpg\n",
      "/kaggle/input/weedzip/unlabeled/agri_0_5384_jpeg.rf.225f34308f10dabf4afb9fbd5bf8cad0.jpg\n",
      "/kaggle/input/weedzip/unlabeled/agri_0_5871_jpeg.rf.a235335bb1259f7e3cb9516b56507792.jpg\n",
      "/kaggle/input/weedzip/unlabeled/agri_0_4972_jpeg.rf.0f54a6d5540f2866c50b98c4dbd1ed49.jpg\n",
      "/kaggle/input/weedzip/unlabeled/agri_0_8620_jpeg.rf.f4396b8c17016387764f952e993f1034.jpg\n",
      "/kaggle/input/weedzip/unlabeled/agri_0_8405_jpeg.rf.c1df9f246e0e6c7beb01a94641c136cc.jpg\n",
      "/kaggle/input/weedzip/unlabeled/agri_0_5435_jpeg.rf.dd9f861c0fb52517ad87e5e465151543.jpg\n",
      "/kaggle/input/weedzip/unlabeled/agri_0_491_jpeg.rf.0a7611978e9c0b66c4384b8618709744.jpg\n",
      "/kaggle/input/weedzip/unlabeled/agri_0_596_jpeg.rf.2f482a6ec9f788442d9f0272f3125482.jpg\n",
      "/kaggle/input/weedzip/unlabeled/agri_0_8107_jpeg.rf.77fd117472887a094cc6c1af8cdf836f.jpg\n",
      "/kaggle/input/weedzip/unlabeled/agri_0_5992_jpeg.rf.e4cf4058dd5cb96c59c4c357d70b7dae.jpg\n",
      "/kaggle/input/weedzip/unlabeled/agri_0_5818_jpeg.rf.0a345f283cf68c42443042045e7482e6.jpg\n",
      "/kaggle/input/weedzip/unlabeled/agri_0_6581_jpeg.rf.ad246d3abe5517c32d7a67bdce18c895.jpg\n",
      "/kaggle/input/weedzip/unlabeled/agri_0_5160_jpeg.rf.2483bf30041bce210c18686d23a6af4a.jpg\n",
      "/kaggle/input/weedzip/unlabeled/agri_0_8746_jpeg.rf.58da0468fb3a7cb9800500eb92284c33.jpg\n",
      "/kaggle/input/weedzip/unlabeled/agri_0_9888_jpeg.rf.07a22125beef2c67c3d82a1c7a127a44.jpg\n",
      "/kaggle/input/weedzip/unlabeled/agri_0_2825_jpeg.rf.bcc6cf58072e87961e59eed5162248ee.jpg\n",
      "/kaggle/input/weedzip/unlabeled/agri_0_9030_jpeg.rf.709a2fe27abca5bbec812996089800aa.jpg\n",
      "/kaggle/input/weedzip/unlabeled/agri_0_654_jpeg.rf.44d9e64313060168d3327c6f57773a56.jpg\n",
      "/kaggle/input/weedzip/unlabeled/agri_0_8698_jpeg.rf.7c35cda12bff5a83d8be58983b0879ed.jpg\n",
      "/kaggle/input/weedzip/unlabeled/agri_0_830_jpeg.rf.556054b36e4faea8d64cb08116291b70.jpg\n",
      "/kaggle/input/weedzip/unlabeled/agri_0_6355_jpeg.rf.d473d4594c08679e2bd718fe0c22da9b.jpg\n",
      "/kaggle/input/weedzip/unlabeled/agri_0_601_jpeg.rf.f1606886ae5f91868cb0c58860e90337.jpg\n",
      "/kaggle/input/weedzip/unlabeled/agri_0_5523_jpeg.rf.0a91163575d8d5ed718f1eafa395e5d4.jpg\n",
      "/kaggle/input/weedzip/unlabeled/agri_0_1928_jpeg.rf.4bf684308d9069ae48e3249fa5552fb3.jpg\n",
      "/kaggle/input/weedzip/unlabeled/agri_0_6354_jpeg.rf.e58458263ad3df5a6b09e6b62ee655eb.jpg\n",
      "/kaggle/input/weedzip/unlabeled/agri_0_5542_jpeg.rf.9c36297087a9fbbd94a477d66231eede.jpg\n",
      "/kaggle/input/weedzip/unlabeled/agri_0_4222_jpeg.rf.3170beddea47af80b781c38209e61169.jpg\n",
      "/kaggle/input/weedzip/unlabeled/agri_0_4034_jpeg.rf.13453d6a482b7d971f89057f3f26d104.jpg\n",
      "/kaggle/input/weedzip/unlabeled/agri_0_5808_jpeg.rf.d8a398dc9b0b7287d4d6d962210643b0.jpg\n",
      "/kaggle/input/weedzip/unlabeled/agri_0_4718_jpeg.rf.5b8e4fa7d3733256a998b732c7e8bbcf.jpg\n",
      "/kaggle/input/weedzip/unlabeled/agri_0_4862_jpeg.rf.84e422b3bceda604da545230ff7ef03a.jpg\n",
      "/kaggle/input/weedzip/unlabeled/agri_0_1750_jpeg.rf.92c20b07ae4c387675e3a463a8819c3d.jpg\n",
      "/kaggle/input/weedzip/unlabeled/agri_0_8485_jpeg.rf.82d11ecfd3ef1fdaa7bcc63ba3b46c92.jpg\n",
      "/kaggle/input/weedzip/unlabeled/agri_0_1146_jpeg.rf.f4f34361582250747eba8ed75c648d85.jpg\n",
      "/kaggle/input/weedzip/unlabeled/agri_0_1722_jpeg.rf.97cd471924e77f498dbce386983bf0d1.jpg\n",
      "/kaggle/input/weedzip/unlabeled/agri_0_2786_jpeg.rf.4455f89a311f4053647b26d797b3313d.jpg\n",
      "/kaggle/input/weedzip/unlabeled/agri_0_1610_jpeg.rf.c9e50394e27660349cacf10c6c6a4faf.jpg\n",
      "/kaggle/input/weedzip/unlabeled/agri_0_9727_jpeg.rf.04221524a26b8e534f263d099c3b1db3.jpg\n",
      "/kaggle/input/weedzip/unlabeled/agri_0_8165_jpeg.rf.dfa3ff6a05c292fa76d292b8fd532f63.jpg\n",
      "/kaggle/input/weedzip/unlabeled/agri_0_5625_jpeg.rf.2a0488419013e430bc347882e9766153.jpg\n",
      "/kaggle/input/weedzip/unlabeled/agri_0_5822_jpeg.rf.7409ba1a3ddaa5c5f37706f7de012ac9.jpg\n",
      "/kaggle/input/weedzip/unlabeled/agri_0_6120_jpeg.rf.dddfd06e61fcbc92e52602f9847b1ac2.jpg\n",
      "/kaggle/input/weedzip/unlabeled/agri_0_2204_jpeg.rf.cb6d68352ab383f5953b8efbd165e22a.jpg\n",
      "/kaggle/input/weedzip/unlabeled/agri_0_7977_jpeg.rf.5a6e38b49c6b34c6b38fd9b5e4340610.jpg\n",
      "/kaggle/input/weedzip/unlabeled/agri_0_333_jpeg.rf.1f3b35b6950fae76fe0ddab3a68dc30a.jpg\n",
      "/kaggle/input/weedzip/unlabeled/agri_0_9712_jpeg.rf.197aa0bb433c75cd16c84a13adb05a93.jpg\n",
      "/kaggle/input/weedzip/unlabeled/agri_0_2323_jpeg.rf.899181a108cc88cfa5614e11c16f0422.jpg\n",
      "/kaggle/input/weedzip/unlabeled/agri_0_462_jpeg.rf.91ec51c3aa5cc8ee2961740297059a56.jpg\n",
      "/kaggle/input/weedzip/unlabeled/agri_0_7294_jpeg.rf.7cbd27c0ef815f930e36780f8a0918f8.jpg\n",
      "/kaggle/input/weedzip/unlabeled/agri_0_5458_jpeg.rf.2551921742186d6bd195d7755ee98764.jpg\n",
      "/kaggle/input/weedzip/unlabeled/agri_0_2639_jpeg.rf.d21db158bad1bd5e2e03b638e57059a9.jpg\n",
      "/kaggle/input/weedzip/unlabeled/agri_0_8297_jpeg.rf.1d349d1c017d9131478384e7bc53e7ea.jpg\n",
      "/kaggle/input/weedzip/unlabeled/agri_0_2136_jpeg.rf.6ee62c6aa5af2465145293a85e3ee2c8.jpg\n",
      "/kaggle/input/weedzip/unlabeled/agri_0_6092_jpeg.rf.e084f81c63034beed1b13b19c7eabd64.jpg\n",
      "/kaggle/input/weedzip/unlabeled/agri_0_2694_jpeg.rf.5b1a1701cd54d5e7ef4410aedc3d414c.jpg\n",
      "/kaggle/input/weedzip/unlabeled/agri_0_7544_jpeg.rf.61a160b5276ce1958a597052e0f15090.jpg\n",
      "/kaggle/input/weedzip/unlabeled/agri_0_4936_jpeg.rf.0af3ed78b4565b878dd709c7ead0b5d6.jpg\n",
      "/kaggle/input/weedzip/unlabeled/agri_0_3022_jpeg.rf.d4d8fc281e87c40cc24243ccdb8c0627.jpg\n",
      "/kaggle/input/weedzip/unlabeled/agri_0_7997_jpeg.rf.45b349f4f9460b60a69793400cace47a.jpg\n",
      "/kaggle/input/weedzip/unlabeled/agri_0_8830_jpeg.rf.2d9aa789459e11835e851a5e114b8b15.jpg\n",
      "/kaggle/input/weedzip/unlabeled/agri_0_5147_jpeg.rf.2993810febf8c86a4777da5ed0ff5cca.jpg\n",
      "/kaggle/input/weedzip/unlabeled/agri_0_614_jpeg.rf.ed09c6bf58f9aa8d14a88fe2f3168e47.jpg\n",
      "/kaggle/input/weedzip/unlabeled/agri_0_6801_jpeg.rf.9b080f64bf50807e61037d369b8c36be.jpg\n",
      "/kaggle/input/weedzip/unlabeled/agri_0_8913_jpeg.rf.c2b4509252571d1d72c2fe01e34a842c.jpg\n",
      "/kaggle/input/weedzip/unlabeled/agri_0_8899_jpeg.rf.ea144810b6022f463a660c06d2157e77.jpg\n",
      "/kaggle/input/weedzip/unlabeled/agri_0_456_jpeg.rf.e9f47b21a0d44a122438e48b686b4ec1.jpg\n",
      "/kaggle/input/weedzip/unlabeled/agri_0_7037_jpeg.rf.724cab0e0fb970d233e6df48f902d6af.jpg\n",
      "/kaggle/input/weedzip/unlabeled/agri_0_1140_jpeg.rf.c4b52416f732fca060ca2801a2b895d8.jpg\n",
      "/kaggle/input/weedzip/unlabeled/agri_0_113_jpeg.rf.7e0833f8a8fe270287bfb47c84d06740.jpg\n",
      "/kaggle/input/weedzip/unlabeled/agri_0_5362_jpeg.rf.623a913a48178e6c773b7b7899015bd8.jpg\n",
      "/kaggle/input/weedzip/unlabeled/agri_0_1835_jpeg.rf.ba8e357737fedef26bd2c64104a1fef6.jpg\n",
      "/kaggle/input/weedzip/unlabeled/agri_0_7141_jpeg.rf.8f198ad3c662af0f89fca0a517cf2ce1.jpg\n",
      "/kaggle/input/weedzip/unlabeled/agri_0_1731_jpeg.rf.46d900a124073c3a8ca60ed34caa7130.jpg\n",
      "/kaggle/input/weedzip/unlabeled/agri_0_1079_jpeg.rf.f050f398da1ad442e1888c0c7f46f186.jpg\n",
      "/kaggle/input/weedzip/unlabeled/agri_0_9032_jpeg.rf.505ef15d4ebba78ff19389a59c3bf9de.jpg\n",
      "/kaggle/input/weedzip/unlabeled/agri_0_8803_jpeg.rf.89316751cc2ffb8bc62f3c864ba8376d.jpg\n",
      "/kaggle/input/weedzip/unlabeled/agri_0_5361_jpeg.rf.5edb2839c598f0ec10b29eb2b0160f59.jpg\n",
      "/kaggle/input/weedzip/unlabeled/agri_0_4553_jpeg.rf.eb3e6530637f51dbd9452c4cb4fe2c72.jpg\n",
      "/kaggle/input/weedzip/unlabeled/agri_0_1851_jpeg.rf.ca437bef175f93710d000088c585ac87.jpg\n",
      "/kaggle/input/weedzip/unlabeled/agri_0_9861_jpeg.rf.1fedede74df841c45c1b647ab4b135cc.jpg\n",
      "/kaggle/input/weedzip/unlabeled/agri_0_2894_jpeg.rf.fb0523d8da5d3f4e52642faeed8d3960.jpg\n",
      "/kaggle/input/weedzip/unlabeled/agri_0_1477_jpeg.rf.ce42f548ee34fb410d5796dc182ac6c7.jpg\n",
      "/kaggle/input/weedzip/unlabeled/agri_0_3569_jpeg.rf.5d4d582eae3a6d1804c8c88378bf0348.jpg\n",
      "/kaggle/input/weedzip/unlabeled/agri_0_5220_jpeg.rf.5ae46947220245e83df0040130f38341.jpg\n",
      "/kaggle/input/weedzip/unlabeled/agri_0_9055_jpeg.rf.4b8d8f0d7ad6fe94d470a02d736bfe0b.jpg\n",
      "/kaggle/input/weedzip/unlabeled/agri_0_1888_jpeg.rf.f49d26f2d462f41179c3722fdb21b08b.jpg\n",
      "/kaggle/input/weedzip/unlabeled/agri_0_8062_jpeg.rf.fa147cfc7927f021f955e395be1f5223.jpg\n",
      "/kaggle/input/weedzip/unlabeled/agri_0_7636_jpeg.rf.3af05acc196f4b7cd8804972ab47b55f.jpg\n",
      "/kaggle/input/weedzip/unlabeled/agri_0_815_jpeg.rf.eee2870f0cea4695793aeaa080777d40.jpg\n",
      "/kaggle/input/weedzip/unlabeled/agri_0_9095_jpeg.rf.b815e731efa18908ee2b8d3db831f90e.jpg\n",
      "/kaggle/input/weedzip/unlabeled/agri_0_6701_jpeg.rf.ac057e8e01ab82d36b17b34f2b4396fb.jpg\n",
      "/kaggle/input/weedzip/unlabeled/agri_0_6468_jpeg.rf.6bddebd8cd3db6b87154b85548342462.jpg\n",
      "/kaggle/input/weedzip/unlabeled/agri_0_3928_jpeg.rf.c9adec7ff6a48396913e08ccdcd1b00f.jpg\n",
      "/kaggle/input/weedzip/unlabeled/agri_0_550_jpeg.rf.e6639cafd0f094a5d6ff6e1963ac5be9.jpg\n",
      "/kaggle/input/weedzip/unlabeled/agri_0_5736_jpeg.rf.b879c524c17d3755503477604789a2bf.jpg\n",
      "/kaggle/input/weedzip/unlabeled/agri_0_6827_jpeg.rf.9b2e1968004d638c860b65809de56845.jpg\n",
      "/kaggle/input/weedzip/unlabeled/agri_0_6312_jpeg.rf.c67b49c3562d88ec3693f46f4f7fe417.jpg\n",
      "/kaggle/input/weedzip/unlabeled/agri_0_3_jpeg.rf.33533d45cd7e0b99616756206490c477.jpg\n",
      "/kaggle/input/weedzip/unlabeled/agri_0_1026_jpeg.rf.e236d59f4d71d7c774ec9d53285b56f7.jpg\n",
      "/kaggle/input/weedzip/unlabeled/agri_0_8252_jpeg.rf.042c0bc573e4c026c76b7c8a565278bc.jpg\n",
      "/kaggle/input/weedzip/unlabeled/agri_0_6449_jpeg.rf.1f1edf46fee8302c0368674cf1c5f810.jpg\n",
      "/kaggle/input/weedzip/unlabeled/agri_0_2405_jpeg.rf.af339ce855a62a216e83d12824d77e19.jpg\n",
      "/kaggle/input/weedzip/unlabeled/agri_0_1053_jpeg.rf.5e117c7ad9ffe9ea386098e3636e58e0.jpg\n",
      "/kaggle/input/weedzip/unlabeled/agri_0_9927_jpeg.rf.0e575cf082f83d5d6eac393c53fa21cd.jpg\n",
      "/kaggle/input/weedzip/unlabeled/agri_0_270_jpeg.rf.7723b841c631392034410d5517afced1.jpg\n",
      "/kaggle/input/weedzip/unlabeled/agri_0_6160_jpeg.rf.e3ca9a8f5fa1a4670ef0e1703c7b4894.jpg\n",
      "/kaggle/input/weedzip/unlabeled/agri_0_2964_jpeg.rf.51b203a3347e8b5acec021964298bfb4.jpg\n",
      "/kaggle/input/weedzip/unlabeled/agri_0_4620_jpeg.rf.017c7d53d104d0f4e6052f761d1715ee.jpg\n",
      "/kaggle/input/weedzip/unlabeled/agri_0_5932_jpeg.rf.ff471d4ffcbb697786c23ea70f0f3d16.jpg\n",
      "/kaggle/input/weedzip/unlabeled/agri_0_4635_jpeg.rf.3f1f303d267503f9af8ad56fe3bf89b0.jpg\n",
      "/kaggle/input/weedzip/unlabeled/agri_0_3213_jpeg.rf.01880648e399bb47989196c3c383bf94.jpg\n",
      "/kaggle/input/weedzip/unlabeled/agri_0_1028_jpeg.rf.32fc950fe95beacd547893f9915ab5a9.jpg\n",
      "/kaggle/input/weedzip/unlabeled/agri_0_131_jpeg.rf.a3949d20658fbea83494265acdfdefaa.jpg\n",
      "/kaggle/input/weedzip/unlabeled/agri_0_4916_jpeg.rf.4ef3306b704f32fd2c89c32373530f43.jpg\n",
      "/kaggle/input/weedzip/unlabeled/agri_0_1642_jpeg.rf.b8a13cc4f45bbaf71c35ce62e307b345.jpg\n",
      "/kaggle/input/weedzip/unlabeled/agri_0_7675_jpeg.rf.3b97b322756cd02fb714cdc5ffb92815.jpg\n",
      "/kaggle/input/weedzip/unlabeled/agri_0_6055_jpeg.rf.bfb458ca1e1691dc71f8885fcc87c1c9.jpg\n",
      "/kaggle/input/weedzip/unlabeled/agri_0_1314_jpeg.rf.1e6cad6e8750dd724ce7e3f7327c0a18.jpg\n",
      "/kaggle/input/weedzip/unlabeled/agri_0_3492_jpeg.rf.766ad86e5cbc1008bdfe1d5741341953.jpg\n",
      "/kaggle/input/weedzip/unlabeled/agri_0_6440_jpeg.rf.2bd90f0e9f577ad2430a28599decb288.jpg\n",
      "/kaggle/input/weedzip/unlabeled/agri_0_3388_jpeg.rf.3820d3d5d8a23b8e194153df9deca5b9.jpg\n",
      "/kaggle/input/weedzip/unlabeled/agri_0_4348_jpeg.rf.58fd86b13b7cc710bab9a031650d5685.jpg\n",
      "/kaggle/input/weedzip/unlabeled/agri_0_6393_jpeg.rf.160c59c9a290b360cf668992290935a0.jpg\n",
      "/kaggle/input/weedzip/unlabeled/agri_0_3555_jpeg.rf.2ea98c3b9a23ce3f5373e089cff8704d.jpg\n",
      "/kaggle/input/weedzip/unlabeled/agri_0_1729_jpeg.rf.0bddbe8bc426c049a57166db0be34aaf.jpg\n",
      "/kaggle/input/weedzip/unlabeled/agri_0_8609_jpeg.rf.fa998d7f91fbe0334eb09ea70e04c4b3.jpg\n",
      "/kaggle/input/weedzip/unlabeled/agri_0_8141_jpeg.rf.5e3b94a78bafd3cb2b80febcf5205ea2.jpg\n",
      "/kaggle/input/weedzip/unlabeled/agri_0_2513_jpeg.rf.f180f8f1166112b52099ffcbe3a34025.jpg\n",
      "/kaggle/input/weedzip/unlabeled/agri_0_8546_jpeg.rf.b51ebde09d83a8f9ba7e62c5f152dab7.jpg\n",
      "/kaggle/input/weedzip/unlabeled/agri_0_6407_jpeg.rf.609e48364fe24a725cb5e90603592c3e.jpg\n",
      "/kaggle/input/weedzip/unlabeled/agri_0_6461_jpeg.rf.12a7ce0b71a768524d397834516899e1.jpg\n",
      "/kaggle/input/weedzip/unlabeled/agri_0_725_jpeg.rf.aa91628525809cafcacd2d7628f85de5.jpg\n",
      "/kaggle/input/weedzip/unlabeled/agri_0_7585_jpeg.rf.cb057e2ed3367df93d79ceb4d23f6956.jpg\n",
      "/kaggle/input/weedzip/unlabeled/agri_0_1830_jpeg.rf.33588e6b374b8773879c361993b5b4d2.jpg\n",
      "/kaggle/input/weedzip/unlabeled/agri_0_377_jpeg.rf.0cc914de23d1631e40d011ccb5c65218.jpg\n",
      "/kaggle/input/weedzip/unlabeled/agri_0_1210_jpeg.rf.2c446214b739c763bf3b447229cc3070.jpg\n",
      "/kaggle/input/weedzip/unlabeled/agri_0_2792_jpeg.rf.089d32794a1e25f81cff27542fdc0cdd.jpg\n",
      "/kaggle/input/weedzip/unlabeled/agri_0_7939_jpeg.rf.70a6582d56a99216ed9eedca0ac7bd47.jpg\n",
      "/kaggle/input/weedzip/unlabeled/agri_0_683_jpeg.rf.95dd95290aade8e2d8f7a5858a995e0a.jpg\n",
      "/kaggle/input/weedzip/unlabeled/agri_0_5118_jpeg.rf.5d134b3b7f095afa6428a94e3511aaab.jpg\n",
      "/kaggle/input/weedzip/unlabeled/agri_0_8146_jpeg.rf.9efd4599999455a60fb562bfd19f8d3b.jpg\n",
      "/kaggle/input/weedzip/unlabeled/agri_0_8780_jpeg.rf.0c8dc0a8267e319cd34cf214d686eb1e.jpg\n",
      "/kaggle/input/weedzip/unlabeled/agri_0_7989_jpeg.rf.f3cf52a9a2fa801aa85d3cafa8258d7b.jpg\n",
      "/kaggle/input/weedzip/unlabeled/agri_0_1068_jpeg.rf.38d23fed28e7e50777bf75ff5a3f21f0.jpg\n",
      "/kaggle/input/weedzip/unlabeled/agri_0_1350_jpeg.rf.070fad1a20c9f6078cb9599ea5c03255.jpg\n",
      "/kaggle/input/weedzip/unlabeled/agri_0_5352_jpeg.rf.3dfb66c7a3e3911032ed2ce0b0aa8cc7.jpg\n",
      "/kaggle/input/weedzip/unlabeled/agri_0_4164_jpeg.rf.1c0bf6784fe4ad2471f934647cd7f1d0.jpg\n",
      "/kaggle/input/weedzip/unlabeled/agri_0_1909_jpeg.rf.9044c4dbb9b664ed1a3a30539c382713.jpg\n",
      "/kaggle/input/weedzip/unlabeled/agri_0_1009_jpeg.rf.bd6418200779c7138320a9dd87b37a01.jpg\n",
      "/kaggle/input/weedzip/unlabeled/agri_0_1214_jpeg.rf.c797257a345a85215c40182c3af289c4.jpg\n",
      "/kaggle/input/weedzip/unlabeled/agri_0_8857_jpeg.rf.c8cd3a3f8b874e5c15f665ccff3c59a8.jpg\n",
      "/kaggle/input/weedzip/unlabeled/agri_0_3088_jpeg.rf.971b66beabebfccd16954db50655c29c.jpg\n",
      "/kaggle/input/weedzip/unlabeled/agri_0_3752_jpeg.rf.602a68119354828463cc15a5e99e9d17.jpg\n",
      "/kaggle/input/weedzip/unlabeled/agri_0_4892_jpeg.rf.693f13ac7dd512553131e2e6554359e4.jpg\n",
      "/kaggle/input/weedzip/unlabeled/agri_0_5856_jpeg.rf.9772af318055eee5159473cba2ce9b0e.jpg\n",
      "/kaggle/input/weedzip/unlabeled/agri_0_7039_jpeg.rf.8bf08824419b1bfa4556bbee8cfb2c39.jpg\n",
      "/kaggle/input/weedzip/unlabeled/agri_0_7144_jpeg.rf.61d93d4645d0f2145e2dc05d3680be2e.jpg\n",
      "/kaggle/input/weedzip/unlabeled/agri_0_7362_jpeg.rf.24be37d6134ead83e294daf5c70c3d8b.jpg\n",
      "/kaggle/input/weedzip/unlabeled/agri_0_1988_jpeg.rf.a6b4a850cdb12eb70b9d812d9ccdec1e.jpg\n",
      "/kaggle/input/weedzip/unlabeled/agri_0_2400_jpeg.rf.76d22de4f9f1ada5ea4d76deb2d14333.jpg\n",
      "/kaggle/input/weedzip/unlabeled/agri_0_4002_jpeg.rf.a84d3728cae98e078f935164fcd35f65.jpg\n",
      "/kaggle/input/weedzip/unlabeled/agri_0_3577_jpeg.rf.6da45b471f14e61b6c752977e6477f80.jpg\n",
      "/kaggle/input/weedzip/unlabeled/agri_0_8599_jpeg.rf.804e6b90b57b27cde42317e30dc82d61.jpg\n",
      "/kaggle/input/weedzip/unlabeled/agri_0_1198_jpeg.rf.8d19f5ccf408dc7633f3298305d688bb.jpg\n",
      "/kaggle/input/weedzip/unlabeled/agri_0_5666_jpeg.rf.a0885b1f7eb2a35ddab2fb3bf3facf53.jpg\n",
      "/kaggle/input/weedzip/unlabeled/agri_0_5100_jpeg.rf.d2c51600bc8032425a86513552c1a0a5.jpg\n",
      "/kaggle/input/weedzip/unlabeled/agri_0_122_jpeg.rf.ad2a770ae35a225cd3d7f340d69ffcc8.jpg\n",
      "/kaggle/input/weedzip/unlabeled/agri_0_5169_jpeg.rf.a63841ec77e921da18785dfa80aa8ec9.jpg\n",
      "/kaggle/input/weedzip/unlabeled/agri_0_4846_jpeg.rf.524d5e15e67c3ce49c67de02820a1d9e.jpg\n",
      "/kaggle/input/weedzip/unlabeled/agri_0_1342_jpeg.rf.50ec1901bd83b374fa40b244251661d8.jpg\n",
      "/kaggle/input/weedzip/unlabeled/agri_0_2999_jpeg.rf.ab47be826c156fbc27e2e5d69ddfe452.jpg\n",
      "/kaggle/input/weedzip/unlabeled/agri_0_1499_jpeg.rf.5d3112d5c0a333ca025a50f5fd86babe.jpg\n",
      "/kaggle/input/weedzip/unlabeled/agri_0_7188_jpeg.rf.0fff08d5c0490e1c6bd0164da98d9d33.jpg\n",
      "/kaggle/input/weedzip/unlabeled/agri_0_8046_jpeg.rf.2a65f4e009ec5a942a761ce2e892d804.jpg\n",
      "/kaggle/input/weedzip/unlabeled/agri_0_4793_jpeg.rf.e91f1c10fea7fbfa085e1ea2264facd8.jpg\n",
      "/kaggle/input/weedzip/unlabeled/agri_0_1095_jpeg.rf.ef27f3dd0a07e24012bdfb32fd3e546f.jpg\n",
      "/kaggle/input/weedzip/unlabeled/agri_0_7958_jpeg.rf.8d856a48f1a5047420a7bc55a206ea6e.jpg\n",
      "/kaggle/input/weedzip/unlabeled/agri_0_6212_jpeg.rf.8b7d963ad51af2291912ec168a8cb155.jpg\n",
      "/kaggle/input/weedzip/unlabeled/agri_0_9960_jpeg.rf.fcc2036dc9c8703a83b4c58c83b09c18.jpg\n",
      "/kaggle/input/weedzip/unlabeled/agri_0_6848_jpeg.rf.a65bdae65d814ca6fb9b33182f746872.jpg\n",
      "/kaggle/input/weedzip/unlabeled/agri_0_4530_jpeg.rf.0a8a02d11b3db9f854f5c773f9bd875e.jpg\n",
      "/kaggle/input/weedzip/unlabeled/agri_0_9963_jpeg.rf.c006b4cbca63a842052d3f25c0ef30db.jpg\n",
      "/kaggle/input/weedzip/unlabeled/agri_0_1018_jpeg.rf.30238c6d22d384618e1ef4297dea6e34.jpg\n",
      "/kaggle/input/weedzip/unlabeled/agri_0_4964_jpeg.rf.4fafe912bdb4a985bed5dc47bed67621.jpg\n",
      "/kaggle/input/weedzip/unlabeled/agri_0_7943_jpeg.rf.5cc5da5fd7a43fb435e4761fa3cf6bc9.jpg\n",
      "/kaggle/input/weedzip/unlabeled/agri_0_6652_jpeg.rf.d1c3c37b373a59adae98fe24e1c8cd73.jpg\n",
      "/kaggle/input/weedzip/unlabeled/agri_0_980_jpeg.rf.d2bf2811b4396e29cb35b3271c386f2d.jpg\n",
      "/kaggle/input/weedzip/unlabeled/agri_0_6481_jpeg.rf.afd512acf0eef45ac44424975b1b6288.jpg\n",
      "/kaggle/input/weedzip/unlabeled/agri_0_3856_jpeg.rf.c0c75a43f4b49a0fb8139d793982067e.jpg\n",
      "/kaggle/input/weedzip/unlabeled/agri_0_3720_jpeg.rf.884ec276431923b8d48e8bea96138d23.jpg\n",
      "/kaggle/input/weedzip/unlabeled/agri_0_4015_jpeg.rf.332e849c4ac70e0aa1b2c1ad15a442bc.jpg\n",
      "/kaggle/input/weedzip/unlabeled/agri_0_3229_jpeg.rf.17cd50fb8c5642224865db4e61e8ca94.jpg\n",
      "/kaggle/input/weedzip/unlabeled/agri_0_5282_jpeg.rf.08c0b0ada9d7fd241454d0b936f38cd3.jpg\n",
      "/kaggle/input/weedzip/unlabeled/agri_0_7388_jpeg.rf.59ec041fc30aee9ebc7bfd228216deda.jpg\n",
      "/kaggle/input/weedzip/unlabeled/agri_0_7283_jpeg.rf.66bc2684315f09697bde3ed2e96b6357.jpg\n",
      "/kaggle/input/weedzip/unlabeled/agri_0_4455_jpeg.rf.d3b7efb576433fe4be4674ac6a356842.jpg\n",
      "/kaggle/input/weedzip/unlabeled/agri_0_9486_jpeg.rf.f127b0e0b008e8b18595ba30837fe22a.jpg\n",
      "/kaggle/input/weedzip/unlabeled/agri_0_3230_jpeg.rf.8b167db7d0c8d31026c7b20e4e656ee6.jpg\n",
      "/kaggle/input/weedzip/unlabeled/agri_0_9575_jpeg.rf.67c7106c2a646b50cad4d513a810b999.jpg\n",
      "/kaggle/input/weedzip/unlabeled/agri_0_4806_jpeg.rf.758950dabeffd7f1953212671838b511.jpg\n",
      "/kaggle/input/weedzip/unlabeled/agri_0_5587_jpeg.rf.03bb0c81c456833c43d166209fe41010.jpg\n",
      "/kaggle/input/weedzip/unlabeled/agri_0_7031_jpeg.rf.d2ee03cf410c0f17a9a09b9ea6f3289c.jpg\n",
      "/kaggle/input/weedzip/unlabeled/agri_0_5632_jpeg.rf.71e3f0add4fae79cb5a4ca226c2f8e2c.jpg\n",
      "/kaggle/input/weedzip/unlabeled/agri_0_8095_jpeg.rf.1a1f364194e3d78a460328068c5b63d9.jpg\n",
      "/kaggle/input/weedzip/unlabeled/agri_0_7219_jpeg.rf.e42ff5a75faa805d98af550999f3f065.jpg\n",
      "/kaggle/input/weedzip/unlabeled/agri_0_4751_jpeg.rf.eba42249bd132d0a40329ed67276672a.jpg\n",
      "/kaggle/input/weedzip/unlabeled/agri_0_1420_jpeg.rf.51f3211e44a40794cdf47f77f548a9e7.jpg\n",
      "/kaggle/input/weedzip/unlabeled/agri_0_8675_jpeg.rf.9268dc956af859a11a132e95e5396779.jpg\n",
      "/kaggle/input/weedzip/unlabeled/agri_0_3966_jpeg.rf.01729314745b5f91c49f676fb6efa105.jpg\n",
      "/kaggle/input/weedzip/unlabeled/agri_0_6814_jpeg.rf.5ae2b34f3825b890945c3359ecfe8f4d.jpg\n",
      "/kaggle/input/weedzip/unlabeled/agri_0_4467_jpeg.rf.789fff49d9028ad2b0a28d91b4eb1b2f.jpg\n",
      "/kaggle/input/weedzip/unlabeled/agri_0_7925_jpeg.rf.e916efbbfeadc552cd1d56cc3b28c18a.jpg\n",
      "/kaggle/input/weedzip/unlabeled/agri_0_5622_jpeg.rf.8129fd0ec0a4edde27c49fafba60f7af.jpg\n",
      "/kaggle/input/weedzip/unlabeled/agri_0_757_jpeg.rf.ea8ad735032854ec778582d18372de28.jpg\n",
      "/kaggle/input/weedzip/unlabeled/agri_0_3983_jpeg.rf.39c0a29b3bddb9d4497cfb89421229d3.jpg\n",
      "/kaggle/input/weedzip/unlabeled/agri_0_7208_jpeg.rf.1739404c967a01f3c303becda875fafd.jpg\n",
      "/kaggle/input/weedzip/unlabeled/agri_0_2363_jpeg.rf.f71ca281dcb5103dcb23715924a79d7d.jpg\n",
      "/kaggle/input/weedzip/unlabeled/agri_0_2161_jpeg.rf.ef4ceddfe741042895dda1987977f2a1.jpg\n",
      "/kaggle/input/weedzip/unlabeled/agri_0_5502_jpeg.rf.48bcb3d66daebb91f2799ac173a2267d.jpg\n",
      "/kaggle/input/weedzip/unlabeled/agri_0_4557_jpeg.rf.68494679e22d5824d8c1ee359632e361.jpg\n",
      "/kaggle/input/weedzip/unlabeled/agri_0_5747_jpeg.rf.f20e0023942895d4293df729f2c5713b.jpg\n",
      "/kaggle/input/weedzip/unlabeled/agri_0_3534_jpeg.rf.1388ba5c7e02b146ba725b13973c3f8d.jpg\n",
      "/kaggle/input/weedzip/unlabeled/agri_0_8445_jpeg.rf.292388e3396e82b35f671f571d6441e9.jpg\n",
      "/kaggle/input/weedzip/unlabeled/agri_0_7464_jpeg.rf.d63b250f3416b12fbc0578a4dfb73364.jpg\n",
      "/kaggle/input/weedzip/unlabeled/agri_0_7888_jpeg.rf.1cc93706ebf92ab29bd51178b3193f0d.jpg\n",
      "/kaggle/input/weedzip/unlabeled/agri_0_6276_jpeg.rf.5a0ab070658fc505c78f628a71d58713.jpg\n",
      "/kaggle/input/weedzip/unlabeled/agri_0_3842_jpeg.rf.b83eeca42df5ef218f0d96f72650ffa2.jpg\n",
      "/kaggle/input/weedzip/unlabeled/agri_0_5248_jpeg.rf.c0a3631974cfdf9917e5d840c7a68185.jpg\n",
      "/kaggle/input/weedzip/unlabeled/agri_0_4112_jpeg.rf.4f4455bbb6005060bc809fa3f4c54a61.jpg\n",
      "/kaggle/input/weedzip/unlabeled/agri_0_1707_jpeg.rf.5b90139a904b84770c178024cd6b82b9.jpg\n",
      "/kaggle/input/weedzip/unlabeled/agri_0_110_jpeg.rf.db835a7edb9c36af030219a86e6b5a30.jpg\n",
      "/kaggle/input/weedzip/unlabeled/agri_0_5039_jpeg.rf.dde046760a98d2dc6d21fa8f4e3f499b.jpg\n",
      "/kaggle/input/weedzip/unlabeled/agri_0_4184_jpeg.rf.998c7c4381ccb37cb98de1fc49c4dbcd.jpg\n",
      "/kaggle/input/weedzip/unlabeled/agri_0_1332_jpeg.rf.2a37fa430dfe04af9bb177d9a848a159.jpg\n",
      "/kaggle/input/weedzip/unlabeled/agri_0_7344_jpeg.rf.3dda7bc48c5dd1a2c632a6625556b86a.jpg\n",
      "/kaggle/input/weedzip/unlabeled/agri_0_2095_jpeg.rf.3f907fa2ec9707d685b187d721185266.jpg\n",
      "/kaggle/input/weedzip/unlabeled/agri_0_3226_jpeg.rf.0d65ed747c150dae111c67df36b0a028.jpg\n",
      "/kaggle/input/weedzip/unlabeled/agri_0_3964_jpeg.rf.279a399af89895629dd669024b976520.jpg\n",
      "/kaggle/input/weedzip/unlabeled/agri_0_9916_jpeg.rf.2c9dca2d4820755af946fc75edc12705.jpg\n",
      "/kaggle/input/weedzip/unlabeled/agri_0_5947_jpeg.rf.fdfa05948e07cdddae05b95e78eb7826.jpg\n",
      "/kaggle/input/weedzip/unlabeled/agri_0_8105_jpeg.rf.fe71fa27f32018eb82f7e398495b0c8d.jpg\n",
      "/kaggle/input/weedzip/unlabeled/agri_0_1841_jpeg.rf.433f88b2fc1c671654c1cb1554d8a483.jpg\n",
      "/kaggle/input/weedzip/unlabeled/agri_0_8357_jpeg.rf.d380e41a7cc8981d1c1178e7b7da2ed5.jpg\n",
      "/kaggle/input/weedzip/unlabeled/agri_0_607_jpeg.rf.3c32c39353148a4f9649ae5fae4a8bb9.jpg\n",
      "/kaggle/input/weedzip/unlabeled/agri_0_1020_jpeg.rf.26add55029735d0e6ae4ec0a57bb210a.jpg\n",
      "/kaggle/input/weedzip/unlabeled/agri_0_8305_jpeg.rf.e5d085362e208140a9d3557aa8fc699c.jpg\n",
      "/kaggle/input/weedzip/unlabeled/agri_0_248_jpeg.rf.aec39adfddc5cf4b5e5464fdbde352c7.jpg\n",
      "/kaggle/input/weedzip/unlabeled/agri_0_3647_jpeg.rf.da6538ba48b72f36398bc4732a735274.jpg\n",
      "/kaggle/input/weedzip/unlabeled/agri_0_3820_jpeg.rf.dc830bd8f3e2f7f89d35c86ba87721d1.jpg\n",
      "/kaggle/input/weedzip/unlabeled/agri_0_249_jpeg.rf.cb2f5f151a6d632b9ebd3733e76f493d.jpg\n",
      "/kaggle/input/weedzip/unlabeled/agri_0_7844_jpeg.rf.d6df4e30654e745a298dee0415fe6160.jpg\n",
      "/kaggle/input/weedzip/unlabeled/agri_0_3900_jpeg.rf.3a3b9650b99d509faa251d3524d50828.jpg\n",
      "/kaggle/input/weedzip/unlabeled/agri_0_4356_jpeg.rf.65cb46e835d0d33956c15a505a448ed5.jpg\n",
      "/kaggle/input/weedzip/unlabeled/agri_0_5634_jpeg.rf.2561836bc727987aa7bd0999dee355a5.jpg\n",
      "/kaggle/input/weedzip/unlabeled/agri_0_6870_jpeg.rf.143fb570b6ec018bf7766f060382413c.jpg\n",
      "/kaggle/input/weedzip/unlabeled/agri_0_1993_jpeg.rf.9b7a34367bb489a7f4673505550fe0d5.jpg\n",
      "/kaggle/input/weedzip/unlabeled/agri_0_6778_jpeg.rf.4801f15ea99ad9279ee0b5712ded47ff.jpg\n",
      "/kaggle/input/weedzip/unlabeled/agri_0_4702_jpeg.rf.26c8359c24238fcf1503f170f415fe60.jpg\n",
      "/kaggle/input/weedzip/unlabeled/agri_0_8225_jpeg.rf.393066f4676cf828909a1c87c22a74c8.jpg\n",
      "/kaggle/input/weedzip/unlabeled/agri_0_1361_jpeg.rf.2c2b47ed2752b928f160900681785bd8.jpg\n",
      "/kaggle/input/weedzip/unlabeled/agri_0_8126_jpeg.rf.1ad8874de916c3c19e8fad8d0e4a2ed9.jpg\n",
      "/kaggle/input/weedzip/unlabeled/agri_0_5784_jpeg.rf.8299a3cde64655829c1f21c27168d225.jpg\n",
      "/kaggle/input/weedzip/unlabeled/agri_0_7382_jpeg.rf.038a6bbde46f2d1d61fb97215e55f02d.jpg\n",
      "/kaggle/input/weedzip/unlabeled/agri_0_6157_jpeg.rf.8b0773d843adba7b4140c2d09af9fe32.jpg\n",
      "/kaggle/input/weedzip/unlabeled/agri_0_3075_jpeg.rf.dcea5a3a54b8b10b87c1c89fb7afcb01.jpg\n",
      "/kaggle/input/weedzip/unlabeled/agri_0_8595_jpeg.rf.99219e124fbe537f12b7ac24cbee0229.jpg\n",
      "/kaggle/input/weedzip/unlabeled/agri_0_7153_jpeg.rf.5b62726251ad021bc5c59f14ee353b67.jpg\n",
      "/kaggle/input/weedzip/unlabeled/agri_0_7466_jpeg.rf.7bb6a8f808f1e1eda4e5066b2c1922e2.jpg\n",
      "/kaggle/input/weedzip/unlabeled/agri_0_5773_jpeg.rf.ce35e53d70ac808f9cfdb3d79f01dbc6.jpg\n",
      "/kaggle/input/weedzip/unlabeled/agri_0_1129_jpeg.rf.75cecedacb157c65b445b2502acad4c4.jpg\n",
      "/kaggle/input/weedzip/unlabeled/agri_0_9971_jpeg.rf.359b2f089d5333d7f26e346572dcc34a.jpg\n",
      "/kaggle/input/weedzip/unlabeled/agri_0_600_jpeg.rf.4728c3a3b0a46fc121b7ef95a367b512.jpg\n",
      "/kaggle/input/weedzip/unlabeled/agri_0_1192_jpeg.rf.9091044fe7ebfc0eb3472728362ba0da.jpg\n",
      "/kaggle/input/weedzip/unlabeled/agri_0_3054_jpeg.rf.32cc2ef05d03c1411f053eddbc1fd085.jpg\n",
      "/kaggle/input/weedzip/unlabeled/agri_0_3573_jpeg.rf.0b6eaf75e112ba52a8842a603843dc59.jpg\n",
      "/kaggle/input/weedzip/unlabeled/agri_0_3346_jpeg.rf.66c918130f620a67463ebb3679f387a2.jpg\n",
      "/kaggle/input/weedzip/unlabeled/agri_0_9047_jpeg.rf.94743726e9c237f90a974a7b432c4f02.jpg\n",
      "/kaggle/input/weedzip/unlabeled/agri_0_4665_jpeg.rf.3a109883fbcbc58e2526d20974e86fbd.jpg\n",
      "/kaggle/input/weedzip/unlabeled/agri_0_8358_jpeg.rf.089b94cf20d4b96c9342d067e0e5a62d.jpg\n",
      "/kaggle/input/weedzip/unlabeled/agri_0_4123_jpeg.rf.a0741410a9d0508b4e1c43a14b1e7635.jpg\n",
      "/kaggle/input/weedzip/unlabeled/agri_0_6042_jpeg.rf.ccc5554965a4ebcf970b9a2137b16638.jpg\n",
      "/kaggle/input/weedzip/unlabeled/agri_0_3394_jpeg.rf.6662e3ed447217496cdfffdd54e428aa.jpg\n",
      "/kaggle/input/weedzip/unlabeled/agri_0_136_jpeg.rf.180503e966f7356f59333c9bd87a93e9.jpg\n",
      "/kaggle/input/weedzip/unlabeled/agri_0_3603_jpeg.rf.38781d112fbcf3d5f1c6fabe94623ec6.jpg\n",
      "/kaggle/input/weedzip/unlabeled/agri_0_3748_jpeg.rf.2d20b006047a4b5b88c2d04eefe21225.jpg\n",
      "/kaggle/input/weedzip/unlabeled/agri_0_7489_jpeg.rf.2d2d1ec554668184a37f714b1688e87d.jpg\n",
      "/kaggle/input/weedzip/unlabeled/agri_0_8073_jpeg.rf.101506bbabfa6f21855a7fc83e32ae6e.jpg\n",
      "/kaggle/input/weedzip/unlabeled/agri_0_5733_jpeg.rf.a837e962d98a7695bd2eddc1086824a5.jpg\n",
      "/kaggle/input/weedzip/unlabeled/agri_0_8654_jpeg.rf.feb6c4e1735ddfcb6ad73e5d9b857aa8.jpg\n",
      "/kaggle/input/weedzip/unlabeled/agri_0_3414_jpeg.rf.18c5d0bba3f01fb27421cdb8aec83048.jpg\n",
      "/kaggle/input/weedzip/unlabeled/agri_0_4312_jpeg.rf.430443e2c496fd24a8f02b8a9cedc1aa.jpg\n",
      "/kaggle/input/weedzip/unlabeled/agri_0_3023_jpeg.rf.732af8a195faf080496bdba62cf8000a.jpg\n",
      "/kaggle/input/weedzip/unlabeled/agri_0_4416_jpeg.rf.fcbc72e45429d4f25aef117056321d16.jpg\n",
      "/kaggle/input/weedzip/unlabeled/agri_0_741_jpeg.rf.19bbf118fad3333416d430d2c1e60fbe.jpg\n",
      "/kaggle/input/weedzip/unlabeled/agri_0_4323_jpeg.rf.049e08f40933214430a2bc1eb96ba093.jpg\n",
      "/kaggle/input/weedzip/unlabeled/agri_0_2082_jpeg.rf.5545840a67ba34baaa133dce1ecc0a64.jpg\n",
      "/kaggle/input/weedzip/unlabeled/agri_0_718_jpeg.rf.ad86e2dc7990d94652022fb6fe8185aa.jpg\n",
      "/kaggle/input/weedzip/unlabeled/agri_0_4028_jpeg.rf.9dd60be23a5d0b64f777dab929a159ec.jpg\n",
      "/kaggle/input/weedzip/unlabeled/agri_0_4659_jpeg.rf.53dc350782e9f59d6020e8e7fa884cfd.jpg\n",
      "/kaggle/input/weedzip/unlabeled/agri_0_372_jpeg.rf.3eda550e0ffe966d625ca5c34c069f86.jpg\n",
      "/kaggle/input/weedzip/unlabeled/agri_0_8315_jpeg.rf.800f23596015b104ff286a827c972fe2.jpg\n",
      "/kaggle/input/weedzip/unlabeled/agri_0_5676_jpeg.rf.6b55631eb3e12edc8fde7e2b8d3648a1.jpg\n",
      "/kaggle/input/weedzip/unlabeled/agri_0_2034_jpeg.rf.ceb3d5125c07c28dba15edbd8c97b944.jpg\n",
      "/kaggle/input/weedzip/unlabeled/agri_0_2604_jpeg.rf.cb32a8dcf7b58ab131bd1d39157b74d9.jpg\n",
      "/kaggle/input/weedzip/unlabeled/agri_0_9892_jpeg.rf.3a76f41fa395310d93f96a65ac99c9a8.jpg\n",
      "/kaggle/input/weedzip/unlabeled/agri_0_8121_jpeg.rf.11dd8a50f90d8f49d9659ca9828f43f4.jpg\n",
      "/kaggle/input/weedzip/unlabeled/agri_0_6851_jpeg.rf.80c38e10f43fc208c64224004507c878.jpg\n",
      "/kaggle/input/weedzip/unlabeled/agri_0_8842_jpeg.rf.03e0555bd279d20c14abfce59cdd3a28.jpg\n",
      "/kaggle/input/weedzip/unlabeled/agri_0_839_jpeg.rf.00cc995b84e9631604a6cb6a01a27b5b.jpg\n",
      "/kaggle/input/weedzip/unlabeled/agri_0_3379_jpeg.rf.227680be7cf857705b5af40c07e96145.jpg\n",
      "/kaggle/input/weedzip/unlabeled/agri_0_9439_jpeg.rf.c1a423db8467c3dfc3c6158d08628f42.jpg\n",
      "/kaggle/input/weedzip/unlabeled/agri_0_9872_jpeg.rf.64cc79ca43be2b9a827764a24c431905.jpg\n",
      "/kaggle/input/weedzip/unlabeled/agri_0_1166_jpeg.rf.6ea255f250563221ec6ae7c38ad9e8b5.jpg\n",
      "/kaggle/input/weedzip/unlabeled/agri_0_2714_jpeg.rf.341a0e3f7ffe18196ecadcaf7d94963a.jpg\n",
      "/kaggle/input/weedzip/unlabeled/agri_0_3412_jpeg.rf.3914f3df1a665be7d557dc404276cc39.jpg\n",
      "/kaggle/input/weedzip/unlabeled/agri_0_2001_jpeg.rf.ae1b4619ac83a796a3a2b5b1a9a456e6.jpg\n",
      "/kaggle/input/weedzip/unlabeled/agri_0_6094_jpeg.rf.f9f1af7d74e667b88b07a7d91681b1f0.jpg\n",
      "/kaggle/input/weedzip/unlabeled/agri_0_566_jpeg.rf.538c393f2e9946add627491bf69ea789.jpg\n",
      "/kaggle/input/weedzip/unlabeled/agri_0_6863_jpeg.rf.2af71f3983ef45b81a409225edfbdbc1.jpg\n",
      "/kaggle/input/weedzip/unlabeled/agri_0_4499_jpeg.rf.808964e1cca1f3b7da4e32236552b075.jpg\n",
      "/kaggle/input/weedzip/unlabeled/agri_0_7222_jpeg.rf.d5ce24021772807d6896b644d6c644bd.jpg\n",
      "/kaggle/input/weedzip/unlabeled/agri_0_3008_jpeg.rf.abc3ef195d8559c3885ea4863aac8fab.jpg\n",
      "/kaggle/input/weedzip/unlabeled/agri_0_437_jpeg.rf.4f793065eb837d06a4dc7574ac845350.jpg\n",
      "/kaggle/input/weedzip/unlabeled/agri_0_5994_jpeg.rf.729d033b2c4910676cfa7860702d2b8b.jpg\n",
      "/kaggle/input/weedzip/unlabeled/agri_0_2370_jpeg.rf.6571d98bd4374b04ae08f1372148a5f8.jpg\n",
      "/kaggle/input/weedzip/unlabeled/agri_0_7716_jpeg.rf.dacdef6bb25d5d586b1c905adc67749a.jpg\n",
      "/kaggle/input/weedzip/unlabeled/agri_0_9843_jpeg.rf.d123e9bc78fae16c16f40a9f4cc1c72a.jpg\n",
      "/kaggle/input/weedzip/unlabeled/agri_0_484_jpeg.rf.b68abe7a79d4e63cb385a4fa3810bea2.jpg\n",
      "/kaggle/input/weedzip/unlabeled/agri_0_5145_jpeg.rf.1f5a0f09f5bc147b24778faec9f6e470.jpg\n",
      "/kaggle/input/weedzip/unlabeled/agri_0_3530_jpeg.rf.76711fcbc7e2c4767321b49d437471f3.jpg\n",
      "/kaggle/input/weedzip/unlabeled/agri_0_3093_jpeg.rf.f83d3240b4d0f4cc4b3763e3473e637d.jpg\n",
      "/kaggle/input/weedzip/unlabeled/agri_0_6_jpeg.rf.78912f8d49f12d73917972b376553f2d.jpg\n",
      "/kaggle/input/weedzip/unlabeled/agri_0_7550_jpeg.rf.2e2ccfa3913ba32cee05b0ef2f05777a.jpg\n",
      "/kaggle/input/weedzip/unlabeled/agri_0_4519_jpeg.rf.3669ede317c0131d84809b96b549ef09.jpg\n",
      "/kaggle/input/weedzip/unlabeled/agri_0_1858_jpeg.rf.888afb193a3f43a9688a9ac08f2baf3f.jpg\n",
      "/kaggle/input/weedzip/unlabeled/agri_0_975_jpeg.rf.332afe0065dad953c307cb23b62db55c.jpg\n",
      "/kaggle/input/weedzip/unlabeled/agri_0_5066_jpeg.rf.90704887e4d58a7469105f3925f48bff.jpg\n",
      "/kaggle/input/weedzip/unlabeled/agri_0_8161_jpeg.rf.3fe38b702fe8d03c53bd1f44fa898e68.jpg\n",
      "/kaggle/input/weedzip/unlabeled/agri_0_8058_jpeg.rf.c7d608b1157a69aeb88dff8944ecaa1f.jpg\n",
      "/kaggle/input/weedzip/unlabeled/agri_0_7574_jpeg.rf.0e8344cc9fa9276192781a862abdbe42.jpg\n",
      "/kaggle/input/weedzip/unlabeled/agri_0_5661_jpeg.rf.7229198a9bf9f93529af4f143f93d271.jpg\n",
      "/kaggle/input/weedzip/unlabeled/agri_0_787_jpeg.rf.31adcfc5e90ac7b49dc41981c5398dda.jpg\n",
      "/kaggle/input/weedzip/unlabeled/agri_0_466_jpeg.rf.ff693b05aaa727bd2507cb85dfe959c4.jpg\n",
      "/kaggle/input/weedzip/unlabeled/agri_0_8044_jpeg.rf.8c75f3dd301265330a09e7cda8186363.jpg\n",
      "/kaggle/input/weedzip/unlabeled/agri_0_1242_jpeg.rf.f16d901d282c6946846ae9b1710fda93.jpg\n",
      "/kaggle/input/weedzip/unlabeled/agri_0_6119_jpeg.rf.5ffaac2b92b6dc44d6230db453d980b8.jpg\n",
      "/kaggle/input/weedzip/unlabeled/agri_0_3061_jpeg.rf.f2ba271e23500f2ed65c18f6ebf94151.jpg\n",
      "/kaggle/input/weedzip/unlabeled/agri_0_4226_jpeg.rf.2fc04945bcd9ac0839b2e2bbc7cf9be9.jpg\n",
      "/kaggle/input/weedzip/unlabeled/agri_0_3992_jpeg.rf.60ab263c2c9969448904b1b13cc9699f.jpg\n",
      "/kaggle/input/weedzip/unlabeled/agri_0_5529_jpeg.rf.adb8b848860bb2c2108e72361168cf4e.jpg\n",
      "/kaggle/input/weedzip/unlabeled/agri_0_3679_jpeg.rf.19d49c72ec8ed0ffc1f895e6606cbc06.jpg\n",
      "/kaggle/input/weedzip/unlabeled/agri_0_7573_jpeg.rf.25e9e2463c31c9bd451d20e2503fa1d8.jpg\n",
      "/kaggle/input/weedzip/unlabeled/agri_0_7209_jpeg.rf.de44c0129e9fa0589639e0c097420924.jpg\n",
      "/kaggle/input/weedzip/unlabeled/agri_0_4055_jpeg.rf.b3ebda4c93dc301ac592446d1939dfc0.jpg\n",
      "/kaggle/input/weedzip/unlabeled/agri_0_1627_jpeg.rf.2e3835df8a289f8a94da8c3c20c97f51.jpg\n",
      "/kaggle/input/weedzip/unlabeled/agri_0_6013_jpeg.rf.2935ff018cf46de97f903bb4a2d9b817.jpg\n",
      "/kaggle/input/weedzip/unlabeled/agri_0_8821_jpeg.rf.749a7a5ec468ae770f351feebe8bb4eb.jpg\n",
      "/kaggle/input/weedzip/unlabeled/agri_0_8140_jpeg.rf.2a17816e8913a593d542c540062d2e8d.jpg\n",
      "/kaggle/input/weedzip/unlabeled/agri_0_3378_jpeg.rf.6086c4c5527946ee7e387e65d623e58b.jpg\n",
      "/kaggle/input/weedzip/unlabeled/agri_0_3129_jpeg.rf.6d3d9cfde38c45a17f728441d9fac677.jpg\n",
      "/kaggle/input/weedzip/unlabeled/agri_0_6395_jpeg.rf.02c3f5e869bc0290e5d9975326a216d7.jpg\n",
      "/kaggle/input/weedzip/unlabeled/agri_0_3823_jpeg.rf.8f9de686bc27c1531ec195af6aa36469.jpg\n",
      "/kaggle/input/weedzip/unlabeled/agri_0_347_jpeg.rf.a516b1825329e6996cc303eda085573e.jpg\n",
      "/kaggle/input/weedzip/unlabeled/agri_0_2545_jpeg.rf.98b30afc4b5a3c94e93dc70ef7a69289.jpg\n",
      "/kaggle/input/weedzip/unlabeled/agri_0_5461_jpeg.rf.e71a4ca65298879f14c0a67ac491a666.jpg\n",
      "/kaggle/input/weedzip/unlabeled/agri_0_3985_jpeg.rf.0d41a1cd93bdd05ff9466a416423aa08.jpg\n",
      "/kaggle/input/weedzip/unlabeled/agri_0_5821_jpeg.rf.591967d8e49e2b04e7d29004739084ce.jpg\n",
      "/kaggle/input/weedzip/unlabeled/agri_0_8184_jpeg.rf.970d3eff580ec2cd38272957e91226f0.jpg\n",
      "/kaggle/input/weedzip/unlabeled/agri_0_7232_jpeg.rf.bfa806261c1abef0d2dae083063627df.jpg\n",
      "/kaggle/input/weedzip/unlabeled/agri_0_6474_jpeg.rf.0b42adf4c996971c84008a9d756e39c4.jpg\n",
      "/kaggle/input/weedzip/unlabeled/agri_0_6518_jpeg.rf.f47727ef80c838314471205f62c41a39.jpg\n",
      "/kaggle/input/weedzip/unlabeled/agri_0_1810_jpeg.rf.85a825c68b0f98d5532bb6b5e46e8266.jpg\n",
      "/kaggle/input/weedzip/unlabeled/agri_0_2915_jpeg.rf.39ab9f3334fdec7e7948e3c02f538911.jpg\n",
      "/kaggle/input/weedzip/unlabeled/agri_0_8482_jpeg.rf.f304a347c7bb05957269e8a5e745d697.jpg\n",
      "/kaggle/input/weedzip/unlabeled/agri_0_2159_jpeg.rf.b45855c3e2395c862367b8bf0741602b.jpg\n",
      "/kaggle/input/weedzip/unlabeled/agri_0_5366_jpeg.rf.5168af3a2e06fa19d989dd527ba64e19.jpg\n",
      "/kaggle/input/weedzip/unlabeled/agri_0_7601_jpeg.rf.219fd5333455482818a1eec53d69d29d.jpg\n",
      "/kaggle/input/weedzip/unlabeled/agri_0_3744_jpeg.rf.c6e41ec47708bc3e1e812796e5318c67.jpg\n",
      "/kaggle/input/weedzip/unlabeled/agri_0_6668_jpeg.rf.f1cde4d3fde59a97a1715ad1ac8c0738.jpg\n",
      "/kaggle/input/weedzip/unlabeled/agri_0_6326_jpeg.rf.1e9ef5d35c960243f10a4426490e30bf.jpg\n",
      "/kaggle/input/weedzip/unlabeled/agri_0_2533_jpeg.rf.2f89daf74c62d0906438ca48f868c048.jpg\n",
      "/kaggle/input/weedzip/unlabeled/agri_0_395_jpeg.rf.02508df222a9ff13eb1ccc4c668d6f73.jpg\n",
      "/kaggle/input/weedzip/unlabeled/agri_0_6268_jpeg.rf.35bb00d68f4d099c13e5bd9db2ea33a0.jpg\n",
      "/kaggle/input/weedzip/unlabeled/agri_0_4789_jpeg.rf.48c37dc619cf8ccaa05ab13baf1aa536.jpg\n",
      "/kaggle/input/weedzip/unlabeled/agri_0_1518_jpeg.rf.7f0d0991b8fc8c977af2886b24ff41d2.jpg\n",
      "/kaggle/input/weedzip/unlabeled/agri_0_1941_jpeg.rf.d3c818805c11748dd532e9dc3eec78ce.jpg\n",
      "/kaggle/input/weedzip/unlabeled/agri_0_2521_jpeg.rf.56c3f18ac46d6c7ad00c7a3aab034338.jpg\n",
      "/kaggle/input/weedzip/unlabeled/agri_0_4778_jpeg.rf.af64d1c68116b9995b86b01d06d2e85d.jpg\n",
      "/kaggle/input/weedzip/unlabeled/agri_0_4526_jpeg.rf.f274698374cbab21fe9efae07df3b9b8.jpg\n",
      "/kaggle/input/weedzip/unlabeled/agri_0_4009_jpeg.rf.816272ef702accb107a65912756fd9e7.jpg\n",
      "/kaggle/input/weedzip/unlabeled/agri_0_3057_jpeg.rf.3134c495bcf33a7aee854ab8a11f7642.jpg\n",
      "/kaggle/input/weedzip/unlabeled/agri_0_3473_jpeg.rf.73fba271ae0ca57eb2553fabebfaae40.jpg\n",
      "/kaggle/input/weedzip/unlabeled/agri_0_1677_jpeg.rf.9c47da904e7eeae9e9b9e227a0f9b9d4.jpg\n",
      "/kaggle/input/weedzip/unlabeled/agri_0_8572_jpeg.rf.e480371498bd15615d7155737e02ed7f.jpg\n",
      "/kaggle/input/weedzip/unlabeled/agri_0_4985_jpeg.rf.ef92208a0d59c81ef271f89628b39fb0.jpg\n",
      "/kaggle/input/weedzip/unlabeled/agri_0_8267_jpeg.rf.cbbff2c634debc42bd67f46705c504ae.jpg\n",
      "/kaggle/input/weedzip/unlabeled/agri_0_2681_jpeg.rf.d4d506d0fa5a73dd33ac2cdb661c0cc4.jpg\n",
      "/kaggle/input/weedzip/unlabeled/agri_0_1130_jpeg.rf.c53d436470e11552d8230937cedffa39.jpg\n",
      "/kaggle/input/weedzip/unlabeled/agri_0_8702_jpeg.rf.4b493445614f5087b2968ecb529ba14b.jpg\n",
      "/kaggle/input/weedzip/unlabeled/agri_0_224_jpeg.rf.884715693d446614c2c3ad12be4e22a4.jpg\n",
      "/kaggle/input/weedzip/unlabeled/agri_0_5616_jpeg.rf.be38ce47ebc18b8deec629339270d2a0.jpg\n",
      "/kaggle/input/weedzip/unlabeled/agri_0_1960_jpeg.rf.ff9e218451ada6e33eee65bd3a88bf0b.jpg\n",
      "/kaggle/input/weedzip/unlabeled/agri_0_789_jpeg.rf.4e85596e3b838198409ed3609b2fe8f8.jpg\n",
      "/kaggle/input/weedzip/unlabeled/agri_0_5935_jpeg.rf.b0eae54e032b4811dc41c3677ea1636a.jpg\n",
      "/kaggle/input/weedzip/unlabeled/agri_0_7866_jpeg.rf.50bb45c9cc72e8c5e4091696156141b1.jpg\n",
      "/kaggle/input/weedzip/unlabeled/agri_0_9804_jpeg.rf.eb6949ee179e7e84300d682ff28d20f1.jpg\n",
      "/kaggle/input/weedzip/unlabeled/agri_0_2606_jpeg.rf.536c0aee4b4f2b0457562ed222b06e34.jpg\n",
      "/kaggle/input/weedzip/unlabeled/agri_0_3667_jpeg.rf.8cb6d031139f401310883f4ff0e1d653.jpg\n",
      "/kaggle/input/weedzip/unlabeled/agri_0_9874_jpeg.rf.ddab90ece58599814aa3e8cea39a3a29.jpg\n",
      "/kaggle/input/weedzip/unlabeled/agri_0_2271_jpeg.rf.2850a842290970aae24332dec6658538.jpg\n",
      "/kaggle/input/weedzip/unlabeled/agri_0_1221_jpeg.rf.c314c90ccc07c2a34b78a1113b1c86f3.jpg\n",
      "/kaggle/input/weedzip/unlabeled/agri_0_7491_jpeg.rf.b725060dc41f1e0f175d64336148df25.jpg\n",
      "/kaggle/input/weedzip/unlabeled/agri_0_1317_jpeg.rf.6f8fa8f7afe8e4fa632df9fcb5062405.jpg\n",
      "/kaggle/input/weedzip/unlabeled/agri_0_2263_jpeg.rf.ac747d13652cd0e8144dc4364d586028.jpg\n",
      "/kaggle/input/weedzip/unlabeled/agri_0_2547_jpeg.rf.690be715c1b8e5413c04e19a8138df1a.jpg\n",
      "/kaggle/input/weedzip/unlabeled/agri_0_6679_jpeg.rf.3af9b6b7f012d7f68ea75afc6ec74b0a.jpg\n",
      "/kaggle/input/weedzip/unlabeled/agri_0_5706_jpeg.rf.3a27069ac793ba35c48737302b3deefe.jpg\n",
      "/kaggle/input/weedzip/unlabeled/agri_0_5365_jpeg.rf.23dbcb2a524b5f3d0792747c4d9d1f1c.jpg\n",
      "/kaggle/input/weedzip/unlabeled/agri_0_5260_jpeg.rf.39a6cf7c662a8bb683b80ba607c8bce0.jpg\n",
      "/kaggle/input/weedzip/unlabeled/agri_0_9109_jpeg.rf.56252cb16d1a0ca00f48e1ec1a9a7f73.jpg\n",
      "/kaggle/input/weedzip/unlabeled/agri_0_1961_jpeg.rf.d4e84158fa6f9cbb6a050e56a5abf6db.jpg\n",
      "/kaggle/input/weedzip/unlabeled/agri_0_8733_jpeg.rf.2f5099a3f7c3d5e3a75a6a6fd78af331.jpg\n",
      "/kaggle/input/weedzip/unlabeled/agri_0_4218_jpeg.rf.c57ed5e7a90b617bc80a96c1ff8e8745.jpg\n",
      "/kaggle/input/weedzip/unlabeled/agri_0_3283_jpeg.rf.7fda82e7bec4446d8980ec869934571d.jpg\n",
      "/kaggle/input/weedzip/unlabeled/agri_0_1168_jpeg.rf.5649b75f601f64ee0ae6b02b443653c3.jpg\n",
      "/kaggle/input/weedzip/unlabeled/agri_0_4240_jpeg.rf.2c2c9f0a3b03bc45f2d48ca15e64e50a.jpg\n",
      "/kaggle/input/weedzip/unlabeled/agri_0_5939_jpeg.rf.ad98194fca6af83904793a7c1c5118a9.jpg\n",
      "/kaggle/input/weedzip/unlabeled/agri_0_8565_jpeg.rf.bb9b744e231f3587a49a4947782f77b1.jpg\n",
      "/kaggle/input/weedzip/unlabeled/agri_0_4651_jpeg.rf.69306610f259a4954962afc92d3206dc.jpg\n",
      "/kaggle/input/weedzip/unlabeled/agri_0_4945_jpeg.rf.07f6bf2772f5fc3cddf15336ebe1e3d1.jpg\n",
      "/kaggle/input/weedzip/unlabeled/agri_0_1885_jpeg.rf.d9fa3d0a83bc90cf8c8d21fb38b16683.jpg\n",
      "/kaggle/input/weedzip/unlabeled/agri_0_5578_jpeg.rf.fbf75e9089114c375127eef0784351a3.jpg\n",
      "/kaggle/input/weedzip/unlabeled/agri_0_2749_jpeg.rf.45de55cf3936d1c735a789d295092426.jpg\n",
      "/kaggle/input/weedzip/unlabeled/agri_0_7734_jpeg.rf.20129cd156640733b9c00edca2bef8fb.jpg\n",
      "/kaggle/input/weedzip/unlabeled/agri_0_7358_jpeg.rf.67ce4ef6cf71da7908ed8f4dd55ced7b.jpg\n",
      "/kaggle/input/weedzip/unlabeled/agri_0_2812_jpeg.rf.385f30f5326354a2aed08960b2302f4a.jpg\n",
      "/kaggle/input/weedzip/unlabeled/agri_0_7623_jpeg.rf.7eb38baa9a103d8f83b538926e75e453.jpg\n",
      "/kaggle/input/weedzip/unlabeled/agri_0_6769_jpeg.rf.90cb186a6f6edd845e361a17a23687d5.jpg\n",
      "/kaggle/input/weedzip/unlabeled/agri_0_8642_jpeg.rf.183e078307e152992090f56cc6dd281f.jpg\n",
      "/kaggle/input/weedzip/unlabeled/agri_0_7034_jpeg.rf.13e78d705fafb4a320a5e5e5249a09a6.jpg\n",
      "/kaggle/input/weedzip/unlabeled/agri_0_3442_jpeg.rf.a6d4c9f6087685fba52cb6990ff11d03.jpg\n",
      "/kaggle/input/weedzip/unlabeled/agri_0_5823_jpeg.rf.bdf94e73472329805f578a4824efbfad.jpg\n",
      "/kaggle/input/weedzip/unlabeled/agri_0_8866_jpeg.rf.6fa367099f93f00fa79be23c1a0763e6.jpg\n",
      "/kaggle/input/weedzip/unlabeled/agri_0_3613_jpeg.rf.c0d947a41e7ed5035dfdcc0348411425.jpg\n",
      "/kaggle/input/weedzip/unlabeled/agri_0_2697_jpeg.rf.173a0a650ead4373bdc8f44fe9166347.jpg\n",
      "/kaggle/input/weedzip/unlabeled/agri_0_2686_jpeg.rf.c64f66d9f74229c304be1188bc269ec2.jpg\n",
      "/kaggle/input/weedzip/unlabeled/agri_0_6724_jpeg.rf.1c3bddd1dec512c448378695cc63b90a.jpg\n",
      "/kaggle/input/weedzip/unlabeled/agri_0_8421_jpeg.rf.ccb2c84f9c1067b5fe4109fc6c448ec5.jpg\n",
      "/kaggle/input/weedzip/unlabeled/agri_0_773_jpeg.rf.c90e4ee66215929b1dfde1d16ebefcae.jpg\n",
      "/kaggle/input/weedzip/unlabeled/agri_0_2471_jpeg.rf.115538106dd64ffe5f568e28328f3a90.jpg\n",
      "/kaggle/input/weedzip/unlabeled/agri_0_6419_jpeg.rf.16821a112451511ae2ddac4c56a8755a.jpg\n",
      "/kaggle/input/weedzip/unlabeled/agri_0_3143_jpeg.rf.dcc1fa1af6955a41abbb780982a4aafc.jpg\n",
      "/kaggle/input/weedzip/unlabeled/agri_0_7092_jpeg.rf.160dcc33bed38f6bb192efe1c96a9f95.jpg\n",
      "/kaggle/input/weedzip/unlabeled/agri_0_6717_jpeg.rf.eb4842a453d11c7954679e114005b61c.jpg\n",
      "/kaggle/input/weedzip/unlabeled/agri_0_4301_jpeg.rf.dd7beffd40f4cd34ec15688704ac6ac5.jpg\n",
      "/kaggle/input/weedzip/unlabeled/agri_0_3914_jpeg.rf.9f3554700cbe5f683d6d1f7d26b4a03f.jpg\n",
      "/kaggle/input/weedzip/unlabeled/agri_0_4684_jpeg.rf.0664a51fb40295c1a90175c3d2f5ae60.jpg\n",
      "/kaggle/input/weedzip/unlabeled/agri_0_2495_jpeg.rf.90d0ed52f4bebab125b83350488da91f.jpg\n",
      "/kaggle/input/weedzip/unlabeled/agri_0_6879_jpeg.rf.1bf74df88eab56339a8fb06053dcef7a.jpg\n",
      "/kaggle/input/weedzip/unlabeled/agri_0_1463_jpeg.rf.5fb38334cdcb01876df5412d054958b4.jpg\n",
      "/kaggle/input/weedzip/unlabeled/agri_0_6110_jpeg.rf.0426320f78b6c84f19aeee2ac422e34d.jpg\n",
      "/kaggle/input/weedzip/unlabeled/agri_0_7106_jpeg.rf.40f78150a5182646aded26fb9db5d6bf.jpg\n",
      "/kaggle/input/weedzip/unlabeled/agri_0_2863_jpeg.rf.3daa74acddd6d7fea0a7abd8d38f2f10.jpg\n",
      "/kaggle/input/weedzip/unlabeled/agri_0_6222_jpeg.rf.ff870b8740705fd4f4ae1b79dd0c5ad1.jpg\n",
      "/kaggle/input/weedzip/unlabeled/agri_0_7796_jpeg.rf.1e8cc8e5813aa845d356909b77a6a8eb.jpg\n",
      "/kaggle/input/weedzip/unlabeled/agri_0_5184_jpeg.rf.4ba7b74aadde98d0a05cd7a6f394747f.jpg\n",
      "/kaggle/input/weedzip/unlabeled/agri_0_3290_jpeg.rf.f781f24d28777b1aaddefd7a4fe523c5.jpg\n",
      "/kaggle/input/weedzip/unlabeled/agri_0_3284_jpeg.rf.b542fb836c98ea7388529e24c2c6dbdd.jpg\n",
      "/kaggle/input/weedzip/unlabeled/agri_0_4265_jpeg.rf.cde4b12615b8aed8185331f65bcbfa46.jpg\n",
      "/kaggle/input/weedzip/unlabeled/agri_0_2649_jpeg.rf.47feb366d53e4e17771e6a79eae7c981.jpg\n",
      "/kaggle/input/weedzip/unlabeled/agri_0_7656_jpeg.rf.eb2c693550459ce5cd11845dc90f1a43.jpg\n",
      "/kaggle/input/weedzip/unlabeled/agri_0_1083_jpeg.rf.e8c255b14c908cb62631bcd20277fd7d.jpg\n",
      "/kaggle/input/weedzip/unlabeled/agri_0_3536_jpeg.rf.482e91150c3e0d8cb424a5a81051da16.jpg\n",
      "/kaggle/input/weedzip/unlabeled/agri_0_8700_jpeg.rf.e8048382a1dbf12406fd23bb4d8a29c0.jpg\n",
      "/kaggle/input/weedzip/unlabeled/agri_0_9701_jpeg.rf.f6989d5d1daaf864a64c1a4b26cd46c7.jpg\n",
      "/kaggle/input/weedzip/unlabeled/agri_0_8393_jpeg.rf.92ce68b2cf2b40cefa355a6f3df4a33c.jpg\n",
      "/kaggle/input/weedzip/unlabeled/agri_0_1852_jpeg.rf.82bdf5f4fd49c541d9dacf4d65118984.jpg\n",
      "/kaggle/input/weedzip/unlabeled/agri_0_6860_jpeg.rf.86881e242cacf1d830ef32e01eb1180b.jpg\n",
      "/kaggle/input/weedzip/unlabeled/agri_0_1612_jpeg.rf.b2e29fca1e054f86579d9933aed37c54.jpg\n",
      "/kaggle/input/weedzip/unlabeled/agri_0_1334_jpeg.rf.5d52f10b9eae8013401053d52a337fb5.jpg\n",
      "/kaggle/input/weedzip/unlabeled/agri_0_4535_jpeg.rf.c9f50e0c9c8c4cd1a9e5e17da70e46dc.jpg\n",
      "/kaggle/input/weedzip/unlabeled/agri_0_5246_jpeg.rf.306465cd0eec1e73eef71f135a2c21cc.jpg\n",
      "/kaggle/input/weedzip/unlabeled/agri_0_630_jpeg.rf.d2c76253a59c01b24942685847c5e4a4.jpg\n",
      "/kaggle/input/weedzip/unlabeled/agri_0_7245_jpeg.rf.85748eaea4ca9341af007e13c20d0f43.jpg\n",
      "/kaggle/input/weedzip/unlabeled/agri_0_4909_jpeg.rf.b2c8330260dd8d8da55dcc5e8dcdb0d7.jpg\n",
      "/kaggle/input/weedzip/unlabeled/agri_0_2722_jpeg.rf.65178397646b73325c49892621344f22.jpg\n",
      "/kaggle/input/weedzip/unlabeled/agri_0_7707_jpeg.rf.6495f08972a0a6a3d87ac1aadc758c00.jpg\n",
      "/kaggle/input/weedzip/unlabeled/agri_0_7942_jpeg.rf.45d36acb846bfc30c18576527facfee3.jpg\n",
      "/kaggle/input/weedzip/unlabeled/agri_0_2077_jpeg.rf.b2bdf08c3d51bec3fc93804c0d0b15cb.jpg\n",
      "/kaggle/input/weedzip/unlabeled/agri_0_2551_jpeg.rf.93a89393508b5ebc5b267a482d968b3d.jpg\n",
      "/kaggle/input/weedzip/unlabeled/agri_0_2774_jpeg.rf.86370ed299b2fbca1dffd14fee9a3bd2.jpg\n",
      "/kaggle/input/weedzip/unlabeled/agri_0_237_jpeg.rf.64556a26cd14713f65813e0d0f182ff8.jpg\n",
      "/kaggle/input/weedzip/unlabeled/agri_0_6182_jpeg.rf.d49a454c1850c82902382dd514904ed7.jpg\n",
      "/kaggle/input/weedzip/unlabeled/agri_0_4618_jpeg.rf.ffd4c9ec40bd2927f5fcf7468e03f37b.jpg\n",
      "/kaggle/input/weedzip/unlabeled/agri_0_2330_jpeg.rf.37b4d4ab0204beb7da5cab846b26e732.jpg\n",
      "/kaggle/input/weedzip/unlabeled/agri_0_7625_jpeg.rf.d55191ee080bef48c384ac9ce6ba89e3.jpg\n",
      "/kaggle/input/weedzip/unlabeled/agri_0_4335_jpeg.rf.27a714f0794ba48efd0bf9d83f401fcc.jpg\n",
      "/kaggle/input/weedzip/unlabeled/agri_0_4214_jpeg.rf.f36c31da9479609d2421f7ae2ea09d6e.jpg\n",
      "/kaggle/input/weedzip/unlabeled/agri_0_126_jpeg.rf.0e2359aeeae763aa39780e1e2445a5e5.jpg\n",
      "/kaggle/input/weedzip/unlabeled/agri_0_5786_jpeg.rf.2a28ae84ca1f580addf456c9dcf386e3.jpg\n",
      "/kaggle/input/weedzip/unlabeled/agri_0_7865_jpeg.rf.0eb5a003b842065d315d66eb5061ee5a.jpg\n",
      "/kaggle/input/weedzip/unlabeled/agri_0_3471_jpeg.rf.3c37ab761638147825755a51987194f1.jpg\n",
      "/kaggle/input/weedzip/unlabeled/agri_0_3807_jpeg.rf.9efc29d71630c6efed436c91b9cfb629.jpg\n",
      "/kaggle/input/weedzip/unlabeled/agri_0_5949_jpeg.rf.edfc4667c09c6a13eb30771b0aaeb0dd.jpg\n",
      "/kaggle/input/weedzip/unlabeled/agri_0_7499_jpeg.rf.1982d050b58da6c77c600bd97586f3ad.jpg\n",
      "/kaggle/input/weedzip/unlabeled/agri_0_9088_jpeg.rf.93db40c6e9da28a130209c9fdb0247e8.jpg\n",
      "/kaggle/input/weedzip/unlabeled/agri_0_3247_jpeg.rf.d5b9dd5467d732073d769b6fb7a4abbd.jpg\n",
      "/kaggle/input/weedzip/unlabeled/agri_0_2121_jpeg.rf.03bb68889b285a56fb9e1f6c19bca7b1.jpg\n",
      "/kaggle/input/weedzip/unlabeled/agri_0_1908_jpeg.rf.1e8b63aeeb432f96e675638db22ef9ce.jpg\n",
      "/kaggle/input/weedzip/unlabeled/agri_0_277_jpeg.rf.57317c546a042a766d6f483ff9bf9cb9.jpg\n",
      "/kaggle/input/weedzip/unlabeled/agri_0_7985_jpeg.rf.2ea7007781ae18c6f8df753cdb790c58.jpg\n",
      "/kaggle/input/weedzip/unlabeled/agri_0_6572_jpeg.rf.89c7f3254698412730935c8aa34a27a5.jpg\n",
      "/kaggle/input/weedzip/unlabeled/agri_0_6031_jpeg.rf.f1d1d327df5211588839a7a000399257.jpg\n",
      "/kaggle/input/weedzip/unlabeled/agri_0_1177_jpeg.rf.b20dce4eca57dd921be2f60447232d32.jpg\n",
      "/kaggle/input/weedzip/unlabeled/agri_0_1862_jpeg.rf.d2bb2830bc1fe19ef24aad9b0cb3baf5.jpg\n",
      "/kaggle/input/weedzip/unlabeled/agri_0_4571_jpeg.rf.54ef769d2815ad06afa22d970264f4d5.jpg\n",
      "/kaggle/input/weedzip/unlabeled/agri_0_5178_jpeg.rf.a7b6e6d371c8847b95215c809ec2025a.jpg\n",
      "/kaggle/input/weedzip/unlabeled/agri_0_57_jpeg.rf.d3e1d6054e681d6c2823fbad8b6b7ddc.jpg\n",
      "/kaggle/input/weedzip/unlabeled/agri_0_871_jpeg.rf.82536b238a941fd5bc9ef2dc6935a2a1.jpg\n",
      "/kaggle/input/weedzip/unlabeled/agri_0_2727_jpeg.rf.1a66a212bb6fd888ffe1cde9ef9be535.jpg\n",
      "/kaggle/input/weedzip/unlabeled/agri_0_6523_jpeg.rf.59b7175ded2a419f7f680763acc42002.jpg\n",
      "/kaggle/input/weedzip/unlabeled/agri_0_5474_jpeg.rf.d931cc0759b8bc6a638e957a8a69c9f3.jpg\n",
      "/kaggle/input/weedzip/unlabeled/agri_0_4033_jpeg.rf.93a97c916b7cc06e30f9199a300efaf4.jpg\n",
      "/kaggle/input/weedzip/unlabeled/agri_0_495_jpeg.rf.d8c422681b0083c19613752e829cd8a0.jpg\n",
      "/kaggle/input/weedzip/unlabeled/agri_0_3989_jpeg.rf.05db491f6d3896f3222ebd927ad44bc1.jpg\n",
      "/kaggle/input/weedzip/unlabeled/agri_0_5450_jpeg.rf.c67278892b58876814508a430dd98fcc.jpg\n",
      "/kaggle/input/weedzip/unlabeled/agri_0_5508_jpeg.rf.46c9f9bc33194d18d0e4c5c6a47c38b9.jpg\n",
      "/kaggle/input/weedzip/unlabeled/agri_0_299_jpeg.rf.70a59b5156526e80597d64f643a6f5f1.jpg\n",
      "/kaggle/input/weedzip/unlabeled/agri_0_6776_jpeg.rf.781f741bace6496a517a2befb8668fe6.jpg\n",
      "/kaggle/input/weedzip/unlabeled/agri_0_7868_jpeg.rf.529ce4c55f5cc73f47e910f03a9d092a.jpg\n",
      "/kaggle/input/weedzip/unlabeled/agri_0_8322_jpeg.rf.eaa7f67a0a3330a1f749147f9a0c1bdf.jpg\n",
      "/kaggle/input/weedzip/unlabeled/agri_0_402_jpeg.rf.2c2789476260b23b7cb23b7ed8882a49.jpg\n",
      "/kaggle/input/weedzip/unlabeled/agri_0_8811_jpeg.rf.0c35260540b9306b2ca959f228190e6d.jpg\n",
      "/kaggle/input/weedzip/unlabeled/agri_0_6899_jpeg.rf.20ffee04530569a9348e1ff4e822a879.jpg\n",
      "/kaggle/input/weedzip/unlabeled/agri_0_2228_jpeg.rf.f69062cc87495a3fe0539ed8a21a7e39.jpg\n",
      "/kaggle/input/weedzip/unlabeled/agri_0_4326_jpeg.rf.6aedb2c7d4e37a025ca7777b50396291.jpg\n",
      "/kaggle/input/weedzip/unlabeled/agri_0_1926_jpeg.rf.63a05e6edf0f977a7ab1902123a2d670.jpg\n",
      "/kaggle/input/weedzip/unlabeled/agri_0_4937_jpeg.rf.962a6d7d2fd6778da94910c863ae6a78.jpg\n",
      "/kaggle/input/weedzip/unlabeled/agri_0_3657_jpeg.rf.bb28985a6304404b39626f2910001d28.jpg\n",
      "/kaggle/input/weedzip/unlabeled/agri_0_8655_jpeg.rf.cc15b9b37904a6c0f703d8eabc46fda2.jpg\n",
      "/kaggle/input/weedzip/unlabeled/agri_0_882_jpeg.rf.ddb9b831869feb0698f618cca9829ec2.jpg\n",
      "/kaggle/input/weedzip/unlabeled/agri_0_2393_jpeg.rf.4adc9a73592def186cd4f4ded69b4e63.jpg\n",
      "/kaggle/input/weedzip/unlabeled/agri_0_8330_jpeg.rf.92af5270583476ead2d26958f2f0a861.jpg\n",
      "/kaggle/input/weedzip/unlabeled/agri_0_7497_jpeg.rf.5a693a314b555a9949ab14b6c0422973.jpg\n",
      "/kaggle/input/weedzip/unlabeled/agri_0_6498_jpeg.rf.979f0e655ee79c1495260dfc9dddf650.jpg\n",
      "/kaggle/input/weedzip/unlabeled/agri_0_7579_jpeg.rf.a78c42e8f6083518060c6f4f4894b041.jpg\n",
      "/kaggle/input/weedzip/unlabeled/agri_0_7813_jpeg.rf.bde0b1eebe6a4d266b5bc9fdd676f0aa.jpg\n",
      "/kaggle/input/weedzip/unlabeled/agri_0_5257_jpeg.rf.79c7a97052e1f7ba9f36293f8a88da4a.jpg\n",
      "/kaggle/input/weedzip/unlabeled/agri_0_3862_jpeg.rf.18a1ee9305a0443e57aa37351c45dd73.jpg\n",
      "/kaggle/input/weedzip/unlabeled/agri_0_114_jpeg.rf.31f35bc37847d5af7fe1b3920ef47a0a.jpg\n",
      "/kaggle/input/weedzip/unlabeled/agri_0_7156_jpeg.rf.5c41dd67cb3fb54ae0cc44f03fd30aae.jpg\n",
      "/kaggle/input/weedzip/unlabeled/agri_0_4948_jpeg.rf.6b061cd9e80bf72aa88d0910e2bb4d65.jpg\n",
      "/kaggle/input/weedzip/unlabeled/agri_0_641_jpeg.rf.7d8814d301938fc3bf6068a8d3a7d684.jpg\n",
      "/kaggle/input/weedzip/unlabeled/agri_0_7877_jpeg.rf.c31a59da9eb14b2201ea23eb90eb4b66.jpg\n",
      "/kaggle/input/weedzip/unlabeled/agri_0_5794_jpeg.rf.bbe5ea5fe01c17881cc7e3b551d1a69e.jpg\n",
      "/kaggle/input/weedzip/unlabeled/agri_0_6803_jpeg.rf.e5aaefeb4d5f23ca5bf668fd4d5f0264.jpg\n",
      "/kaggle/input/weedzip/unlabeled/agri_0_6387_jpeg.rf.27b345b4469abd6c395f98ec69ad9a51.jpg\n",
      "/kaggle/input/weedzip/unlabeled/agri_0_2441_jpeg.rf.9720e49cc33bfd18ec41a92e91044d97.jpg\n",
      "/kaggle/input/weedzip/unlabeled/agri_0_4449_jpeg.rf.b9d316f3df8b41fc8400c3ed74db9f91.jpg\n",
      "/kaggle/input/weedzip/unlabeled/agri_0_4276_jpeg.rf.bca8072c83f348d08747ec3b2620050b.jpg\n",
      "/kaggle/input/weedzip/unlabeled/agri_0_7603_jpeg.rf.e01e883ece903fb6a7be15a656073652.jpg\n",
      "/kaggle/input/weedzip/unlabeled/agri_0_8007_jpeg.rf.64aab9b135088ebcd38a908ee8eb3cf2.jpg\n",
      "/kaggle/input/weedzip/unlabeled/agri_0_3203_jpeg.rf.d6e41e8cd96696f11a0334f7f01d64ba.jpg\n",
      "/kaggle/input/weedzip/unlabeled/agri_0_7162_jpeg.rf.17ac25a69a8ecc6f9b9c2f5fee180f57.jpg\n",
      "/kaggle/input/weedzip/unlabeled/agri_0_9773_jpeg.rf.99938b5f3e2c58ad6319df6f7577140a.jpg\n",
      "/kaggle/input/weedzip/unlabeled/agri_0_2322_jpeg.rf.33a9da5488887622e84748ac97e3f33b.jpg\n",
      "/kaggle/input/weedzip/unlabeled/agri_0_6713_jpeg.rf.16987d069b980da08392189096b4db42.jpg\n",
      "/kaggle/input/weedzip/unlabeled/agri_0_2685_jpeg.rf.8a367ac91731307157bc5bcca74e257e.jpg\n",
      "/kaggle/input/weedzip/unlabeled/agri_0_4516_jpeg.rf.1aec54d61edf22b2250364793806883f.jpg\n",
      "/kaggle/input/weedzip/unlabeled/agri_0_5981_jpeg.rf.50c186191e9e456e78f4ac91379f67ab.jpg\n",
      "/kaggle/input/weedzip/unlabeled/agri_0_4237_jpeg.rf.47592dba0e2970ae78f7971bcd63a512.jpg\n",
      "/kaggle/input/weedzip/unlabeled/agri_0_4771_jpeg.rf.fdcff29f7262ea56f6296f2f58f426c2.jpg\n",
      "/kaggle/input/weedzip/unlabeled/agri_0_5053_jpeg.rf.9dcd1f92a66557eaa09e3ef101a58c36.jpg\n",
      "/kaggle/input/weedzip/unlabeled/agri_0_3081_jpeg.rf.9f703d73d1061c5512d780951ddebd26.jpg\n",
      "/kaggle/input/weedzip/unlabeled/agri_0_879_jpeg.rf.d52226ee0c29e561d80a9b373cbf6660.jpg\n",
      "/kaggle/input/weedzip/unlabeled/agri_0_4029_jpeg.rf.d42a490c6f54bb60bbc5837c9892bc31.jpg\n",
      "/kaggle/input/weedzip/unlabeled/agri_0_7681_jpeg.rf.8d4bb629c60595393d070e10cf4cadad.jpg\n",
      "/kaggle/input/weedzip/unlabeled/agri_0_2278_jpeg.rf.7a98eb6e5c93cd40a3c4bd9259189b7d.jpg\n",
      "/kaggle/input/weedzip/unlabeled/agri_0_1494_jpeg.rf.55507b6425e2c5887806d8f0fdd8020a.jpg\n",
      "/kaggle/input/weedzip/unlabeled/agri_0_7072_jpeg.rf.f8cabe7ebb2f0405798b1df84cd5bdef.jpg\n",
      "/kaggle/input/weedzip/unlabeled/agri_0_584_jpeg.rf.fbfbbc569982c3fe707c8baf0406bab6.jpg\n",
      "/kaggle/input/weedzip/unlabeled/agri_0_8585_jpeg.rf.72908f7e85e4680fdeffbbfe27bfd278.jpg\n",
      "/kaggle/input/weedzip/unlabeled/agri_0_7795_jpeg.rf.6ecce11c022634de3abca3092e9e0d8d.jpg\n",
      "/kaggle/input/weedzip/unlabeled/agri_0_7459_jpeg.rf.7739f364cc0260802921b28b60cc42b2.jpg\n",
      "/kaggle/input/weedzip/unlabeled/agri_0_8863_jpeg.rf.cf865adcbd96e3ed0996128ef1aaae7a.jpg\n",
      "/kaggle/input/weedzip/unlabeled/agri_0_7901_jpeg.rf.593603fb2d24159b4b43011e86c8fa0e.jpg\n",
      "/kaggle/input/weedzip/unlabeled/agri_0_5641_jpeg.rf.b414412a3cc6554c136c4e75efbe2f20.jpg\n",
      "/kaggle/input/weedzip/unlabeled/agri_0_5834_jpeg.rf.ec7b9c0cbc00dbefbb2aefcca47fb1f7.jpg\n",
      "/kaggle/input/weedzip/unlabeled/agri_0_8741_jpeg.rf.b3761167a54cdf1164f661b288b0f227.jpg\n",
      "/kaggle/input/weedzip/unlabeled/agri_0_8463_jpeg.rf.aa33b3bef9c7e311fb9dd601762e8183.jpg\n",
      "/kaggle/input/weedzip/unlabeled/agri_0_8893_jpeg.rf.1abd7eae51f538cf55ebceb78a37d670.jpg\n",
      "/kaggle/input/weedzip/unlabeled/agri_0_1932_jpeg.rf.15ef96407151b8b1683813d18908bbf3.jpg\n",
      "/kaggle/input/weedzip/unlabeled/agri_0_452_jpeg.rf.fe0c8865525573f557887d11372ec30c.jpg\n",
      "/kaggle/input/weedzip/unlabeled/agri_0_4479_jpeg.rf.4b13dad47e19d974cd1ae87a4437d90b.jpg\n",
      "/kaggle/input/weedzip/unlabeled/agri_0_9845_jpeg.rf.c0b7bd50eb8932cf9c4a8eed2c86892b.jpg\n",
      "/kaggle/input/weedzip/unlabeled/agri_0_3797_jpeg.rf.5e0b17ad0e3e7a46f865a75a5357a572.jpg\n",
      "/kaggle/input/weedzip/unlabeled/agri_0_6469_jpeg.rf.6c491f8eb6670a70207f609bae242362.jpg\n",
      "/kaggle/input/weedzip/unlabeled/agri_0_6978_jpeg.rf.bedbdbb8b64c3a7dd31db6491eb9eca1.jpg\n",
      "/kaggle/input/weedzip/unlabeled/agri_0_401_jpeg.rf.b5e0d56084dbded7c668b02c0e350d07.jpg\n",
      "/kaggle/input/weedzip/unlabeled/agri_0_2469_jpeg.rf.4381aa6fef0e979401cc7aec35e86154.jpg\n",
      "/kaggle/input/weedzip/unlabeled/agri_0_2927_jpeg.rf.b54a08a5d3ac54b364b6610b97385385.jpg\n",
      "/kaggle/input/weedzip/unlabeled/agri_0_6520_jpeg.rf.c231a6dd5ec22179457254b70dc311ba.jpg\n",
      "/kaggle/input/weedzip/unlabeled/agri_0_5597_jpeg.rf.4dc6d09576f4cc9366bb1164c62405a4.jpg\n",
      "/kaggle/input/weedzip/unlabeled/agri_0_5873_jpeg.rf.8b7abac18ffb7f1e014fd246de1e7e3f.jpg\n",
      "/kaggle/input/weedzip/unlabeled/agri_0_6707_jpeg.rf.458b1a99dd8fec7c6e202eab99a396bf.jpg\n",
      "/kaggle/input/weedzip/unlabeled/agri_0_6783_jpeg.rf.4616f35d344248a41e736f2d970fbf54.jpg\n",
      "/kaggle/input/weedzip/unlabeled/agri_0_4118_jpeg.rf.4d90c8fd3d9bf14b4f262bd50557a010.jpg\n",
      "/kaggle/input/weedzip/unlabeled/agri_0_629_jpeg.rf.83f278d2d03032683cdc7ce867d58208.jpg\n",
      "/kaggle/input/weedzip/unlabeled/agri_0_9776_jpeg.rf.ab3ca0a1536e90b6e809eb1018848e00.jpg\n",
      "/kaggle/input/weedzip/unlabeled/agri_0_6858_jpeg.rf.d186c1d370bfce8c066be9d35bd069d0.jpg\n",
      "/kaggle/input/weedzip/unlabeled/agri_0_6565_jpeg.rf.5bce583f23538af32ae413e761f7dd6c.jpg\n",
      "/kaggle/input/weedzip/unlabeled/agri_0_1530_jpeg.rf.d93d4cb9f636db6c95c13d0761bc55b7.jpg\n",
      "/kaggle/input/weedzip/unlabeled/agri_0_4127_jpeg.rf.2d35b238dbfdf71b7c0754a5e4fb42cd.jpg\n",
      "/kaggle/input/weedzip/unlabeled/agri_0_3858_jpeg.rf.5d8afc0f7bf833a400c49837969391a3.jpg\n",
      "/kaggle/input/weedzip/unlabeled/agri_0_5239_jpeg.rf.6552f60dca02ec2438624845753413d1.jpg\n",
      "/kaggle/input/weedzip/unlabeled/agri_0_3690_jpeg.rf.8258aa401f9d910faad03ee920c73ed8.jpg\n",
      "/kaggle/input/weedzip/unlabeled/agri_0_864_jpeg.rf.c420ce097a196c3e94fdb83398ea01e1.jpg\n",
      "/kaggle/input/weedzip/unlabeled/agri_0_8982_jpeg.rf.040312e1414c045b799a1f368f99084e.jpg\n",
      "/kaggle/input/weedzip/unlabeled/agri_0_3741_jpeg.rf.a4382d6dbcbe26503026cd41381cf3f4.jpg\n",
      "/kaggle/input/weedzip/unlabeled/agri_0_9492_jpeg.rf.c84e10563681d8cdf9d0333bfe0a4774.jpg\n",
      "/kaggle/input/weedzip/unlabeled/agri_0_4845_jpeg.rf.f9bd372aea684468191f0c10615c65d7.jpg\n",
      "/kaggle/input/weedzip/unlabeled/agri_0_3404_jpeg.rf.81e246ee021417df19906c521695119c.jpg\n",
      "/kaggle/input/weedzip/unlabeled/agri_0_1024_jpeg.rf.f163741f6c70d41a5a88d6f1297d19a8.jpg\n",
      "/kaggle/input/weedzip/unlabeled/agri_0_1692_jpeg.rf.c8dbb4952217e9eac068a3ed9aeab6aa.jpg\n",
      "/kaggle/input/weedzip/unlabeled/agri_0_2326_jpeg.rf.7bc8deb8792b73acac7827f6135fa514.jpg\n",
      "/kaggle/input/weedzip/unlabeled/agri_0_3228_jpeg.rf.25b8fd2f1fc5e9f2f652790f5bfb2794.jpg\n",
      "/kaggle/input/weedzip/unlabeled/agri_0_4017_jpeg.rf.0fd5767ed1b0a4b69307bedf9ea4da41.jpg\n",
      "/kaggle/input/weedzip/unlabeled/agri_0_8262_jpeg.rf.fbe6554f8f6af71f9a7ff3e72864dc83.jpg\n",
      "/kaggle/input/weedzip/unlabeled/agri_0_3160_jpeg.rf.94119bf4689cd4d165c7a9d0c64d37d5.jpg\n",
      "/kaggle/input/weedzip/unlabeled/agri_0_9010_jpeg.rf.eb795448dc39a8f6d1f55a8f50d1cb31.jpg\n",
      "/kaggle/input/weedzip/unlabeled/agri_0_3680_jpeg.rf.66b9a69a763e7ded39244a38c9944175.jpg\n",
      "/kaggle/input/weedzip/unlabeled/agri_0_8886_jpeg.rf.85925dda0a86049407c5d968a52c6dae.jpg\n",
      "/kaggle/input/weedzip/unlabeled/agri_0_8623_jpeg.rf.c3057461c2af50a02915ca2c97ea1be6.jpg\n",
      "/kaggle/input/weedzip/unlabeled/agri_0_6097_jpeg.rf.e02490a600491d56cc864c54cb9bbc57.jpg\n",
      "/kaggle/input/weedzip/unlabeled/agri_0_8682_jpeg.rf.42709a07b01c94e48b57b5c5d31accf9.jpg\n",
      "/kaggle/input/weedzip/unlabeled/agri_0_7091_jpeg.rf.9409b5603d78b1c3237616491b0525cc.jpg\n",
      "/kaggle/input/weedzip/unlabeled/agri_0_4955_jpeg.rf.8fe0335db5e8514c3108edefa3221934.jpg\n",
      "/kaggle/input/weedzip/unlabeled/agri_0_6346_jpeg.rf.cc79875827e87979be0996eef1f9accf.jpg\n",
      "/kaggle/input/weedzip/unlabeled/agri_0_4209_jpeg.rf.203f8cec6d28c211efc22f283677fb57.jpg\n",
      "/kaggle/input/weedzip/unlabeled/agri_0_6642_jpeg.rf.21a491fe2b6c707dcf2ffdfc25cbc408.jpg\n",
      "/kaggle/input/weedzip/unlabeled/agri_0_272_jpeg.rf.8047ca37549461d05618a88ff97a8153.jpg\n",
      "/kaggle/input/weedzip/unlabeled/agri_0_5306_jpeg.rf.f0fc1f01069d937c45459a230ded5993.jpg\n",
      "/kaggle/input/weedzip/unlabeled/agri_0_3604_jpeg.rf.ec6e581104ff01d46eb6eca32ba344de.jpg\n",
      "/kaggle/input/weedzip/unlabeled/agri_0_3746_jpeg.rf.459a9f08df788165fe04f92283310894.jpg\n",
      "/kaggle/input/weedzip/unlabeled/agri_0_7788_jpeg.rf.d5bc221f1a69743aa0c64ca2f6242931.jpg\n",
      "/kaggle/input/weedzip/unlabeled/agri_0_1985_jpeg.rf.c9104cd4e66988cf29c463c5f0ebe492.jpg\n",
      "/kaggle/input/weedzip/unlabeled/agri_0_4362_jpeg.rf.7b6dabdb025a3a7cc76ce729c9a7df15.jpg\n",
      "/kaggle/input/weedzip/unlabeled/agri_0_2654_jpeg.rf.b2d48a29034e0005a9019db45741ad05.jpg\n",
      "/kaggle/input/weedzip/unlabeled/agri_0_714_jpeg.rf.c89666b2f99fdf6c3d77a6f8f295596d.jpg\n",
      "/kaggle/input/weedzip/unlabeled/agri_0_752_jpeg.rf.eb1fbd53735aaac7dd84c988422bc4ef.jpg\n",
      "/kaggle/input/weedzip/unlabeled/agri_0_4016_jpeg.rf.854ec02fc9a990216b409f15a3552a83.jpg\n",
      "/kaggle/input/weedzip/unlabeled/agri_0_81_jpeg.rf.80d19e749b6f0828393ddf7178d3e79a.jpg\n",
      "/kaggle/input/weedzip/unlabeled/agri_0_3136_jpeg.rf.d0c3061d848e58f3157309c406dbbdaa.jpg\n",
      "/kaggle/input/weedzip/unlabeled/agri_0_5780_jpeg.rf.e5b2d88efdd4678474836122fc7edc6b.jpg\n",
      "/kaggle/input/weedzip/unlabeled/agri_0_8516_jpeg.rf.d492477b4903d785928e0b599d20ca58.jpg\n",
      "/kaggle/input/weedzip/unlabeled/agri_0_7018_jpeg.rf.b0201919f3810fee9794e45269c9aa62.jpg\n",
      "/kaggle/input/weedzip/unlabeled/agri_0_3990_jpeg.rf.f569a8dc5c347f547ee3c6110ca18908.jpg\n",
      "/kaggle/input/weedzip/unlabeled/agri_0_6100_jpeg.rf.9774032d68a47e29cf1df2b741bc91f3.jpg\n",
      "/kaggle/input/weedzip/unlabeled/agri_0_5521_jpeg.rf.3c626ecf22bf5dafa846dca43afee588.jpg\n",
      "/kaggle/input/weedzip/unlabeled/agri_0_3958_jpeg.rf.4b10b84662e97427d4fed41df2be3e9a.jpg\n",
      "/kaggle/input/weedzip/unlabeled/agri_0_3398_jpeg.rf.4f6a160155562bb5ed1a592c9670fb87.jpg\n",
      "/kaggle/input/weedzip/unlabeled/agri_0_4333_jpeg.rf.0cf0892aada765f157e50017daff68d1.jpg\n",
      "/kaggle/input/weedzip/unlabeled/agri_0_808_jpeg.rf.e196b15ced820fd93ea429e906702529.jpg\n",
      "/kaggle/input/weedzip/unlabeled/agri_0_7055_jpeg.rf.49e71c1c18da6e1486bd1d50efcfb78a.jpg\n",
      "/kaggle/input/weedzip/unlabeled/agri_0_1393_jpeg.rf.735fa9c34ba7168d748840bddad7905f.jpg\n",
      "/kaggle/input/weedzip/unlabeled/agri_0_4947_jpeg.rf.77eebf616d64dd430008bd1bebe5fb07.jpg\n",
      "/kaggle/input/weedzip/unlabeled/agri_0_9871_jpeg.rf.819c6f66fb554c42be4c4d5ad34ebb4f.jpg\n",
      "/kaggle/input/weedzip/unlabeled/agri_0_5627_jpeg.rf.c08ca9bab69ff72b677e440fbb118e8e.jpg\n",
      "/kaggle/input/weedzip/unlabeled/agri_0_6216_jpeg.rf.a3db60ca2471296056693630ab376156.jpg\n",
      "/kaggle/input/weedzip/unlabeled/agri_0_1395_jpeg.rf.f47196886ae15ba7930470c94f35f4e5.jpg\n",
      "/kaggle/input/weedzip/unlabeled/agri_0_8246_jpeg.rf.05ebfdc18f2f490217903193026525f8.jpg\n",
      "/kaggle/input/weedzip/unlabeled/agri_0_5350_jpeg.rf.342a43a7916d92d59339072ee633334f.jpg\n",
      "/kaggle/input/weedzip/unlabeled/agri_0_631_jpeg.rf.1e275d97c7bf3d36b6db864432a8738d.jpg\n",
      "/kaggle/input/weedzip/unlabeled/agri_0_4560_jpeg.rf.417644864ddd5abfc221f321206d6ab2.jpg\n",
      "/kaggle/input/weedzip/unlabeled/agri_0_4235_jpeg.rf.b2147d49908548e9b6a635fb82b64e2a.jpg\n",
      "/kaggle/input/weedzip/unlabeled/agri_0_583_jpeg.rf.63d2c22a3aec5d99340c7e0b3211fbc3.jpg\n",
      "/kaggle/input/weedzip/unlabeled/agri_0_7658_jpeg.rf.599089a7b861d22faf3b79099c5fd5d9.jpg\n",
      "/kaggle/input/weedzip/unlabeled/agri_0_8157_jpeg.rf.2db7c28035d8fdbd760f91274c850501.jpg\n",
      "/kaggle/input/weedzip/unlabeled/agri_0_3200_jpeg.rf.058145de5a6996add00b51b8bf3bd86c.jpg\n",
      "/kaggle/input/weedzip/unlabeled/agri_0_4391_jpeg.rf.3b191a83b9076bd89ffb39b5a4c4f3c2.jpg\n",
      "/kaggle/input/weedzip/unlabeled/agri_0_3509_jpeg.rf.2a4e9b949d957b325c07af7ba5152289.jpg\n",
      "/kaggle/input/weedzip/unlabeled/agri_0_8409_jpeg.rf.0d52c2b0f67cf5ad17fb8c5e79b9977a.jpg\n",
      "/kaggle/input/weedzip/unlabeled/agri_0_1512_jpeg.rf.dabbfbf79f09d6fe8e4a3e8bb58dcc89.jpg\n",
      "/kaggle/input/weedzip/unlabeled/agri_0_2582_jpeg.rf.c7f039e71d98071a984f748d689bbe5c.jpg\n",
      "/kaggle/input/weedzip/unlabeled/agri_0_551_jpeg.rf.378b239ace5d9c446d31ea952322b9c0.jpg\n",
      "/kaggle/input/weedzip/unlabeled/agri_0_2438_jpeg.rf.8bed599c21c0a939d45f88bd12b16dca.jpg\n",
      "/kaggle/input/weedzip/unlabeled/agri_0_7079_jpeg.rf.6c1262f3ac45ff850c3233e7c5f2e0e2.jpg\n",
      "/kaggle/input/weedzip/unlabeled/agri_0_6126_jpeg.rf.630d0d1eb8052eee5f83bcf037691a47.jpg\n",
      "/kaggle/input/weedzip/unlabeled/agri_0_2221_jpeg.rf.38b088381c4fc9d831cafe4170d77718.jpg\n",
      "/kaggle/input/weedzip/unlabeled/agri_0_8085_jpeg.rf.d1d0d23eacfb1a026b9c3c38fa16862f.jpg\n",
      "/kaggle/input/weedzip/unlabeled/agri_0_9062_jpeg.rf.8b90acfd89ca060b3c548851b88a3f8c.jpg\n",
      "/kaggle/input/weedzip/unlabeled/agri_0_4213_jpeg.rf.41f15fb002f6b30e7742a40965235def.jpg\n",
      "/kaggle/input/weedzip/unlabeled/agri_0_6225_jpeg.rf.4ba1d4c95bb9672dc44fe41bc014a167.jpg\n",
      "/kaggle/input/weedzip/unlabeled/agri_0_5090_jpeg.rf.427c06c3155799056ae3e099218e408f.jpg\n",
      "/kaggle/input/weedzip/unlabeled/agri_0_6605_jpeg.rf.a7b2d57158ff409b99bf663d5aef473b.jpg\n",
      "/kaggle/input/weedzip/unlabeled/agri_0_5880_jpeg.rf.641e4f748fb2aa656aee14c4bafb3e23.jpg\n",
      "/kaggle/input/weedzip/unlabeled/agri_0_6750_jpeg.rf.96463b40b5d0791181f18ca8e4403d72.jpg\n",
      "/kaggle/input/weedzip/unlabeled/agri_0_9933_jpeg.rf.83224c5385d2fbb99b6c084f1185db44.jpg\n",
      "/kaggle/input/weedzip/unlabeled/agri_0_665_jpeg.rf.9c82de46df3817e2cf85be3e57bd0490.jpg\n",
      "/kaggle/input/weedzip/unlabeled/agri_0_7284_jpeg.rf.29c891493b283436465d310fa5b0b061.jpg\n",
      "/kaggle/input/weedzip/unlabeled/agri_0_6010_jpeg.rf.2b98b83571f0eb439bc51b67fc586cd6.jpg\n",
      "/kaggle/input/weedzip/unlabeled/agri_0_3045_jpeg.rf.5cf277742a22cbd0cf9c884358abbfd8.jpg\n",
      "/kaggle/input/weedzip/unlabeled/agri_0_1992_jpeg.rf.00284dfe3d054b1c35c51e388548869f.jpg\n",
      "/kaggle/input/weedzip/unlabeled/agri_0_60_jpeg.rf.58bf75505b681ebe3c3bbc17475a71e5.jpg\n",
      "/kaggle/input/weedzip/unlabeled/agri_0_4670_jpeg.rf.b91ba1371454b7c0c04140c211e8d0af.jpg\n",
      "/kaggle/input/weedzip/unlabeled/agri_0_4675_jpeg.rf.8836e89bf7d508a1d0bb165665663f22.jpg\n",
      "/kaggle/input/weedzip/unlabeled/agri_0_6831_jpeg.rf.5be3982803bddcc508a5a401ada7f428.jpg\n",
      "/kaggle/input/weedzip/unlabeled/agri_0_8634_jpeg.rf.0ea76cdbd4f16c580c9f339caef30343.jpg\n",
      "/kaggle/input/weedzip/unlabeled/agri_0_6011_jpeg.rf.2ba72a3c5c35f576599cc3939ec895d4.jpg\n",
      "/kaggle/input/weedzip/unlabeled/agri_0_326_jpeg.rf.eb868e67207c25045f37969bb2fc624e.jpg\n",
      "/kaggle/input/weedzip/unlabeled/agri_0_8935_jpeg.rf.309124a210ac7d5c6ecb4103bb0cd20b.jpg\n",
      "/kaggle/input/weedzip/unlabeled/agri_0_3156_jpeg.rf.5d6893bb0e84ee1324fbaa757af404af.jpg\n",
      "/kaggle/input/weedzip/unlabeled/agri_0_5593_jpeg.rf.fbb53a75cb5ea9f9589c942dbbad6511.jpg\n",
      "/kaggle/input/weedzip/unlabeled/agri_0_6286_jpeg.rf.fdbf2844dd9e323d6b8e3b8be214ca5d.jpg\n",
      "/kaggle/input/weedzip/unlabeled/agri_0_8338_jpeg.rf.210cc49e4daab714074259437d71c848.jpg\n",
      "/kaggle/input/weedzip/unlabeled/agri_0_3666_jpeg.rf.e3561b0dd6680f095ef4aad17732395f.jpg\n",
      "/kaggle/input/weedzip/unlabeled/agri_0_6690_jpeg.rf.6a6bec62d1295dfde26b127963e6a405.jpg\n",
      "/kaggle/input/weedzip/unlabeled/agri_0_8704_jpeg.rf.61ea218cf4e9c175c8b778e1558c35fa.jpg\n",
      "/kaggle/input/weedzip/unlabeled/agri_0_8388_jpeg.rf.279a127542e57b4d6a7fe22fdfa36a6f.jpg\n",
      "/kaggle/input/weedzip/unlabeled/agri_0_2854_jpeg.rf.c5346010b391de69afbc390a9d89b5c8.jpg\n",
      "/kaggle/input/weedzip/unlabeled/agri_0_7177_jpeg.rf.9e24248384bf70bfdbdadae9c071cfde.jpg\n",
      "/kaggle/input/weedzip/unlabeled/agri_0_5953_jpeg.rf.55fb0887bde066bc1beb0d36280b3899.jpg\n",
      "/kaggle/input/weedzip/unlabeled/agri_0_4488_jpeg.rf.967fd802b10acb478b4e6ef3b7a62a59.jpg\n",
      "/kaggle/input/weedzip/unlabeled/agri_0_4125_jpeg.rf.734f6ad6ac7885d9ab5f37c625cc74ff.jpg\n",
      "/kaggle/input/weedzip/unlabeled/agri_0_172_jpeg.rf.484afe620c61ec307642f39fa2d42f13.jpg\n",
      "/kaggle/input/weedzip/unlabeled/agri_0_3423_jpeg.rf.177d881f420741c490190fd9cebb06c9.jpg\n",
      "/kaggle/input/weedzip/unlabeled/agri_0_1849_jpeg.rf.597ab219b3abec137cc46fa13b696dbd.jpg\n",
      "/kaggle/input/weedzip/unlabeled/agri_0_7869_jpeg.rf.62f456d467f89f88d7ed78cd99d8e717.jpg\n",
      "/kaggle/input/weedzip/unlabeled/agri_0_2345_jpeg.rf.e45e0e39afa00b38d7a6fc6a4ffee359.jpg\n",
      "/kaggle/input/weedzip/unlabeled/agri_0_6339_jpeg.rf.0decf1545b0940d470478aaa94502fbc.jpg\n",
      "/kaggle/input/weedzip/unlabeled/agri_0_2808_jpeg.rf.b4c275aa11dafbec1aaf012cae9b4a95.jpg\n",
      "/kaggle/input/weedzip/unlabeled/agri_0_6653_jpeg.rf.0309db68adef199bf0f83a61d3928017.jpg\n",
      "/kaggle/input/weedzip/unlabeled/agri_0_1806_jpeg.rf.3c15b00d968049a37a2fa4bf82643b07.jpg\n",
      "/kaggle/input/weedzip/unlabeled/agri_0_3860_jpeg.rf.44d23fd1a7df8caf2d3fd8ee9c271c6b.jpg\n",
      "/kaggle/input/weedzip/unlabeled/agri_0_5928_jpeg.rf.277d30cdf582071848a2226bcde19c07.jpg\n",
      "/kaggle/input/weedzip/unlabeled/agri_0_7119_jpeg.rf.06d300499ac10661adb2e96515a91466.jpg\n",
      "/kaggle/input/weedzip/unlabeled/agri_0_5134_jpeg.rf.68de7ad91fe602d21e455b040ac3c63a.jpg\n",
      "/kaggle/input/weedzip/unlabeled/agri_0_7779_jpeg.rf.fa80a0e4063f7a0265f3739e69dde28c.jpg\n",
      "/kaggle/input/weedzip/unlabeled/agri_0_8671_jpeg.rf.45667b7f66b3d4237f5207a7be32f9b0.jpg\n",
      "/kaggle/input/weedzip/unlabeled/agri_0_4064_jpeg.rf.a4787e33fafe8585cb9f2e94cff1c4f0.jpg\n",
      "/kaggle/input/weedzip/unlabeled/agri_0_6417_jpeg.rf.a0f60ed32e48d5427a7ee2400d1d58e2.jpg\n",
      "/kaggle/input/weedzip/unlabeled/agri_0_1859_jpeg.rf.3ed954693250acb72e97eea478b765e2.jpg\n",
      "/kaggle/input/weedzip/unlabeled/agri_0_9043_jpeg.rf.e6d3f030214ddb3ba2ae680f997585a6.jpg\n",
      "/kaggle/input/weedzip/unlabeled/agri_0_1171_jpeg.rf.31198e3a5b1a94ffddad6f93723299e0.jpg\n",
      "/kaggle/input/weedzip/unlabeled/agri_0_4167_jpeg.rf.6321345c09697e75118251fdfc34db8d.jpg\n",
      "/kaggle/input/weedzip/unlabeled/agri_0_7856_jpeg.rf.d41868c93415d384e3b59d2afc7d88bc.jpg\n",
      "/kaggle/input/weedzip/unlabeled/agri_0_6166_jpeg.rf.f3198761eaaf3eecfcebdd58917f10c6.jpg\n",
      "/kaggle/input/weedzip/unlabeled/agri_0_8489_jpeg.rf.44eb7a64d303b353d1ea4b391ea484ab.jpg\n",
      "/kaggle/input/weedzip/unlabeled/agri_0_866_jpeg.rf.3b8b5881bcbbd5db0bc2b798eb00417e.jpg\n",
      "/kaggle/input/weedzip/unlabeled/agri_0_2498_jpeg.rf.228c632c518f974af728dc6e81909398.jpg\n",
      "/kaggle/input/weedzip/unlabeled/agri_0_6279_jpeg.rf.5d704bd3b7f60fa2e6e2ff4c1a1f9851.jpg\n",
      "/kaggle/input/weedzip/unlabeled/agri_0_417_jpeg.rf.a22e4b603d02448856ad56823701eed6.jpg\n",
      "/kaggle/input/weedzip/unlabeled/agri_0_7824_jpeg.rf.d2b1858daffc08eba715ff15317a133e.jpg\n",
      "/kaggle/input/weedzip/unlabeled/agri_0_3805_jpeg.rf.feb7722fbcf4436a5934f75f0f5239ff.jpg\n",
      "/kaggle/input/weedzip/unlabeled/agri_0_2180_jpeg.rf.8604cc0f8cba707152a98420e08f686d.jpg\n",
      "/kaggle/input/weedzip/unlabeled/agri_0_2772_jpeg.rf.04149e60e97f19540592d2ba8fb24882.jpg\n",
      "/kaggle/input/weedzip/unlabeled/agri_0_3074_jpeg.rf.f0bb229242be1c6698b12ebb1442bbf8.jpg\n",
      "/kaggle/input/weedzip/unlabeled/agri_0_1945_jpeg.rf.90aa9642555d8eb3ced4c03d331b2038.jpg\n",
      "/kaggle/input/weedzip/unlabeled/agri_0_2769_jpeg.rf.e36463a2750df809fbcda44cd04998a4.jpg\n",
      "/kaggle/input/weedzip/unlabeled/agri_0_5266_jpeg.rf.54e9c0a6940d654c15ff6709f3128595.jpg\n",
      "/kaggle/input/weedzip/unlabeled/agri_0_1959_jpeg.rf.18705bc33fdb721deedfae748081474a.jpg\n",
      "/kaggle/input/weedzip/unlabeled/agri_0_4729_jpeg.rf.4e8123f18889fe77c04acfdce015aa92.jpg\n",
      "/kaggle/input/weedzip/unlabeled/agri_0_1955_jpeg.rf.dabc7b148ae7beb70b51319af2d450e9.jpg\n",
      "/kaggle/input/weedzip/unlabeled/agri_0_4910_jpeg.rf.78c9a6e21dd2731e74ad7c61958c00e6.jpg\n",
      "/kaggle/input/weedzip/unlabeled/agri_0_8788_jpeg.rf.314cf5800ed52da830b8e8b97466a09c.jpg\n",
      "/kaggle/input/weedzip/unlabeled/agri_0_899_jpeg.rf.32c1486a5754035b79068560c0d6c6f1.jpg\n",
      "/kaggle/input/weedzip/unlabeled/agri_0_5592_jpeg.rf.fabbf7de7703ddf74bba6bf1e3995a95.jpg\n",
      "/kaggle/input/weedzip/unlabeled/agri_0_5961_jpeg.rf.93ed6b7ec999c190a8f71b9ba87d1d1a.jpg\n",
      "/kaggle/input/weedzip/unlabeled/agri_0_4419_jpeg.rf.be60e04082549871027a2636df983c56.jpg\n",
      "/kaggle/input/weedzip/unlabeled/agri_0_8518_jpeg.rf.fb7bf9fc1050514ede92d29604a4b3c9.jpg\n",
      "/kaggle/input/weedzip/unlabeled/agri_0_1793_jpeg.rf.a94ccd392486606b73d69c0539f55815.jpg\n",
      "/kaggle/input/weedzip/unlabeled/agri_0_3259_jpeg.rf.935e08eba70002a27db8e4f53274057f.jpg\n",
      "/kaggle/input/weedzip/unlabeled/agri_0_7325_jpeg.rf.eaf3b069da85fd162eeeb727ff934844.jpg\n",
      "/kaggle/input/weedzip/unlabeled/agri_0_3993_jpeg.rf.07484087152c95a353e29f724ee0b495.jpg\n",
      "/kaggle/input/weedzip/unlabeled/agri_0_8163_jpeg.rf.2041bb9fdad5aa181edf8d23ac14fa6a.jpg\n",
      "/kaggle/input/weedzip/unlabeled/agri_0_8848_jpeg.rf.a98e6430b1c1dd58207c822b2e081f60.jpg\n",
      "/kaggle/input/weedzip/unlabeled/agri_0_8490_jpeg.rf.090ca2b5cc8709c789ebeb6968ae6a6d.jpg\n",
      "/kaggle/input/weedzip/unlabeled/agri_0_4302_jpeg.rf.e444e771caae52432d2f0543633b38fb.jpg\n",
      "/kaggle/input/weedzip/unlabeled/agri_0_6610_jpeg.rf.ea5892d31d020ef17531404429d5f979.jpg\n",
      "/kaggle/input/weedzip/unlabeled/agri_0_6993_jpeg.rf.ee345e5871a8cecc00c7687f77aaf710.jpg\n",
      "/kaggle/input/weedzip/unlabeled/agri_0_7705_jpeg.rf.f2e9c4702cdcdb1666d58b51cca254e0.jpg\n",
      "/kaggle/input/weedzip/unlabeled/agri_0_5077_jpeg.rf.38e2311b32c05e44ffcc1447e0bc3d3c.jpg\n",
      "/kaggle/input/weedzip/unlabeled/agri_0_5006_jpeg.rf.5294d57d284bc09f5a1966ca0ae9d0d5.jpg\n",
      "/kaggle/input/weedzip/unlabeled/agri_0_5644_jpeg.rf.a8469dd06620d0fdb4ef5ec69f9be628.jpg\n",
      "/kaggle/input/weedzip/unlabeled/agri_0_6540_jpeg.rf.7d0440560befab82e42cca8ddfc1b07b.jpg\n",
      "/kaggle/input/weedzip/unlabeled/agri_0_4707_jpeg.rf.217cdb02a71032cf0bc9df560a1d0067.jpg\n",
      "/kaggle/input/weedzip/unlabeled/agri_0_603_jpeg.rf.238027d11476e89ecbbaefca084ed720.jpg\n",
      "/kaggle/input/weedzip/unlabeled/agri_0_2530_jpeg.rf.15d5fcb891dec627c5b29753e260126f.jpg\n",
      "/kaggle/input/weedzip/unlabeled/agri_0_3116_jpeg.rf.2bec66b11db14e9f767e71f8b2f066e6.jpg\n",
      "/kaggle/input/weedzip/unlabeled/agri_0_1990_jpeg.rf.0cade7eaa89b3fbd96768c1293b75c94.jpg\n",
      "/kaggle/input/weedzip/unlabeled/agri_0_7629_jpeg.rf.0cddf5b6a8ff4531f10ce2e54824a1f2.jpg\n",
      "/kaggle/input/weedzip/unlabeled/agri_0_7669_jpeg.rf.3bf38e25c24c2e11ac15c4b68eedea2b.jpg\n",
      "/kaggle/input/weedzip/unlabeled/agri_0_7391_jpeg.rf.8359276d8eee07165cae52d19e80a3c0.jpg\n",
      "/kaggle/input/weedzip/unlabeled/agri_0_7104_jpeg.rf.491c1f29b41f674eb26e1ae182b5bd52.jpg\n",
      "/kaggle/input/weedzip/unlabeled/agri_0_6058_jpeg.rf.1d5110564385cbd650fb96525f36aca5.jpg\n",
      "/kaggle/input/weedzip/unlabeled/agri_0_6504_jpeg.rf.f2c2ddb8f156d10fc88b14f01c49db20.jpg\n",
      "/kaggle/input/weedzip/unlabeled/agri_0_7340_jpeg.rf.b783f5026067c5009ac94b05f212363c.jpg\n",
      "/kaggle/input/weedzip/unlabeled/agri_0_4617_jpeg.rf.b5693febc334aacce1d98d258862d85d.jpg\n",
      "/kaggle/input/weedzip/unlabeled/agri_0_544_jpeg.rf.adf9a0ff6a07e09f8576717c0e776821.jpg\n",
      "/kaggle/input/weedzip/unlabeled/agri_0_8478_jpeg.rf.72024babc33feb9c96fa8f6b4b9da8fa.jpg\n",
      "/kaggle/input/weedzip/unlabeled/agri_0_4316_jpeg.rf.cb478d3114467fc80b082a565a763267.jpg\n",
      "/kaggle/input/weedzip/unlabeled/agri_0_7306_jpeg.rf.bbdf8d323ee39ec58ee58a84115213f4.jpg\n",
      "/kaggle/input/weedzip/unlabeled/agri_0_5896_jpeg.rf.96b891d8f3fd5ef1622147e16b754e56.jpg\n",
      "/kaggle/input/weedzip/unlabeled/agri_0_4068_jpeg.rf.b5b5d781de594607f12b404fb1856eec.jpg\n",
      "/kaggle/input/weedzip/unlabeled/agri_0_3971_jpeg.rf.e4f414c7c8b09757074fc9290860e569.jpg\n",
      "/kaggle/input/weedzip/unlabeled/agri_0_6411_jpeg.rf.0ce38d868b47af5c8216e7fd4a087d39.jpg\n",
      "/kaggle/input/weedzip/unlabeled/agri_0_8265_jpeg.rf.275db4e9faf55985a8c6311a3cbeb1c4.jpg\n",
      "/kaggle/input/weedzip/unlabeled/agri_0_7468_jpeg.rf.33992707d3a880dd5b0a8312556506d2.jpg\n",
      "/kaggle/input/weedzip/unlabeled/agri_0_4685_jpeg.rf.46159c92b4263b332774091c29df3144.jpg\n",
      "/kaggle/input/weedzip/unlabeled/agri_0_7838_jpeg.rf.9555b09c4ab882c10220af358ab1c9aa.jpg\n",
      "/kaggle/input/weedzip/unlabeled/agri_0_7470_jpeg.rf.6687bce6ef5ead23a0bd62a94c3cfbc4.jpg\n",
      "/kaggle/input/weedzip/unlabeled/agri_0_5208_jpeg.rf.7cb622433feeb671a344dadfba5fec49.jpg\n",
      "/kaggle/input/weedzip/unlabeled/agri_0_657_jpeg.rf.e89bd205f5ea94ad1d1b6c752518d2f7.jpg\n",
      "/kaggle/input/weedzip/unlabeled/agri_0_567_jpeg.rf.554ea64a88234c1b35f3f747456dbbee.jpg\n",
      "/kaggle/input/weedzip/unlabeled/agri_0_1193_jpeg.rf.087a7ff1655a52d4e3401a91e07dda05.jpg\n",
      "/kaggle/input/weedzip/unlabeled/agri_0_8209_jpeg.rf.f5570627a98e1a434f6f5c9485a7a35e.jpg\n",
      "/kaggle/input/weedzip/unlabeled/agri_0_4085_jpeg.rf.381f427232ad59b100dae1a97d7a9d7f.jpg\n",
      "/kaggle/input/weedzip/unlabeled/agri_0_1385_jpeg.rf.65fd80ff8ac314c734d470383f50dc60.jpg\n",
      "/kaggle/input/weedzip/unlabeled/agri_0_1771_jpeg.rf.6c81ab6ba5324aea60ebbbe661f21f0b.jpg\n",
      "/kaggle/input/weedzip/unlabeled/agri_0_2226_jpeg.rf.95c2a63aa7f3c27b9ec796ddec09ead0.jpg\n",
      "/kaggle/input/weedzip/unlabeled/agri_0_7756_jpeg.rf.289ba581824940de9522ae440c9325a6.jpg\n",
      "/kaggle/input/weedzip/unlabeled/agri_0_5042_jpeg.rf.339677d04bdc424c591a210115272af0.jpg\n",
      "/kaggle/input/weedzip/unlabeled/agri_0_84_jpeg.rf.45042f0943a9e6c0c4fd9cd4514ad94d.jpg\n",
      "/kaggle/input/weedzip/unlabeled/agri_0_7839_jpeg.rf.54cce7e93ac61d0bba4cc447e6d1b149.jpg\n",
      "/kaggle/input/weedzip/unlabeled/agri_0_5737_jpeg.rf.5af5d11f7eefdaeebe923b2a1cfa93fc.jpg\n",
      "/kaggle/input/weedzip/unlabeled/agri_0_3374_jpeg.rf.eefb2cb2eb42c43e57c76e71520bde25.jpg\n",
      "/kaggle/input/weedzip/unlabeled/agri_0_9891_jpeg.rf.d82f204a3ace7c1d25fcf0861b577eb5.jpg\n",
      "/kaggle/input/weedzip/unlabeled/agri_0_2735_jpeg.rf.aaf74b460e9b2f17e608333728f12d66.jpg\n",
      "/kaggle/input/weedzip/unlabeled/agri_0_5017_jpeg.rf.05072d0e899fb9f320c4a28e4532f627.jpg\n",
      "/kaggle/input/weedzip/unlabeled/agri_0_7514_jpeg.rf.5d630984c6c3f0f7635ce19fc33473a6.jpg\n",
      "/kaggle/input/weedzip/unlabeled/agri_0_8881_jpeg.rf.5ccbc5f7a132101546c380c7fbf3a0be.jpg\n",
      "/kaggle/input/weedzip/unlabeled/agri_0_7070_jpeg.rf.7f1910e45635338d1a8b591121a61614.jpg\n",
      "/kaggle/input/weedzip/unlabeled/agri_0_3944_jpeg.rf.4b52209ad036d54f52a2a580b5a0f7bb.jpg\n",
      "/kaggle/input/weedzip/unlabeled/agri_0_3198_jpeg.rf.afe94aecf0f8b6b0f53cc47377e7fe01.jpg\n",
      "/kaggle/input/weedzip/unlabeled/agri_0_8556_jpeg.rf.bf961abb0ed8d02dcea4494062cf89c7.jpg\n",
      "/kaggle/input/weedzip/unlabeled/agri_0_6907_jpeg.rf.ef6f293b1ad734327d378054fbe457b4.jpg\n",
      "/kaggle/input/weedzip/unlabeled/agri_0_1815_jpeg.rf.9c38aab3cb699241702baf58fb03a159.jpg\n",
      "/kaggle/input/weedzip/unlabeled/agri_0_39_jpeg.rf.49f1c3dd39feeee55abb9675b883ffb3.jpg\n",
      "/kaggle/input/weedzip/unlabeled/agri_0_7443_jpeg.rf.33157d6d161f8a8dbc4f23b1e20eff62.jpg\n",
      "/kaggle/input/weedzip/unlabeled/agri_0_5088_jpeg.rf.36dafde9fbb6dc1a3127cbfe17987db4.jpg\n",
      "/kaggle/input/weedzip/unlabeled/agri_0_5487_jpeg.rf.1285a8330504d5eb37abd724069221f8.jpg\n",
      "/kaggle/input/weedzip/unlabeled/agri_0_1260_jpeg.rf.e29e40f561cbf9e4292a9f70766054b2.jpg\n",
      "/kaggle/input/weedzip/unlabeled/agri_0_8797_jpeg.rf.e1fec80bd258d2dac249f9daeddfd965.jpg\n",
      "/kaggle/input/weedzip/unlabeled/agri_0_6537_jpeg.rf.3e68c2f41b4005fb914fbb19fa9b7336.jpg\n",
      "/kaggle/input/weedzip/unlabeled/agri_0_4951_jpeg.rf.c2b5e29666f371b6346568352eb7d8b9.jpg\n",
      "/kaggle/input/weedzip/unlabeled/agri_0_8583_jpeg.rf.435a0f840bcfc1c1a1507897838a0b8a.jpg\n",
      "/kaggle/input/weedzip/unlabeled/agri_0_6270_jpeg.rf.4c40f28d1b6a4ae4ff715c7a5136fbe0.jpg\n",
      "/kaggle/input/weedzip/unlabeled/agri_0_9831_jpeg.rf.339edc1d2505b3ba58b0b2b595ceb0e5.jpg\n",
      "/kaggle/input/weedzip/unlabeled/agri_0_8008_jpeg.rf.08f1dd1a7f9c3ab39151be2a42fe02a3.jpg\n",
      "/kaggle/input/weedzip/unlabeled/agri_0_7323_jpeg.rf.41fe4b2209bd22d80c23b7ace3a80623.jpg\n",
      "/kaggle/input/weedzip/unlabeled/agri_0_6820_jpeg.rf.965b72f7ac20d4438dcea8f5bd7978bc.jpg\n",
      "/kaggle/input/weedzip/unlabeled/agri_0_8905_jpeg.rf.e23a1706373a1c1a7c4ecaed295ca68c.jpg\n",
      "/kaggle/input/weedzip/unlabeled/agri_0_8872_jpeg.rf.e46bed7cb9d4f888df354145aa7ceb65.jpg\n",
      "/kaggle/input/weedzip/unlabeled/agri_0_4394_jpeg.rf.b957dc09956294373da18fe9ee3e03ce.jpg\n",
      "/kaggle/input/weedzip/unlabeled/agri_0_6823_jpeg.rf.7b8f617d9f982c0e9c17db063d70e287.jpg\n",
      "/kaggle/input/weedzip/unlabeled/agri_0_2923_jpeg.rf.8880b3a42c00d4e70dee0fce3f76ab7d.jpg\n",
      "/kaggle/input/weedzip/unlabeled/agri_0_780_jpeg.rf.5599b04419df646050141a3539da4941.jpg\n",
      "/kaggle/input/weedzip/unlabeled/agri_0_3880_jpeg.rf.c2538b885641b36749bea610dc6c5822.jpg\n",
      "/kaggle/input/weedzip/unlabeled/agri_0_8914_jpeg.rf.f03644559b5076c832f4c33b51670ea1.jpg\n",
      "/kaggle/input/weedzip/unlabeled/agri_0_6604_jpeg.rf.72ae6d5424a2a3849620c7488591e514.jpg\n",
      "/kaggle/input/weedzip/unlabeled/agri_0_6158_jpeg.rf.f380255d31138a0cac68ca747f43528b.jpg\n",
      "/kaggle/input/weedzip/unlabeled/agri_0_4687_jpeg.rf.75233697d628142b639fb82a4b60550f.jpg\n",
      "/kaggle/input/weedzip/unlabeled/agri_0_5019_jpeg.rf.cd4ff360fe8f7e92fc643e6ec26f5b7c.jpg\n",
      "/kaggle/input/weedzip/unlabeled/agri_0_8034_jpeg.rf.6650dade44d812ee08427111af59f080.jpg\n",
      "/kaggle/input/weedzip/unlabeled/agri_0_4540_jpeg.rf.53377e712a7f3764d040ee0936701935.jpg\n",
      "/kaggle/input/weedzip/unlabeled/agri_0_3186_jpeg.rf.826c3b28ab5dcb4594e1694b6168f924.jpg\n",
      "/kaggle/input/weedzip/unlabeled/agri_0_6040_jpeg.rf.9db575b4f2eb6ee52e59d245871076da.jpg\n",
      "/kaggle/input/weedzip/unlabeled/agri_0_838_jpeg.rf.43518aa611837166ade168cc758cce9c.jpg\n",
      "/kaggle/input/weedzip/unlabeled/agri_0_2692_jpeg.rf.bc687a51d18fffe190a30b02d92daa82.jpg\n",
      "/kaggle/input/weedzip/unlabeled/agri_0_6917_jpeg.rf.84aacd94559b8b952058320e62bebc32.jpg\n",
      "/kaggle/input/weedzip/unlabeled/agri_0_6196_jpeg.rf.754bde5ca6835c22041c2a0674046f0e.jpg\n",
      "/kaggle/input/weedzip/unlabeled/agri_0_5686_jpeg.rf.5ca478760c28dc1a07cd5b1664233ae2.jpg\n",
      "/kaggle/input/weedzip/unlabeled/agri_0_1873_jpeg.rf.270aabcf63041ef058f99a74f8dd4285.jpg\n",
      "/kaggle/input/weedzip/unlabeled/agri_0_7204_jpeg.rf.9ac1dade0b99398afb1846a6f0af1847.jpg\n",
      "/kaggle/input/weedzip/unlabeled/agri_0_2450_jpeg.rf.0a2973ee27a6c570c8bb42c8fc43343b.jpg\n",
      "/kaggle/input/weedzip/unlabeled/agri_0_3328_jpeg.rf.fa136c7155a1ea2aa1dd102e8aabdf1b.jpg\n",
      "/kaggle/input/weedzip/unlabeled/agri_0_7878_jpeg.rf.bffb9bd7a7f5a9d4c991c802d95c3b6c.jpg\n",
      "/kaggle/input/weedzip/unlabeled/agri_0_3648_jpeg.rf.c78e8fd5c13770934c1bea6a235823cf.jpg\n",
      "/kaggle/input/weedzip/unlabeled/agri_0_1082_jpeg.rf.a3a02cd848c9ed90dbac710a366bbd1d.jpg\n",
      "/kaggle/input/weedzip/unlabeled/agri_0_2567_jpeg.rf.498a0e8e5cd586eda8ed78d60c8cca31.jpg\n",
      "/kaggle/input/weedzip/unlabeled/agri_0_8029_jpeg.rf.ee1505df11b5d92de22471ddb17b9d20.jpg\n",
      "/kaggle/input/weedzip/unlabeled/agri_0_4300_jpeg.rf.2ec23e51159bbf5f801e1be83d4f7ec8.jpg\n",
      "/kaggle/input/weedzip/unlabeled/agri_0_5087_jpeg.rf.4ef6fe3760d7f94985d455179caf4176.jpg\n",
      "/kaggle/input/weedzip/unlabeled/agri_0_3439_jpeg.rf.56055a5d6f787d7c9471fa5fca909440.jpg\n",
      "/kaggle/input/weedzip/unlabeled/agri_0_2320_jpeg.rf.ccdf0f54dcff3dbee578c1355f7d8fa4.jpg\n",
      "/kaggle/input/weedzip/unlabeled/agri_0_2040_jpeg.rf.8903e7ae013c08ce8d00fe9a51333dbf.jpg\n",
      "/kaggle/input/weedzip/unlabeled/agri_0_1966_jpeg.rf.fdfc3c603e9fa72d67ffb2da004b3bc7.jpg\n",
      "/kaggle/input/weedzip/unlabeled/agri_0_2653_jpeg.rf.3bdf688eb166d7ef4dd0ac9f7ef760e6.jpg\n",
      "/kaggle/input/weedzip/unlabeled/agri_0_1351_jpeg.rf.9e3754b7bdaa3bcc5ff6dcdb70e73b7a.jpg\n",
      "/kaggle/input/weedzip/unlabeled/agri_0_7495_jpeg.rf.e54616a664890626e262d02cb67bdfc4.jpg\n",
      "/kaggle/input/weedzip/unlabeled/agri_0_911_jpeg.rf.d5f16597b469568f59a72a78bd6f2149.jpg\n",
      "/kaggle/input/weedzip/unlabeled/agri_0_487_jpeg.rf.fb6c80d1881585a7eb4fdd3e2fe32622.jpg\n",
      "/kaggle/input/weedzip/unlabeled/agri_0_8815_jpeg.rf.f747fa06372bb610499c66b8b9f7feff.jpg\n",
      "/kaggle/input/weedzip/unlabeled/agri_0_8783_jpeg.rf.cdd9007a4118db2b2369c59bc0c0f689.jpg\n",
      "/kaggle/input/weedzip/unlabeled/agri_0_2158_jpeg.rf.e173c51d9c5167e0bee3a505ec696101.jpg\n",
      "/kaggle/input/weedzip/unlabeled/agri_0_9908_jpeg.rf.cb2886d37310c489282ebfa47f117b95.jpg\n",
      "/kaggle/input/weedzip/unlabeled/agri_0_3014_jpeg.rf.5b6987391c947dd7807b3f6da388ae77.jpg\n",
      "/kaggle/input/weedzip/unlabeled/agri_0_3233_jpeg.rf.dacf1605cac675f91711747f547d8441.jpg\n",
      "/kaggle/input/weedzip/unlabeled/agri_0_7963_jpeg.rf.d733c877e5fae42d29a394db25c326f1.jpg\n",
      "/kaggle/input/weedzip/unlabeled/agri_0_1619_jpeg.rf.95c595b7444808e7d5d319358931e397.jpg\n",
      "/kaggle/input/weedzip/unlabeled/agri_0_6039_jpeg.rf.9cb56ce21c7d82ee9547a70a32d6e492.jpg\n",
      "/kaggle/input/weedzip/unlabeled/agri_0_1215_jpeg.rf.74df5ba32b807546c32d12feb5fff29f.jpg\n",
      "/kaggle/input/weedzip/unlabeled/agri_0_8413_jpeg.rf.6ed6fd410e89a7b7f0d77669303e8cf0.jpg\n",
      "/kaggle/input/weedzip/unlabeled/agri_0_5938_jpeg.rf.5076812dca697b6016ee918141e44658.jpg\n",
      "/kaggle/input/weedzip/unlabeled/agri_0_7959_jpeg.rf.c1e685e0ab016fac3d58631b83e757d8.jpg\n",
      "/kaggle/input/weedzip/unlabeled/agri_0_82_jpeg.rf.2cdeee41c142b35e54d55a191c0f7425.jpg\n",
      "/kaggle/input/weedzip/unlabeled/agri_0_7266_jpeg.rf.6083243b2756fe13ea51c7516d1c19d4.jpg\n",
      "/kaggle/input/weedzip/unlabeled/agri_0_7613_jpeg.rf.c7f6db11ba4dbd50e03dc6b04ff0b86e.jpg\n",
      "/kaggle/input/weedzip/unlabeled/agri_0_9044_jpeg.rf.2bbd9c3a9e67c16fbbce0a606ec7666d.jpg\n",
      "/kaggle/input/weedzip/unlabeled/agri_0_2144_jpeg.rf.e8dad51011c49a8efc653f852ed86fa1.jpg\n",
      "/kaggle/input/weedzip/unlabeled/agri_0_8574_jpeg.rf.24fe403b8d349caba7f823eb657bc2bd.jpg\n",
      "/kaggle/input/weedzip/unlabeled/agri_0_7534_jpeg.rf.a9ed1ce77b3860c2d47bc53657af906d.jpg\n",
      "/kaggle/input/weedzip/unlabeled/agri_0_3869_jpeg.rf.990582a1b9af10b63192f4259baad3ee.jpg\n",
      "/kaggle/input/weedzip/unlabeled/agri_0_5182_jpeg.rf.d4d853e0d7fcf1a422edf248688bbb4f.jpg\n",
      "/kaggle/input/weedzip/unlabeled/agri_0_1017_jpeg.rf.10421009c95805e81d82a2b6a8c3b116.jpg\n",
      "/kaggle/input/weedzip/unlabeled/agri_0_6112_jpeg.rf.5d1394d3fea16dfe97438dd6a4ec8aed.jpg\n",
      "/kaggle/input/weedzip/unlabeled/agri_0_5967_jpeg.rf.1b074c44f782c1691d0597106df338dd.jpg\n",
      "/kaggle/input/weedzip/unlabeled/agri_0_8104_jpeg.rf.5eaa5304c6227470132ff3ce2272d495.jpg\n",
      "/kaggle/input/weedzip/unlabeled/agri_0_2465_jpeg.rf.15cba6dc8c5437897b79bffdb4167fb9.jpg\n",
      "/kaggle/input/weedzip/unlabeled/agri_0_3736_jpeg.rf.949939a46e27669d390f125eb3b4c9cd.jpg\n",
      "/kaggle/input/weedzip/unlabeled/agri_0_5336_jpeg.rf.705d36015cdaf4450db43d53668ee7d1.jpg\n",
      "/kaggle/input/weedzip/unlabeled/agri_0_4913_jpeg.rf.527f1c963ed3753dd20e760f13778b81.jpg\n",
      "/kaggle/input/weedzip/unlabeled/agri_0_4690_jpeg.rf.9ed09e4c1798f1a2c3ef96f63e11e45c.jpg\n",
      "/kaggle/input/weedzip/unlabeled/agri_0_9796_jpeg.rf.bee2882c31d891af663bdea0ad384750.jpg\n",
      "/kaggle/input/weedzip/unlabeled/agri_0_7158_jpeg.rf.4515f0295e4b8701b3fd08db097888f6.jpg\n",
      "/kaggle/input/weedzip/unlabeled/agri_0_106_jpeg.rf.9dc5f43ba96fdff5f6f822e9253650ee.jpg\n",
      "/kaggle/input/weedzip/unlabeled/agri_0_4502_jpeg.rf.444b5e1bd216e754f9f60e6d1ee6c877.jpg\n",
      "/kaggle/input/weedzip/unlabeled/agri_0_2670_jpeg.rf.f2a3ee0a767b826033f93c7cbdc611d6.jpg\n",
      "/kaggle/input/weedzip/unlabeled/agri_0_9523_jpeg.rf.e2c1d418cdb798068e79c5d8168fb4db.jpg\n",
      "/kaggle/input/weedzip/unlabeled/agri_0_5270_jpeg.rf.281944f600bafa8dd54cb4c924972d04.jpg\n",
      "/kaggle/input/weedzip/unlabeled/agri_0_1878_jpeg.rf.618270f26c8d4443430b0439052c3dc7.jpg\n",
      "/kaggle/input/weedzip/unlabeled/agri_0_3778_jpeg.rf.71dc3b4f7994f294dc3b017db379abac.jpg\n",
      "/kaggle/input/weedzip/unlabeled/agri_0_2876_jpeg.rf.2d2f612d572089537b8fdeaf23f19f28.jpg\n",
      "/kaggle/input/weedzip/unlabeled/agri_0_1784_jpeg.rf.ca9ebfb27044679e175e346e356faadb.jpg\n",
      "/kaggle/input/weedzip/unlabeled/agri_0_4010_jpeg.rf.fe9be563a481820f92a24e2851590a68.jpg\n",
      "/kaggle/input/weedzip/unlabeled/agri_0_7357_jpeg.rf.d0f6a10914c120c932a4efd0294e11ca.jpg\n",
      "/kaggle/input/weedzip/unlabeled/agri_0_2256_jpeg.rf.2b39ea70cb33dd6af7afdbd7a2de9418.jpg\n",
      "/kaggle/input/weedzip/unlabeled/agri_0_7105_jpeg.rf.78be782dfa404506c854fe1bbfba3dd7.jpg\n",
      "/kaggle/input/weedzip/unlabeled/agri_0_1173_jpeg.rf.85c06a87911bf15323df8f0524188c68.jpg\n",
      "/kaggle/input/weedzip/unlabeled/agri_0_1174_jpeg.rf.bf5de4a8834ddd84df8318bcee952891.jpg\n",
      "/kaggle/input/weedzip/unlabeled/agri_0_223_jpeg.rf.0917fc916356c201a011077a15329f65.jpg\n",
      "/kaggle/input/weedzip/unlabeled/agri_0_667_jpeg.rf.ddc742dedbdfcb42f9fbe3eef24fdbcb.jpg\n",
      "/kaggle/input/weedzip/unlabeled/agri_0_5744_jpeg.rf.6920bfa03986ed3ffd591a1c02a39555.jpg\n",
      "/kaggle/input/weedzip/unlabeled/agri_0_5231_jpeg.rf.d8f7ef75f7b892c8dc2a58e7b18f976e.jpg\n",
      "/kaggle/input/weedzip/unlabeled/agri_0_7586_jpeg.rf.75e0a9ca6dbe68f9052be0305060bfe8.jpg\n",
      "/kaggle/input/weedzip/unlabeled/agri_0_3607_jpeg.rf.148d4914c5fbe81752eb04758aa50c4a.jpg\n",
      "/kaggle/input/weedzip/unlabeled/agri_0_14_jpeg.rf.3c89d53f126fbd717e899af5fdd462d2.jpg\n",
      "/kaggle/input/weedzip/unlabeled/agri_0_352_jpeg.rf.0bfa0af39977a09bf3387d60c1842ab5.jpg\n",
      "/kaggle/input/weedzip/unlabeled/agri_0_8023_jpeg.rf.904229a13629c4d4d3c47a4a852bd333.jpg\n",
      "/kaggle/input/weedzip/unlabeled/agri_0_3100_jpeg.rf.994ea6f32109e6db081cd0b82b474d98.jpg\n",
      "/kaggle/input/weedzip/unlabeled/agri_0_6342_jpeg.rf.3873b3ddc75cd6856c4fae735182c4a6.jpg\n",
      "/kaggle/input/weedzip/unlabeled/agri_0_4944_jpeg.rf.3cc317d179a236b7ff3e0c26748ad264.jpg\n",
      "/kaggle/input/weedzip/unlabeled/agri_0_1929_jpeg.rf.072a8ffda8b05185025bcc88e4b15435.jpg\n",
      "/kaggle/input/weedzip/unlabeled/agri_0_3535_jpeg.rf.b561278f8a67b031d85347cedfb6acbb.jpg\n",
      "/kaggle/input/weedzip/unlabeled/agri_0_3331_jpeg.rf.5292a15cd1aa15a19fc742ac0a486946.jpg\n",
      "/kaggle/input/weedzip/unlabeled/agri_0_8689_jpeg.rf.ae34859d38ef11737803b697329316f9.jpg\n",
      "/kaggle/input/weedzip/unlabeled/agri_0_4388_jpeg.rf.ea2c48ab8ac60493fac169d24ae3bdd0.jpg\n",
      "/kaggle/input/weedzip/unlabeled/agri_0_6857_jpeg.rf.19bc3331cd5e2d35eed3aee12ece84fa.jpg\n",
      "/kaggle/input/weedzip/unlabeled/agri_0_3260_jpeg.rf.396a3478ac3b99c8aa2c4788983f747e.jpg\n",
      "/kaggle/input/weedzip/unlabeled/agri_0_8618_jpeg.rf.36a93b82f981c2bda4e0990947fe758d.jpg\n",
      "/kaggle/input/weedzip/unlabeled/agri_0_164_jpeg.rf.04ecf4ce77580c568634f0b98b3a365b.jpg\n",
      "/kaggle/input/weedzip/unlabeled/agri_0_7749_jpeg.rf.aa726a386111d32b7aba5ced3722238c.jpg\n",
      "/kaggle/input/weedzip/unlabeled/agri_0_1041_jpeg.rf.9aba6e4d4d5f1794b328a0f064d53c09.jpg\n",
      "/kaggle/input/weedzip/unlabeled/agri_0_6880_jpeg.rf.dc2330486ec6de249653ba7ecf688d99.jpg\n",
      "/kaggle/input/weedzip/unlabeled/agri_0_5693_jpeg.rf.3b76a750c7dcfa3381dd76b44faddb2c.jpg\n",
      "/kaggle/input/weedzip/unlabeled/agri_0_3556_jpeg.rf.722141cec1285422b352133ae0ce3d0a.jpg\n",
      "/kaggle/input/weedzip/unlabeled/agri_0_376_jpeg.rf.82da2718acaed107eea8ffb8085b4d05.jpg\n",
      "/kaggle/input/weedzip/unlabeled/agri_0_6078_jpeg.rf.bb9d25d3bc3c1baf76c2d452750d9617.jpg\n",
      "/kaggle/input/weedzip/unlabeled/agri_0_7123_jpeg.rf.0c8f3c5ec46fd8965c50308dc28f1705.jpg\n",
      "/kaggle/input/weedzip/unlabeled/agri_0_221_jpeg.rf.69ab12f71c2c7c1991b43e2ba663a126.jpg\n",
      "/kaggle/input/weedzip/unlabeled/agri_0_1258_jpeg.rf.1aa0b9506c3833e5530c5e5dd887f44a.jpg\n",
      "/kaggle/input/weedzip/unlabeled/agri_0_8493_jpeg.rf.2a63d246e612636c8586a002be2c69a4.jpg\n",
      "/kaggle/input/weedzip/unlabeled/agri_0_6643_jpeg.rf.5f3cefea55901cef9d8157c4ac12bcf5.jpg\n",
      "/kaggle/input/weedzip/unlabeled/agri_0_3703_jpeg.rf.de924d9f30a2fe7ebc731a0d08a87ed6.jpg\n",
      "/kaggle/input/weedzip/unlabeled/agri_0_3995_jpeg.rf.2d4c2e2f03e9337a8ef8c0118af51694.jpg\n",
      "/kaggle/input/weedzip/unlabeled/agri_0_2997_jpeg.rf.812a3d9cb575f1e08e9c6b0e525207b2.jpg\n",
      "/kaggle/input/weedzip/unlabeled/agri_0_4122_jpeg.rf.9604549e8bfbb780fc9f87e663b93b73.jpg\n",
      "/kaggle/input/weedzip/unlabeled/agri_0_5210_jpeg.rf.4f7821c28dc4f9c85a2fe2349f589f6f.jpg\n",
      "/kaggle/input/weedzip/unlabeled/agri_0_5605_jpeg.rf.8bad20eefffba595257249d0cd9f6fdd.jpg\n",
      "/kaggle/input/weedzip/unlabeled/agri_0_2873_jpeg.rf.75677e5fd9951e4c31f9f8ef128fe7bb.jpg\n",
      "/kaggle/input/weedzip/unlabeled/agri_0_3564_jpeg.rf.613403215bd42922abb6bb719cca4d8d.jpg\n",
      "/kaggle/input/weedzip/unlabeled/agri_0_1868_jpeg.rf.7421a1c25f5043304135119f5e8333dd.jpg\n",
      "/kaggle/input/weedzip/unlabeled/agri_0_5512_jpeg.rf.d449c7f698d59634f44cb1d8ed4e4177.jpg\n",
      "/kaggle/input/weedzip/unlabeled/agri_0_4994_jpeg.rf.b920270362641d21c7d5b28640827629.jpg\n",
      "/kaggle/input/weedzip/unlabeled/agri_0_7370_jpeg.rf.777330e2da91fdba24d45eaefbfd964d.jpg\n",
      "/kaggle/input/weedzip/unlabeled/agri_0_9875_jpeg.rf.5adc0867de4346da8a14a82a6e12c304.jpg\n",
      "/kaggle/input/weedzip/unlabeled/agri_0_4116_jpeg.rf.db61fe91816c13904109e0cab040873d.jpg\n",
      "/kaggle/input/weedzip/unlabeled/agri_0_6353_jpeg.rf.de9a8be61c8839113ecccecddb735d88.jpg\n",
      "/kaggle/input/weedzip/unlabeled/agri_0_7546_jpeg.rf.53968ab87ca3305aa5e34aae1c26650c.jpg\n",
      "/kaggle/input/weedzip/unlabeled/agri_0_2751_jpeg.rf.85e310367531c265b5a220d5fe950584.jpg\n",
      "/kaggle/input/weedzip/unlabeled/agri_0_5802_jpeg.rf.93fa24a7e4720a1a39c822198234908b.jpg\n",
      "/kaggle/input/weedzip/unlabeled/agri_0_3943_jpeg.rf.03a26f32fa8c621ed2d6b15e70fc35f2.jpg\n",
      "/kaggle/input/weedzip/unlabeled/agri_0_2088_jpeg.rf.7982c8e424f6467fee47cea2e47fe1e3.jpg\n",
      "/kaggle/input/weedzip/unlabeled/agri_0_2675_jpeg.rf.29bfc6b588f81c374a4cdc6d18800e84.jpg\n",
      "/kaggle/input/weedzip/unlabeled/agri_0_5370_jpeg.rf.702c743d6a8833720afd74ee8828b01e.jpg\n",
      "/kaggle/input/weedzip/unlabeled/agri_0_5121_jpeg.rf.d94ac900b2576e096a6c1506d1b2d40b.jpg\n",
      "/kaggle/input/weedzip/labeled/annotations/agri_0_357_jpeg.rf.499443410f6b53f5c53f8935f7c0ae6f.txt\n",
      "/kaggle/input/weedzip/labeled/annotations/agri_0_1882_jpeg.rf.dc545f32ba4f97f5ce6757a0392a0dc0.txt\n",
      "/kaggle/input/weedzip/labeled/annotations/agri_0_3152_jpeg.rf.d53c00467e2e9eb903a225bc1ed4a8e4.txt\n",
      "/kaggle/input/weedzip/labeled/annotations/agri_0_7375_jpeg.rf.a72a1ac385ff257bfd8f1e7963c4a195.txt\n",
      "/kaggle/input/weedzip/labeled/annotations/agri_0_6735_jpeg.rf.53ef6fe9bfc3a66b759f2c783ea9fa9d.txt\n",
      "/kaggle/input/weedzip/labeled/annotations/agri_0_156_jpeg.rf.4f99578f2ad3a73c10f4cb27eefaf53a.txt\n",
      "/kaggle/input/weedzip/labeled/annotations/agri_0_9085_jpeg.rf.c8a82d01095d4b1d99d314e700a19e12.txt\n",
      "/kaggle/input/weedzip/labeled/annotations/agri_0_8422_jpeg.rf.d17c6dd688b13210c37b57d7fb6c5f85.txt\n",
      "/kaggle/input/weedzip/labeled/annotations/agri_0_5819_jpeg.rf.97b028e0972533b71c1b3f53be4bdac9.txt\n",
      "/kaggle/input/weedzip/labeled/annotations/agri_0_1630_jpeg.rf.a93c3cb90c6bad832b406d083286f38e.txt\n",
      "/kaggle/input/weedzip/labeled/annotations/agri_0_7405_jpeg.rf.84ca4fa03eb0ffeff44d458ed522a8fe.txt\n",
      "/kaggle/input/weedzip/labeled/annotations/agri_0_3234_jpeg.rf.c22e2eebf67e5ac1e85f708651c6b02d.txt\n",
      "/kaggle/input/weedzip/labeled/annotations/agri_0_2951_jpeg.rf.3c3abd3770a257bb07a5691f11d89b28.txt\n",
      "/kaggle/input/weedzip/labeled/annotations/agri_0_6154_jpeg.rf.fcbd7f1d114f51b463c4fe3dd278e8a8.txt\n",
      "/kaggle/input/weedzip/labeled/annotations/agri_0_3276_jpeg.rf.87d0261516c8aa7bb540f1151f83aa48.txt\n",
      "/kaggle/input/weedzip/labeled/annotations/agri_0_1508_jpeg.rf.1d3873caf87610faad54732ce3d39151.txt\n",
      "/kaggle/input/weedzip/labeled/annotations/agri_0_8926_jpeg.rf.d926ccbadbacb32e11a37cd90b941f59.txt\n",
      "/kaggle/input/weedzip/labeled/annotations/agri_0_4216_jpeg.rf.dd66297761b5a20711292dd3f43939f0.txt\n",
      "/kaggle/input/weedzip/labeled/annotations/agri_0_1570_jpeg.rf.feb1ee01371c1514adb208baf41de038.txt\n",
      "/kaggle/input/weedzip/labeled/annotations/agri_0_2895_jpeg.rf.ccbc3bd5bad2e33aff9e901ee1446384.txt\n",
      "/kaggle/input/weedzip/labeled/annotations/agri_0_8752_jpeg.rf.6946b08e35083fb19210c0b483ac99ae.txt\n",
      "/kaggle/input/weedzip/labeled/annotations/agri_0_7637_jpeg.rf.57b3b1b48f72a5799db7f4c08b63ec45.txt\n",
      "/kaggle/input/weedzip/labeled/annotations/agri_0_4365_jpeg.rf.12c25d6942c966fc392cea7efb685955.txt\n",
      "/kaggle/input/weedzip/labeled/annotations/agri_0_1572_jpeg.rf.54a70ed43e067fac9eda9fbe0580f24c.txt\n",
      "/kaggle/input/weedzip/labeled/annotations/agri_0_4058_jpeg.rf.0e8cc83b9b59bfc4b0d95d4582ef0209.txt\n",
      "/kaggle/input/weedzip/labeled/annotations/agri_0_3289_jpeg.rf.a3020e3c74ffbe968e099ec738642b0e.txt\n",
      "/kaggle/input/weedzip/labeled/annotations/agri_0_8094_jpeg.rf.780c29835993bd48c5ff7ec5e4752c04.txt\n",
      "/kaggle/input/weedzip/labeled/annotations/agri_0_9562_jpeg.rf.92e9e8327ee190b4583548119abcefd9.txt\n",
      "/kaggle/input/weedzip/labeled/annotations/agri_0_7285_jpeg.rf.2e69023748d46307193819fe454334b5.txt\n",
      "/kaggle/input/weedzip/labeled/annotations/agri_0_5723_jpeg.rf.8ebf4121351c0d152f1331053646c9e2.txt\n",
      "/kaggle/input/weedzip/labeled/annotations/agri_0_3913_jpeg.rf.8fa53c28ee0231494d9c9497a55717a6.txt\n",
      "/kaggle/input/weedzip/labeled/annotations/agri_0_1564_jpeg.rf.e8e3de506c65fb4b49753253ecac5372.txt\n",
      "/kaggle/input/weedzip/labeled/annotations/agri_0_3468_jpeg.rf.7f36e6c05fb050a385e3da60f1ea3daf.txt\n",
      "/kaggle/input/weedzip/labeled/annotations/agri_0_8168_jpeg.rf.35c9bf348bf709c15bc5dd8e7aea4d69.txt\n",
      "/kaggle/input/weedzip/labeled/annotations/agri_0_6412_jpeg.rf.2d9c77e9df846aed04fe9ca6a2653878.txt\n",
      "/kaggle/input/weedzip/labeled/annotations/agri_0_203_jpeg.rf.2dbdc67b5a89aee21b66c7ac0ce49483.txt\n",
      "/kaggle/input/weedzip/labeled/annotations/agri_0_9899_jpeg.rf.8396e2238c8933ab78caa479c4391c68.txt\n",
      "/kaggle/input/weedzip/labeled/annotations/agri_0_8496_jpeg.rf.60561e28e8e1de2c506d72310d1730a5.txt\n",
      "/kaggle/input/weedzip/labeled/annotations/agri_0_7135_jpeg.rf.0ccb4463a814105307e14dedeff2aaca.txt\n",
      "/kaggle/input/weedzip/labeled/annotations/agri_0_8794_jpeg.rf.d3bbb9d298b24a61c056b6d021f1db89.txt\n",
      "/kaggle/input/weedzip/labeled/annotations/agri_0_5128_jpeg.rf.c331d44a91621187ab96363796a37198.txt\n",
      "/kaggle/input/weedzip/labeled/annotations/agri_0_6891_jpeg.rf.e73ff89dfecf7bc30acd19b420dab643.txt\n",
      "/kaggle/input/weedzip/labeled/annotations/agri_0_1211_jpeg.rf.b838cf831e55e0393cc8a5b25bedfe0c.txt\n",
      "/kaggle/input/weedzip/labeled/annotations/agri_0_3500_jpeg.rf.a2fab71d79db019dd3b4e5057a31c8b4.txt\n",
      "/kaggle/input/weedzip/labeled/annotations/agri_0_301_jpeg.rf.bb6742d5df9ada62ace8c535769e9b36.txt\n",
      "/kaggle/input/weedzip/labeled/annotations/agri_0_5243_jpeg.rf.58c5c6a80273571f2de47f8838d2fd78.txt\n",
      "/kaggle/input/weedzip/labeled/annotations/agri_0_1779_jpeg.rf.7b21f24e2d044635aba3b91525b5ec48.txt\n",
      "/kaggle/input/weedzip/labeled/annotations/agri_0_3682_jpeg.rf.fe23d8528ba213906d3e97a386391ac3.txt\n",
      "/kaggle/input/weedzip/labeled/annotations/agri_0_3278_jpeg.rf.79dc2227d82dd8a41863ff28e90ff61c.txt\n",
      "/kaggle/input/weedzip/labeled/annotations/agri_0_6287_jpeg.rf.36b813c7b8117e36986d1f5a6f8801da.txt\n",
      "/kaggle/input/weedzip/labeled/annotations/agri_0_5318_jpeg.rf.c612bed933390d52cbdb3569fe27b2f2.txt\n",
      "/kaggle/input/weedzip/labeled/annotations/agri_0_7201_jpeg.rf.183871db54bb78b277c7133ac6f82ebd.txt\n",
      "/kaggle/input/weedzip/labeled/annotations/agri_0_543_jpeg.rf.ae2ff42cf685997c0b6cc6a1aa0df1e1.txt\n",
      "/kaggle/input/weedzip/labeled/annotations/agri_0_784_jpeg.rf.a752a70f8fd3d8815465a8d1ece7167f.txt\n",
      "/kaggle/input/weedzip/labeled/annotations/agri_0_4337_jpeg.rf.425c6e397b62b79fc518f79013dd0b08.txt\n",
      "/kaggle/input/weedzip/labeled/annotations/agri_0_3480_jpeg.rf.077dd1d87aaec24061953ead9a60fef5.txt\n",
      "/kaggle/input/weedzip/labeled/annotations/agri_0_5216_jpeg.rf.435cc4dc26da4133717e96f59bc3a027.txt\n",
      "/kaggle/input/weedzip/labeled/annotations/agri_0_6547_jpeg.rf.8f5d01cb4725291885cdd2ee0e891b7f.txt\n",
      "/kaggle/input/weedzip/labeled/annotations/agri_0_5494_jpeg.rf.db6cf8e287e7bdbe5ee30244a6b73713.txt\n",
      "/kaggle/input/weedzip/labeled/annotations/agri_0_626_jpeg.rf.731ef090f139c2bbf1c402f0f2ab2dcc.txt\n",
      "/kaggle/input/weedzip/labeled/annotations/agri_0_561_jpeg.rf.bb3dced3e01147b78bdbfafc8764a780.txt\n",
      "/kaggle/input/weedzip/labeled/annotations/agri_0_4393_jpeg.rf.47fb1c8aff187fba8f7c67fefcbd49ed.txt\n",
      "/kaggle/input/weedzip/labeled/annotations/agri_0_9850_jpeg.rf.62a5cc177ae8eb59baf413a23571ab5c.txt\n",
      "/kaggle/input/weedzip/labeled/annotations/agri_0_8195_jpeg.rf.21c09bf75b5ecd006f6db6f8b8dd173f.txt\n",
      "/kaggle/input/weedzip/labeled/annotations/agri_0_6697_jpeg.rf.00c07aa1df7c8b81902dbc24af304ec7.txt\n",
      "/kaggle/input/weedzip/labeled/annotations/agri_0_823_jpeg.rf.061d4a2575778491ea81db7d7fb65b76.txt\n",
      "/kaggle/input/weedzip/labeled/annotations/agri_0_4436_jpeg.rf.5d12cbde007da09363b6a3f3638eb52b.txt\n",
      "/kaggle/input/weedzip/labeled/annotations/agri_0_4575_jpeg.rf.380bf28741246d54e01acbd45306c517.txt\n",
      "/kaggle/input/weedzip/labeled/annotations/agri_0_2595_jpeg.rf.516dd1842ab9f68b0c91a823209d71f1.txt\n",
      "/kaggle/input/weedzip/labeled/annotations/agri_0_2807_jpeg.rf.7df27c4bdb22b8b8217189461c8e303b.txt\n",
      "/kaggle/input/weedzip/labeled/annotations/agri_0_6189_jpeg.rf.13d42e177fffd024ef3cd150a3c4bb7d.txt\n",
      "/kaggle/input/weedzip/labeled/annotations/agri_0_2861_jpeg.rf.66b1f1559005a2f89f7487a3749f0348.txt\n",
      "/kaggle/input/weedzip/labeled/annotations/agri_0_6152_jpeg.rf.eee251136fb3a269c41e61c0a5f7d5bf.txt\n",
      "/kaggle/input/weedzip/labeled/annotations/agri_0_5718_jpeg.rf.10210a987802184b86d156aa8a4be7f7.txt\n",
      "/kaggle/input/weedzip/labeled/annotations/agri_0_2522_jpeg.rf.6a2110a89acfa9211918f0b5b54b176e.txt\n",
      "/kaggle/input/weedzip/labeled/annotations/agri_0_8636_jpeg.rf.9be2f40466cf6c306b196cc78840cb81.txt\n",
      "/kaggle/input/weedzip/labeled/annotations/agri_0_5716_jpeg.rf.7859f7eb5507bebbd9ea8c18a5f8eff6.txt\n",
      "/kaggle/input/weedzip/labeled/annotations/agri_0_7668_jpeg.rf.3d38f8c045172626d9d5b17252282b08.txt\n",
      "/kaggle/input/weedzip/labeled/annotations/agri_0_7842_jpeg.rf.9f680cf35a60efe8e33779fcb0e36996.txt\n",
      "/kaggle/input/weedzip/labeled/annotations/agri_0_1123_jpeg.rf.555e8a07d9829437db02d964dfe5ba46.txt\n",
      "/kaggle/input/weedzip/labeled/annotations/agri_0_9770_jpeg.rf.76a34a0723974cc50a190c7ebfb71530.txt\n",
      "/kaggle/input/weedzip/labeled/annotations/agri_0_4355_jpeg.rf.6cce51f4de0e8d707be40ffdb90bb740.txt\n",
      "/kaggle/input/weedzip/labeled/annotations/agri_0_840_jpeg.rf.ec6d3e0407cd4f6b75fbfd3f9eddd9d3.txt\n",
      "/kaggle/input/weedzip/labeled/annotations/agri_0_2550_jpeg.rf.7ceb6677e42dbd8b316f5f030189c7f4.txt\n",
      "/kaggle/input/weedzip/labeled/annotations/agri_0_8417_jpeg.rf.fac4306efe263b7e1ca041e6ed77e49e.txt\n",
      "/kaggle/input/weedzip/labeled/annotations/agri_0_8747_jpeg.rf.9a68e67b050156b0c0536bb6891ee94f.txt\n",
      "/kaggle/input/weedzip/labeled/annotations/agri_0_7588_jpeg.rf.15920e1bd22ea16b6d97389e3eea7d39.txt\n",
      "/kaggle/input/weedzip/labeled/annotations/agri_0_5591_jpeg.rf.b2703867d5c96c1c45f3402408b61bf2.txt\n",
      "/kaggle/input/weedzip/labeled/annotations/agri_0_3925_jpeg.rf.58665c346961eac0a4d8fb357687ab6f.txt\n",
      "/kaggle/input/weedzip/labeled/annotations/agri_0_3077_jpeg.rf.48f9053a10c7d2734c557254090bb303.txt\n",
      "/kaggle/input/weedzip/labeled/annotations/agri_0_3949_jpeg.rf.1e314a01e0b8eef679135a65ef058296.txt\n",
      "/kaggle/input/weedzip/labeled/annotations/agri_0_1515_jpeg.rf.549005dd1a5b22676ed5e7d873900e48.txt\n",
      "/kaggle/input/weedzip/labeled/annotations/agri_0_6447_jpeg.rf.82b1ea3412710e2b7f8dfbb06223c79d.txt\n",
      "/kaggle/input/weedzip/labeled/annotations/agri_0_4785_jpeg.rf.c51dffa8a535b2c89ae66b77155fde2e.txt\n",
      "/kaggle/input/weedzip/labeled/annotations/agri_0_9618_jpeg.rf.474dd980b0b6b1c204e8a8a81ae60d45.txt\n",
      "/kaggle/input/weedzip/labeled/annotations/agri_0_4019_jpeg.rf.b716b566aa288be7af2856b1aa121b93.txt\n",
      "/kaggle/input/weedzip/labeled/annotations/agri_0_2901_jpeg.rf.004708f81bc01c49302b052737f17f3c.txt\n",
      "/kaggle/input/weedzip/labeled/annotations/agri_0_5426_jpeg.rf.2dd4d8b41a55fffaf308388a04824ee9.txt\n",
      "/kaggle/input/weedzip/labeled/annotations/agri_0_4014_jpeg.rf.ea47e2b64c69a1820c6d0e09cf5ff4e0.txt\n",
      "/kaggle/input/weedzip/labeled/annotations/agri_0_4113_jpeg.rf.41a49c7c103ec1c2d332b06772c5d958.txt\n",
      "/kaggle/input/weedzip/labeled/annotations/agri_0_3231_jpeg.rf.c89d26d125abf354cbc5b3207be7dd9f.txt\n",
      "/kaggle/input/weedzip/labeled/annotations/agri_0_151_jpeg.rf.4ac30cddc15550e3a6a0d7f3ee4b4890.txt\n",
      "/kaggle/input/weedzip/labeled/annotations/agri_0_5401_jpeg.rf.0f5de21581dfa49c8515001240189bd2.txt\n",
      "/kaggle/input/weedzip/labeled/annotations/agri_0_4484_jpeg.rf.9bca743fc6350ae71ab12f6754c4a2e2.txt\n",
      "/kaggle/input/weedzip/labeled/annotations/agri_0_2644_jpeg.rf.780e3f7d572165a18cbf373a86e0e539.txt\n",
      "/kaggle/input/weedzip/labeled/annotations/agri_0_3828_jpeg.rf.995e05fea29645e3f4d9bd38648f393a.txt\n",
      "/kaggle/input/weedzip/labeled/annotations/agri_0_4753_jpeg.rf.320faff5189385ebc0f2d01ff6824d14.txt\n",
      "/kaggle/input/weedzip/labeled/annotations/agri_0_2906_jpeg.rf.fda8696747193eb27dc77d4e8dfbd4c6.txt\n",
      "/kaggle/input/weedzip/labeled/annotations/agri_0_526_jpeg.rf.3573bd1c2af8fe860310431753ef29ec.txt\n",
      "/kaggle/input/weedzip/labeled/annotations/agri_0_3756_jpeg.rf.883216c5378e2dd4a65800b0005c650f.txt\n",
      "/kaggle/input/weedzip/labeled/annotations/agri_0_4073_jpeg.rf.62d90f746a235b6b9fd214a8503de6e7.txt\n",
      "/kaggle/input/weedzip/labeled/annotations/agri_0_4811_jpeg.rf.9a1faf1792569978dee4aecfc207f56c.txt\n",
      "/kaggle/input/weedzip/labeled/annotations/agri_0_3403_jpeg.rf.feb49843bccc42ebdbccb9409157de15.txt\n",
      "/kaggle/input/weedzip/labeled/annotations/agri_0_7288_jpeg.rf.60d5f9c93fa240f381212e5e7ac1f000.txt\n",
      "/kaggle/input/weedzip/labeled/annotations/agri_0_2442_jpeg.rf.9110ca5a9d401665ab83b7e985489be9.txt\n",
      "/kaggle/input/weedzip/labeled/annotations/agri_0_76_jpeg.rf.d6ae333f230d9c532a9ed6bdc5281d5f.txt\n",
      "/kaggle/input/weedzip/labeled/annotations/agri_0_8269_jpeg.rf.530eee30f81522b98f3516d013e2bb30.txt\n",
      "/kaggle/input/weedzip/labeled/annotations/agri_0_3282_jpeg.rf.dd86058cb4d321347acdeca29676172f.txt\n",
      "/kaggle/input/weedzip/labeled/annotations/agri_0_8838_jpeg.rf.f51d94a50011b4a99c587322d2907154.txt\n",
      "/kaggle/input/weedzip/labeled/annotations/agri_0_4561_jpeg.rf.dbb75439f6d46f64586377f217071909.txt\n",
      "/kaggle/input/weedzip/labeled/annotations/agri_0_5858_jpeg.rf.9ca552390731f969a682a10d7d715b8c.txt\n",
      "/kaggle/input/weedzip/labeled/annotations/agri_0_8980_jpeg.rf.d13797b97d1b7d22b792557a9e8e866b.txt\n",
      "/kaggle/input/weedzip/labeled/annotations/agri_0_4508_jpeg.rf.f1e48377613a673462f32b397694e490.txt\n",
      "/kaggle/input/weedzip/labeled/annotations/agri_0_991_jpeg.rf.6a21ec0dce040d1ddc71aca49efb43ee.txt\n",
      "/kaggle/input/weedzip/labeled/annotations/agri_0_3039_jpeg.rf.2d9d163f62267a666c05e2b72b72e229.txt\n",
      "/kaggle/input/weedzip/labeled/annotations/agri_0_2332_jpeg.rf.989df8419d2786d4a140ebff42048b91.txt\n",
      "/kaggle/input/weedzip/labeled/annotations/agri_0_5136_jpeg.rf.2ece5d04885580e357a35fa413d3d2db.txt\n",
      "/kaggle/input/weedzip/labeled/annotations/agri_0_1114_jpeg.rf.58c3e98265cde3a072aa44b4f868c934.txt\n",
      "/kaggle/input/weedzip/labeled/annotations/agri_0_7814_jpeg.rf.20208873fc60f6e0aa60472d53ed8e9a.txt\n",
      "/kaggle/input/weedzip/labeled/annotations/agri_0_8956_jpeg.rf.a54d2322042740c60711f99b2edca7f5.txt\n",
      "/kaggle/input/weedzip/labeled/annotations/agri_0_7806_jpeg.rf.2478fd0b500f2f27085e5e8546b23d07.txt\n",
      "/kaggle/input/weedzip/labeled/annotations/agri_0_8440_jpeg.rf.9003f0be2d750f38bba3f6dc0df20999.txt\n",
      "/kaggle/input/weedzip/labeled/annotations/agri_0_4586_jpeg.rf.5597c64993833c239a52177e08e84cb5.txt\n",
      "/kaggle/input/weedzip/labeled/annotations/agri_0_6308_jpeg.rf.a497e27377735eed829f646b7b52e23b.txt\n",
      "/kaggle/input/weedzip/labeled/annotations/agri_0_2549_jpeg.rf.bff3bbd1217e4cc2d00716190185bb0a.txt\n",
      "/kaggle/input/weedzip/labeled/annotations/agri_0_8341_jpeg.rf.999ae1a9b7470bb6465e0e4fb1ca997f.txt\n",
      "/kaggle/input/weedzip/labeled/annotations/agri_0_6977_jpeg.rf.07fe4993bb742060e1afb4e3cd1bd3e7.txt\n",
      "/kaggle/input/weedzip/labeled/annotations/agri_0_6675_jpeg.rf.2ea5569d2e4c1b125d2d4130f0d39cc4.txt\n",
      "/kaggle/input/weedzip/labeled/annotations/agri_0_8072_jpeg.rf.09a4c51260c6743530d8d06a9a9a2c86.txt\n",
      "/kaggle/input/weedzip/labeled/annotations/agri_0_2244_jpeg.rf.4115bee3a9307e223d1860b4a5fae0c1.txt\n",
      "/kaggle/input/weedzip/labeled/annotations/agri_0_7517_jpeg.rf.58046feafc4603b3f15d50be3b85af61.txt\n",
      "/kaggle/input/weedzip/labeled/annotations/agri_0_618_jpeg.rf.6294855469a575d0e9305321423675b7.txt\n",
      "/kaggle/input/weedzip/labeled/annotations/agri_0_6034_jpeg.rf.9053491c49a96a1afef66e9ec966eaee.txt\n",
      "/kaggle/input/weedzip/labeled/annotations/agri_0_2385_jpeg.rf.eac015833d56aa68af2e246e23946367.txt\n",
      "/kaggle/input/weedzip/labeled/annotations/agri_0_1693_jpeg.rf.477dd9f8b380598bf3cb6de241005823.txt\n",
      "/kaggle/input/weedzip/labeled/annotations/agri_0_4273_jpeg.rf.f17f473c1b77760c57f9b323b27ffb69.txt\n",
      "/kaggle/input/weedzip/labeled/annotations/agri_0_4383_jpeg.rf.d50963ba4870fef3d9fbc8f4c302e9bd.txt\n",
      "/kaggle/input/weedzip/labeled/annotations/agri_0_6765_jpeg.rf.dae5065a32e785707ed08a117b91bfa3.txt\n",
      "/kaggle/input/weedzip/labeled/annotations/agri_0_2525_jpeg.rf.f0b6a6f8e98b71651179cf80a02f0ccc.txt\n",
      "/kaggle/input/weedzip/labeled/annotations/agri_0_744_jpeg.rf.41c59bfaa35808cc514803fabb41b935.txt\n",
      "/kaggle/input/weedzip/labeled/annotations/agri_0_5688_jpeg.rf.4d0aeb9192c1d4f038ae6377ec344953.txt\n",
      "/kaggle/input/weedzip/labeled/annotations/agri_0_6258_jpeg.rf.6d7d1f779524f701ca75a84e2a7f89e6.txt\n",
      "/kaggle/input/weedzip/labeled/annotations/agri_0_4838_jpeg.rf.dc56368f862342a2c62192f5b57f0ae0.txt\n",
      "/kaggle/input/weedzip/labeled/annotations/agri_0_8800_jpeg.rf.b23cc9788e1237fe3ace5b8a143f5cba.txt\n",
      "/kaggle/input/weedzip/labeled/annotations/agri_0_1094_jpeg.rf.7ec203e8b60f18d94a06b7ebc95dcd67.txt\n",
      "/kaggle/input/weedzip/labeled/annotations/agri_0_1590_jpeg.rf.fe84a5519a9b066d787461c6074d972c.txt\n",
      "/kaggle/input/weedzip/labeled/annotations/agri_0_1543_jpeg.rf.d838ae60de7481ceae60bd385452c0f1.txt\n",
      "/kaggle/input/weedzip/labeled/annotations/agri_0_6703_jpeg.rf.e209312bd016dea1b5e4d19cc47afdfc.txt\n",
      "/kaggle/input/weedzip/labeled/annotations/agri_0_8108_jpeg.rf.331f3ffe9bf846bf873e714fab2fe102.txt\n",
      "/kaggle/input/weedzip/labeled/annotations/agri_0_4107_jpeg.rf.e4330a1077f74c2e5eaea05a7e2dc779.txt\n",
      "/kaggle/input/weedzip/labeled/annotations/agri_0_177_jpeg.rf.033ee5ca14b89c45aa055ad8026bbd68.txt\n",
      "/kaggle/input/weedzip/labeled/annotations/agri_0_5615_jpeg.rf.ae4dc9b732f9ed8dcfd9bfd30ccbb873.txt\n",
      "/kaggle/input/weedzip/labeled/annotations/agri_0_3669_jpeg.rf.84af4bda485bd7235aa2fafeecb4184c.txt\n",
      "/kaggle/input/weedzip/labeled/annotations/agri_0_5711_jpeg.rf.ea36a932a3780deb8951a81da42bc930.txt\n",
      "/kaggle/input/weedzip/labeled/annotations/agri_0_5568_jpeg.rf.27bd02f30159826bf376e3e06a7a16ca.txt\n",
      "/kaggle/input/weedzip/labeled/annotations/agri_0_8708_jpeg.rf.16ad50bf6193334fe49641bdca94551e.txt\n",
      "/kaggle/input/weedzip/labeled/annotations/agri_0_8663_jpeg.rf.b32c4ae1d7684539b8af679bd226357d.txt\n",
      "/kaggle/input/weedzip/labeled/annotations/agri_0_129_jpeg.rf.94df9806fec20a2d47bf821780acc298.txt\n",
      "/kaggle/input/weedzip/labeled/annotations/agri_0_4013_jpeg.rf.08a4638f76aacf9067d909736225d997.txt\n",
      "/kaggle/input/weedzip/labeled/annotations/agri_0_6708_jpeg.rf.cfde3c3cb7c2da8eae2777805f2a1689.txt\n",
      "/kaggle/input/weedzip/labeled/annotations/agri_0_5389_jpeg.rf.ce33d9f60f210268382b8b20e0e78fd3.txt\n",
      "/kaggle/input/weedzip/labeled/annotations/agri_0_2835_jpeg.rf.16c5196413fcae015c1ebcfbb3a3f6d1.txt\n",
      "/kaggle/input/weedzip/labeled/annotations/agri_0_1320_jpeg.rf.b2274dcde8f023ad4de8a08369492d74.txt\n",
      "/kaggle/input/weedzip/labeled/annotations/agri_0_4645_jpeg.rf.defd6d29f96634c06297d2fa9a00d02b.txt\n",
      "/kaggle/input/weedzip/labeled/annotations/agri_0_7241_jpeg.rf.64b4b63f2eeaf5d71f3f14c360d8d90d.txt\n",
      "/kaggle/input/weedzip/labeled/annotations/agri_0_6904_jpeg.rf.66e2ddb5544d5b28e4fdf7fc6a6bb49b.txt\n",
      "/kaggle/input/weedzip/labeled/annotations/agri_0_2407_jpeg.rf.9005a97860309baad106101ac5ac5823.txt\n",
      "/kaggle/input/weedzip/labeled/annotations/agri_0_1788_jpeg.rf.21965d8ba6573d1b3509269b596ff077.txt\n",
      "/kaggle/input/weedzip/labeled/annotations/agri_0_4984_jpeg.rf.5a3a5864022928cfcc76e31a0afe5c4d.txt\n",
      "/kaggle/input/weedzip/labeled/annotations/agri_0_6574_jpeg.rf.9b8074959c2adf465d6c4dcc5c5ebff4.txt\n",
      "/kaggle/input/weedzip/labeled/annotations/agri_0_4903_jpeg.rf.2b27a885848a63f49ea6a2f555e56d1c.txt\n",
      "/kaggle/input/weedzip/labeled/annotations/agri_0_3796_jpeg.rf.59620308489d841e9038a269165ab20e.txt\n",
      "/kaggle/input/weedzip/labeled/annotations/agri_0_3592_jpeg.rf.c8b694dd9af11f3c069ef7cb2d1bc77a.txt\n",
      "/kaggle/input/weedzip/labeled/annotations/agri_0_1119_jpeg.rf.b09921b7b674d9e04274421769d9d1da.txt\n",
      "/kaggle/input/weedzip/labeled/annotations/agri_0_3514_jpeg.rf.aa664d6ffcc546a322a7931f81b2c2ee.txt\n",
      "/kaggle/input/weedzip/labeled/annotations/agri_0_8183_jpeg.rf.8e05cdc46ffde63481dee790cf2c04f3.txt\n",
      "/kaggle/input/weedzip/labeled/annotations/agri_0_7322_jpeg.rf.23f435808b4027d7517a051a4b168630.txt\n",
      "/kaggle/input/weedzip/labeled/annotations/agri_0_4267_jpeg.rf.6905601e3be51c179b3180852023879c.txt\n",
      "/kaggle/input/weedzip/labeled/annotations/agri_0_6292_jpeg.rf.187060304442c9f57a171315c8040054.txt\n",
      "/kaggle/input/weedzip/labeled/annotations/agri_0_2971_jpeg.rf.b959df38d8bfc95ca61d159ad7f0bd68.txt\n",
      "/kaggle/input/weedzip/labeled/annotations/agri_0_2484_jpeg.rf.356d9e62ea0d4f26bfe0c493a8711b17.txt\n",
      "/kaggle/input/weedzip/labeled/annotations/agri_0_4463_jpeg.rf.88d208b89843b0ce47df015313b27635.txt\n",
      "/kaggle/input/weedzip/labeled/annotations/agri_0_6852_jpeg.rf.c2ea4303cdc6e029a8478660b3444c7e.txt\n",
      "/kaggle/input/weedzip/labeled/annotations/agri_0_9696_jpeg.rf.8acbbdf9d6f2f2d8d9ed3c376d085ea9.txt\n",
      "/kaggle/input/weedzip/labeled/annotations/agri_0_1814_jpeg.rf.2cb22a87d0a73e552e4b88dd60d9d38c.txt\n",
      "/kaggle/input/weedzip/labeled/annotations/agri_0_7279_jpeg.rf.91396f062f93087fb3bafe85791fabd0.txt\n",
      "/kaggle/input/weedzip/labeled/annotations/agri_0_318_jpeg.rf.7c67e86e857e604b05a113475c045b33.txt\n",
      "/kaggle/input/weedzip/labeled/annotations/agri_0_3706_jpeg.rf.9fac827eb770fee9f8083e359a979dab.txt\n",
      "/kaggle/input/weedzip/labeled/annotations/agri_0_9857_jpeg.rf.c8cd54a3a173b9b922adab7cca258fb5.txt\n",
      "/kaggle/input/weedzip/labeled/annotations/agri_0_8143_jpeg.rf.33b803b689d1900b2ef9c6d1b22976e8.txt\n",
      "/kaggle/input/weedzip/labeled/images/agri_0_5568_jpeg.rf.27bd02f30159826bf376e3e06a7a16ca.jpg\n",
      "/kaggle/input/weedzip/labeled/images/agri_0_8440_jpeg.rf.9003f0be2d750f38bba3f6dc0df20999.jpg\n",
      "/kaggle/input/weedzip/labeled/images/agri_0_7405_jpeg.rf.84ca4fa03eb0ffeff44d458ed522a8fe.jpg\n",
      "/kaggle/input/weedzip/labeled/images/agri_0_2522_jpeg.rf.6a2110a89acfa9211918f0b5b54b176e.jpg\n",
      "/kaggle/input/weedzip/labeled/images/agri_0_5401_jpeg.rf.0f5de21581dfa49c8515001240189bd2.jpg\n",
      "/kaggle/input/weedzip/labeled/images/agri_0_7285_jpeg.rf.2e69023748d46307193819fe454334b5.jpg\n",
      "/kaggle/input/weedzip/labeled/images/agri_0_1211_jpeg.rf.b838cf831e55e0393cc8a5b25bedfe0c.jpg\n",
      "/kaggle/input/weedzip/labeled/images/agri_0_3514_jpeg.rf.aa664d6ffcc546a322a7931f81b2c2ee.jpg\n",
      "/kaggle/input/weedzip/labeled/images/agri_0_3234_jpeg.rf.c22e2eebf67e5ac1e85f708651c6b02d.jpg\n",
      "/kaggle/input/weedzip/labeled/images/agri_0_1788_jpeg.rf.21965d8ba6573d1b3509269b596ff077.jpg\n",
      "/kaggle/input/weedzip/labeled/images/agri_0_6154_jpeg.rf.fcbd7f1d114f51b463c4fe3dd278e8a8.jpg\n",
      "/kaggle/input/weedzip/labeled/images/agri_0_9085_jpeg.rf.c8a82d01095d4b1d99d314e700a19e12.jpg\n",
      "/kaggle/input/weedzip/labeled/images/agri_0_4267_jpeg.rf.6905601e3be51c179b3180852023879c.jpg\n",
      "/kaggle/input/weedzip/labeled/images/agri_0_4561_jpeg.rf.dbb75439f6d46f64586377f217071909.jpg\n",
      "/kaggle/input/weedzip/labeled/images/agri_0_784_jpeg.rf.a752a70f8fd3d8815465a8d1ece7167f.jpg\n",
      "/kaggle/input/weedzip/labeled/images/agri_0_4586_jpeg.rf.5597c64993833c239a52177e08e84cb5.jpg\n",
      "/kaggle/input/weedzip/labeled/images/agri_0_991_jpeg.rf.6a21ec0dce040d1ddc71aca49efb43ee.jpg\n",
      "/kaggle/input/weedzip/labeled/images/agri_0_2971_jpeg.rf.b959df38d8bfc95ca61d159ad7f0bd68.jpg\n",
      "/kaggle/input/weedzip/labeled/images/agri_0_7842_jpeg.rf.9f680cf35a60efe8e33779fcb0e36996.jpg\n",
      "/kaggle/input/weedzip/labeled/images/agri_0_2407_jpeg.rf.9005a97860309baad106101ac5ac5823.jpg\n",
      "/kaggle/input/weedzip/labeled/images/agri_0_5494_jpeg.rf.db6cf8e287e7bdbe5ee30244a6b73713.jpg\n",
      "/kaggle/input/weedzip/labeled/images/agri_0_1814_jpeg.rf.2cb22a87d0a73e552e4b88dd60d9d38c.jpg\n",
      "/kaggle/input/weedzip/labeled/images/agri_0_9899_jpeg.rf.8396e2238c8933ab78caa479c4391c68.jpg\n",
      "/kaggle/input/weedzip/labeled/images/agri_0_4365_jpeg.rf.12c25d6942c966fc392cea7efb685955.jpg\n",
      "/kaggle/input/weedzip/labeled/images/agri_0_2895_jpeg.rf.ccbc3bd5bad2e33aff9e901ee1446384.jpg\n",
      "/kaggle/input/weedzip/labeled/images/agri_0_744_jpeg.rf.41c59bfaa35808cc514803fabb41b935.jpg\n",
      "/kaggle/input/weedzip/labeled/images/agri_0_4337_jpeg.rf.425c6e397b62b79fc518f79013dd0b08.jpg\n",
      "/kaggle/input/weedzip/labeled/images/agri_0_8072_jpeg.rf.09a4c51260c6743530d8d06a9a9a2c86.jpg\n",
      "/kaggle/input/weedzip/labeled/images/agri_0_1590_jpeg.rf.fe84a5519a9b066d787461c6074d972c.jpg\n",
      "/kaggle/input/weedzip/labeled/images/agri_0_1515_jpeg.rf.549005dd1a5b22676ed5e7d873900e48.jpg\n",
      "/kaggle/input/weedzip/labeled/images/agri_0_1119_jpeg.rf.b09921b7b674d9e04274421769d9d1da.jpg\n",
      "/kaggle/input/weedzip/labeled/images/agri_0_7322_jpeg.rf.23f435808b4027d7517a051a4b168630.jpg\n",
      "/kaggle/input/weedzip/labeled/images/agri_0_2442_jpeg.rf.9110ca5a9d401665ab83b7e985489be9.jpg\n",
      "/kaggle/input/weedzip/labeled/images/agri_0_129_jpeg.rf.94df9806fec20a2d47bf821780acc298.jpg\n",
      "/kaggle/input/weedzip/labeled/images/agri_0_3152_jpeg.rf.d53c00467e2e9eb903a225bc1ed4a8e4.jpg\n",
      "/kaggle/input/weedzip/labeled/images/agri_0_3289_jpeg.rf.a3020e3c74ffbe968e099ec738642b0e.jpg\n",
      "/kaggle/input/weedzip/labeled/images/agri_0_5243_jpeg.rf.58c5c6a80273571f2de47f8838d2fd78.jpg\n",
      "/kaggle/input/weedzip/labeled/images/agri_0_626_jpeg.rf.731ef090f139c2bbf1c402f0f2ab2dcc.jpg\n",
      "/kaggle/input/weedzip/labeled/images/agri_0_5591_jpeg.rf.b2703867d5c96c1c45f3402408b61bf2.jpg\n",
      "/kaggle/input/weedzip/labeled/images/agri_0_2861_jpeg.rf.66b1f1559005a2f89f7487a3749f0348.jpg\n",
      "/kaggle/input/weedzip/labeled/images/agri_0_7241_jpeg.rf.64b4b63f2eeaf5d71f3f14c360d8d90d.jpg\n",
      "/kaggle/input/weedzip/labeled/images/agri_0_4073_jpeg.rf.62d90f746a235b6b9fd214a8503de6e7.jpg\n",
      "/kaggle/input/weedzip/labeled/images/agri_0_3403_jpeg.rf.feb49843bccc42ebdbccb9409157de15.jpg\n",
      "/kaggle/input/weedzip/labeled/images/agri_0_8663_jpeg.rf.b32c4ae1d7684539b8af679bd226357d.jpg\n",
      "/kaggle/input/weedzip/labeled/images/agri_0_1882_jpeg.rf.dc545f32ba4f97f5ce6757a0392a0dc0.jpg\n",
      "/kaggle/input/weedzip/labeled/images/agri_0_7814_jpeg.rf.20208873fc60f6e0aa60472d53ed8e9a.jpg\n",
      "/kaggle/input/weedzip/labeled/images/agri_0_8838_jpeg.rf.f51d94a50011b4a99c587322d2907154.jpg\n",
      "/kaggle/input/weedzip/labeled/images/agri_0_3828_jpeg.rf.995e05fea29645e3f4d9bd38648f393a.jpg\n",
      "/kaggle/input/weedzip/labeled/images/agri_0_3282_jpeg.rf.dd86058cb4d321347acdeca29676172f.jpg\n",
      "/kaggle/input/weedzip/labeled/images/agri_0_5389_jpeg.rf.ce33d9f60f210268382b8b20e0e78fd3.jpg\n",
      "/kaggle/input/weedzip/labeled/images/agri_0_6308_jpeg.rf.a497e27377735eed829f646b7b52e23b.jpg\n",
      "/kaggle/input/weedzip/labeled/images/agri_0_9696_jpeg.rf.8acbbdf9d6f2f2d8d9ed3c376d085ea9.jpg\n",
      "/kaggle/input/weedzip/labeled/images/agri_0_8183_jpeg.rf.8e05cdc46ffde63481dee790cf2c04f3.jpg\n",
      "/kaggle/input/weedzip/labeled/images/agri_0_8422_jpeg.rf.d17c6dd688b13210c37b57d7fb6c5f85.jpg\n",
      "/kaggle/input/weedzip/labeled/images/agri_0_6891_jpeg.rf.e73ff89dfecf7bc30acd19b420dab643.jpg\n",
      "/kaggle/input/weedzip/labeled/images/agri_0_1630_jpeg.rf.a93c3cb90c6bad832b406d083286f38e.jpg\n",
      "/kaggle/input/weedzip/labeled/images/agri_0_6034_jpeg.rf.9053491c49a96a1afef66e9ec966eaee.jpg\n",
      "/kaggle/input/weedzip/labeled/images/agri_0_4484_jpeg.rf.9bca743fc6350ae71ab12f6754c4a2e2.jpg\n",
      "/kaggle/input/weedzip/labeled/images/agri_0_2550_jpeg.rf.7ceb6677e42dbd8b316f5f030189c7f4.jpg\n",
      "/kaggle/input/weedzip/labeled/images/agri_0_3756_jpeg.rf.883216c5378e2dd4a65800b0005c650f.jpg\n",
      "/kaggle/input/weedzip/labeled/images/agri_0_4013_jpeg.rf.08a4638f76aacf9067d909736225d997.jpg\n",
      "/kaggle/input/weedzip/labeled/images/agri_0_4113_jpeg.rf.41a49c7c103ec1c2d332b06772c5d958.jpg\n",
      "/kaggle/input/weedzip/labeled/images/agri_0_1570_jpeg.rf.feb1ee01371c1514adb208baf41de038.jpg\n",
      "/kaggle/input/weedzip/labeled/images/agri_0_8195_jpeg.rf.21c09bf75b5ecd006f6db6f8b8dd173f.jpg\n",
      "/kaggle/input/weedzip/labeled/images/agri_0_2484_jpeg.rf.356d9e62ea0d4f26bfe0c493a8711b17.jpg\n",
      "/kaggle/input/weedzip/labeled/images/agri_0_2951_jpeg.rf.3c3abd3770a257bb07a5691f11d89b28.jpg\n",
      "/kaggle/input/weedzip/labeled/images/agri_0_4355_jpeg.rf.6cce51f4de0e8d707be40ffdb90bb740.jpg\n",
      "/kaggle/input/weedzip/labeled/images/agri_0_5723_jpeg.rf.8ebf4121351c0d152f1331053646c9e2.jpg\n",
      "/kaggle/input/weedzip/labeled/images/agri_0_2244_jpeg.rf.4115bee3a9307e223d1860b4a5fae0c1.jpg\n",
      "/kaggle/input/weedzip/labeled/images/agri_0_543_jpeg.rf.ae2ff42cf685997c0b6cc6a1aa0df1e1.jpg\n",
      "/kaggle/input/weedzip/labeled/images/agri_0_6292_jpeg.rf.187060304442c9f57a171315c8040054.jpg\n",
      "/kaggle/input/weedzip/labeled/images/agri_0_9770_jpeg.rf.76a34a0723974cc50a190c7ebfb71530.jpg\n",
      "/kaggle/input/weedzip/labeled/images/agri_0_4645_jpeg.rf.defd6d29f96634c06297d2fa9a00d02b.jpg\n",
      "/kaggle/input/weedzip/labeled/images/agri_0_7637_jpeg.rf.57b3b1b48f72a5799db7f4c08b63ec45.jpg\n",
      "/kaggle/input/weedzip/labeled/images/agri_0_2549_jpeg.rf.bff3bbd1217e4cc2d00716190185bb0a.jpg\n",
      "/kaggle/input/weedzip/labeled/images/agri_0_9618_jpeg.rf.474dd980b0b6b1c204e8a8a81ae60d45.jpg\n",
      "/kaggle/input/weedzip/labeled/images/agri_0_1123_jpeg.rf.555e8a07d9829437db02d964dfe5ba46.jpg\n",
      "/kaggle/input/weedzip/labeled/images/agri_0_4811_jpeg.rf.9a1faf1792569978dee4aecfc207f56c.jpg\n",
      "/kaggle/input/weedzip/labeled/images/agri_0_7135_jpeg.rf.0ccb4463a814105307e14dedeff2aaca.jpg\n",
      "/kaggle/input/weedzip/labeled/images/agri_0_4273_jpeg.rf.f17f473c1b77760c57f9b323b27ffb69.jpg\n",
      "/kaggle/input/weedzip/labeled/images/agri_0_7668_jpeg.rf.3d38f8c045172626d9d5b17252282b08.jpg\n",
      "/kaggle/input/weedzip/labeled/images/agri_0_4463_jpeg.rf.88d208b89843b0ce47df015313b27635.jpg\n",
      "/kaggle/input/weedzip/labeled/images/agri_0_9857_jpeg.rf.c8cd54a3a173b9b922adab7cca258fb5.jpg\n",
      "/kaggle/input/weedzip/labeled/images/agri_0_6547_jpeg.rf.8f5d01cb4725291885cdd2ee0e891b7f.jpg\n",
      "/kaggle/input/weedzip/labeled/images/agri_0_561_jpeg.rf.bb3dced3e01147b78bdbfafc8764a780.jpg\n",
      "/kaggle/input/weedzip/labeled/images/agri_0_3706_jpeg.rf.9fac827eb770fee9f8083e359a979dab.jpg\n",
      "/kaggle/input/weedzip/labeled/images/agri_0_7517_jpeg.rf.58046feafc4603b3f15d50be3b85af61.jpg\n",
      "/kaggle/input/weedzip/labeled/images/agri_0_8108_jpeg.rf.331f3ffe9bf846bf873e714fab2fe102.jpg\n",
      "/kaggle/input/weedzip/labeled/images/agri_0_2385_jpeg.rf.eac015833d56aa68af2e246e23946367.jpg\n",
      "/kaggle/input/weedzip/labeled/images/agri_0_526_jpeg.rf.3573bd1c2af8fe860310431753ef29ec.jpg\n",
      "/kaggle/input/weedzip/labeled/images/agri_0_3500_jpeg.rf.a2fab71d79db019dd3b4e5057a31c8b4.jpg\n",
      "/kaggle/input/weedzip/labeled/images/agri_0_5858_jpeg.rf.9ca552390731f969a682a10d7d715b8c.jpg\n",
      "/kaggle/input/weedzip/labeled/images/agri_0_4903_jpeg.rf.2b27a885848a63f49ea6a2f555e56d1c.jpg\n",
      "/kaggle/input/weedzip/labeled/images/agri_0_9850_jpeg.rf.62a5cc177ae8eb59baf413a23571ab5c.jpg\n",
      "/kaggle/input/weedzip/labeled/images/agri_0_1114_jpeg.rf.58c3e98265cde3a072aa44b4f868c934.jpg\n",
      "/kaggle/input/weedzip/labeled/images/agri_0_3796_jpeg.rf.59620308489d841e9038a269165ab20e.jpg\n",
      "/kaggle/input/weedzip/labeled/images/agri_0_3077_jpeg.rf.48f9053a10c7d2734c557254090bb303.jpg\n",
      "/kaggle/input/weedzip/labeled/images/agri_0_5318_jpeg.rf.c612bed933390d52cbdb3569fe27b2f2.jpg\n",
      "/kaggle/input/weedzip/labeled/images/agri_0_6152_jpeg.rf.eee251136fb3a269c41e61c0a5f7d5bf.jpg\n",
      "/kaggle/input/weedzip/labeled/images/agri_0_3231_jpeg.rf.c89d26d125abf354cbc5b3207be7dd9f.jpg\n",
      "/kaggle/input/weedzip/labeled/images/agri_0_2332_jpeg.rf.989df8419d2786d4a140ebff42048b91.jpg\n",
      "/kaggle/input/weedzip/labeled/images/agri_0_5718_jpeg.rf.10210a987802184b86d156aa8a4be7f7.jpg\n",
      "/kaggle/input/weedzip/labeled/images/agri_0_203_jpeg.rf.2dbdc67b5a89aee21b66c7ac0ce49483.jpg\n",
      "/kaggle/input/weedzip/labeled/images/agri_0_3276_jpeg.rf.87d0261516c8aa7bb540f1151f83aa48.jpg\n",
      "/kaggle/input/weedzip/labeled/images/agri_0_8980_jpeg.rf.d13797b97d1b7d22b792557a9e8e866b.jpg\n",
      "/kaggle/input/weedzip/labeled/images/agri_0_3039_jpeg.rf.2d9d163f62267a666c05e2b72b72e229.jpg\n",
      "/kaggle/input/weedzip/labeled/images/agri_0_4838_jpeg.rf.dc56368f862342a2c62192f5b57f0ae0.jpg\n",
      "/kaggle/input/weedzip/labeled/images/agri_0_4393_jpeg.rf.47fb1c8aff187fba8f7c67fefcbd49ed.jpg\n",
      "/kaggle/input/weedzip/labeled/images/agri_0_6412_jpeg.rf.2d9c77e9df846aed04fe9ca6a2653878.jpg\n",
      "/kaggle/input/weedzip/labeled/images/agri_0_1779_jpeg.rf.7b21f24e2d044635aba3b91525b5ec48.jpg\n",
      "/kaggle/input/weedzip/labeled/images/agri_0_4436_jpeg.rf.5d12cbde007da09363b6a3f3638eb52b.jpg\n",
      "/kaggle/input/weedzip/labeled/images/agri_0_5136_jpeg.rf.2ece5d04885580e357a35fa413d3d2db.jpg\n",
      "/kaggle/input/weedzip/labeled/images/agri_0_2595_jpeg.rf.516dd1842ab9f68b0c91a823209d71f1.jpg\n",
      "/kaggle/input/weedzip/labeled/images/agri_0_8752_jpeg.rf.6946b08e35083fb19210c0b483ac99ae.jpg\n",
      "/kaggle/input/weedzip/labeled/images/agri_0_8800_jpeg.rf.b23cc9788e1237fe3ace5b8a143f5cba.jpg\n",
      "/kaggle/input/weedzip/labeled/images/agri_0_7375_jpeg.rf.a72a1ac385ff257bfd8f1e7963c4a195.jpg\n",
      "/kaggle/input/weedzip/labeled/images/agri_0_2835_jpeg.rf.16c5196413fcae015c1ebcfbb3a3f6d1.jpg\n",
      "/kaggle/input/weedzip/labeled/images/agri_0_1094_jpeg.rf.7ec203e8b60f18d94a06b7ebc95dcd67.jpg\n",
      "/kaggle/input/weedzip/labeled/images/agri_0_2906_jpeg.rf.fda8696747193eb27dc77d4e8dfbd4c6.jpg\n",
      "/kaggle/input/weedzip/labeled/images/agri_0_177_jpeg.rf.033ee5ca14b89c45aa055ad8026bbd68.jpg\n",
      "/kaggle/input/weedzip/labeled/images/agri_0_4785_jpeg.rf.c51dffa8a535b2c89ae66b77155fde2e.jpg\n",
      "/kaggle/input/weedzip/labeled/images/agri_0_8269_jpeg.rf.530eee30f81522b98f3516d013e2bb30.jpg\n",
      "/kaggle/input/weedzip/labeled/images/agri_0_9562_jpeg.rf.92e9e8327ee190b4583548119abcefd9.jpg\n",
      "/kaggle/input/weedzip/labeled/images/agri_0_6977_jpeg.rf.07fe4993bb742060e1afb4e3cd1bd3e7.jpg\n",
      "/kaggle/input/weedzip/labeled/images/agri_0_151_jpeg.rf.4ac30cddc15550e3a6a0d7f3ee4b4890.jpg\n",
      "/kaggle/input/weedzip/labeled/images/agri_0_7588_jpeg.rf.15920e1bd22ea16b6d97389e3eea7d39.jpg\n",
      "/kaggle/input/weedzip/labeled/images/agri_0_8341_jpeg.rf.999ae1a9b7470bb6465e0e4fb1ca997f.jpg\n",
      "/kaggle/input/weedzip/labeled/images/agri_0_5819_jpeg.rf.97b028e0972533b71c1b3f53be4bdac9.jpg\n",
      "/kaggle/input/weedzip/labeled/images/agri_0_6904_jpeg.rf.66e2ddb5544d5b28e4fdf7fc6a6bb49b.jpg\n",
      "/kaggle/input/weedzip/labeled/images/agri_0_318_jpeg.rf.7c67e86e857e604b05a113475c045b33.jpg\n",
      "/kaggle/input/weedzip/labeled/images/agri_0_4984_jpeg.rf.5a3a5864022928cfcc76e31a0afe5c4d.jpg\n",
      "/kaggle/input/weedzip/labeled/images/agri_0_8926_jpeg.rf.d926ccbadbacb32e11a37cd90b941f59.jpg\n",
      "/kaggle/input/weedzip/labeled/images/agri_0_4019_jpeg.rf.b716b566aa288be7af2856b1aa121b93.jpg\n",
      "/kaggle/input/weedzip/labeled/images/agri_0_5426_jpeg.rf.2dd4d8b41a55fffaf308388a04824ee9.jpg\n",
      "/kaggle/input/weedzip/labeled/images/agri_0_4107_jpeg.rf.e4330a1077f74c2e5eaea05a7e2dc779.jpg\n",
      "/kaggle/input/weedzip/labeled/images/agri_0_8168_jpeg.rf.35c9bf348bf709c15bc5dd8e7aea4d69.jpg\n",
      "/kaggle/input/weedzip/labeled/images/agri_0_6287_jpeg.rf.36b813c7b8117e36986d1f5a6f8801da.jpg\n",
      "/kaggle/input/weedzip/labeled/images/agri_0_6735_jpeg.rf.53ef6fe9bfc3a66b759f2c783ea9fa9d.jpg\n",
      "/kaggle/input/weedzip/labeled/images/agri_0_7806_jpeg.rf.2478fd0b500f2f27085e5e8546b23d07.jpg\n",
      "/kaggle/input/weedzip/labeled/images/agri_0_2644_jpeg.rf.780e3f7d572165a18cbf373a86e0e539.jpg\n",
      "/kaggle/input/weedzip/labeled/images/agri_0_8747_jpeg.rf.9a68e67b050156b0c0536bb6891ee94f.jpg\n",
      "/kaggle/input/weedzip/labeled/images/agri_0_4058_jpeg.rf.0e8cc83b9b59bfc4b0d95d4582ef0209.jpg\n",
      "/kaggle/input/weedzip/labeled/images/agri_0_4383_jpeg.rf.d50963ba4870fef3d9fbc8f4c302e9bd.jpg\n",
      "/kaggle/input/weedzip/labeled/images/agri_0_2807_jpeg.rf.7df27c4bdb22b8b8217189461c8e303b.jpg\n",
      "/kaggle/input/weedzip/labeled/images/agri_0_156_jpeg.rf.4f99578f2ad3a73c10f4cb27eefaf53a.jpg\n",
      "/kaggle/input/weedzip/labeled/images/agri_0_6697_jpeg.rf.00c07aa1df7c8b81902dbc24af304ec7.jpg\n",
      "/kaggle/input/weedzip/labeled/images/agri_0_5216_jpeg.rf.435cc4dc26da4133717e96f59bc3a027.jpg\n",
      "/kaggle/input/weedzip/labeled/images/agri_0_6703_jpeg.rf.e209312bd016dea1b5e4d19cc47afdfc.jpg\n",
      "/kaggle/input/weedzip/labeled/images/agri_0_3925_jpeg.rf.58665c346961eac0a4d8fb357687ab6f.jpg\n",
      "/kaggle/input/weedzip/labeled/images/agri_0_6675_jpeg.rf.2ea5569d2e4c1b125d2d4130f0d39cc4.jpg\n",
      "/kaggle/input/weedzip/labeled/images/agri_0_4753_jpeg.rf.320faff5189385ebc0f2d01ff6824d14.jpg\n",
      "/kaggle/input/weedzip/labeled/images/agri_0_7288_jpeg.rf.60d5f9c93fa240f381212e5e7ac1f000.jpg\n",
      "/kaggle/input/weedzip/labeled/images/agri_0_3669_jpeg.rf.84af4bda485bd7235aa2fafeecb4184c.jpg\n",
      "/kaggle/input/weedzip/labeled/images/agri_0_301_jpeg.rf.bb6742d5df9ada62ace8c535769e9b36.jpg\n",
      "/kaggle/input/weedzip/labeled/images/agri_0_6852_jpeg.rf.c2ea4303cdc6e029a8478660b3444c7e.jpg\n",
      "/kaggle/input/weedzip/labeled/images/agri_0_8794_jpeg.rf.d3bbb9d298b24a61c056b6d021f1db89.jpg\n",
      "/kaggle/input/weedzip/labeled/images/agri_0_6574_jpeg.rf.9b8074959c2adf465d6c4dcc5c5ebff4.jpg\n",
      "/kaggle/input/weedzip/labeled/images/agri_0_8143_jpeg.rf.33b803b689d1900b2ef9c6d1b22976e8.jpg\n",
      "/kaggle/input/weedzip/labeled/images/agri_0_5711_jpeg.rf.ea36a932a3780deb8951a81da42bc930.jpg\n",
      "/kaggle/input/weedzip/labeled/images/agri_0_1572_jpeg.rf.54a70ed43e067fac9eda9fbe0580f24c.jpg\n",
      "/kaggle/input/weedzip/labeled/images/agri_0_823_jpeg.rf.061d4a2575778491ea81db7d7fb65b76.jpg\n",
      "/kaggle/input/weedzip/labeled/images/agri_0_840_jpeg.rf.ec6d3e0407cd4f6b75fbfd3f9eddd9d3.jpg\n",
      "/kaggle/input/weedzip/labeled/images/agri_0_4508_jpeg.rf.f1e48377613a673462f32b397694e490.jpg\n",
      "/kaggle/input/weedzip/labeled/images/agri_0_6765_jpeg.rf.dae5065a32e785707ed08a117b91bfa3.jpg\n",
      "/kaggle/input/weedzip/labeled/images/agri_0_5716_jpeg.rf.7859f7eb5507bebbd9ea8c18a5f8eff6.jpg\n",
      "/kaggle/input/weedzip/labeled/images/agri_0_1693_jpeg.rf.477dd9f8b380598bf3cb6de241005823.jpg\n",
      "/kaggle/input/weedzip/labeled/images/agri_0_4216_jpeg.rf.dd66297761b5a20711292dd3f43939f0.jpg\n",
      "/kaggle/input/weedzip/labeled/images/agri_0_2525_jpeg.rf.f0b6a6f8e98b71651179cf80a02f0ccc.jpg\n",
      "/kaggle/input/weedzip/labeled/images/agri_0_3682_jpeg.rf.fe23d8528ba213906d3e97a386391ac3.jpg\n",
      "/kaggle/input/weedzip/labeled/images/agri_0_6189_jpeg.rf.13d42e177fffd024ef3cd150a3c4bb7d.jpg\n",
      "/kaggle/input/weedzip/labeled/images/agri_0_3278_jpeg.rf.79dc2227d82dd8a41863ff28e90ff61c.jpg\n",
      "/kaggle/input/weedzip/labeled/images/agri_0_8956_jpeg.rf.a54d2322042740c60711f99b2edca7f5.jpg\n",
      "/kaggle/input/weedzip/labeled/images/agri_0_3592_jpeg.rf.c8b694dd9af11f3c069ef7cb2d1bc77a.jpg\n",
      "/kaggle/input/weedzip/labeled/images/agri_0_6258_jpeg.rf.6d7d1f779524f701ca75a84e2a7f89e6.jpg\n",
      "/kaggle/input/weedzip/labeled/images/agri_0_4014_jpeg.rf.ea47e2b64c69a1820c6d0e09cf5ff4e0.jpg\n",
      "/kaggle/input/weedzip/labeled/images/agri_0_76_jpeg.rf.d6ae333f230d9c532a9ed6bdc5281d5f.jpg\n",
      "/kaggle/input/weedzip/labeled/images/agri_0_6447_jpeg.rf.82b1ea3412710e2b7f8dfbb06223c79d.jpg\n",
      "/kaggle/input/weedzip/labeled/images/agri_0_8496_jpeg.rf.60561e28e8e1de2c506d72310d1730a5.jpg\n",
      "/kaggle/input/weedzip/labeled/images/agri_0_1564_jpeg.rf.e8e3de506c65fb4b49753253ecac5372.jpg\n",
      "/kaggle/input/weedzip/labeled/images/agri_0_3949_jpeg.rf.1e314a01e0b8eef679135a65ef058296.jpg\n",
      "/kaggle/input/weedzip/labeled/images/agri_0_5688_jpeg.rf.4d0aeb9192c1d4f038ae6377ec344953.jpg\n",
      "/kaggle/input/weedzip/labeled/images/agri_0_1320_jpeg.rf.b2274dcde8f023ad4de8a08369492d74.jpg\n",
      "/kaggle/input/weedzip/labeled/images/agri_0_5615_jpeg.rf.ae4dc9b732f9ed8dcfd9bfd30ccbb873.jpg\n",
      "/kaggle/input/weedzip/labeled/images/agri_0_7201_jpeg.rf.183871db54bb78b277c7133ac6f82ebd.jpg\n",
      "/kaggle/input/weedzip/labeled/images/agri_0_5128_jpeg.rf.c331d44a91621187ab96363796a37198.jpg\n",
      "/kaggle/input/weedzip/labeled/images/agri_0_618_jpeg.rf.6294855469a575d0e9305321423675b7.jpg\n",
      "/kaggle/input/weedzip/labeled/images/agri_0_7279_jpeg.rf.91396f062f93087fb3bafe85791fabd0.jpg\n",
      "/kaggle/input/weedzip/labeled/images/agri_0_8636_jpeg.rf.9be2f40466cf6c306b196cc78840cb81.jpg\n",
      "/kaggle/input/weedzip/labeled/images/agri_0_8417_jpeg.rf.fac4306efe263b7e1ca041e6ed77e49e.jpg\n",
      "/kaggle/input/weedzip/labeled/images/agri_0_4575_jpeg.rf.380bf28741246d54e01acbd45306c517.jpg\n",
      "/kaggle/input/weedzip/labeled/images/agri_0_1543_jpeg.rf.d838ae60de7481ceae60bd385452c0f1.jpg\n",
      "/kaggle/input/weedzip/labeled/images/agri_0_3913_jpeg.rf.8fa53c28ee0231494d9c9497a55717a6.jpg\n",
      "/kaggle/input/weedzip/labeled/images/agri_0_1508_jpeg.rf.1d3873caf87610faad54732ce3d39151.jpg\n",
      "/kaggle/input/weedzip/labeled/images/agri_0_8094_jpeg.rf.780c29835993bd48c5ff7ec5e4752c04.jpg\n",
      "/kaggle/input/weedzip/labeled/images/agri_0_8708_jpeg.rf.16ad50bf6193334fe49641bdca94551e.jpg\n",
      "/kaggle/input/weedzip/labeled/images/agri_0_3468_jpeg.rf.7f36e6c05fb050a385e3da60f1ea3daf.jpg\n",
      "/kaggle/input/weedzip/labeled/images/agri_0_6708_jpeg.rf.cfde3c3cb7c2da8eae2777805f2a1689.jpg\n",
      "/kaggle/input/weedzip/labeled/images/agri_0_2901_jpeg.rf.004708f81bc01c49302b052737f17f3c.jpg\n",
      "/kaggle/input/weedzip/labeled/images/agri_0_3480_jpeg.rf.077dd1d87aaec24061953ead9a60fef5.jpg\n",
      "/kaggle/input/weedzip/labeled/images/agri_0_357_jpeg.rf.499443410f6b53f5c53f8935f7c0ae6f.jpg\n",
      "/kaggle/input/weedzip/test/annotations/agri_0_9488_jpeg.rf.9032dd69a6977c2d34b8d67d9da0fe34.txt\n",
      "/kaggle/input/weedzip/test/annotations/agri_0_9198_jpeg.rf.266cc70aafb5f98a6f409eed29883847.txt\n",
      "/kaggle/input/weedzip/test/annotations/agri_0_8991_jpeg.rf.e46eb3e83c49f7b83fd8b49300ff6bf6.txt\n",
      "/kaggle/input/weedzip/test/annotations/agri_0_9183_jpeg.rf.cbd4715d486c8ef15c2ad9fa57f1989f.txt\n",
      "/kaggle/input/weedzip/test/annotations/agri_0_9135_jpeg.rf.f5afbc71d5606255b3522bfc6feec990.txt\n",
      "/kaggle/input/weedzip/test/annotations/agri_0_9161_jpeg.rf.7460b2b2f57bee0c48e02ff817724ad5.txt\n",
      "/kaggle/input/weedzip/test/annotations/agri_0_9601_jpeg.rf.98980a58475f9ab84aec08679905defb.txt\n",
      "/kaggle/input/weedzip/test/annotations/agri_0_9424_jpeg.rf.f758222e980e6d4265312a3cf6ac6751.txt\n",
      "/kaggle/input/weedzip/test/annotations/agri_0_9000_jpeg.rf.7485e150688038db2f93c32b3b5d10d2.txt\n",
      "/kaggle/input/weedzip/test/annotations/agri_0_9532_jpeg.rf.cec78142a3ad2cbd2466c222131f846a.txt\n",
      "/kaggle/input/weedzip/test/annotations/agri_0_9240_jpeg.rf.bc4209be17da91a36b445a77df419fdb.txt\n",
      "/kaggle/input/weedzip/test/annotations/agri_0_9698_jpeg.rf.2d42e15fa94fabb35f31fe8f1054fde0.txt\n",
      "/kaggle/input/weedzip/test/annotations/agri_0_9260_jpeg.rf.317e17b87da6fd4cd37e5071134efafa.txt\n",
      "/kaggle/input/weedzip/test/annotations/agri_0_9144_jpeg.rf.0a0939c3d002453a68ec987833eda345.txt\n",
      "/kaggle/input/weedzip/test/annotations/agri_0_9527_jpeg.rf.304b5429fa5077881aae1e4775fcdc67.txt\n",
      "/kaggle/input/weedzip/test/annotations/agri_0_9266_jpeg.rf.190539e7297457c48131e14d0eaf9823.txt\n",
      "/kaggle/input/weedzip/test/annotations/agri_0_9810_jpeg.rf.77e8bca37c1c18f5207554e8a0f5cb32.txt\n",
      "/kaggle/input/weedzip/test/annotations/agri_0_9489_jpeg.rf.28631fd4816fce6273ea3a7c3aed3794.txt\n",
      "/kaggle/input/weedzip/test/annotations/agri_0_9451_jpeg.rf.a0e85f372406c58574307c4397cf3657.txt\n",
      "/kaggle/input/weedzip/test/annotations/agri_0_9279_jpeg.rf.1e754c96a16dc1e519a2dc7ef32a4eb7.txt\n",
      "/kaggle/input/weedzip/test/annotations/agri_0_935_jpeg.rf.848421eb7816778361b44f6271d2534d.txt\n",
      "/kaggle/input/weedzip/test/annotations/agri_0_9132_jpeg.rf.881187a0ea138fd82cd41187f664f233.txt\n",
      "/kaggle/input/weedzip/test/annotations/agri_0_9172_jpeg.rf.1c689e1bff67af548d03e2ba5e005e63.txt\n",
      "/kaggle/input/weedzip/test/annotations/agri_0_9468_jpeg.rf.b644e3b31f9dfb1ad80f3a65e31e1a47.txt\n",
      "/kaggle/input/weedzip/test/annotations/agri_0_9208_jpeg.rf.dbf82e06e39201efc01d2b60e257e1ee.txt\n",
      "/kaggle/input/weedzip/test/annotations/agri_0_9740_jpeg.rf.ff197f2e371323429bd9eefe5a026d0b.txt\n",
      "/kaggle/input/weedzip/test/annotations/agri_0_9474_jpeg.rf.34577c6abe6a2706466c111dab7520ed.txt\n",
      "/kaggle/input/weedzip/test/annotations/agri_0_9458_jpeg.rf.3af37c99a3bf2447cd158091bd011bcd.txt\n",
      "/kaggle/input/weedzip/test/annotations/agri_0_8959_jpeg.rf.ae06f5492dd663f8a0e3c9aa344739ec.txt\n",
      "/kaggle/input/weedzip/test/annotations/agri_0_9881_jpeg.rf.ee55ad20cd1edd1f366c6d2641677d66.txt\n",
      "/kaggle/input/weedzip/test/annotations/agri_0_909_jpeg.rf.38ca57a45d239c41ec78ffddb1730cc2.txt\n",
      "/kaggle/input/weedzip/test/annotations/agri_0_9148_jpeg.rf.f906f448b054deb93b1cd1338b27b6ba.txt\n",
      "/kaggle/input/weedzip/test/annotations/agri_0_9502_jpeg.rf.bbfebc49790c0130090b6e87435e9b31.txt\n",
      "/kaggle/input/weedzip/test/annotations/agri_0_9435_jpeg.rf.265f411a3f9f26df4433c1e1da8cd713.txt\n",
      "/kaggle/input/weedzip/test/annotations/agri_0_9143_jpeg.rf.369366d74cf68fb8264db36281a6cd38.txt\n",
      "/kaggle/input/weedzip/test/annotations/agri_0_9116_jpeg.rf.812b125d18a8e7b60a363dc022354c92.txt\n",
      "/kaggle/input/weedzip/test/annotations/agri_0_9563_jpeg.rf.2d5256b218be40426425be9754ed2bab.txt\n",
      "/kaggle/input/weedzip/test/annotations/agri_0_941_jpeg.rf.8d03dbb3f9b2a5aad9d050121770505a.txt\n",
      "/kaggle/input/weedzip/test/annotations/agri_0_8960_jpeg.rf.eccb620966057def2282a376e1bc0a53.txt\n",
      "/kaggle/input/weedzip/test/annotations/agri_0_9403_jpeg.rf.57c356d0dc56f0e64a2cc480f4028033.txt\n",
      "/kaggle/input/weedzip/test/annotations/agri_0_9707_jpeg.rf.e18f01cc8f20269a9b0a252fe489823b.txt\n",
      "/kaggle/input/weedzip/test/annotations/agri_0_9612_jpeg.rf.adf03073eb25e316772b8dec9b9d88d0.txt\n",
      "/kaggle/input/weedzip/test/annotations/agri_0_9764_jpeg.rf.264c672fa7b490d968f13047c91b67bb.txt\n",
      "/kaggle/input/weedzip/test/annotations/agri_0_9152_jpeg.rf.ae839a3c5ec8f6b89ff05389895b0aa8.txt\n",
      "/kaggle/input/weedzip/test/annotations/agri_0_9430_jpeg.rf.55590fd568cfd05cb5a5f38a69781ce9.txt\n",
      "/kaggle/input/weedzip/test/annotations/agri_0_9220_jpeg.rf.29984de6f96d018800af07b32a2c6652.txt\n",
      "/kaggle/input/weedzip/test/annotations/agri_0_9584_jpeg.rf.7e9cf928a6bd1413a6c4cfde2f54b435.txt\n",
      "/kaggle/input/weedzip/test/annotations/agri_0_9425_jpeg.rf.a565ab3aaa9f745242b2999895d5814e.txt\n",
      "/kaggle/input/weedzip/test/annotations/agri_0_9397_jpeg.rf.e855d959bdb985a8d189f13f16110896.txt\n",
      "/kaggle/input/weedzip/test/annotations/agri_0_9586_jpeg.rf.00f91fb4178bae30704861c193fb7cef.txt\n",
      "/kaggle/input/weedzip/test/images/agri_0_9430_jpeg.rf.55590fd568cfd05cb5a5f38a69781ce9.jpg\n",
      "/kaggle/input/weedzip/test/images/agri_0_9266_jpeg.rf.190539e7297457c48131e14d0eaf9823.jpg\n",
      "/kaggle/input/weedzip/test/images/agri_0_9881_jpeg.rf.ee55ad20cd1edd1f366c6d2641677d66.jpg\n",
      "/kaggle/input/weedzip/test/images/agri_0_9532_jpeg.rf.cec78142a3ad2cbd2466c222131f846a.jpg\n",
      "/kaggle/input/weedzip/test/images/agri_0_941_jpeg.rf.8d03dbb3f9b2a5aad9d050121770505a.jpg\n",
      "/kaggle/input/weedzip/test/images/agri_0_8960_jpeg.rf.eccb620966057def2282a376e1bc0a53.jpg\n",
      "/kaggle/input/weedzip/test/images/agri_0_9152_jpeg.rf.ae839a3c5ec8f6b89ff05389895b0aa8.jpg\n",
      "/kaggle/input/weedzip/test/images/agri_0_9132_jpeg.rf.881187a0ea138fd82cd41187f664f233.jpg\n",
      "/kaggle/input/weedzip/test/images/agri_0_9397_jpeg.rf.e855d959bdb985a8d189f13f16110896.jpg\n",
      "/kaggle/input/weedzip/test/images/agri_0_8959_jpeg.rf.ae06f5492dd663f8a0e3c9aa344739ec.jpg\n",
      "/kaggle/input/weedzip/test/images/agri_0_9435_jpeg.rf.265f411a3f9f26df4433c1e1da8cd713.jpg\n",
      "/kaggle/input/weedzip/test/images/agri_0_9488_jpeg.rf.9032dd69a6977c2d34b8d67d9da0fe34.jpg\n",
      "/kaggle/input/weedzip/test/images/agri_0_9143_jpeg.rf.369366d74cf68fb8264db36281a6cd38.jpg\n",
      "/kaggle/input/weedzip/test/images/agri_0_9586_jpeg.rf.00f91fb4178bae30704861c193fb7cef.jpg\n",
      "/kaggle/input/weedzip/test/images/agri_0_9161_jpeg.rf.7460b2b2f57bee0c48e02ff817724ad5.jpg\n",
      "/kaggle/input/weedzip/test/images/agri_0_9468_jpeg.rf.b644e3b31f9dfb1ad80f3a65e31e1a47.jpg\n",
      "/kaggle/input/weedzip/test/images/agri_0_9601_jpeg.rf.98980a58475f9ab84aec08679905defb.jpg\n",
      "/kaggle/input/weedzip/test/images/agri_0_9612_jpeg.rf.adf03073eb25e316772b8dec9b9d88d0.jpg\n",
      "/kaggle/input/weedzip/test/images/agri_0_9148_jpeg.rf.f906f448b054deb93b1cd1338b27b6ba.jpg\n",
      "/kaggle/input/weedzip/test/images/agri_0_9403_jpeg.rf.57c356d0dc56f0e64a2cc480f4028033.jpg\n",
      "/kaggle/input/weedzip/test/images/agri_0_9425_jpeg.rf.a565ab3aaa9f745242b2999895d5814e.jpg\n",
      "/kaggle/input/weedzip/test/images/agri_0_9424_jpeg.rf.f758222e980e6d4265312a3cf6ac6751.jpg\n",
      "/kaggle/input/weedzip/test/images/agri_0_9740_jpeg.rf.ff197f2e371323429bd9eefe5a026d0b.jpg\n",
      "/kaggle/input/weedzip/test/images/agri_0_9451_jpeg.rf.a0e85f372406c58574307c4397cf3657.jpg\n",
      "/kaggle/input/weedzip/test/images/agri_0_9172_jpeg.rf.1c689e1bff67af548d03e2ba5e005e63.jpg\n",
      "/kaggle/input/weedzip/test/images/agri_0_8991_jpeg.rf.e46eb3e83c49f7b83fd8b49300ff6bf6.jpg\n",
      "/kaggle/input/weedzip/test/images/agri_0_9220_jpeg.rf.29984de6f96d018800af07b32a2c6652.jpg\n",
      "/kaggle/input/weedzip/test/images/agri_0_9279_jpeg.rf.1e754c96a16dc1e519a2dc7ef32a4eb7.jpg\n",
      "/kaggle/input/weedzip/test/images/agri_0_9144_jpeg.rf.0a0939c3d002453a68ec987833eda345.jpg\n",
      "/kaggle/input/weedzip/test/images/agri_0_9208_jpeg.rf.dbf82e06e39201efc01d2b60e257e1ee.jpg\n",
      "/kaggle/input/weedzip/test/images/agri_0_9260_jpeg.rf.317e17b87da6fd4cd37e5071134efafa.jpg\n",
      "/kaggle/input/weedzip/test/images/agri_0_9707_jpeg.rf.e18f01cc8f20269a9b0a252fe489823b.jpg\n",
      "/kaggle/input/weedzip/test/images/agri_0_909_jpeg.rf.38ca57a45d239c41ec78ffddb1730cc2.jpg\n",
      "/kaggle/input/weedzip/test/images/agri_0_9458_jpeg.rf.3af37c99a3bf2447cd158091bd011bcd.jpg\n",
      "/kaggle/input/weedzip/test/images/agri_0_935_jpeg.rf.848421eb7816778361b44f6271d2534d.jpg\n",
      "/kaggle/input/weedzip/test/images/agri_0_9116_jpeg.rf.812b125d18a8e7b60a363dc022354c92.jpg\n",
      "/kaggle/input/weedzip/test/images/agri_0_9000_jpeg.rf.7485e150688038db2f93c32b3b5d10d2.jpg\n",
      "/kaggle/input/weedzip/test/images/agri_0_9584_jpeg.rf.7e9cf928a6bd1413a6c4cfde2f54b435.jpg\n",
      "/kaggle/input/weedzip/test/images/agri_0_9198_jpeg.rf.266cc70aafb5f98a6f409eed29883847.jpg\n",
      "/kaggle/input/weedzip/test/images/agri_0_9502_jpeg.rf.bbfebc49790c0130090b6e87435e9b31.jpg\n",
      "/kaggle/input/weedzip/test/images/agri_0_9135_jpeg.rf.f5afbc71d5606255b3522bfc6feec990.jpg\n",
      "/kaggle/input/weedzip/test/images/agri_0_9183_jpeg.rf.cbd4715d486c8ef15c2ad9fa57f1989f.jpg\n",
      "/kaggle/input/weedzip/test/images/agri_0_9474_jpeg.rf.34577c6abe6a2706466c111dab7520ed.jpg\n",
      "/kaggle/input/weedzip/test/images/agri_0_9489_jpeg.rf.28631fd4816fce6273ea3a7c3aed3794.jpg\n",
      "/kaggle/input/weedzip/test/images/agri_0_9810_jpeg.rf.77e8bca37c1c18f5207554e8a0f5cb32.jpg\n",
      "/kaggle/input/weedzip/test/images/agri_0_9527_jpeg.rf.304b5429fa5077881aae1e4775fcdc67.jpg\n",
      "/kaggle/input/weedzip/test/images/agri_0_9240_jpeg.rf.bc4209be17da91a36b445a77df419fdb.jpg\n",
      "/kaggle/input/weedzip/test/images/agri_0_9563_jpeg.rf.2d5256b218be40426425be9754ed2bab.jpg\n",
      "/kaggle/input/weedzip/test/images/agri_0_9764_jpeg.rf.264c672fa7b490d968f13047c91b67bb.jpg\n",
      "/kaggle/input/weedzip/test/images/agri_0_9698_jpeg.rf.2d42e15fa94fabb35f31fe8f1054fde0.jpg\n"
     ]
    }
   ],
   "source": [
    "import pandas as pd \n",
    "import os\n",
    "for dirname, _, filenames in os.walk('/kaggle/input'):\n",
    "    for filename in filenames:\n",
    "        print(os.path.join(dirname, filename))"
   ]
  },
  {
   "cell_type": "markdown",
   "metadata": {},
   "source": [
    "# *Importing Libraries*"
   ]
  },
  {
   "cell_type": "code",
   "execution_count": null,
   "metadata": {},
   "outputs": [],
   "source": [
    "import os\n",
    "import cv2\n",
    "import shutil\n",
    "import random\n",
    "import numpy as np\n",
    "from tqdm import tqdm\n",
    "from sklearn.model_selection import train_test_split\n",
    "import yaml"
   ]
  },
  {
   "cell_type": "code",
   "execution_count": 2,
   "metadata": {
    "execution": {
     "iopub.execute_input": "2025-02-05T14:03:48.701258Z",
     "iopub.status.busy": "2025-02-05T14:03:48.700853Z",
     "iopub.status.idle": "2025-02-05T14:03:54.016102Z",
     "shell.execute_reply": "2025-02-05T14:03:54.015009Z",
     "shell.execute_reply.started": "2025-02-05T14:03:48.701233Z"
    },
    "trusted": true
   },
   "outputs": [
    {
     "name": "stdout",
     "output_type": "stream",
     "text": [
      "Collecting ultralytics\n",
      "  Downloading ultralytics-8.3.71-py3-none-any.whl.metadata (35 kB)\n",
      "Requirement already satisfied: numpy<=2.1.1,>=1.23.0 in /usr/local/lib/python3.10/dist-packages (from ultralytics) (1.26.4)\n",
      "Requirement already satisfied: matplotlib>=3.3.0 in /usr/local/lib/python3.10/dist-packages (from ultralytics) (3.7.5)\n",
      "Requirement already satisfied: opencv-python>=4.6.0 in /usr/local/lib/python3.10/dist-packages (from ultralytics) (4.10.0.84)\n",
      "Requirement already satisfied: pillow>=7.1.2 in /usr/local/lib/python3.10/dist-packages (from ultralytics) (11.0.0)\n",
      "Requirement already satisfied: pyyaml>=5.3.1 in /usr/local/lib/python3.10/dist-packages (from ultralytics) (6.0.2)\n",
      "Requirement already satisfied: requests>=2.23.0 in /usr/local/lib/python3.10/dist-packages (from ultralytics) (2.32.3)\n",
      "Requirement already satisfied: scipy>=1.4.1 in /usr/local/lib/python3.10/dist-packages (from ultralytics) (1.13.1)\n",
      "Requirement already satisfied: torch>=1.8.0 in /usr/local/lib/python3.10/dist-packages (from ultralytics) (2.5.1+cu121)\n",
      "Requirement already satisfied: torchvision>=0.9.0 in /usr/local/lib/python3.10/dist-packages (from ultralytics) (0.20.1+cu121)\n",
      "Requirement already satisfied: tqdm>=4.64.0 in /usr/local/lib/python3.10/dist-packages (from ultralytics) (4.67.1)\n",
      "Requirement already satisfied: psutil in /usr/local/lib/python3.10/dist-packages (from ultralytics) (5.9.5)\n",
      "Requirement already satisfied: py-cpuinfo in /usr/local/lib/python3.10/dist-packages (from ultralytics) (9.0.0)\n",
      "Requirement already satisfied: pandas>=1.1.4 in /usr/local/lib/python3.10/dist-packages (from ultralytics) (2.2.2)\n",
      "Requirement already satisfied: seaborn>=0.11.0 in /usr/local/lib/python3.10/dist-packages (from ultralytics) (0.12.2)\n",
      "Collecting ultralytics-thop>=2.0.0 (from ultralytics)\n",
      "  Downloading ultralytics_thop-2.0.14-py3-none-any.whl.metadata (9.4 kB)\n",
      "Requirement already satisfied: contourpy>=1.0.1 in /usr/local/lib/python3.10/dist-packages (from matplotlib>=3.3.0->ultralytics) (1.3.1)\n",
      "Requirement already satisfied: cycler>=0.10 in /usr/local/lib/python3.10/dist-packages (from matplotlib>=3.3.0->ultralytics) (0.12.1)\n",
      "Requirement already satisfied: fonttools>=4.22.0 in /usr/local/lib/python3.10/dist-packages (from matplotlib>=3.3.0->ultralytics) (4.55.3)\n",
      "Requirement already satisfied: kiwisolver>=1.0.1 in /usr/local/lib/python3.10/dist-packages (from matplotlib>=3.3.0->ultralytics) (1.4.7)\n",
      "Requirement already satisfied: packaging>=20.0 in /usr/local/lib/python3.10/dist-packages (from matplotlib>=3.3.0->ultralytics) (24.2)\n",
      "Requirement already satisfied: pyparsing>=2.3.1 in /usr/local/lib/python3.10/dist-packages (from matplotlib>=3.3.0->ultralytics) (3.2.0)\n",
      "Requirement already satisfied: python-dateutil>=2.7 in /usr/local/lib/python3.10/dist-packages (from matplotlib>=3.3.0->ultralytics) (2.8.2)\n",
      "Requirement already satisfied: mkl_fft in /usr/local/lib/python3.10/dist-packages (from numpy<=2.1.1,>=1.23.0->ultralytics) (1.3.8)\n",
      "Requirement already satisfied: mkl_random in /usr/local/lib/python3.10/dist-packages (from numpy<=2.1.1,>=1.23.0->ultralytics) (1.2.4)\n",
      "Requirement already satisfied: mkl_umath in /usr/local/lib/python3.10/dist-packages (from numpy<=2.1.1,>=1.23.0->ultralytics) (0.1.1)\n",
      "Requirement already satisfied: mkl in /usr/local/lib/python3.10/dist-packages (from numpy<=2.1.1,>=1.23.0->ultralytics) (2025.0.1)\n",
      "Requirement already satisfied: tbb4py in /usr/local/lib/python3.10/dist-packages (from numpy<=2.1.1,>=1.23.0->ultralytics) (2022.0.0)\n",
      "Requirement already satisfied: mkl-service in /usr/local/lib/python3.10/dist-packages (from numpy<=2.1.1,>=1.23.0->ultralytics) (2.4.1)\n",
      "Requirement already satisfied: pytz>=2020.1 in /usr/local/lib/python3.10/dist-packages (from pandas>=1.1.4->ultralytics) (2024.2)\n",
      "Requirement already satisfied: tzdata>=2022.7 in /usr/local/lib/python3.10/dist-packages (from pandas>=1.1.4->ultralytics) (2024.2)\n",
      "Requirement already satisfied: charset-normalizer<4,>=2 in /usr/local/lib/python3.10/dist-packages (from requests>=2.23.0->ultralytics) (3.4.0)\n",
      "Requirement already satisfied: idna<4,>=2.5 in /usr/local/lib/python3.10/dist-packages (from requests>=2.23.0->ultralytics) (3.10)\n",
      "Requirement already satisfied: urllib3<3,>=1.21.1 in /usr/local/lib/python3.10/dist-packages (from requests>=2.23.0->ultralytics) (2.2.3)\n",
      "Requirement already satisfied: certifi>=2017.4.17 in /usr/local/lib/python3.10/dist-packages (from requests>=2.23.0->ultralytics) (2024.12.14)\n",
      "Requirement already satisfied: filelock in /usr/local/lib/python3.10/dist-packages (from torch>=1.8.0->ultralytics) (3.16.1)\n",
      "Requirement already satisfied: typing-extensions>=4.8.0 in /usr/local/lib/python3.10/dist-packages (from torch>=1.8.0->ultralytics) (4.12.2)\n",
      "Requirement already satisfied: networkx in /usr/local/lib/python3.10/dist-packages (from torch>=1.8.0->ultralytics) (3.4.2)\n",
      "Requirement already satisfied: jinja2 in /usr/local/lib/python3.10/dist-packages (from torch>=1.8.0->ultralytics) (3.1.4)\n",
      "Requirement already satisfied: fsspec in /usr/local/lib/python3.10/dist-packages (from torch>=1.8.0->ultralytics) (2024.9.0)\n",
      "Requirement already satisfied: sympy==1.13.1 in /usr/local/lib/python3.10/dist-packages (from torch>=1.8.0->ultralytics) (1.13.1)\n",
      "Requirement already satisfied: mpmath<1.4,>=1.1.0 in /usr/local/lib/python3.10/dist-packages (from sympy==1.13.1->torch>=1.8.0->ultralytics) (1.3.0)\n",
      "Requirement already satisfied: six>=1.5 in /usr/local/lib/python3.10/dist-packages (from python-dateutil>=2.7->matplotlib>=3.3.0->ultralytics) (1.17.0)\n",
      "Requirement already satisfied: MarkupSafe>=2.0 in /usr/local/lib/python3.10/dist-packages (from jinja2->torch>=1.8.0->ultralytics) (3.0.2)\n",
      "Requirement already satisfied: intel-openmp>=2024 in /usr/local/lib/python3.10/dist-packages (from mkl->numpy<=2.1.1,>=1.23.0->ultralytics) (2024.2.0)\n",
      "Requirement already satisfied: tbb==2022.* in /usr/local/lib/python3.10/dist-packages (from mkl->numpy<=2.1.1,>=1.23.0->ultralytics) (2022.0.0)\n",
      "Requirement already satisfied: tcmlib==1.* in /usr/local/lib/python3.10/dist-packages (from tbb==2022.*->mkl->numpy<=2.1.1,>=1.23.0->ultralytics) (1.2.0)\n",
      "Requirement already satisfied: intel-cmplr-lib-rt in /usr/local/lib/python3.10/dist-packages (from mkl_umath->numpy<=2.1.1,>=1.23.0->ultralytics) (2024.2.0)\n",
      "Requirement already satisfied: intel-cmplr-lib-ur==2024.2.0 in /usr/local/lib/python3.10/dist-packages (from intel-openmp>=2024->mkl->numpy<=2.1.1,>=1.23.0->ultralytics) (2024.2.0)\n",
      "Downloading ultralytics-8.3.71-py3-none-any.whl (914 kB)\n",
      "\u001b[2K   \u001b[90m━━━━━━━━━━━━━━━━━━━━━━━━━━━━━━━━━━━━━━━━\u001b[0m \u001b[32m914.9/914.9 kB\u001b[0m \u001b[31m40.1 MB/s\u001b[0m eta \u001b[36m0:00:00\u001b[0m\n",
      "\u001b[?25hDownloading ultralytics_thop-2.0.14-py3-none-any.whl (26 kB)\n",
      "Installing collected packages: ultralytics-thop, ultralytics\n",
      "Successfully installed ultralytics-8.3.71 ultralytics-thop-2.0.14\n"
     ]
    }
   ],
   "source": [
    "!pip install ultralytics\n",
    "from ultralytics import YOLO"
   ]
  },
  {
   "cell_type": "markdown",
   "metadata": {},
   "source": [
    "# *Data Preprocessing*"
   ]
  },
  {
   "cell_type": "code",
   "execution_count": 4,
   "metadata": {
    "execution": {
     "iopub.execute_input": "2025-02-05T14:21:19.845277Z",
     "iopub.status.busy": "2025-02-05T14:21:19.844729Z",
     "iopub.status.idle": "2025-02-05T14:21:22.071009Z",
     "shell.execute_reply": "2025-02-05T14:21:22.070180Z",
     "shell.execute_reply.started": "2025-02-05T14:21:19.845252Z"
    },
    "trusted": true
   },
   "outputs": [
    {
     "name": "stdout",
     "output_type": "stream",
     "text": [
      "\n",
      "Original dataset statistics:\n",
      "Total original images: 200\n",
      "Training images before augmentation: 160\n",
      "Validation images: 40\n"
     ]
    },
    {
     "name": "stderr",
     "output_type": "stream",
     "text": [
      "Processing training images: 100%|██████████| 160/160 [00:01<00:00, 80.20it/s]\n",
      "Processing validation images: 100%|██████████| 40/40 [00:00<00:00, 233.86it/s]"
     ]
    },
    {
     "name": "stdout",
     "output_type": "stream",
     "text": [
      "\n",
      "Final dataset statistics:\n",
      "\n",
      "Image counts:\n",
      "Training images (original): 160\n",
      "Training images (augmented): 480\n",
      "Training images (total): 640\n",
      "Validation images: 40\n",
      "\n",
      "Dataset sizes:\n",
      "Training set size: 46.41 MB\n",
      "Validation set size: 2.52 MB\n",
      "Total dataset size: 52.01 MB\n",
      "\n",
      "Files per directory:\n",
      "train/images: 640 files\n",
      "train/labels: 640 files\n",
      "val/images: 40 files\n",
      "val/labels: 40 files\n"
     ]
    },
    {
     "name": "stderr",
     "output_type": "stream",
     "text": [
      "\n"
     ]
    }
   ],
   "source": [
    "def create_directory_structure(base_path):\n",
    "    \"\"\"Create the necessary directory structure for the dataset.\"\"\"\n",
    "    folders = [\n",
    "        \"train/images\", \"train/labels\",\n",
    "        \"val/images\", \"val/labels\",\n",
    "        \"test/images\", \"test/labels\"\n",
    "    ]\n",
    "    for folder in folders:\n",
    "        os.makedirs(os.path.join(base_path, folder), exist_ok=True)\n",
    "    return folders\n",
    "\n",
    "def adjust_annotations(annotations, crop_x, crop_y, crop_w, crop_h, orig_w, orig_h):\n",
    "    \"\"\"Adjust bounding box annotations after cropping.\"\"\"\n",
    "    new_annotations = []\n",
    "    for line in annotations:\n",
    "        class_id, x_center, y_center, width, height = map(float, line.strip().split())\n",
    "        x_abs, y_abs = x_center * orig_w, y_center * orig_h\n",
    "        width, height = width * orig_w, height * orig_h\n",
    "        \n",
    "        x1, y1 = x_abs - width / 2, y_abs - height / 2\n",
    "        x2, y2 = x_abs + width / 2, y_abs + height / 2\n",
    "        \n",
    "        if x1 >= crop_x and y1 >= crop_y and x2 <= crop_x + crop_w and y2 <= crop_y + crop_h:\n",
    "            x1_new, y1_new = x1 - crop_x, y1 - crop_y\n",
    "            x2_new, y2_new = x2 - crop_x, y2 - crop_y\n",
    "            x_center_new = (x1_new + x2_new) / 2 / crop_w\n",
    "            y_center_new = (y1_new + y2_new) / 2 / crop_h\n",
    "            width_new = (x2_new - x1_new) / crop_w\n",
    "            height_new = (y2_new - y1_new) / crop_h\n",
    "            new_annotations.append(f\"{class_id} {x_center_new:.6f} {y_center_new:.6f} {width_new:.6f} {height_new:.6f}\")\n",
    "    return new_annotations\n",
    "\n",
    "def random_crop(image, annotations, crop_size=(224, 224)):\n",
    "    \"\"\"Randomly crop image and adjust annotations.\"\"\"\n",
    "    h, w, _ = image.shape\n",
    "    crop_h, crop_w = crop_size\n",
    "    if crop_h > h or crop_w > w:\n",
    "        return image, annotations\n",
    "    x_start = random.randint(0, w - crop_w)\n",
    "    y_start = random.randint(0, h - crop_h)\n",
    "    cropped_image = image[y_start:y_start + crop_h, x_start:x_start + crop_w]\n",
    "    new_annotations = adjust_annotations(annotations, x_start, y_start, crop_w, crop_h, w, h)\n",
    "    return cropped_image, new_annotations\n",
    "\n",
    "def invert_colors(image):\n",
    "    \"\"\"Invert image colors.\"\"\"\n",
    "    return cv2.bitwise_not(image)\n",
    "\n",
    "def apply_gaussian_blur(image, kernel_size=(5, 5)):\n",
    "    \"\"\"Apply Gaussian blur to image.\"\"\"\n",
    "    return cv2.GaussianBlur(image, kernel_size, 0)\n",
    "\n",
    "def get_dir_size(path):\n",
    "    \"\"\"Get directory size in MB.\"\"\"\n",
    "    total_size = 0\n",
    "    for dirpath, dirnames, filenames in os.walk(path):\n",
    "        for f in filenames:\n",
    "            fp = os.path.join(dirpath, f)\n",
    "            total_size += os.path.getsize(fp)\n",
    "    return total_size / (1024 * 1024)  # Convert to MB\n",
    "\n",
    "# Data augmentations done\n",
    "# ------------------------------------------------------------------------------\n",
    "\n",
    "def process_training_set(train_orig, source_paths, dest_paths, augment=True):\n",
    "    \"\"\"Process training set with optional augmentation.\"\"\"\n",
    "    processed_count = 0\n",
    "    augmented_count = 0\n",
    "    \n",
    "    for img_name in tqdm(train_orig, desc=\"Processing training images\"):\n",
    "        img_path = os.path.join(source_paths['images'], img_name)\n",
    "        ann_path = os.path.join(source_paths['annotations'], img_name.replace(\".jpg\", \".txt\"))\n",
    "        \n",
    "        if not os.path.exists(ann_path):\n",
    "            continue\n",
    "        \n",
    "        image = cv2.imread(img_path)\n",
    "        with open(ann_path, \"r\") as f:\n",
    "            annotations = f.readlines()\n",
    "        \n",
    "        # Copy original\n",
    "        shutil.copy(img_path, os.path.join(dest_paths['images'], img_name))\n",
    "        shutil.copy(ann_path, os.path.join(dest_paths['labels'], img_name.replace(\".jpg\", \".txt\")))\n",
    "        processed_count += 1\n",
    "        \n",
    "        if augment:\n",
    "            # Generate augmentations\n",
    "            augmentations = [\n",
    "                random_crop(image, annotations),\n",
    "                (invert_colors(image), annotations),\n",
    "                (apply_gaussian_blur(image), annotations)\n",
    "            ]\n",
    "            \n",
    "            for i, (aug_img, aug_ann) in enumerate(augmentations):\n",
    "                aug_img_name = f\"aug_{i}_{img_name}\"\n",
    "                aug_ann_name = f\"aug_{i}_{img_name.replace('.jpg', '.txt')}\"\n",
    "                cv2.imwrite(os.path.join(dest_paths['images'], aug_img_name), aug_img)\n",
    "                with open(os.path.join(dest_paths['labels'], aug_ann_name), \"w\") as f:\n",
    "                    f.write(\"\\n\".join(aug_ann))\n",
    "                augmented_count += 1\n",
    "                \n",
    "    return processed_count, augmented_count\n",
    "\n",
    "# Data Splitting\n",
    "\n",
    "def process_dataset_split(image_list, source_paths, dest_paths, split_name=\"\"):\n",
    "    \"\"\"Process dataset split (validation or test).\"\"\"\n",
    "    processed_count = 0\n",
    "    for img_name in tqdm(image_list, desc=f\"Processing {split_name} images\"):\n",
    "        img_path = os.path.join(source_paths['images'], img_name)\n",
    "        ann_path = os.path.join(source_paths['annotations'], img_name.replace(\".jpg\", \".txt\"))\n",
    "        \n",
    "        if not os.path.exists(ann_path):\n",
    "            continue\n",
    "        \n",
    "        shutil.copy(img_path, os.path.join(dest_paths['images'], img_name))\n",
    "        shutil.copy(ann_path, os.path.join(dest_paths['labels'], img_name.replace(\".jpg\", \".txt\")))\n",
    "        processed_count += 1\n",
    "    \n",
    "    return processed_count\n",
    "\n",
    "#-------------------------------------------------------------------------------------------------------\n",
    "\n",
    "def main():\n",
    "    base_path = \"/kaggle/input/weedzip\"\n",
    "    source_paths = {\n",
    "        'labeled_images': os.path.join(base_path, \"labeled/images\"),\n",
    "        'labeled_annotations': os.path.join(base_path, \"labeled/annotations\"),\n",
    "        'test_images': os.path.join(base_path, \"test/images\"),\n",
    "        'test_annotations': os.path.join(base_path, \"test/annotations\")\n",
    "    }\n",
    "    preprocessed_path = \"/kaggle/working/Preprocessed_img_weed\"\n",
    "    folders = create_directory_structure(preprocessed_path)\n",
    "    all_original_images = os.listdir(source_paths['labeled_images'])\n",
    "    train_orig, val_orig = train_test_split(all_original_images, test_size=0.2, random_state=42)\n",
    "    \n",
    "    # Print initial dataset statistics\n",
    "    print(\"\\nOriginal dataset statistics:\")\n",
    "    print(f\"Total original images: {len(all_original_images)}\")\n",
    "    print(f\"Training images before augmentation: {len(train_orig)}\")\n",
    "    print(f\"Validation images: {len(val_orig)}\")\n",
    "    \n",
    "    # Processing dataset\n",
    "    train_paths = {\n",
    "        'images': os.path.join(preprocessed_path, \"train/images\"),\n",
    "        'labels': os.path.join(preprocessed_path, \"train/labels\")\n",
    "    }\n",
    "    processed_train, augmented_count = process_training_set(\n",
    "        train_orig,\n",
    "        {'images': source_paths['labeled_images'], 'annotations': source_paths['labeled_annotations']},\n",
    "        train_paths\n",
    "    )\n",
    "    val_paths = {\n",
    "        'images': os.path.join(preprocessed_path, \"val/images\"),\n",
    "        'labels': os.path.join(preprocessed_path, \"val/labels\")\n",
    "    }\n",
    "    processed_val = process_dataset_split(\n",
    "        val_orig,\n",
    "        {'images': source_paths['labeled_images'], 'annotations': source_paths['labeled_annotations']},\n",
    "        val_paths,\n",
    "        \"validation\"\n",
    "    )\n",
    "    test_paths = {\n",
    "        'images': os.path.join(preprocessed_path, \"test/images\"),\n",
    "        'labels': os.path.join(preprocessed_path, \"test/labels\")\n",
    "    }\n",
    "    processed_test = process_dataset_split(\n",
    "        os.listdir(source_paths['test_images']),\n",
    "        {'images': source_paths['test_images'], 'annotations': source_paths['test_annotations']},\n",
    "        test_paths,\n",
    "        \"test\"\n",
    "    )\n",
    "    \n",
    "    # Print dataset statistics\n",
    "    print(\"\\nFinal dataset statistics:\")\n",
    "    print(\"\\nImage counts:\")\n",
    "    print(f\"Training images (original): {processed_train}\")\n",
    "    print(f\"Training images (augmented): {augmented_count}\")\n",
    "    print(f\"Training images (total): {processed_train + augmented_count}\")\n",
    "    print(f\"Validation images: {processed_val}\")\n",
    "    print(f\"Test images: {processed_test}\")\n",
    "    \n",
    "    print(\"\\nDataset sizes:\")\n",
    "    print(f\"Training set size: {get_dir_size(os.path.join(preprocessed_path, 'train')):.2f} MB\")\n",
    "    print(f\"Validation set size: {get_dir_size(os.path.join(preprocessed_path, 'val')):.2f} MB\")\n",
    "    print(f\"Test set size: {get_dir_size(os.path.join(preprocessed_path, 'test')):.2f} MB\")\n",
    "    print(f\"Total dataset size: {get_dir_size(preprocessed_path):.2f} MB\")\n",
    "    \n",
    "    print(\"\\nFiles per directory:\")\n",
    "    for folder in folders:\n",
    "        path = os.path.join(preprocessed_path, folder)\n",
    "        print(f\"{folder}: {len(os.listdir(path))} files\")\n",
    "\n",
    "if __name__ == \"__main__\":\n",
    "    main()"
   ]
  },
  {
   "cell_type": "markdown",
   "metadata": {},
   "source": [
    "# *Training Pipeline*"
   ]
  },
  {
   "cell_type": "code",
   "execution_count": 11,
   "metadata": {
    "execution": {
     "iopub.execute_input": "2025-02-04T18:21:16.258792Z",
     "iopub.status.busy": "2025-02-04T18:21:16.258421Z",
     "iopub.status.idle": "2025-02-04T18:54:38.248905Z",
     "shell.execute_reply": "2025-02-04T18:54:38.247690Z",
     "shell.execute_reply.started": "2025-02-04T18:21:16.258767Z"
    },
    "trusted": true
   },
   "outputs": [
    {
     "name": "stdout",
     "output_type": "stream",
     "text": [
      "YAML file created at: /kaggle/working/weed_dataset.yaml\n",
      "Downloading https://github.com/ultralytics/assets/releases/download/v8.3.0/yolov8s.pt to 'yolov8s.pt'...\n"
     ]
    },
    {
     "name": "stderr",
     "output_type": "stream",
     "text": [
      "100%|██████████| 21.5M/21.5M [00:00<00:00, 188MB/s]\n"
     ]
    },
    {
     "name": "stdout",
     "output_type": "stream",
     "text": [
      "Ultralytics 8.3.71 🚀 Python-3.10.12 torch-2.5.1+cu121 CUDA:0 (Tesla P100-PCIE-16GB, 16269MiB)\n",
      "\u001b[34m\u001b[1mengine/trainer: \u001b[0mtask=detect, mode=train, model=yolov8s.pt, data=/kaggle/working/weed_dataset.yaml, epochs=100, time=None, patience=100, batch=16, imgsz=640, save=True, save_period=-1, cache=False, device=cuda, workers=8, project=None, name=train, exist_ok=False, pretrained=True, optimizer=auto, verbose=True, seed=0, deterministic=True, single_cls=False, rect=False, cos_lr=False, close_mosaic=10, resume=False, amp=True, fraction=1.0, profile=False, freeze=None, multi_scale=False, overlap_mask=True, mask_ratio=4, dropout=0.0, val=True, split=val, save_json=False, save_hybrid=False, conf=None, iou=0.7, max_det=300, half=False, dnn=False, plots=True, source=None, vid_stride=1, stream_buffer=False, visualize=False, augment=False, agnostic_nms=False, classes=None, retina_masks=False, embed=None, show=False, save_frames=False, save_txt=False, save_conf=False, save_crop=False, show_labels=True, show_conf=True, show_boxes=True, line_width=None, format=torchscript, keras=False, optimize=False, int8=False, dynamic=False, simplify=True, opset=None, workspace=None, nms=False, lr0=0.01, lrf=0.01, momentum=0.937, weight_decay=0.0005, warmup_epochs=3.0, warmup_momentum=0.8, warmup_bias_lr=0.1, box=7.5, cls=0.5, dfl=1.5, pose=12.0, kobj=1.0, nbs=64, hsv_h=0.015, hsv_s=0.7, hsv_v=0.4, degrees=0.0, translate=0.1, scale=0.5, shear=0.0, perspective=0.0, flipud=0.0, fliplr=0.5, bgr=0.0, mosaic=1.0, mixup=0.0, copy_paste=0.0, copy_paste_mode=flip, auto_augment=randaugment, erasing=0.4, crop_fraction=1.0, cfg=None, tracker=botsort.yaml, save_dir=runs/detect/train\n",
      "Downloading https://ultralytics.com/assets/Arial.ttf to '/root/.config/Ultralytics/Arial.ttf'...\n"
     ]
    },
    {
     "name": "stderr",
     "output_type": "stream",
     "text": [
      "100%|██████████| 755k/755k [00:00<00:00, 14.2MB/s]\n"
     ]
    },
    {
     "name": "stdout",
     "output_type": "stream",
     "text": [
      "Overriding model.yaml nc=80 with nc=2\n",
      "\n",
      "                   from  n    params  module                                       arguments                     \n",
      "  0                  -1  1       928  ultralytics.nn.modules.conv.Conv             [3, 32, 3, 2]                 \n",
      "  1                  -1  1     18560  ultralytics.nn.modules.conv.Conv             [32, 64, 3, 2]                \n",
      "  2                  -1  1     29056  ultralytics.nn.modules.block.C2f             [64, 64, 1, True]             \n",
      "  3                  -1  1     73984  ultralytics.nn.modules.conv.Conv             [64, 128, 3, 2]               \n",
      "  4                  -1  2    197632  ultralytics.nn.modules.block.C2f             [128, 128, 2, True]           \n",
      "  5                  -1  1    295424  ultralytics.nn.modules.conv.Conv             [128, 256, 3, 2]              \n",
      "  6                  -1  2    788480  ultralytics.nn.modules.block.C2f             [256, 256, 2, True]           \n",
      "  7                  -1  1   1180672  ultralytics.nn.modules.conv.Conv             [256, 512, 3, 2]              \n",
      "  8                  -1  1   1838080  ultralytics.nn.modules.block.C2f             [512, 512, 1, True]           \n",
      "  9                  -1  1    656896  ultralytics.nn.modules.block.SPPF            [512, 512, 5]                 \n",
      " 10                  -1  1         0  torch.nn.modules.upsampling.Upsample         [None, 2, 'nearest']          \n",
      " 11             [-1, 6]  1         0  ultralytics.nn.modules.conv.Concat           [1]                           \n",
      " 12                  -1  1    591360  ultralytics.nn.modules.block.C2f             [768, 256, 1]                 \n",
      " 13                  -1  1         0  torch.nn.modules.upsampling.Upsample         [None, 2, 'nearest']          \n",
      " 14             [-1, 4]  1         0  ultralytics.nn.modules.conv.Concat           [1]                           \n",
      " 15                  -1  1    148224  ultralytics.nn.modules.block.C2f             [384, 128, 1]                 \n",
      " 16                  -1  1    147712  ultralytics.nn.modules.conv.Conv             [128, 128, 3, 2]              \n",
      " 17            [-1, 12]  1         0  ultralytics.nn.modules.conv.Concat           [1]                           \n",
      " 18                  -1  1    493056  ultralytics.nn.modules.block.C2f             [384, 256, 1]                 \n",
      " 19                  -1  1    590336  ultralytics.nn.modules.conv.Conv             [256, 256, 3, 2]              \n",
      " 20             [-1, 9]  1         0  ultralytics.nn.modules.conv.Concat           [1]                           \n",
      " 21                  -1  1   1969152  ultralytics.nn.modules.block.C2f             [768, 512, 1]                 \n",
      " 22        [15, 18, 21]  1   2116822  ultralytics.nn.modules.head.Detect           [2, [128, 256, 512]]          \n",
      "Model summary: 225 layers, 11,136,374 parameters, 11,136,358 gradients, 28.6 GFLOPs\n",
      "\n",
      "Transferred 349/355 items from pretrained weights\n",
      "\u001b[34m\u001b[1mTensorBoard: \u001b[0mStart with 'tensorboard --logdir runs/detect/train', view at http://localhost:6006/\n",
      "Freezing layer 'model.22.dfl.conv.weight'\n",
      "\u001b[34m\u001b[1mAMP: \u001b[0mrunning Automatic Mixed Precision (AMP) checks...\n",
      "Downloading https://github.com/ultralytics/assets/releases/download/v8.3.0/yolo11n.pt to 'yolo11n.pt'...\n"
     ]
    },
    {
     "name": "stderr",
     "output_type": "stream",
     "text": [
      "100%|██████████| 5.35M/5.35M [00:00<00:00, 75.8MB/s]\n"
     ]
    },
    {
     "name": "stdout",
     "output_type": "stream",
     "text": [
      "\u001b[34m\u001b[1mAMP: \u001b[0mchecks passed ✅\n"
     ]
    },
    {
     "name": "stderr",
     "output_type": "stream",
     "text": [
      "\u001b[34m\u001b[1mtrain: \u001b[0mScanning /kaggle/working/Preprocessed_img_weed/train/labels... 897 images, 179 backgrounds, 0 corrupt: 100%|██████████| 897/897 [00:00<00:00, 1014.53it/s]"
     ]
    },
    {
     "name": "stdout",
     "output_type": "stream",
     "text": [
      "\u001b[34m\u001b[1mtrain: \u001b[0mNew cache created: /kaggle/working/Preprocessed_img_weed/train/labels.cache\n"
     ]
    },
    {
     "name": "stderr",
     "output_type": "stream",
     "text": [
      "\n"
     ]
    },
    {
     "name": "stdout",
     "output_type": "stream",
     "text": [
      "\u001b[34m\u001b[1malbumentations: \u001b[0mBlur(p=0.01, blur_limit=(3, 7)), MedianBlur(p=0.01, blur_limit=(3, 7)), ToGray(p=0.01, num_output_channels=3, method='weighted_average'), CLAHE(p=0.01, clip_limit=(1.0, 4.0), tile_grid_size=(8, 8))\n"
     ]
    },
    {
     "name": "stderr",
     "output_type": "stream",
     "text": [
      "/usr/local/lib/python3.10/dist-packages/albumentations/__init__.py:24: UserWarning: A new version of Albumentations is available: 2.0.3 (you have 1.4.20). Upgrade using: pip install -U albumentations. To disable automatic update checks, set the environment variable NO_ALBUMENTATIONS_UPDATE to 1.\n",
      "  check_for_updates()\n",
      "\u001b[34m\u001b[1mval: \u001b[0mScanning /kaggle/working/Preprocessed_img_weed/val/labels... 207 images, 48 backgrounds, 0 corrupt: 100%|██████████| 207/207 [00:00<00:00, 986.88it/s] "
     ]
    },
    {
     "name": "stdout",
     "output_type": "stream",
     "text": [
      "\u001b[34m\u001b[1mval: \u001b[0mNew cache created: /kaggle/working/Preprocessed_img_weed/val/labels.cache\n"
     ]
    },
    {
     "name": "stderr",
     "output_type": "stream",
     "text": [
      "\n"
     ]
    },
    {
     "name": "stdout",
     "output_type": "stream",
     "text": [
      "Plotting labels to runs/detect/train/labels.jpg... \n",
      "\u001b[34m\u001b[1moptimizer:\u001b[0m 'optimizer=auto' found, ignoring 'lr0=0.01' and 'momentum=0.937' and determining best 'optimizer', 'lr0' and 'momentum' automatically... \n",
      "\u001b[34m\u001b[1moptimizer:\u001b[0m AdamW(lr=0.001667, momentum=0.9) with parameter groups 57 weight(decay=0.0), 64 weight(decay=0.0005), 63 bias(decay=0.0)\n",
      "\u001b[34m\u001b[1mTensorBoard: \u001b[0mmodel graph visualization added ✅\n",
      "Image sizes 640 train, 640 val\n",
      "Using 4 dataloader workers\n",
      "Logging results to \u001b[1mruns/detect/train\u001b[0m\n",
      "Starting training for 100 epochs...\n",
      "\n",
      "      Epoch    GPU_mem   box_loss   cls_loss   dfl_loss  Instances       Size\n"
     ]
    },
    {
     "name": "stderr",
     "output_type": "stream",
     "text": [
      "      1/100      4.69G      1.545      2.472      1.761          3        640: 100%|██████████| 57/57 [00:18<00:00,  3.06it/s]\n",
      "                 Class     Images  Instances      Box(P          R      mAP50  mAP50-95): 100%|██████████| 7/7 [00:02<00:00,  2.49it/s]"
     ]
    },
    {
     "name": "stdout",
     "output_type": "stream",
     "text": [
      "                   all        207        262      0.489      0.541      0.503      0.219\n"
     ]
    },
    {
     "name": "stderr",
     "output_type": "stream",
     "text": [
      "\n"
     ]
    },
    {
     "name": "stdout",
     "output_type": "stream",
     "text": [
      "\n",
      "      Epoch    GPU_mem   box_loss   cls_loss   dfl_loss  Instances       Size\n"
     ]
    },
    {
     "name": "stderr",
     "output_type": "stream",
     "text": [
      "      2/100      4.62G      1.544      1.827      1.754          1        640: 100%|██████████| 57/57 [00:17<00:00,  3.30it/s]\n",
      "                 Class     Images  Instances      Box(P          R      mAP50  mAP50-95): 100%|██████████| 7/7 [00:01<00:00,  4.35it/s]"
     ]
    },
    {
     "name": "stdout",
     "output_type": "stream",
     "text": [
      "                   all        207        262       0.25      0.469       0.31      0.126\n"
     ]
    },
    {
     "name": "stderr",
     "output_type": "stream",
     "text": [
      "\n"
     ]
    },
    {
     "name": "stdout",
     "output_type": "stream",
     "text": [
      "\n",
      "      Epoch    GPU_mem   box_loss   cls_loss   dfl_loss  Instances       Size\n"
     ]
    },
    {
     "name": "stderr",
     "output_type": "stream",
     "text": [
      "      3/100      4.69G      1.606      1.769      1.782          4        640: 100%|██████████| 57/57 [00:17<00:00,  3.30it/s]\n",
      "                 Class     Images  Instances      Box(P          R      mAP50  mAP50-95): 100%|██████████| 7/7 [00:01<00:00,  4.25it/s]"
     ]
    },
    {
     "name": "stdout",
     "output_type": "stream",
     "text": [
      "                   all        207        262      0.182      0.347      0.146     0.0436\n"
     ]
    },
    {
     "name": "stderr",
     "output_type": "stream",
     "text": [
      "\n"
     ]
    },
    {
     "name": "stdout",
     "output_type": "stream",
     "text": [
      "\n",
      "      Epoch    GPU_mem   box_loss   cls_loss   dfl_loss  Instances       Size\n"
     ]
    },
    {
     "name": "stderr",
     "output_type": "stream",
     "text": [
      "      4/100      4.66G      1.554      1.707      1.779          1        640: 100%|██████████| 57/57 [00:17<00:00,  3.33it/s]\n",
      "                 Class     Images  Instances      Box(P          R      mAP50  mAP50-95): 100%|██████████| 7/7 [00:01<00:00,  4.36it/s]"
     ]
    },
    {
     "name": "stdout",
     "output_type": "stream",
     "text": [
      "                   all        207        262      0.249      0.355      0.249     0.0961\n"
     ]
    },
    {
     "name": "stderr",
     "output_type": "stream",
     "text": [
      "\n"
     ]
    },
    {
     "name": "stdout",
     "output_type": "stream",
     "text": [
      "\n",
      "      Epoch    GPU_mem   box_loss   cls_loss   dfl_loss  Instances       Size\n"
     ]
    },
    {
     "name": "stderr",
     "output_type": "stream",
     "text": [
      "      5/100      4.66G      1.548      1.612      1.753          3        640: 100%|██████████| 57/57 [00:17<00:00,  3.35it/s]\n",
      "                 Class     Images  Instances      Box(P          R      mAP50  mAP50-95): 100%|██████████| 7/7 [00:01<00:00,  4.11it/s]"
     ]
    },
    {
     "name": "stdout",
     "output_type": "stream",
     "text": [
      "                   all        207        262       0.34      0.511      0.397      0.188\n"
     ]
    },
    {
     "name": "stderr",
     "output_type": "stream",
     "text": [
      "\n"
     ]
    },
    {
     "name": "stdout",
     "output_type": "stream",
     "text": [
      "\n",
      "      Epoch    GPU_mem   box_loss   cls_loss   dfl_loss  Instances       Size\n"
     ]
    },
    {
     "name": "stderr",
     "output_type": "stream",
     "text": [
      "      6/100      4.65G      1.518      1.603      1.719          6        640: 100%|██████████| 57/57 [00:17<00:00,  3.32it/s]\n",
      "                 Class     Images  Instances      Box(P          R      mAP50  mAP50-95): 100%|██████████| 7/7 [00:01<00:00,  4.01it/s]"
     ]
    },
    {
     "name": "stdout",
     "output_type": "stream",
     "text": [
      "                   all        207        262      0.543      0.599      0.602       0.27\n"
     ]
    },
    {
     "name": "stderr",
     "output_type": "stream",
     "text": [
      "\n"
     ]
    },
    {
     "name": "stdout",
     "output_type": "stream",
     "text": [
      "\n",
      "      Epoch    GPU_mem   box_loss   cls_loss   dfl_loss  Instances       Size\n"
     ]
    },
    {
     "name": "stderr",
     "output_type": "stream",
     "text": [
      "      7/100      4.61G      1.472       1.51      1.668          3        640: 100%|██████████| 57/57 [00:17<00:00,  3.33it/s]\n",
      "                 Class     Images  Instances      Box(P          R      mAP50  mAP50-95): 100%|██████████| 7/7 [00:01<00:00,  4.19it/s]"
     ]
    },
    {
     "name": "stdout",
     "output_type": "stream",
     "text": [
      "                   all        207        262      0.703      0.619      0.676      0.302\n"
     ]
    },
    {
     "name": "stderr",
     "output_type": "stream",
     "text": [
      "\n"
     ]
    },
    {
     "name": "stdout",
     "output_type": "stream",
     "text": [
      "\n",
      "      Epoch    GPU_mem   box_loss   cls_loss   dfl_loss  Instances       Size\n"
     ]
    },
    {
     "name": "stderr",
     "output_type": "stream",
     "text": [
      "      8/100      4.65G      1.439      1.413      1.678          3        640: 100%|██████████| 57/57 [00:17<00:00,  3.35it/s]\n",
      "                 Class     Images  Instances      Box(P          R      mAP50  mAP50-95): 100%|██████████| 7/7 [00:01<00:00,  4.37it/s]"
     ]
    },
    {
     "name": "stdout",
     "output_type": "stream",
     "text": [
      "                   all        207        262      0.617      0.611      0.649      0.302\n"
     ]
    },
    {
     "name": "stderr",
     "output_type": "stream",
     "text": [
      "\n"
     ]
    },
    {
     "name": "stdout",
     "output_type": "stream",
     "text": [
      "\n",
      "      Epoch    GPU_mem   box_loss   cls_loss   dfl_loss  Instances       Size\n"
     ]
    },
    {
     "name": "stderr",
     "output_type": "stream",
     "text": [
      "      9/100      4.65G      1.456      1.385      1.657          3        640: 100%|██████████| 57/57 [00:17<00:00,  3.35it/s]\n",
      "                 Class     Images  Instances      Box(P          R      mAP50  mAP50-95): 100%|██████████| 7/7 [00:01<00:00,  4.31it/s]"
     ]
    },
    {
     "name": "stdout",
     "output_type": "stream",
     "text": [
      "                   all        207        262      0.618      0.665      0.675      0.331\n"
     ]
    },
    {
     "name": "stderr",
     "output_type": "stream",
     "text": [
      "\n"
     ]
    },
    {
     "name": "stdout",
     "output_type": "stream",
     "text": [
      "\n",
      "      Epoch    GPU_mem   box_loss   cls_loss   dfl_loss  Instances       Size\n"
     ]
    },
    {
     "name": "stderr",
     "output_type": "stream",
     "text": [
      "     10/100      4.65G      1.382      1.318      1.619          1        640: 100%|██████████| 57/57 [00:17<00:00,  3.35it/s]\n",
      "                 Class     Images  Instances      Box(P          R      mAP50  mAP50-95): 100%|██████████| 7/7 [00:01<00:00,  4.33it/s]"
     ]
    },
    {
     "name": "stdout",
     "output_type": "stream",
     "text": [
      "                   all        207        262      0.671      0.695      0.742       0.41\n"
     ]
    },
    {
     "name": "stderr",
     "output_type": "stream",
     "text": [
      "\n"
     ]
    },
    {
     "name": "stdout",
     "output_type": "stream",
     "text": [
      "\n",
      "      Epoch    GPU_mem   box_loss   cls_loss   dfl_loss  Instances       Size\n"
     ]
    },
    {
     "name": "stderr",
     "output_type": "stream",
     "text": [
      "     11/100      4.61G      1.343      1.298       1.59          2        640: 100%|██████████| 57/57 [00:17<00:00,  3.31it/s]\n",
      "                 Class     Images  Instances      Box(P          R      mAP50  mAP50-95): 100%|██████████| 7/7 [00:01<00:00,  4.34it/s]"
     ]
    },
    {
     "name": "stdout",
     "output_type": "stream",
     "text": [
      "                   all        207        262      0.702      0.754      0.783      0.455\n"
     ]
    },
    {
     "name": "stderr",
     "output_type": "stream",
     "text": [
      "\n"
     ]
    },
    {
     "name": "stdout",
     "output_type": "stream",
     "text": [
      "\n",
      "      Epoch    GPU_mem   box_loss   cls_loss   dfl_loss  Instances       Size\n"
     ]
    },
    {
     "name": "stderr",
     "output_type": "stream",
     "text": [
      "     12/100      4.66G        1.3      1.229      1.573          8        640: 100%|██████████| 57/57 [00:17<00:00,  3.33it/s]\n",
      "                 Class     Images  Instances      Box(P          R      mAP50  mAP50-95): 100%|██████████| 7/7 [00:01<00:00,  4.27it/s]"
     ]
    },
    {
     "name": "stdout",
     "output_type": "stream",
     "text": [
      "                   all        207        262      0.783      0.641      0.777      0.451\n"
     ]
    },
    {
     "name": "stderr",
     "output_type": "stream",
     "text": [
      "\n"
     ]
    },
    {
     "name": "stdout",
     "output_type": "stream",
     "text": [
      "\n",
      "      Epoch    GPU_mem   box_loss   cls_loss   dfl_loss  Instances       Size\n"
     ]
    },
    {
     "name": "stderr",
     "output_type": "stream",
     "text": [
      "     13/100      4.65G      1.326       1.23      1.569          2        640: 100%|██████████| 57/57 [00:17<00:00,  3.35it/s]\n",
      "                 Class     Images  Instances      Box(P          R      mAP50  mAP50-95): 100%|██████████| 7/7 [00:01<00:00,  4.31it/s]"
     ]
    },
    {
     "name": "stdout",
     "output_type": "stream",
     "text": [
      "                   all        207        262      0.774      0.767      0.826      0.499\n"
     ]
    },
    {
     "name": "stderr",
     "output_type": "stream",
     "text": [
      "\n"
     ]
    },
    {
     "name": "stdout",
     "output_type": "stream",
     "text": [
      "\n",
      "      Epoch    GPU_mem   box_loss   cls_loss   dfl_loss  Instances       Size\n"
     ]
    },
    {
     "name": "stderr",
     "output_type": "stream",
     "text": [
      "     14/100      4.66G      1.305      1.172      1.561          3        640: 100%|██████████| 57/57 [00:17<00:00,  3.32it/s]\n",
      "                 Class     Images  Instances      Box(P          R      mAP50  mAP50-95): 100%|██████████| 7/7 [00:01<00:00,  4.33it/s]"
     ]
    },
    {
     "name": "stdout",
     "output_type": "stream",
     "text": [
      "                   all        207        262      0.789      0.751      0.839      0.491\n"
     ]
    },
    {
     "name": "stderr",
     "output_type": "stream",
     "text": [
      "\n"
     ]
    },
    {
     "name": "stdout",
     "output_type": "stream",
     "text": [
      "\n",
      "      Epoch    GPU_mem   box_loss   cls_loss   dfl_loss  Instances       Size\n"
     ]
    },
    {
     "name": "stderr",
     "output_type": "stream",
     "text": [
      "     15/100      4.61G      1.285      1.166      1.566          1        640: 100%|██████████| 57/57 [00:17<00:00,  3.32it/s]\n",
      "                 Class     Images  Instances      Box(P          R      mAP50  mAP50-95): 100%|██████████| 7/7 [00:01<00:00,  4.29it/s]"
     ]
    },
    {
     "name": "stdout",
     "output_type": "stream",
     "text": [
      "                   all        207        262      0.856      0.724      0.843      0.534\n"
     ]
    },
    {
     "name": "stderr",
     "output_type": "stream",
     "text": [
      "\n"
     ]
    },
    {
     "name": "stdout",
     "output_type": "stream",
     "text": [
      "\n",
      "      Epoch    GPU_mem   box_loss   cls_loss   dfl_loss  Instances       Size\n"
     ]
    },
    {
     "name": "stderr",
     "output_type": "stream",
     "text": [
      "     16/100      4.65G      1.249      1.074      1.525          2        640: 100%|██████████| 57/57 [00:17<00:00,  3.34it/s]\n",
      "                 Class     Images  Instances      Box(P          R      mAP50  mAP50-95): 100%|██████████| 7/7 [00:01<00:00,  4.37it/s]"
     ]
    },
    {
     "name": "stdout",
     "output_type": "stream",
     "text": [
      "                   all        207        262      0.737      0.714      0.767       0.45\n"
     ]
    },
    {
     "name": "stderr",
     "output_type": "stream",
     "text": [
      "\n"
     ]
    },
    {
     "name": "stdout",
     "output_type": "stream",
     "text": [
      "\n",
      "      Epoch    GPU_mem   box_loss   cls_loss   dfl_loss  Instances       Size\n"
     ]
    },
    {
     "name": "stderr",
     "output_type": "stream",
     "text": [
      "     17/100      4.65G      1.285      1.154      1.556          2        640: 100%|██████████| 57/57 [00:17<00:00,  3.33it/s]\n",
      "                 Class     Images  Instances      Box(P          R      mAP50  mAP50-95): 100%|██████████| 7/7 [00:01<00:00,  4.32it/s]"
     ]
    },
    {
     "name": "stdout",
     "output_type": "stream",
     "text": [
      "                   all        207        262      0.813      0.724       0.83       0.56\n"
     ]
    },
    {
     "name": "stderr",
     "output_type": "stream",
     "text": [
      "\n"
     ]
    },
    {
     "name": "stdout",
     "output_type": "stream",
     "text": [
      "\n",
      "      Epoch    GPU_mem   box_loss   cls_loss   dfl_loss  Instances       Size\n"
     ]
    },
    {
     "name": "stderr",
     "output_type": "stream",
     "text": [
      "     18/100      4.64G      1.251      1.096       1.53          1        640: 100%|██████████| 57/57 [00:17<00:00,  3.35it/s]\n",
      "                 Class     Images  Instances      Box(P          R      mAP50  mAP50-95): 100%|██████████| 7/7 [00:01<00:00,  4.34it/s]"
     ]
    },
    {
     "name": "stdout",
     "output_type": "stream",
     "text": [
      "                   all        207        262      0.815      0.786      0.844      0.534\n"
     ]
    },
    {
     "name": "stderr",
     "output_type": "stream",
     "text": [
      "\n"
     ]
    },
    {
     "name": "stdout",
     "output_type": "stream",
     "text": [
      "\n",
      "      Epoch    GPU_mem   box_loss   cls_loss   dfl_loss  Instances       Size\n"
     ]
    },
    {
     "name": "stderr",
     "output_type": "stream",
     "text": [
      "     19/100      4.62G      1.206      1.075      1.492          5        640: 100%|██████████| 57/57 [00:17<00:00,  3.30it/s]\n",
      "                 Class     Images  Instances      Box(P          R      mAP50  mAP50-95): 100%|██████████| 7/7 [00:01<00:00,  4.33it/s]"
     ]
    },
    {
     "name": "stdout",
     "output_type": "stream",
     "text": [
      "                   all        207        262      0.703      0.817      0.839      0.546\n"
     ]
    },
    {
     "name": "stderr",
     "output_type": "stream",
     "text": [
      "\n"
     ]
    },
    {
     "name": "stdout",
     "output_type": "stream",
     "text": [
      "\n",
      "      Epoch    GPU_mem   box_loss   cls_loss   dfl_loss  Instances       Size\n"
     ]
    },
    {
     "name": "stderr",
     "output_type": "stream",
     "text": [
      "     20/100      4.66G      1.189      1.036      1.486          2        640: 100%|██████████| 57/57 [00:17<00:00,  3.34it/s]\n",
      "                 Class     Images  Instances      Box(P          R      mAP50  mAP50-95): 100%|██████████| 7/7 [00:01<00:00,  4.16it/s]"
     ]
    },
    {
     "name": "stdout",
     "output_type": "stream",
     "text": [
      "                   all        207        262      0.797       0.74      0.816      0.525\n"
     ]
    },
    {
     "name": "stderr",
     "output_type": "stream",
     "text": [
      "\n"
     ]
    },
    {
     "name": "stdout",
     "output_type": "stream",
     "text": [
      "\n",
      "      Epoch    GPU_mem   box_loss   cls_loss   dfl_loss  Instances       Size\n"
     ]
    },
    {
     "name": "stderr",
     "output_type": "stream",
     "text": [
      "     21/100      4.65G      1.204      1.029       1.48          1        640: 100%|██████████| 57/57 [00:17<00:00,  3.34it/s]\n",
      "                 Class     Images  Instances      Box(P          R      mAP50  mAP50-95): 100%|██████████| 7/7 [00:01<00:00,  4.36it/s]"
     ]
    },
    {
     "name": "stdout",
     "output_type": "stream",
     "text": [
      "                   all        207        262      0.806       0.82      0.877      0.583\n"
     ]
    },
    {
     "name": "stderr",
     "output_type": "stream",
     "text": [
      "\n"
     ]
    },
    {
     "name": "stdout",
     "output_type": "stream",
     "text": [
      "\n",
      "      Epoch    GPU_mem   box_loss   cls_loss   dfl_loss  Instances       Size\n"
     ]
    },
    {
     "name": "stderr",
     "output_type": "stream",
     "text": [
      "     22/100      4.65G      1.128     0.9573       1.44          5        640: 100%|██████████| 57/57 [00:17<00:00,  3.33it/s]\n",
      "                 Class     Images  Instances      Box(P          R      mAP50  mAP50-95): 100%|██████████| 7/7 [00:01<00:00,  4.40it/s]"
     ]
    },
    {
     "name": "stdout",
     "output_type": "stream",
     "text": [
      "                   all        207        262       0.85      0.786       0.88      0.598\n"
     ]
    },
    {
     "name": "stderr",
     "output_type": "stream",
     "text": [
      "\n"
     ]
    },
    {
     "name": "stdout",
     "output_type": "stream",
     "text": [
      "\n",
      "      Epoch    GPU_mem   box_loss   cls_loss   dfl_loss  Instances       Size\n"
     ]
    },
    {
     "name": "stderr",
     "output_type": "stream",
     "text": [
      "     23/100      4.61G      1.155      1.028      1.452          1        640: 100%|██████████| 57/57 [00:17<00:00,  3.33it/s]\n",
      "                 Class     Images  Instances      Box(P          R      mAP50  mAP50-95): 100%|██████████| 7/7 [00:01<00:00,  4.39it/s]"
     ]
    },
    {
     "name": "stdout",
     "output_type": "stream",
     "text": [
      "                   all        207        262      0.917      0.824       0.92      0.627\n"
     ]
    },
    {
     "name": "stderr",
     "output_type": "stream",
     "text": [
      "\n"
     ]
    },
    {
     "name": "stdout",
     "output_type": "stream",
     "text": [
      "\n",
      "      Epoch    GPU_mem   box_loss   cls_loss   dfl_loss  Instances       Size\n"
     ]
    },
    {
     "name": "stderr",
     "output_type": "stream",
     "text": [
      "     24/100      4.65G      1.131     0.9349      1.432          4        640: 100%|██████████| 57/57 [00:17<00:00,  3.32it/s]\n",
      "                 Class     Images  Instances      Box(P          R      mAP50  mAP50-95): 100%|██████████| 7/7 [00:01<00:00,  4.39it/s]"
     ]
    },
    {
     "name": "stdout",
     "output_type": "stream",
     "text": [
      "                   all        207        262      0.833      0.863      0.919      0.648\n"
     ]
    },
    {
     "name": "stderr",
     "output_type": "stream",
     "text": [
      "\n"
     ]
    },
    {
     "name": "stdout",
     "output_type": "stream",
     "text": [
      "\n",
      "      Epoch    GPU_mem   box_loss   cls_loss   dfl_loss  Instances       Size\n"
     ]
    },
    {
     "name": "stderr",
     "output_type": "stream",
     "text": [
      "     25/100      4.65G      1.114     0.9383      1.432          4        640: 100%|██████████| 57/57 [00:17<00:00,  3.35it/s]\n",
      "                 Class     Images  Instances      Box(P          R      mAP50  mAP50-95): 100%|██████████| 7/7 [00:01<00:00,  4.46it/s]"
     ]
    },
    {
     "name": "stdout",
     "output_type": "stream",
     "text": [
      "                   all        207        262      0.839      0.819      0.891      0.615\n"
     ]
    },
    {
     "name": "stderr",
     "output_type": "stream",
     "text": [
      "\n"
     ]
    },
    {
     "name": "stdout",
     "output_type": "stream",
     "text": [
      "\n",
      "      Epoch    GPU_mem   box_loss   cls_loss   dfl_loss  Instances       Size\n"
     ]
    },
    {
     "name": "stderr",
     "output_type": "stream",
     "text": [
      "     26/100      4.65G      1.153     0.9509      1.464          2        640: 100%|██████████| 57/57 [00:16<00:00,  3.36it/s]\n",
      "                 Class     Images  Instances      Box(P          R      mAP50  mAP50-95): 100%|██████████| 7/7 [00:01<00:00,  4.53it/s]"
     ]
    },
    {
     "name": "stdout",
     "output_type": "stream",
     "text": [
      "                   all        207        262      0.827      0.859      0.906      0.645\n"
     ]
    },
    {
     "name": "stderr",
     "output_type": "stream",
     "text": [
      "\n"
     ]
    },
    {
     "name": "stdout",
     "output_type": "stream",
     "text": [
      "\n",
      "      Epoch    GPU_mem   box_loss   cls_loss   dfl_loss  Instances       Size\n"
     ]
    },
    {
     "name": "stderr",
     "output_type": "stream",
     "text": [
      "     27/100      4.61G      1.101       1.04      1.385          0        640: 100%|██████████| 57/57 [00:17<00:00,  3.35it/s]\n",
      "                 Class     Images  Instances      Box(P          R      mAP50  mAP50-95): 100%|██████████| 7/7 [00:01<00:00,  4.27it/s]"
     ]
    },
    {
     "name": "stdout",
     "output_type": "stream",
     "text": [
      "                   all        207        262      0.858      0.854      0.925      0.645\n"
     ]
    },
    {
     "name": "stderr",
     "output_type": "stream",
     "text": [
      "\n"
     ]
    },
    {
     "name": "stdout",
     "output_type": "stream",
     "text": [
      "\n",
      "      Epoch    GPU_mem   box_loss   cls_loss   dfl_loss  Instances       Size\n"
     ]
    },
    {
     "name": "stderr",
     "output_type": "stream",
     "text": [
      "     28/100      4.66G      1.101     0.8823      1.408          1        640: 100%|██████████| 57/57 [00:16<00:00,  3.35it/s]\n",
      "                 Class     Images  Instances      Box(P          R      mAP50  mAP50-95): 100%|██████████| 7/7 [00:01<00:00,  4.33it/s]"
     ]
    },
    {
     "name": "stdout",
     "output_type": "stream",
     "text": [
      "                   all        207        262      0.864      0.825      0.898       0.64\n"
     ]
    },
    {
     "name": "stderr",
     "output_type": "stream",
     "text": [
      "\n"
     ]
    },
    {
     "name": "stdout",
     "output_type": "stream",
     "text": [
      "\n",
      "      Epoch    GPU_mem   box_loss   cls_loss   dfl_loss  Instances       Size\n"
     ]
    },
    {
     "name": "stderr",
     "output_type": "stream",
     "text": [
      "     29/100      4.65G      1.113     0.8869      1.415          2        640: 100%|██████████| 57/57 [00:16<00:00,  3.36it/s]\n",
      "                 Class     Images  Instances      Box(P          R      mAP50  mAP50-95): 100%|██████████| 7/7 [00:01<00:00,  4.34it/s]"
     ]
    },
    {
     "name": "stdout",
     "output_type": "stream",
     "text": [
      "                   all        207        262      0.798      0.879      0.916      0.662\n"
     ]
    },
    {
     "name": "stderr",
     "output_type": "stream",
     "text": [
      "\n"
     ]
    },
    {
     "name": "stdout",
     "output_type": "stream",
     "text": [
      "\n",
      "      Epoch    GPU_mem   box_loss   cls_loss   dfl_loss  Instances       Size\n"
     ]
    },
    {
     "name": "stderr",
     "output_type": "stream",
     "text": [
      "     30/100      4.65G      1.045     0.8468      1.368          2        640: 100%|██████████| 57/57 [00:16<00:00,  3.36it/s]\n",
      "                 Class     Images  Instances      Box(P          R      mAP50  mAP50-95): 100%|██████████| 7/7 [00:01<00:00,  4.56it/s]"
     ]
    },
    {
     "name": "stdout",
     "output_type": "stream",
     "text": [
      "                   all        207        262      0.852      0.847      0.883      0.639\n"
     ]
    },
    {
     "name": "stderr",
     "output_type": "stream",
     "text": [
      "\n"
     ]
    },
    {
     "name": "stdout",
     "output_type": "stream",
     "text": [
      "\n",
      "      Epoch    GPU_mem   box_loss   cls_loss   dfl_loss  Instances       Size\n"
     ]
    },
    {
     "name": "stderr",
     "output_type": "stream",
     "text": [
      "     31/100      4.61G      1.066      0.902      1.402          1        640: 100%|██████████| 57/57 [00:16<00:00,  3.37it/s]\n",
      "                 Class     Images  Instances      Box(P          R      mAP50  mAP50-95): 100%|██████████| 7/7 [00:01<00:00,  4.43it/s]"
     ]
    },
    {
     "name": "stdout",
     "output_type": "stream",
     "text": [
      "                   all        207        262      0.857      0.848      0.895      0.657\n"
     ]
    },
    {
     "name": "stderr",
     "output_type": "stream",
     "text": [
      "\n"
     ]
    },
    {
     "name": "stdout",
     "output_type": "stream",
     "text": [
      "\n",
      "      Epoch    GPU_mem   box_loss   cls_loss   dfl_loss  Instances       Size\n"
     ]
    },
    {
     "name": "stderr",
     "output_type": "stream",
     "text": [
      "     32/100      4.66G      1.044     0.8565      1.392          1        640: 100%|██████████| 57/57 [00:17<00:00,  3.35it/s]\n",
      "                 Class     Images  Instances      Box(P          R      mAP50  mAP50-95): 100%|██████████| 7/7 [00:01<00:00,  4.50it/s]"
     ]
    },
    {
     "name": "stdout",
     "output_type": "stream",
     "text": [
      "                   all        207        262      0.798      0.885      0.906      0.678\n"
     ]
    },
    {
     "name": "stderr",
     "output_type": "stream",
     "text": [
      "\n"
     ]
    },
    {
     "name": "stdout",
     "output_type": "stream",
     "text": [
      "\n",
      "      Epoch    GPU_mem   box_loss   cls_loss   dfl_loss  Instances       Size\n"
     ]
    },
    {
     "name": "stderr",
     "output_type": "stream",
     "text": [
      "     33/100      4.65G      1.018     0.8213      1.354          1        640: 100%|██████████| 57/57 [00:16<00:00,  3.36it/s]\n",
      "                 Class     Images  Instances      Box(P          R      mAP50  mAP50-95): 100%|██████████| 7/7 [00:01<00:00,  4.42it/s]"
     ]
    },
    {
     "name": "stdout",
     "output_type": "stream",
     "text": [
      "                   all        207        262      0.878      0.876      0.935      0.704\n"
     ]
    },
    {
     "name": "stderr",
     "output_type": "stream",
     "text": [
      "\n"
     ]
    },
    {
     "name": "stdout",
     "output_type": "stream",
     "text": [
      "\n",
      "      Epoch    GPU_mem   box_loss   cls_loss   dfl_loss  Instances       Size\n"
     ]
    },
    {
     "name": "stderr",
     "output_type": "stream",
     "text": [
      "     34/100      4.64G       1.02     0.8212      1.337          2        640: 100%|██████████| 57/57 [00:16<00:00,  3.36it/s]\n",
      "                 Class     Images  Instances      Box(P          R      mAP50  mAP50-95): 100%|██████████| 7/7 [00:01<00:00,  4.44it/s]"
     ]
    },
    {
     "name": "stdout",
     "output_type": "stream",
     "text": [
      "                   all        207        262       0.85      0.865      0.927      0.689\n"
     ]
    },
    {
     "name": "stderr",
     "output_type": "stream",
     "text": [
      "\n"
     ]
    },
    {
     "name": "stdout",
     "output_type": "stream",
     "text": [
      "\n",
      "      Epoch    GPU_mem   box_loss   cls_loss   dfl_loss  Instances       Size\n"
     ]
    },
    {
     "name": "stderr",
     "output_type": "stream",
     "text": [
      "     35/100      4.61G     0.9865     0.7963      1.343          2        640: 100%|██████████| 57/57 [00:16<00:00,  3.36it/s]\n",
      "                 Class     Images  Instances      Box(P          R      mAP50  mAP50-95): 100%|██████████| 7/7 [00:01<00:00,  4.40it/s]"
     ]
    },
    {
     "name": "stdout",
     "output_type": "stream",
     "text": [
      "                   all        207        262      0.854      0.844      0.898       0.66\n"
     ]
    },
    {
     "name": "stderr",
     "output_type": "stream",
     "text": [
      "\n"
     ]
    },
    {
     "name": "stdout",
     "output_type": "stream",
     "text": [
      "\n",
      "      Epoch    GPU_mem   box_loss   cls_loss   dfl_loss  Instances       Size\n"
     ]
    },
    {
     "name": "stderr",
     "output_type": "stream",
     "text": [
      "     36/100      4.66G     0.9689     0.7709      1.325          2        640: 100%|██████████| 57/57 [00:16<00:00,  3.36it/s]\n",
      "                 Class     Images  Instances      Box(P          R      mAP50  mAP50-95): 100%|██████████| 7/7 [00:01<00:00,  4.47it/s]"
     ]
    },
    {
     "name": "stdout",
     "output_type": "stream",
     "text": [
      "                   all        207        262       0.85      0.882      0.924      0.693\n"
     ]
    },
    {
     "name": "stderr",
     "output_type": "stream",
     "text": [
      "\n"
     ]
    },
    {
     "name": "stdout",
     "output_type": "stream",
     "text": [
      "\n",
      "      Epoch    GPU_mem   box_loss   cls_loss   dfl_loss  Instances       Size\n"
     ]
    },
    {
     "name": "stderr",
     "output_type": "stream",
     "text": [
      "     37/100      4.69G     0.9736     0.7789      1.321          1        640: 100%|██████████| 57/57 [00:16<00:00,  3.36it/s]\n",
      "                 Class     Images  Instances      Box(P          R      mAP50  mAP50-95): 100%|██████████| 7/7 [00:01<00:00,  4.57it/s]"
     ]
    },
    {
     "name": "stdout",
     "output_type": "stream",
     "text": [
      "                   all        207        262      0.913      0.848      0.939      0.717\n"
     ]
    },
    {
     "name": "stderr",
     "output_type": "stream",
     "text": [
      "\n"
     ]
    },
    {
     "name": "stdout",
     "output_type": "stream",
     "text": [
      "\n",
      "      Epoch    GPU_mem   box_loss   cls_loss   dfl_loss  Instances       Size\n"
     ]
    },
    {
     "name": "stderr",
     "output_type": "stream",
     "text": [
      "     38/100      4.65G          1     0.7786      1.352          2        640: 100%|██████████| 57/57 [00:16<00:00,  3.36it/s]\n",
      "                 Class     Images  Instances      Box(P          R      mAP50  mAP50-95): 100%|██████████| 7/7 [00:01<00:00,  4.41it/s]"
     ]
    },
    {
     "name": "stdout",
     "output_type": "stream",
     "text": [
      "                   all        207        262      0.891      0.905      0.942       0.72\n"
     ]
    },
    {
     "name": "stderr",
     "output_type": "stream",
     "text": [
      "\n"
     ]
    },
    {
     "name": "stdout",
     "output_type": "stream",
     "text": [
      "\n",
      "      Epoch    GPU_mem   box_loss   cls_loss   dfl_loss  Instances       Size\n"
     ]
    },
    {
     "name": "stderr",
     "output_type": "stream",
     "text": [
      "     39/100      4.61G     0.9689     0.7696      1.318          2        640: 100%|██████████| 57/57 [00:16<00:00,  3.38it/s]\n",
      "                 Class     Images  Instances      Box(P          R      mAP50  mAP50-95): 100%|██████████| 7/7 [00:01<00:00,  4.46it/s]"
     ]
    },
    {
     "name": "stdout",
     "output_type": "stream",
     "text": [
      "                   all        207        262      0.875      0.875      0.929       0.71\n"
     ]
    },
    {
     "name": "stderr",
     "output_type": "stream",
     "text": [
      "\n"
     ]
    },
    {
     "name": "stdout",
     "output_type": "stream",
     "text": [
      "\n",
      "      Epoch    GPU_mem   box_loss   cls_loss   dfl_loss  Instances       Size\n"
     ]
    },
    {
     "name": "stderr",
     "output_type": "stream",
     "text": [
      "     40/100      4.66G     0.9601     0.7571      1.309          2        640: 100%|██████████| 57/57 [00:17<00:00,  3.35it/s]\n",
      "                 Class     Images  Instances      Box(P          R      mAP50  mAP50-95): 100%|██████████| 7/7 [00:01<00:00,  4.45it/s]"
     ]
    },
    {
     "name": "stdout",
     "output_type": "stream",
     "text": [
      "                   all        207        262      0.921      0.838      0.943      0.725\n"
     ]
    },
    {
     "name": "stderr",
     "output_type": "stream",
     "text": [
      "\n"
     ]
    },
    {
     "name": "stdout",
     "output_type": "stream",
     "text": [
      "\n",
      "      Epoch    GPU_mem   box_loss   cls_loss   dfl_loss  Instances       Size\n"
     ]
    },
    {
     "name": "stderr",
     "output_type": "stream",
     "text": [
      "     41/100      4.69G     0.9548     0.7488       1.29          9        640: 100%|██████████| 57/57 [00:16<00:00,  3.36it/s]\n",
      "                 Class     Images  Instances      Box(P          R      mAP50  mAP50-95): 100%|██████████| 7/7 [00:01<00:00,  4.49it/s]"
     ]
    },
    {
     "name": "stdout",
     "output_type": "stream",
     "text": [
      "                   all        207        262      0.888      0.892      0.927      0.726\n"
     ]
    },
    {
     "name": "stderr",
     "output_type": "stream",
     "text": [
      "\n"
     ]
    },
    {
     "name": "stdout",
     "output_type": "stream",
     "text": [
      "\n",
      "      Epoch    GPU_mem   box_loss   cls_loss   dfl_loss  Instances       Size\n"
     ]
    },
    {
     "name": "stderr",
     "output_type": "stream",
     "text": [
      "     42/100      4.65G     0.9462     0.7527      1.321          1        640: 100%|██████████| 57/57 [00:16<00:00,  3.36it/s]\n",
      "                 Class     Images  Instances      Box(P          R      mAP50  mAP50-95): 100%|██████████| 7/7 [00:01<00:00,  4.49it/s]"
     ]
    },
    {
     "name": "stdout",
     "output_type": "stream",
     "text": [
      "                   all        207        262      0.878      0.877       0.94      0.717\n"
     ]
    },
    {
     "name": "stderr",
     "output_type": "stream",
     "text": [
      "\n"
     ]
    },
    {
     "name": "stdout",
     "output_type": "stream",
     "text": [
      "\n",
      "      Epoch    GPU_mem   box_loss   cls_loss   dfl_loss  Instances       Size\n"
     ]
    },
    {
     "name": "stderr",
     "output_type": "stream",
     "text": [
      "     43/100      4.61G     0.9006     0.7038      1.268          3        640: 100%|██████████| 57/57 [00:16<00:00,  3.37it/s]\n",
      "                 Class     Images  Instances      Box(P          R      mAP50  mAP50-95): 100%|██████████| 7/7 [00:01<00:00,  4.55it/s]"
     ]
    },
    {
     "name": "stdout",
     "output_type": "stream",
     "text": [
      "                   all        207        262      0.879      0.897       0.94      0.751\n"
     ]
    },
    {
     "name": "stderr",
     "output_type": "stream",
     "text": [
      "\n"
     ]
    },
    {
     "name": "stdout",
     "output_type": "stream",
     "text": [
      "\n",
      "      Epoch    GPU_mem   box_loss   cls_loss   dfl_loss  Instances       Size\n"
     ]
    },
    {
     "name": "stderr",
     "output_type": "stream",
     "text": [
      "     44/100      4.66G     0.9062     0.7009      1.279          2        640: 100%|██████████| 57/57 [00:16<00:00,  3.36it/s]\n",
      "                 Class     Images  Instances      Box(P          R      mAP50  mAP50-95): 100%|██████████| 7/7 [00:01<00:00,  4.48it/s]"
     ]
    },
    {
     "name": "stdout",
     "output_type": "stream",
     "text": [
      "                   all        207        262      0.898      0.882      0.948      0.738\n"
     ]
    },
    {
     "name": "stderr",
     "output_type": "stream",
     "text": [
      "\n"
     ]
    },
    {
     "name": "stdout",
     "output_type": "stream",
     "text": [
      "\n",
      "      Epoch    GPU_mem   box_loss   cls_loss   dfl_loss  Instances       Size\n"
     ]
    },
    {
     "name": "stderr",
     "output_type": "stream",
     "text": [
      "     45/100      4.64G     0.9039     0.6979      1.276          3        640: 100%|██████████| 57/57 [00:16<00:00,  3.36it/s]\n",
      "                 Class     Images  Instances      Box(P          R      mAP50  mAP50-95): 100%|██████████| 7/7 [00:01<00:00,  4.57it/s]"
     ]
    },
    {
     "name": "stdout",
     "output_type": "stream",
     "text": [
      "                   all        207        262       0.88      0.885      0.936      0.743\n"
     ]
    },
    {
     "name": "stderr",
     "output_type": "stream",
     "text": [
      "\n"
     ]
    },
    {
     "name": "stdout",
     "output_type": "stream",
     "text": [
      "\n",
      "      Epoch    GPU_mem   box_loss   cls_loss   dfl_loss  Instances       Size\n"
     ]
    },
    {
     "name": "stderr",
     "output_type": "stream",
     "text": [
      "     46/100      4.64G     0.8978     0.6863       1.29          1        640: 100%|██████████| 57/57 [00:16<00:00,  3.38it/s]\n",
      "                 Class     Images  Instances      Box(P          R      mAP50  mAP50-95): 100%|██████████| 7/7 [00:01<00:00,  4.57it/s]"
     ]
    },
    {
     "name": "stdout",
     "output_type": "stream",
     "text": [
      "                   all        207        262      0.871       0.89      0.939       0.73\n"
     ]
    },
    {
     "name": "stderr",
     "output_type": "stream",
     "text": [
      "\n"
     ]
    },
    {
     "name": "stdout",
     "output_type": "stream",
     "text": [
      "\n",
      "      Epoch    GPU_mem   box_loss   cls_loss   dfl_loss  Instances       Size\n"
     ]
    },
    {
     "name": "stderr",
     "output_type": "stream",
     "text": [
      "     47/100      4.61G     0.8517     0.7565      1.225          0        640: 100%|██████████| 57/57 [00:16<00:00,  3.38it/s]\n",
      "                 Class     Images  Instances      Box(P          R      mAP50  mAP50-95): 100%|██████████| 7/7 [00:01<00:00,  4.43it/s]"
     ]
    },
    {
     "name": "stdout",
     "output_type": "stream",
     "text": [
      "                   all        207        262      0.913      0.853      0.944      0.765\n"
     ]
    },
    {
     "name": "stderr",
     "output_type": "stream",
     "text": [
      "\n"
     ]
    },
    {
     "name": "stdout",
     "output_type": "stream",
     "text": [
      "\n",
      "      Epoch    GPU_mem   box_loss   cls_loss   dfl_loss  Instances       Size\n"
     ]
    },
    {
     "name": "stderr",
     "output_type": "stream",
     "text": [
      "     48/100      4.65G      0.844     0.6806      1.238          1        640: 100%|██████████| 57/57 [00:17<00:00,  3.34it/s]\n",
      "                 Class     Images  Instances      Box(P          R      mAP50  mAP50-95): 100%|██████████| 7/7 [00:01<00:00,  4.36it/s]"
     ]
    },
    {
     "name": "stdout",
     "output_type": "stream",
     "text": [
      "                   all        207        262      0.949      0.878       0.96       0.78\n"
     ]
    },
    {
     "name": "stderr",
     "output_type": "stream",
     "text": [
      "\n"
     ]
    },
    {
     "name": "stdout",
     "output_type": "stream",
     "text": [
      "\n",
      "      Epoch    GPU_mem   box_loss   cls_loss   dfl_loss  Instances       Size\n"
     ]
    },
    {
     "name": "stderr",
     "output_type": "stream",
     "text": [
      "     49/100      4.65G     0.8341     0.6558       1.22          2        640: 100%|██████████| 57/57 [00:16<00:00,  3.36it/s]\n",
      "                 Class     Images  Instances      Box(P          R      mAP50  mAP50-95): 100%|██████████| 7/7 [00:01<00:00,  4.48it/s]"
     ]
    },
    {
     "name": "stdout",
     "output_type": "stream",
     "text": [
      "                   all        207        262      0.903      0.918      0.943      0.765\n"
     ]
    },
    {
     "name": "stderr",
     "output_type": "stream",
     "text": [
      "\n"
     ]
    },
    {
     "name": "stdout",
     "output_type": "stream",
     "text": [
      "\n",
      "      Epoch    GPU_mem   box_loss   cls_loss   dfl_loss  Instances       Size\n"
     ]
    },
    {
     "name": "stderr",
     "output_type": "stream",
     "text": [
      "     50/100      4.65G     0.8882     0.6792      1.278          1        640: 100%|██████████| 57/57 [00:16<00:00,  3.36it/s]\n",
      "                 Class     Images  Instances      Box(P          R      mAP50  mAP50-95): 100%|██████████| 7/7 [00:01<00:00,  4.41it/s]"
     ]
    },
    {
     "name": "stdout",
     "output_type": "stream",
     "text": [
      "                   all        207        262       0.89      0.932      0.946      0.756\n"
     ]
    },
    {
     "name": "stderr",
     "output_type": "stream",
     "text": [
      "\n"
     ]
    },
    {
     "name": "stdout",
     "output_type": "stream",
     "text": [
      "\n",
      "      Epoch    GPU_mem   box_loss   cls_loss   dfl_loss  Instances       Size\n"
     ]
    },
    {
     "name": "stderr",
     "output_type": "stream",
     "text": [
      "     51/100      4.65G     0.8576     0.6682      1.278          1        640: 100%|██████████| 57/57 [00:16<00:00,  3.37it/s]\n",
      "                 Class     Images  Instances      Box(P          R      mAP50  mAP50-95): 100%|██████████| 7/7 [00:01<00:00,  4.17it/s]"
     ]
    },
    {
     "name": "stdout",
     "output_type": "stream",
     "text": [
      "                   all        207        262      0.894      0.914      0.941      0.759\n"
     ]
    },
    {
     "name": "stderr",
     "output_type": "stream",
     "text": [
      "\n"
     ]
    },
    {
     "name": "stdout",
     "output_type": "stream",
     "text": [
      "\n",
      "      Epoch    GPU_mem   box_loss   cls_loss   dfl_loss  Instances       Size\n"
     ]
    },
    {
     "name": "stderr",
     "output_type": "stream",
     "text": [
      "     52/100      4.66G     0.8359     0.6675      1.228          2        640: 100%|██████████| 57/57 [00:16<00:00,  3.37it/s]\n",
      "                 Class     Images  Instances      Box(P          R      mAP50  mAP50-95): 100%|██████████| 7/7 [00:01<00:00,  4.42it/s]"
     ]
    },
    {
     "name": "stdout",
     "output_type": "stream",
     "text": [
      "                   all        207        262      0.931      0.885      0.943      0.774\n"
     ]
    },
    {
     "name": "stderr",
     "output_type": "stream",
     "text": [
      "\n"
     ]
    },
    {
     "name": "stdout",
     "output_type": "stream",
     "text": [
      "\n",
      "      Epoch    GPU_mem   box_loss   cls_loss   dfl_loss  Instances       Size\n"
     ]
    },
    {
     "name": "stderr",
     "output_type": "stream",
     "text": [
      "     53/100      4.65G     0.8096     0.6415      1.219          9        640: 100%|██████████| 57/57 [00:17<00:00,  3.35it/s]\n",
      "                 Class     Images  Instances      Box(P          R      mAP50  mAP50-95): 100%|██████████| 7/7 [00:01<00:00,  4.57it/s]"
     ]
    },
    {
     "name": "stdout",
     "output_type": "stream",
     "text": [
      "                   all        207        262      0.944      0.905      0.952      0.789\n"
     ]
    },
    {
     "name": "stderr",
     "output_type": "stream",
     "text": [
      "\n"
     ]
    },
    {
     "name": "stdout",
     "output_type": "stream",
     "text": [
      "\n",
      "      Epoch    GPU_mem   box_loss   cls_loss   dfl_loss  Instances       Size\n"
     ]
    },
    {
     "name": "stderr",
     "output_type": "stream",
     "text": [
      "     54/100      4.65G     0.7977     0.6166      1.207          1        640: 100%|██████████| 57/57 [00:16<00:00,  3.37it/s]\n",
      "                 Class     Images  Instances      Box(P          R      mAP50  mAP50-95): 100%|██████████| 7/7 [00:01<00:00,  4.58it/s]"
     ]
    },
    {
     "name": "stdout",
     "output_type": "stream",
     "text": [
      "                   all        207        262      0.886      0.927      0.947      0.789\n"
     ]
    },
    {
     "name": "stderr",
     "output_type": "stream",
     "text": [
      "\n"
     ]
    },
    {
     "name": "stdout",
     "output_type": "stream",
     "text": [
      "\n",
      "      Epoch    GPU_mem   box_loss   cls_loss   dfl_loss  Instances       Size\n"
     ]
    },
    {
     "name": "stderr",
     "output_type": "stream",
     "text": [
      "     55/100      4.61G     0.8031     0.6279      1.184          4        640: 100%|██████████| 57/57 [00:16<00:00,  3.36it/s]\n",
      "                 Class     Images  Instances      Box(P          R      mAP50  mAP50-95): 100%|██████████| 7/7 [00:01<00:00,  4.58it/s]"
     ]
    },
    {
     "name": "stdout",
     "output_type": "stream",
     "text": [
      "                   all        207        262      0.931      0.925      0.959      0.783\n"
     ]
    },
    {
     "name": "stderr",
     "output_type": "stream",
     "text": [
      "\n"
     ]
    },
    {
     "name": "stdout",
     "output_type": "stream",
     "text": [
      "\n",
      "      Epoch    GPU_mem   box_loss   cls_loss   dfl_loss  Instances       Size\n"
     ]
    },
    {
     "name": "stderr",
     "output_type": "stream",
     "text": [
      "     56/100      4.65G     0.8317     0.6272      1.238          2        640: 100%|██████████| 57/57 [00:17<00:00,  3.35it/s]\n",
      "                 Class     Images  Instances      Box(P          R      mAP50  mAP50-95): 100%|██████████| 7/7 [00:01<00:00,  4.48it/s]"
     ]
    },
    {
     "name": "stdout",
     "output_type": "stream",
     "text": [
      "                   all        207        262      0.929      0.922      0.965      0.804\n"
     ]
    },
    {
     "name": "stderr",
     "output_type": "stream",
     "text": [
      "\n"
     ]
    },
    {
     "name": "stdout",
     "output_type": "stream",
     "text": [
      "\n",
      "      Epoch    GPU_mem   box_loss   cls_loss   dfl_loss  Instances       Size\n"
     ]
    },
    {
     "name": "stderr",
     "output_type": "stream",
     "text": [
      "     57/100      4.64G     0.7902     0.6119      1.193          2        640: 100%|██████████| 57/57 [00:16<00:00,  3.36it/s]\n",
      "                 Class     Images  Instances      Box(P          R      mAP50  mAP50-95): 100%|██████████| 7/7 [00:01<00:00,  4.52it/s]"
     ]
    },
    {
     "name": "stdout",
     "output_type": "stream",
     "text": [
      "                   all        207        262      0.908      0.916      0.961      0.817\n"
     ]
    },
    {
     "name": "stderr",
     "output_type": "stream",
     "text": [
      "\n"
     ]
    },
    {
     "name": "stdout",
     "output_type": "stream",
     "text": [
      "\n",
      "      Epoch    GPU_mem   box_loss   cls_loss   dfl_loss  Instances       Size\n"
     ]
    },
    {
     "name": "stderr",
     "output_type": "stream",
     "text": [
      "     58/100      4.65G     0.7834     0.6135      1.193          2        640: 100%|██████████| 57/57 [00:17<00:00,  3.35it/s]\n",
      "                 Class     Images  Instances      Box(P          R      mAP50  mAP50-95): 100%|██████████| 7/7 [00:01<00:00,  4.57it/s]"
     ]
    },
    {
     "name": "stdout",
     "output_type": "stream",
     "text": [
      "                   all        207        262      0.888      0.923      0.932      0.771\n"
     ]
    },
    {
     "name": "stderr",
     "output_type": "stream",
     "text": [
      "\n"
     ]
    },
    {
     "name": "stdout",
     "output_type": "stream",
     "text": [
      "\n",
      "      Epoch    GPU_mem   box_loss   cls_loss   dfl_loss  Instances       Size\n"
     ]
    },
    {
     "name": "stderr",
     "output_type": "stream",
     "text": [
      "     59/100      4.61G     0.7606     0.5917      1.162          3        640: 100%|██████████| 57/57 [00:16<00:00,  3.37it/s]\n",
      "                 Class     Images  Instances      Box(P          R      mAP50  mAP50-95): 100%|██████████| 7/7 [00:01<00:00,  4.48it/s]"
     ]
    },
    {
     "name": "stdout",
     "output_type": "stream",
     "text": [
      "                   all        207        262      0.933      0.908      0.957      0.809\n"
     ]
    },
    {
     "name": "stderr",
     "output_type": "stream",
     "text": [
      "\n"
     ]
    },
    {
     "name": "stdout",
     "output_type": "stream",
     "text": [
      "\n",
      "      Epoch    GPU_mem   box_loss   cls_loss   dfl_loss  Instances       Size\n"
     ]
    },
    {
     "name": "stderr",
     "output_type": "stream",
     "text": [
      "     60/100      4.66G     0.7799     0.6025      1.188          2        640: 100%|██████████| 57/57 [00:16<00:00,  3.36it/s]\n",
      "                 Class     Images  Instances      Box(P          R      mAP50  mAP50-95): 100%|██████████| 7/7 [00:01<00:00,  4.48it/s]"
     ]
    },
    {
     "name": "stdout",
     "output_type": "stream",
     "text": [
      "                   all        207        262      0.914       0.92      0.954       0.81\n"
     ]
    },
    {
     "name": "stderr",
     "output_type": "stream",
     "text": [
      "\n"
     ]
    },
    {
     "name": "stdout",
     "output_type": "stream",
     "text": [
      "\n",
      "      Epoch    GPU_mem   box_loss   cls_loss   dfl_loss  Instances       Size\n"
     ]
    },
    {
     "name": "stderr",
     "output_type": "stream",
     "text": [
      "     61/100      4.65G      0.732      0.576      1.155          3        640: 100%|██████████| 57/57 [00:17<00:00,  3.34it/s]\n",
      "                 Class     Images  Instances      Box(P          R      mAP50  mAP50-95): 100%|██████████| 7/7 [00:01<00:00,  4.45it/s]"
     ]
    },
    {
     "name": "stdout",
     "output_type": "stream",
     "text": [
      "                   all        207        262      0.878      0.939      0.958      0.811\n"
     ]
    },
    {
     "name": "stderr",
     "output_type": "stream",
     "text": [
      "\n"
     ]
    },
    {
     "name": "stdout",
     "output_type": "stream",
     "text": [
      "\n",
      "      Epoch    GPU_mem   box_loss   cls_loss   dfl_loss  Instances       Size\n"
     ]
    },
    {
     "name": "stderr",
     "output_type": "stream",
     "text": [
      "     62/100      4.65G     0.7033     0.5591      1.142          4        640: 100%|██████████| 57/57 [00:16<00:00,  3.36it/s]\n",
      "                 Class     Images  Instances      Box(P          R      mAP50  mAP50-95): 100%|██████████| 7/7 [00:01<00:00,  4.61it/s]"
     ]
    },
    {
     "name": "stdout",
     "output_type": "stream",
     "text": [
      "                   all        207        262      0.937      0.905      0.971      0.818\n"
     ]
    },
    {
     "name": "stderr",
     "output_type": "stream",
     "text": [
      "\n"
     ]
    },
    {
     "name": "stdout",
     "output_type": "stream",
     "text": [
      "\n",
      "      Epoch    GPU_mem   box_loss   cls_loss   dfl_loss  Instances       Size\n"
     ]
    },
    {
     "name": "stderr",
     "output_type": "stream",
     "text": [
      "     63/100      4.61G     0.7534      0.584       1.17          2        640: 100%|██████████| 57/57 [00:16<00:00,  3.36it/s]\n",
      "                 Class     Images  Instances      Box(P          R      mAP50  mAP50-95): 100%|██████████| 7/7 [00:01<00:00,  4.54it/s]"
     ]
    },
    {
     "name": "stdout",
     "output_type": "stream",
     "text": [
      "                   all        207        262      0.939      0.901      0.965      0.829\n"
     ]
    },
    {
     "name": "stderr",
     "output_type": "stream",
     "text": [
      "\n"
     ]
    },
    {
     "name": "stdout",
     "output_type": "stream",
     "text": [
      "\n",
      "      Epoch    GPU_mem   box_loss   cls_loss   dfl_loss  Instances       Size\n"
     ]
    },
    {
     "name": "stderr",
     "output_type": "stream",
     "text": [
      "     64/100      4.66G     0.7206     0.5789       1.15          2        640: 100%|██████████| 57/57 [00:16<00:00,  3.37it/s]\n",
      "                 Class     Images  Instances      Box(P          R      mAP50  mAP50-95): 100%|██████████| 7/7 [00:01<00:00,  4.62it/s]"
     ]
    },
    {
     "name": "stdout",
     "output_type": "stream",
     "text": [
      "                   all        207        262      0.938      0.925      0.976       0.84\n"
     ]
    },
    {
     "name": "stderr",
     "output_type": "stream",
     "text": [
      "\n"
     ]
    },
    {
     "name": "stdout",
     "output_type": "stream",
     "text": [
      "\n",
      "      Epoch    GPU_mem   box_loss   cls_loss   dfl_loss  Instances       Size\n"
     ]
    },
    {
     "name": "stderr",
     "output_type": "stream",
     "text": [
      "     65/100      4.65G     0.7361     0.5855      1.157          3        640: 100%|██████████| 57/57 [00:17<00:00,  3.35it/s]\n",
      "                 Class     Images  Instances      Box(P          R      mAP50  mAP50-95): 100%|██████████| 7/7 [00:01<00:00,  4.48it/s]"
     ]
    },
    {
     "name": "stdout",
     "output_type": "stream",
     "text": [
      "                   all        207        262      0.919      0.908      0.962      0.832\n"
     ]
    },
    {
     "name": "stderr",
     "output_type": "stream",
     "text": [
      "\n"
     ]
    },
    {
     "name": "stdout",
     "output_type": "stream",
     "text": [
      "\n",
      "      Epoch    GPU_mem   box_loss   cls_loss   dfl_loss  Instances       Size\n"
     ]
    },
    {
     "name": "stderr",
     "output_type": "stream",
     "text": [
      "     66/100       4.7G     0.7105     0.5616      1.138          4        640: 100%|██████████| 57/57 [00:17<00:00,  3.34it/s]\n",
      "                 Class     Images  Instances      Box(P          R      mAP50  mAP50-95): 100%|██████████| 7/7 [00:01<00:00,  4.62it/s]"
     ]
    },
    {
     "name": "stdout",
     "output_type": "stream",
     "text": [
      "                   all        207        262      0.923      0.905      0.961      0.839\n"
     ]
    },
    {
     "name": "stderr",
     "output_type": "stream",
     "text": [
      "\n"
     ]
    },
    {
     "name": "stdout",
     "output_type": "stream",
     "text": [
      "\n",
      "      Epoch    GPU_mem   box_loss   cls_loss   dfl_loss  Instances       Size\n"
     ]
    },
    {
     "name": "stderr",
     "output_type": "stream",
     "text": [
      "     67/100      4.61G     0.6635     0.5278      1.117          1        640: 100%|██████████| 57/57 [00:16<00:00,  3.37it/s]\n",
      "                 Class     Images  Instances      Box(P          R      mAP50  mAP50-95): 100%|██████████| 7/7 [00:01<00:00,  4.44it/s]"
     ]
    },
    {
     "name": "stdout",
     "output_type": "stream",
     "text": [
      "                   all        207        262      0.922      0.924      0.957      0.835\n"
     ]
    },
    {
     "name": "stderr",
     "output_type": "stream",
     "text": [
      "\n"
     ]
    },
    {
     "name": "stdout",
     "output_type": "stream",
     "text": [
      "\n",
      "      Epoch    GPU_mem   box_loss   cls_loss   dfl_loss  Instances       Size\n"
     ]
    },
    {
     "name": "stderr",
     "output_type": "stream",
     "text": [
      "     68/100      4.66G     0.6909     0.5379      1.137          2        640: 100%|██████████| 57/57 [00:16<00:00,  3.37it/s]\n",
      "                 Class     Images  Instances      Box(P          R      mAP50  mAP50-95): 100%|██████████| 7/7 [00:01<00:00,  4.49it/s]"
     ]
    },
    {
     "name": "stdout",
     "output_type": "stream",
     "text": [
      "                   all        207        262      0.917      0.938      0.965      0.845\n"
     ]
    },
    {
     "name": "stderr",
     "output_type": "stream",
     "text": [
      "\n"
     ]
    },
    {
     "name": "stdout",
     "output_type": "stream",
     "text": [
      "\n",
      "      Epoch    GPU_mem   box_loss   cls_loss   dfl_loss  Instances       Size\n"
     ]
    },
    {
     "name": "stderr",
     "output_type": "stream",
     "text": [
      "     69/100      4.65G     0.6789     0.5523      1.127          2        640: 100%|██████████| 57/57 [00:17<00:00,  3.35it/s]\n",
      "                 Class     Images  Instances      Box(P          R      mAP50  mAP50-95): 100%|██████████| 7/7 [00:01<00:00,  4.33it/s]"
     ]
    },
    {
     "name": "stdout",
     "output_type": "stream",
     "text": [
      "                   all        207        262      0.944      0.922       0.97      0.843\n"
     ]
    },
    {
     "name": "stderr",
     "output_type": "stream",
     "text": [
      "\n"
     ]
    },
    {
     "name": "stdout",
     "output_type": "stream",
     "text": [
      "\n",
      "      Epoch    GPU_mem   box_loss   cls_loss   dfl_loss  Instances       Size\n"
     ]
    },
    {
     "name": "stderr",
     "output_type": "stream",
     "text": [
      "     70/100      4.64G     0.6721     0.5252      1.135          2        640: 100%|██████████| 57/57 [00:17<00:00,  3.35it/s]\n",
      "                 Class     Images  Instances      Box(P          R      mAP50  mAP50-95): 100%|██████████| 7/7 [00:01<00:00,  4.57it/s]"
     ]
    },
    {
     "name": "stdout",
     "output_type": "stream",
     "text": [
      "                   all        207        262      0.926      0.924      0.969      0.842\n"
     ]
    },
    {
     "name": "stderr",
     "output_type": "stream",
     "text": [
      "\n"
     ]
    },
    {
     "name": "stdout",
     "output_type": "stream",
     "text": [
      "\n",
      "      Epoch    GPU_mem   box_loss   cls_loss   dfl_loss  Instances       Size\n"
     ]
    },
    {
     "name": "stderr",
     "output_type": "stream",
     "text": [
      "     71/100      4.61G     0.7069     0.5435       1.15          5        640: 100%|██████████| 57/57 [00:16<00:00,  3.37it/s]\n",
      "                 Class     Images  Instances      Box(P          R      mAP50  mAP50-95): 100%|██████████| 7/7 [00:01<00:00,  4.61it/s]"
     ]
    },
    {
     "name": "stdout",
     "output_type": "stream",
     "text": [
      "                   all        207        262      0.917      0.951      0.961      0.835\n"
     ]
    },
    {
     "name": "stderr",
     "output_type": "stream",
     "text": [
      "\n"
     ]
    },
    {
     "name": "stdout",
     "output_type": "stream",
     "text": [
      "\n",
      "      Epoch    GPU_mem   box_loss   cls_loss   dfl_loss  Instances       Size\n"
     ]
    },
    {
     "name": "stderr",
     "output_type": "stream",
     "text": [
      "     72/100      4.65G     0.6588     0.5104      1.114          2        640: 100%|██████████| 57/57 [00:16<00:00,  3.38it/s]\n",
      "                 Class     Images  Instances      Box(P          R      mAP50  mAP50-95): 100%|██████████| 7/7 [00:01<00:00,  4.55it/s]"
     ]
    },
    {
     "name": "stdout",
     "output_type": "stream",
     "text": [
      "                   all        207        262      0.938      0.909      0.971      0.846\n"
     ]
    },
    {
     "name": "stderr",
     "output_type": "stream",
     "text": [
      "\n"
     ]
    },
    {
     "name": "stdout",
     "output_type": "stream",
     "text": [
      "\n",
      "      Epoch    GPU_mem   box_loss   cls_loss   dfl_loss  Instances       Size\n"
     ]
    },
    {
     "name": "stderr",
     "output_type": "stream",
     "text": [
      "     73/100      4.65G     0.6646     0.5338      1.111          2        640: 100%|██████████| 57/57 [00:17<00:00,  3.35it/s]\n",
      "                 Class     Images  Instances      Box(P          R      mAP50  mAP50-95): 100%|██████████| 7/7 [00:01<00:00,  4.59it/s]"
     ]
    },
    {
     "name": "stdout",
     "output_type": "stream",
     "text": [
      "                   all        207        262      0.925      0.927      0.964      0.855\n"
     ]
    },
    {
     "name": "stderr",
     "output_type": "stream",
     "text": [
      "\n"
     ]
    },
    {
     "name": "stdout",
     "output_type": "stream",
     "text": [
      "\n",
      "      Epoch    GPU_mem   box_loss   cls_loss   dfl_loss  Instances       Size\n"
     ]
    },
    {
     "name": "stderr",
     "output_type": "stream",
     "text": [
      "     74/100      4.64G     0.6579     0.5288      1.124          2        640: 100%|██████████| 57/57 [00:17<00:00,  3.35it/s]\n",
      "                 Class     Images  Instances      Box(P          R      mAP50  mAP50-95): 100%|██████████| 7/7 [00:01<00:00,  4.60it/s]"
     ]
    },
    {
     "name": "stdout",
     "output_type": "stream",
     "text": [
      "                   all        207        262      0.929      0.927      0.964      0.851\n"
     ]
    },
    {
     "name": "stderr",
     "output_type": "stream",
     "text": [
      "\n"
     ]
    },
    {
     "name": "stdout",
     "output_type": "stream",
     "text": [
      "\n",
      "      Epoch    GPU_mem   box_loss   cls_loss   dfl_loss  Instances       Size\n"
     ]
    },
    {
     "name": "stderr",
     "output_type": "stream",
     "text": [
      "     75/100      4.61G     0.6341     0.4944       1.11          3        640: 100%|██████████| 57/57 [00:16<00:00,  3.38it/s]\n",
      "                 Class     Images  Instances      Box(P          R      mAP50  mAP50-95): 100%|██████████| 7/7 [00:01<00:00,  4.52it/s]"
     ]
    },
    {
     "name": "stdout",
     "output_type": "stream",
     "text": [
      "                   all        207        262      0.951      0.914      0.958      0.843\n"
     ]
    },
    {
     "name": "stderr",
     "output_type": "stream",
     "text": [
      "\n"
     ]
    },
    {
     "name": "stdout",
     "output_type": "stream",
     "text": [
      "\n",
      "      Epoch    GPU_mem   box_loss   cls_loss   dfl_loss  Instances       Size\n"
     ]
    },
    {
     "name": "stderr",
     "output_type": "stream",
     "text": [
      "     76/100      4.66G     0.6602      0.519       1.11          2        640: 100%|██████████| 57/57 [00:16<00:00,  3.37it/s]\n",
      "                 Class     Images  Instances      Box(P          R      mAP50  mAP50-95): 100%|██████████| 7/7 [00:01<00:00,  4.74it/s]"
     ]
    },
    {
     "name": "stdout",
     "output_type": "stream",
     "text": [
      "                   all        207        262      0.908      0.943      0.974      0.852\n"
     ]
    },
    {
     "name": "stderr",
     "output_type": "stream",
     "text": [
      "\n"
     ]
    },
    {
     "name": "stdout",
     "output_type": "stream",
     "text": [
      "\n",
      "      Epoch    GPU_mem   box_loss   cls_loss   dfl_loss  Instances       Size\n"
     ]
    },
    {
     "name": "stderr",
     "output_type": "stream",
     "text": [
      "     77/100      4.64G     0.6355     0.5057      1.102          3        640: 100%|██████████| 57/57 [00:16<00:00,  3.37it/s]\n",
      "                 Class     Images  Instances      Box(P          R      mAP50  mAP50-95): 100%|██████████| 7/7 [00:01<00:00,  4.50it/s]"
     ]
    },
    {
     "name": "stdout",
     "output_type": "stream",
     "text": [
      "                   all        207        262      0.913      0.938      0.969      0.856\n"
     ]
    },
    {
     "name": "stderr",
     "output_type": "stream",
     "text": [
      "\n"
     ]
    },
    {
     "name": "stdout",
     "output_type": "stream",
     "text": [
      "\n",
      "      Epoch    GPU_mem   box_loss   cls_loss   dfl_loss  Instances       Size\n"
     ]
    },
    {
     "name": "stderr",
     "output_type": "stream",
     "text": [
      "     78/100      4.65G     0.6326     0.5132      1.103          1        640: 100%|██████████| 57/57 [00:17<00:00,  3.34it/s]\n",
      "                 Class     Images  Instances      Box(P          R      mAP50  mAP50-95): 100%|██████████| 7/7 [00:01<00:00,  4.56it/s]"
     ]
    },
    {
     "name": "stdout",
     "output_type": "stream",
     "text": [
      "                   all        207        262      0.909       0.95      0.972      0.866\n"
     ]
    },
    {
     "name": "stderr",
     "output_type": "stream",
     "text": [
      "\n"
     ]
    },
    {
     "name": "stdout",
     "output_type": "stream",
     "text": [
      "\n",
      "      Epoch    GPU_mem   box_loss   cls_loss   dfl_loss  Instances       Size\n"
     ]
    },
    {
     "name": "stderr",
     "output_type": "stream",
     "text": [
      "     79/100      4.61G     0.6204      0.483      1.082          4        640: 100%|██████████| 57/57 [00:16<00:00,  3.36it/s]\n",
      "                 Class     Images  Instances      Box(P          R      mAP50  mAP50-95): 100%|██████████| 7/7 [00:01<00:00,  4.67it/s]"
     ]
    },
    {
     "name": "stdout",
     "output_type": "stream",
     "text": [
      "                   all        207        262      0.892       0.95      0.968      0.869\n"
     ]
    },
    {
     "name": "stderr",
     "output_type": "stream",
     "text": [
      "\n"
     ]
    },
    {
     "name": "stdout",
     "output_type": "stream",
     "text": [
      "\n",
      "      Epoch    GPU_mem   box_loss   cls_loss   dfl_loss  Instances       Size\n"
     ]
    },
    {
     "name": "stderr",
     "output_type": "stream",
     "text": [
      "     80/100      4.66G     0.6073     0.4843      1.081          3        640: 100%|██████████| 57/57 [00:16<00:00,  3.38it/s]\n",
      "                 Class     Images  Instances      Box(P          R      mAP50  mAP50-95): 100%|██████████| 7/7 [00:01<00:00,  4.61it/s]"
     ]
    },
    {
     "name": "stdout",
     "output_type": "stream",
     "text": [
      "                   all        207        262      0.909      0.946      0.954      0.844\n"
     ]
    },
    {
     "name": "stderr",
     "output_type": "stream",
     "text": [
      "\n"
     ]
    },
    {
     "name": "stdout",
     "output_type": "stream",
     "text": [
      "\n",
      "      Epoch    GPU_mem   box_loss   cls_loss   dfl_loss  Instances       Size\n"
     ]
    },
    {
     "name": "stderr",
     "output_type": "stream",
     "text": [
      "     81/100      4.65G     0.6007     0.4704      1.076         12        640: 100%|██████████| 57/57 [00:16<00:00,  3.37it/s]\n",
      "                 Class     Images  Instances      Box(P          R      mAP50  mAP50-95): 100%|██████████| 7/7 [00:01<00:00,  4.59it/s]"
     ]
    },
    {
     "name": "stdout",
     "output_type": "stream",
     "text": [
      "                   all        207        262      0.925      0.922      0.965      0.863\n"
     ]
    },
    {
     "name": "stderr",
     "output_type": "stream",
     "text": [
      "\n"
     ]
    },
    {
     "name": "stdout",
     "output_type": "stream",
     "text": [
      "\n",
      "      Epoch    GPU_mem   box_loss   cls_loss   dfl_loss  Instances       Size\n"
     ]
    },
    {
     "name": "stderr",
     "output_type": "stream",
     "text": [
      "     82/100      4.65G     0.6031     0.4744      1.083          1        640: 100%|██████████| 57/57 [00:16<00:00,  3.37it/s]\n",
      "                 Class     Images  Instances      Box(P          R      mAP50  mAP50-95): 100%|██████████| 7/7 [00:01<00:00,  4.56it/s]"
     ]
    },
    {
     "name": "stdout",
     "output_type": "stream",
     "text": [
      "                   all        207        262      0.919       0.95      0.968      0.863\n"
     ]
    },
    {
     "name": "stderr",
     "output_type": "stream",
     "text": [
      "\n"
     ]
    },
    {
     "name": "stdout",
     "output_type": "stream",
     "text": [
      "\n",
      "      Epoch    GPU_mem   box_loss   cls_loss   dfl_loss  Instances       Size\n"
     ]
    },
    {
     "name": "stderr",
     "output_type": "stream",
     "text": [
      "     83/100      4.62G     0.5941     0.4586      1.078          2        640: 100%|██████████| 57/57 [00:16<00:00,  3.37it/s]\n",
      "                 Class     Images  Instances      Box(P          R      mAP50  mAP50-95): 100%|██████████| 7/7 [00:01<00:00,  4.59it/s]"
     ]
    },
    {
     "name": "stdout",
     "output_type": "stream",
     "text": [
      "                   all        207        262      0.907      0.947      0.971      0.877\n"
     ]
    },
    {
     "name": "stderr",
     "output_type": "stream",
     "text": [
      "\n"
     ]
    },
    {
     "name": "stdout",
     "output_type": "stream",
     "text": [
      "\n",
      "      Epoch    GPU_mem   box_loss   cls_loss   dfl_loss  Instances       Size\n"
     ]
    },
    {
     "name": "stderr",
     "output_type": "stream",
     "text": [
      "     84/100      4.65G     0.5918     0.4989      1.075          1        640: 100%|██████████| 57/57 [00:16<00:00,  3.38it/s]\n",
      "                 Class     Images  Instances      Box(P          R      mAP50  mAP50-95): 100%|██████████| 7/7 [00:01<00:00,  4.69it/s]"
     ]
    },
    {
     "name": "stdout",
     "output_type": "stream",
     "text": [
      "                   all        207        262      0.919      0.934      0.967      0.881\n"
     ]
    },
    {
     "name": "stderr",
     "output_type": "stream",
     "text": [
      "\n"
     ]
    },
    {
     "name": "stdout",
     "output_type": "stream",
     "text": [
      "\n",
      "      Epoch    GPU_mem   box_loss   cls_loss   dfl_loss  Instances       Size\n"
     ]
    },
    {
     "name": "stderr",
     "output_type": "stream",
     "text": [
      "     85/100      4.64G     0.5673      0.449      1.058          5        640: 100%|██████████| 57/57 [00:16<00:00,  3.39it/s]\n",
      "                 Class     Images  Instances      Box(P          R      mAP50  mAP50-95): 100%|██████████| 7/7 [00:01<00:00,  4.63it/s]"
     ]
    },
    {
     "name": "stdout",
     "output_type": "stream",
     "text": [
      "                   all        207        262       0.92      0.935      0.967      0.881\n"
     ]
    },
    {
     "name": "stderr",
     "output_type": "stream",
     "text": [
      "\n"
     ]
    },
    {
     "name": "stdout",
     "output_type": "stream",
     "text": [
      "\n",
      "      Epoch    GPU_mem   box_loss   cls_loss   dfl_loss  Instances       Size\n"
     ]
    },
    {
     "name": "stderr",
     "output_type": "stream",
     "text": [
      "     86/100      4.64G     0.5742     0.4508      1.068          2        640: 100%|██████████| 57/57 [00:16<00:00,  3.36it/s]\n",
      "                 Class     Images  Instances      Box(P          R      mAP50  mAP50-95): 100%|██████████| 7/7 [00:01<00:00,  4.54it/s]"
     ]
    },
    {
     "name": "stdout",
     "output_type": "stream",
     "text": [
      "                   all        207        262      0.922      0.958       0.97      0.886\n"
     ]
    },
    {
     "name": "stderr",
     "output_type": "stream",
     "text": [
      "\n"
     ]
    },
    {
     "name": "stdout",
     "output_type": "stream",
     "text": [
      "\n",
      "      Epoch    GPU_mem   box_loss   cls_loss   dfl_loss  Instances       Size\n"
     ]
    },
    {
     "name": "stderr",
     "output_type": "stream",
     "text": [
      "     87/100      4.61G     0.5602     0.4478      1.072          1        640: 100%|██████████| 57/57 [00:16<00:00,  3.37it/s]\n",
      "                 Class     Images  Instances      Box(P          R      mAP50  mAP50-95): 100%|██████████| 7/7 [00:01<00:00,  4.45it/s]"
     ]
    },
    {
     "name": "stdout",
     "output_type": "stream",
     "text": [
      "                   all        207        262      0.912      0.954      0.975      0.886\n"
     ]
    },
    {
     "name": "stderr",
     "output_type": "stream",
     "text": [
      "\n"
     ]
    },
    {
     "name": "stdout",
     "output_type": "stream",
     "text": [
      "\n",
      "      Epoch    GPU_mem   box_loss   cls_loss   dfl_loss  Instances       Size\n"
     ]
    },
    {
     "name": "stderr",
     "output_type": "stream",
     "text": [
      "     88/100      4.65G     0.5578     0.4456      1.064          4        640: 100%|██████████| 57/57 [00:16<00:00,  3.39it/s]\n",
      "                 Class     Images  Instances      Box(P          R      mAP50  mAP50-95): 100%|██████████| 7/7 [00:01<00:00,  4.73it/s]"
     ]
    },
    {
     "name": "stdout",
     "output_type": "stream",
     "text": [
      "                   all        207        262      0.913      0.966       0.97      0.886\n"
     ]
    },
    {
     "name": "stderr",
     "output_type": "stream",
     "text": [
      "\n"
     ]
    },
    {
     "name": "stdout",
     "output_type": "stream",
     "text": [
      "\n",
      "      Epoch    GPU_mem   box_loss   cls_loss   dfl_loss  Instances       Size\n"
     ]
    },
    {
     "name": "stderr",
     "output_type": "stream",
     "text": [
      "     89/100      4.65G      0.532     0.4224      1.042          1        640: 100%|██████████| 57/57 [00:16<00:00,  3.38it/s]\n",
      "                 Class     Images  Instances      Box(P          R      mAP50  mAP50-95): 100%|██████████| 7/7 [00:01<00:00,  4.59it/s]"
     ]
    },
    {
     "name": "stdout",
     "output_type": "stream",
     "text": [
      "                   all        207        262      0.914       0.95      0.966      0.884\n"
     ]
    },
    {
     "name": "stderr",
     "output_type": "stream",
     "text": [
      "\n"
     ]
    },
    {
     "name": "stdout",
     "output_type": "stream",
     "text": [
      "\n",
      "      Epoch    GPU_mem   box_loss   cls_loss   dfl_loss  Instances       Size\n"
     ]
    },
    {
     "name": "stderr",
     "output_type": "stream",
     "text": [
      "     90/100      4.65G     0.5301     0.4137      1.035          3        640: 100%|██████████| 57/57 [00:16<00:00,  3.37it/s]\n",
      "                 Class     Images  Instances      Box(P          R      mAP50  mAP50-95): 100%|██████████| 7/7 [00:01<00:00,  4.74it/s]"
     ]
    },
    {
     "name": "stdout",
     "output_type": "stream",
     "text": [
      "                   all        207        262      0.917       0.95      0.968      0.891\n"
     ]
    },
    {
     "name": "stderr",
     "output_type": "stream",
     "text": [
      "\n"
     ]
    },
    {
     "name": "stdout",
     "output_type": "stream",
     "text": [
      "Closing dataloader mosaic\n",
      "\u001b[34m\u001b[1malbumentations: \u001b[0mBlur(p=0.01, blur_limit=(3, 7)), MedianBlur(p=0.01, blur_limit=(3, 7)), ToGray(p=0.01, num_output_channels=3, method='weighted_average'), CLAHE(p=0.01, clip_limit=(1.0, 4.0), tile_grid_size=(8, 8))\n",
      "\n",
      "      Epoch    GPU_mem   box_loss   cls_loss   dfl_loss  Instances       Size\n"
     ]
    },
    {
     "name": "stderr",
     "output_type": "stream",
     "text": [
      "     91/100      4.61G     0.4597      0.371     0.9956          1        640: 100%|██████████| 57/57 [00:17<00:00,  3.20it/s]\n",
      "                 Class     Images  Instances      Box(P          R      mAP50  mAP50-95): 100%|██████████| 7/7 [00:01<00:00,  4.67it/s]"
     ]
    },
    {
     "name": "stdout",
     "output_type": "stream",
     "text": [
      "                   all        207        262      0.921      0.947      0.969      0.888\n"
     ]
    },
    {
     "name": "stderr",
     "output_type": "stream",
     "text": [
      "\n"
     ]
    },
    {
     "name": "stdout",
     "output_type": "stream",
     "text": [
      "\n",
      "      Epoch    GPU_mem   box_loss   cls_loss   dfl_loss  Instances       Size\n"
     ]
    },
    {
     "name": "stderr",
     "output_type": "stream",
     "text": [
      "     92/100      4.66G     0.4473     0.4142     0.9969          1        640: 100%|██████████| 57/57 [00:16<00:00,  3.38it/s]\n",
      "                 Class     Images  Instances      Box(P          R      mAP50  mAP50-95): 100%|██████████| 7/7 [00:01<00:00,  4.77it/s]"
     ]
    },
    {
     "name": "stdout",
     "output_type": "stream",
     "text": [
      "                   all        207        262      0.909      0.965      0.972      0.896\n"
     ]
    },
    {
     "name": "stderr",
     "output_type": "stream",
     "text": [
      "\n"
     ]
    },
    {
     "name": "stdout",
     "output_type": "stream",
     "text": [
      "\n",
      "      Epoch    GPU_mem   box_loss   cls_loss   dfl_loss  Instances       Size\n"
     ]
    },
    {
     "name": "stderr",
     "output_type": "stream",
     "text": [
      "     93/100       4.7G     0.4296     0.3369     0.9828          1        640: 100%|██████████| 57/57 [00:16<00:00,  3.39it/s]\n",
      "                 Class     Images  Instances      Box(P          R      mAP50  mAP50-95): 100%|██████████| 7/7 [00:01<00:00,  4.64it/s]"
     ]
    },
    {
     "name": "stdout",
     "output_type": "stream",
     "text": [
      "                   all        207        262      0.917      0.952      0.973        0.9\n"
     ]
    },
    {
     "name": "stderr",
     "output_type": "stream",
     "text": [
      "\n"
     ]
    },
    {
     "name": "stdout",
     "output_type": "stream",
     "text": [
      "\n",
      "      Epoch    GPU_mem   box_loss   cls_loss   dfl_loss  Instances       Size\n"
     ]
    },
    {
     "name": "stderr",
     "output_type": "stream",
     "text": [
      "     94/100      4.65G     0.4047     0.3263     0.9726          1        640: 100%|██████████| 57/57 [00:16<00:00,  3.37it/s]\n",
      "                 Class     Images  Instances      Box(P          R      mAP50  mAP50-95): 100%|██████████| 7/7 [00:01<00:00,  4.61it/s]"
     ]
    },
    {
     "name": "stdout",
     "output_type": "stream",
     "text": [
      "                   all        207        262      0.893       0.97      0.975      0.907\n"
     ]
    },
    {
     "name": "stderr",
     "output_type": "stream",
     "text": [
      "\n"
     ]
    },
    {
     "name": "stdout",
     "output_type": "stream",
     "text": [
      "\n",
      "      Epoch    GPU_mem   box_loss   cls_loss   dfl_loss  Instances       Size\n"
     ]
    },
    {
     "name": "stderr",
     "output_type": "stream",
     "text": [
      "     95/100      4.61G     0.4002     0.3189     0.9534          1        640: 100%|██████████| 57/57 [00:16<00:00,  3.38it/s]\n",
      "                 Class     Images  Instances      Box(P          R      mAP50  mAP50-95): 100%|██████████| 7/7 [00:01<00:00,  4.50it/s]"
     ]
    },
    {
     "name": "stdout",
     "output_type": "stream",
     "text": [
      "                   all        207        262      0.925      0.947      0.977       0.91\n"
     ]
    },
    {
     "name": "stderr",
     "output_type": "stream",
     "text": [
      "\n"
     ]
    },
    {
     "name": "stdout",
     "output_type": "stream",
     "text": [
      "\n",
      "      Epoch    GPU_mem   box_loss   cls_loss   dfl_loss  Instances       Size\n"
     ]
    },
    {
     "name": "stderr",
     "output_type": "stream",
     "text": [
      "     96/100       4.7G     0.4041     0.3594     0.9678          9        640: 100%|██████████| 57/57 [00:16<00:00,  3.38it/s]\n",
      "                 Class     Images  Instances      Box(P          R      mAP50  mAP50-95): 100%|██████████| 7/7 [00:01<00:00,  4.60it/s]"
     ]
    },
    {
     "name": "stdout",
     "output_type": "stream",
     "text": [
      "                   all        207        262      0.922       0.95      0.976      0.911\n"
     ]
    },
    {
     "name": "stderr",
     "output_type": "stream",
     "text": [
      "\n"
     ]
    },
    {
     "name": "stdout",
     "output_type": "stream",
     "text": [
      "\n",
      "      Epoch    GPU_mem   box_loss   cls_loss   dfl_loss  Instances       Size\n"
     ]
    },
    {
     "name": "stderr",
     "output_type": "stream",
     "text": [
      "     97/100       4.7G     0.3716     0.3229     0.9337          0        640: 100%|██████████| 57/57 [00:16<00:00,  3.37it/s]\n",
      "                 Class     Images  Instances      Box(P          R      mAP50  mAP50-95): 100%|██████████| 7/7 [00:01<00:00,  4.63it/s]"
     ]
    },
    {
     "name": "stdout",
     "output_type": "stream",
     "text": [
      "                   all        207        262      0.923      0.961      0.981      0.909\n"
     ]
    },
    {
     "name": "stderr",
     "output_type": "stream",
     "text": [
      "\n"
     ]
    },
    {
     "name": "stdout",
     "output_type": "stream",
     "text": [
      "\n",
      "      Epoch    GPU_mem   box_loss   cls_loss   dfl_loss  Instances       Size\n"
     ]
    },
    {
     "name": "stderr",
     "output_type": "stream",
     "text": [
      "     98/100      4.66G     0.3678     0.3099     0.9553          1        640: 100%|██████████| 57/57 [00:16<00:00,  3.37it/s]\n",
      "                 Class     Images  Instances      Box(P          R      mAP50  mAP50-95): 100%|██████████| 7/7 [00:01<00:00,  4.63it/s]"
     ]
    },
    {
     "name": "stdout",
     "output_type": "stream",
     "text": [
      "                   all        207        262      0.912      0.975      0.979      0.909\n"
     ]
    },
    {
     "name": "stderr",
     "output_type": "stream",
     "text": [
      "\n"
     ]
    },
    {
     "name": "stdout",
     "output_type": "stream",
     "text": [
      "\n",
      "      Epoch    GPU_mem   box_loss   cls_loss   dfl_loss  Instances       Size\n"
     ]
    },
    {
     "name": "stderr",
     "output_type": "stream",
     "text": [
      "     99/100      4.61G     0.3731     0.3004     0.9455          1        640: 100%|██████████| 57/57 [00:16<00:00,  3.36it/s]\n",
      "                 Class     Images  Instances      Box(P          R      mAP50  mAP50-95): 100%|██████████| 7/7 [00:01<00:00,  4.61it/s]"
     ]
    },
    {
     "name": "stdout",
     "output_type": "stream",
     "text": [
      "                   all        207        262      0.912       0.97      0.976       0.91\n"
     ]
    },
    {
     "name": "stderr",
     "output_type": "stream",
     "text": [
      "\n"
     ]
    },
    {
     "name": "stdout",
     "output_type": "stream",
     "text": [
      "\n",
      "      Epoch    GPU_mem   box_loss   cls_loss   dfl_loss  Instances       Size\n"
     ]
    },
    {
     "name": "stderr",
     "output_type": "stream",
     "text": [
      "    100/100      4.65G     0.3592     0.3081     0.9307          1        640: 100%|██████████| 57/57 [00:16<00:00,  3.39it/s]\n",
      "                 Class     Images  Instances      Box(P          R      mAP50  mAP50-95): 100%|██████████| 7/7 [00:01<00:00,  4.48it/s]"
     ]
    },
    {
     "name": "stdout",
     "output_type": "stream",
     "text": [
      "                   all        207        262      0.909       0.97      0.976      0.913\n"
     ]
    },
    {
     "name": "stderr",
     "output_type": "stream",
     "text": [
      "\n"
     ]
    },
    {
     "name": "stdout",
     "output_type": "stream",
     "text": [
      "\n",
      "100 epochs completed in 0.545 hours.\n",
      "Optimizer stripped from runs/detect/train/weights/last.pt, 22.5MB\n",
      "Optimizer stripped from runs/detect/train/weights/best.pt, 22.5MB\n",
      "\n",
      "Validating runs/detect/train/weights/best.pt...\n",
      "Ultralytics 8.3.71 🚀 Python-3.10.12 torch-2.5.1+cu121 CUDA:0 (Tesla P100-PCIE-16GB, 16269MiB)\n",
      "Model summary (fused): 168 layers, 11,126,358 parameters, 0 gradients, 28.4 GFLOPs\n"
     ]
    },
    {
     "name": "stderr",
     "output_type": "stream",
     "text": [
      "                 Class     Images  Instances      Box(P          R      mAP50  mAP50-95): 100%|██████████| 7/7 [00:02<00:00,  2.82it/s]\n"
     ]
    },
    {
     "name": "stdout",
     "output_type": "stream",
     "text": [
      "                   all        207        262      0.909       0.97      0.977      0.913\n",
      "                  weed         68        131      0.958      0.992      0.985      0.949\n",
      "            background         91        131      0.861      0.947      0.968      0.878\n"
     ]
    },
    {
     "name": "stderr",
     "output_type": "stream",
     "text": [
      "/usr/local/lib/python3.10/dist-packages/matplotlib/colors.py:721: RuntimeWarning: invalid value encountered in less\n",
      "  xa[xa < 0] = -1\n",
      "/usr/local/lib/python3.10/dist-packages/matplotlib/colors.py:721: RuntimeWarning: invalid value encountered in less\n",
      "  xa[xa < 0] = -1\n"
     ]
    },
    {
     "name": "stdout",
     "output_type": "stream",
     "text": [
      "Speed: 0.2ms preprocess, 4.6ms inference, 0.0ms loss, 3.6ms postprocess per image\n",
      "Results saved to \u001b[1mruns/detect/train\u001b[0m\n"
     ]
    },
    {
     "data": {
      "text/plain": [
       "ultralytics.utils.metrics.DetMetrics object with attributes:\n",
       "\n",
       "ap_class_index: array([0, 1])\n",
       "box: ultralytics.utils.metrics.Metric object\n",
       "confusion_matrix: <ultralytics.utils.metrics.ConfusionMatrix object at 0x7c6f7c617b20>\n",
       "curves: ['Precision-Recall(B)', 'F1-Confidence(B)', 'Precision-Confidence(B)', 'Recall-Confidence(B)']\n",
       "curves_results: [[array([          0,    0.001001,    0.002002,    0.003003,    0.004004,    0.005005,    0.006006,    0.007007,    0.008008,    0.009009,     0.01001,    0.011011,    0.012012,    0.013013,    0.014014,    0.015015,    0.016016,    0.017017,    0.018018,    0.019019,     0.02002,    0.021021,    0.022022,    0.023023,\n",
       "          0.024024,    0.025025,    0.026026,    0.027027,    0.028028,    0.029029,     0.03003,    0.031031,    0.032032,    0.033033,    0.034034,    0.035035,    0.036036,    0.037037,    0.038038,    0.039039,     0.04004,    0.041041,    0.042042,    0.043043,    0.044044,    0.045045,    0.046046,    0.047047,\n",
       "          0.048048,    0.049049,     0.05005,    0.051051,    0.052052,    0.053053,    0.054054,    0.055055,    0.056056,    0.057057,    0.058058,    0.059059,     0.06006,    0.061061,    0.062062,    0.063063,    0.064064,    0.065065,    0.066066,    0.067067,    0.068068,    0.069069,     0.07007,    0.071071,\n",
       "          0.072072,    0.073073,    0.074074,    0.075075,    0.076076,    0.077077,    0.078078,    0.079079,     0.08008,    0.081081,    0.082082,    0.083083,    0.084084,    0.085085,    0.086086,    0.087087,    0.088088,    0.089089,     0.09009,    0.091091,    0.092092,    0.093093,    0.094094,    0.095095,\n",
       "          0.096096,    0.097097,    0.098098,    0.099099,      0.1001,      0.1011,      0.1021,      0.1031,      0.1041,     0.10511,     0.10611,     0.10711,     0.10811,     0.10911,     0.11011,     0.11111,     0.11211,     0.11311,     0.11411,     0.11512,     0.11612,     0.11712,     0.11812,     0.11912,\n",
       "           0.12012,     0.12112,     0.12212,     0.12312,     0.12412,     0.12513,     0.12613,     0.12713,     0.12813,     0.12913,     0.13013,     0.13113,     0.13213,     0.13313,     0.13413,     0.13514,     0.13614,     0.13714,     0.13814,     0.13914,     0.14014,     0.14114,     0.14214,     0.14314,\n",
       "           0.14414,     0.14515,     0.14615,     0.14715,     0.14815,     0.14915,     0.15015,     0.15115,     0.15215,     0.15315,     0.15415,     0.15516,     0.15616,     0.15716,     0.15816,     0.15916,     0.16016,     0.16116,     0.16216,     0.16316,     0.16416,     0.16517,     0.16617,     0.16717,\n",
       "           0.16817,     0.16917,     0.17017,     0.17117,     0.17217,     0.17317,     0.17417,     0.17518,     0.17618,     0.17718,     0.17818,     0.17918,     0.18018,     0.18118,     0.18218,     0.18318,     0.18418,     0.18519,     0.18619,     0.18719,     0.18819,     0.18919,     0.19019,     0.19119,\n",
       "           0.19219,     0.19319,     0.19419,      0.1952,      0.1962,      0.1972,      0.1982,      0.1992,      0.2002,      0.2012,      0.2022,      0.2032,      0.2042,     0.20521,     0.20621,     0.20721,     0.20821,     0.20921,     0.21021,     0.21121,     0.21221,     0.21321,     0.21421,     0.21522,\n",
       "           0.21622,     0.21722,     0.21822,     0.21922,     0.22022,     0.22122,     0.22222,     0.22322,     0.22422,     0.22523,     0.22623,     0.22723,     0.22823,     0.22923,     0.23023,     0.23123,     0.23223,     0.23323,     0.23423,     0.23524,     0.23624,     0.23724,     0.23824,     0.23924,\n",
       "           0.24024,     0.24124,     0.24224,     0.24324,     0.24424,     0.24525,     0.24625,     0.24725,     0.24825,     0.24925,     0.25025,     0.25125,     0.25225,     0.25325,     0.25425,     0.25526,     0.25626,     0.25726,     0.25826,     0.25926,     0.26026,     0.26126,     0.26226,     0.26326,\n",
       "           0.26426,     0.26527,     0.26627,     0.26727,     0.26827,     0.26927,     0.27027,     0.27127,     0.27227,     0.27327,     0.27427,     0.27528,     0.27628,     0.27728,     0.27828,     0.27928,     0.28028,     0.28128,     0.28228,     0.28328,     0.28428,     0.28529,     0.28629,     0.28729,\n",
       "           0.28829,     0.28929,     0.29029,     0.29129,     0.29229,     0.29329,     0.29429,      0.2953,      0.2963,      0.2973,      0.2983,      0.2993,      0.3003,      0.3013,      0.3023,      0.3033,      0.3043,     0.30531,     0.30631,     0.30731,     0.30831,     0.30931,     0.31031,     0.31131,\n",
       "           0.31231,     0.31331,     0.31431,     0.31532,     0.31632,     0.31732,     0.31832,     0.31932,     0.32032,     0.32132,     0.32232,     0.32332,     0.32432,     0.32533,     0.32633,     0.32733,     0.32833,     0.32933,     0.33033,     0.33133,     0.33233,     0.33333,     0.33433,     0.33534,\n",
       "           0.33634,     0.33734,     0.33834,     0.33934,     0.34034,     0.34134,     0.34234,     0.34334,     0.34434,     0.34535,     0.34635,     0.34735,     0.34835,     0.34935,     0.35035,     0.35135,     0.35235,     0.35335,     0.35435,     0.35536,     0.35636,     0.35736,     0.35836,     0.35936,\n",
       "           0.36036,     0.36136,     0.36236,     0.36336,     0.36436,     0.36537,     0.36637,     0.36737,     0.36837,     0.36937,     0.37037,     0.37137,     0.37237,     0.37337,     0.37437,     0.37538,     0.37638,     0.37738,     0.37838,     0.37938,     0.38038,     0.38138,     0.38238,     0.38338,\n",
       "           0.38438,     0.38539,     0.38639,     0.38739,     0.38839,     0.38939,     0.39039,     0.39139,     0.39239,     0.39339,     0.39439,      0.3954,      0.3964,      0.3974,      0.3984,      0.3994,      0.4004,      0.4014,      0.4024,      0.4034,      0.4044,     0.40541,     0.40641,     0.40741,\n",
       "           0.40841,     0.40941,     0.41041,     0.41141,     0.41241,     0.41341,     0.41441,     0.41542,     0.41642,     0.41742,     0.41842,     0.41942,     0.42042,     0.42142,     0.42242,     0.42342,     0.42442,     0.42543,     0.42643,     0.42743,     0.42843,     0.42943,     0.43043,     0.43143,\n",
       "           0.43243,     0.43343,     0.43443,     0.43544,     0.43644,     0.43744,     0.43844,     0.43944,     0.44044,     0.44144,     0.44244,     0.44344,     0.44444,     0.44545,     0.44645,     0.44745,     0.44845,     0.44945,     0.45045,     0.45145,     0.45245,     0.45345,     0.45445,     0.45546,\n",
       "           0.45646,     0.45746,     0.45846,     0.45946,     0.46046,     0.46146,     0.46246,     0.46346,     0.46446,     0.46547,     0.46647,     0.46747,     0.46847,     0.46947,     0.47047,     0.47147,     0.47247,     0.47347,     0.47447,     0.47548,     0.47648,     0.47748,     0.47848,     0.47948,\n",
       "           0.48048,     0.48148,     0.48248,     0.48348,     0.48448,     0.48549,     0.48649,     0.48749,     0.48849,     0.48949,     0.49049,     0.49149,     0.49249,     0.49349,     0.49449,      0.4955,      0.4965,      0.4975,      0.4985,      0.4995,      0.5005,      0.5015,      0.5025,      0.5035,\n",
       "            0.5045,     0.50551,     0.50651,     0.50751,     0.50851,     0.50951,     0.51051,     0.51151,     0.51251,     0.51351,     0.51451,     0.51552,     0.51652,     0.51752,     0.51852,     0.51952,     0.52052,     0.52152,     0.52252,     0.52352,     0.52452,     0.52553,     0.52653,     0.52753,\n",
       "           0.52853,     0.52953,     0.53053,     0.53153,     0.53253,     0.53353,     0.53453,     0.53554,     0.53654,     0.53754,     0.53854,     0.53954,     0.54054,     0.54154,     0.54254,     0.54354,     0.54454,     0.54555,     0.54655,     0.54755,     0.54855,     0.54955,     0.55055,     0.55155,\n",
       "           0.55255,     0.55355,     0.55455,     0.55556,     0.55656,     0.55756,     0.55856,     0.55956,     0.56056,     0.56156,     0.56256,     0.56356,     0.56456,     0.56557,     0.56657,     0.56757,     0.56857,     0.56957,     0.57057,     0.57157,     0.57257,     0.57357,     0.57457,     0.57558,\n",
       "           0.57658,     0.57758,     0.57858,     0.57958,     0.58058,     0.58158,     0.58258,     0.58358,     0.58458,     0.58559,     0.58659,     0.58759,     0.58859,     0.58959,     0.59059,     0.59159,     0.59259,     0.59359,     0.59459,      0.5956,      0.5966,      0.5976,      0.5986,      0.5996,\n",
       "            0.6006,      0.6016,      0.6026,      0.6036,      0.6046,     0.60561,     0.60661,     0.60761,     0.60861,     0.60961,     0.61061,     0.61161,     0.61261,     0.61361,     0.61461,     0.61562,     0.61662,     0.61762,     0.61862,     0.61962,     0.62062,     0.62162,     0.62262,     0.62362,\n",
       "           0.62462,     0.62563,     0.62663,     0.62763,     0.62863,     0.62963,     0.63063,     0.63163,     0.63263,     0.63363,     0.63463,     0.63564,     0.63664,     0.63764,     0.63864,     0.63964,     0.64064,     0.64164,     0.64264,     0.64364,     0.64464,     0.64565,     0.64665,     0.64765,\n",
       "           0.64865,     0.64965,     0.65065,     0.65165,     0.65265,     0.65365,     0.65465,     0.65566,     0.65666,     0.65766,     0.65866,     0.65966,     0.66066,     0.66166,     0.66266,     0.66366,     0.66466,     0.66567,     0.66667,     0.66767,     0.66867,     0.66967,     0.67067,     0.67167,\n",
       "           0.67267,     0.67367,     0.67467,     0.67568,     0.67668,     0.67768,     0.67868,     0.67968,     0.68068,     0.68168,     0.68268,     0.68368,     0.68468,     0.68569,     0.68669,     0.68769,     0.68869,     0.68969,     0.69069,     0.69169,     0.69269,     0.69369,     0.69469,      0.6957,\n",
       "            0.6967,      0.6977,      0.6987,      0.6997,      0.7007,      0.7017,      0.7027,      0.7037,      0.7047,     0.70571,     0.70671,     0.70771,     0.70871,     0.70971,     0.71071,     0.71171,     0.71271,     0.71371,     0.71471,     0.71572,     0.71672,     0.71772,     0.71872,     0.71972,\n",
       "           0.72072,     0.72172,     0.72272,     0.72372,     0.72472,     0.72573,     0.72673,     0.72773,     0.72873,     0.72973,     0.73073,     0.73173,     0.73273,     0.73373,     0.73473,     0.73574,     0.73674,     0.73774,     0.73874,     0.73974,     0.74074,     0.74174,     0.74274,     0.74374,\n",
       "           0.74474,     0.74575,     0.74675,     0.74775,     0.74875,     0.74975,     0.75075,     0.75175,     0.75275,     0.75375,     0.75475,     0.75576,     0.75676,     0.75776,     0.75876,     0.75976,     0.76076,     0.76176,     0.76276,     0.76376,     0.76476,     0.76577,     0.76677,     0.76777,\n",
       "           0.76877,     0.76977,     0.77077,     0.77177,     0.77277,     0.77377,     0.77477,     0.77578,     0.77678,     0.77778,     0.77878,     0.77978,     0.78078,     0.78178,     0.78278,     0.78378,     0.78478,     0.78579,     0.78679,     0.78779,     0.78879,     0.78979,     0.79079,     0.79179,\n",
       "           0.79279,     0.79379,     0.79479,      0.7958,      0.7968,      0.7978,      0.7988,      0.7998,      0.8008,      0.8018,      0.8028,      0.8038,      0.8048,     0.80581,     0.80681,     0.80781,     0.80881,     0.80981,     0.81081,     0.81181,     0.81281,     0.81381,     0.81481,     0.81582,\n",
       "           0.81682,     0.81782,     0.81882,     0.81982,     0.82082,     0.82182,     0.82282,     0.82382,     0.82482,     0.82583,     0.82683,     0.82783,     0.82883,     0.82983,     0.83083,     0.83183,     0.83283,     0.83383,     0.83483,     0.83584,     0.83684,     0.83784,     0.83884,     0.83984,\n",
       "           0.84084,     0.84184,     0.84284,     0.84384,     0.84484,     0.84585,     0.84685,     0.84785,     0.84885,     0.84985,     0.85085,     0.85185,     0.85285,     0.85385,     0.85485,     0.85586,     0.85686,     0.85786,     0.85886,     0.85986,     0.86086,     0.86186,     0.86286,     0.86386,\n",
       "           0.86486,     0.86587,     0.86687,     0.86787,     0.86887,     0.86987,     0.87087,     0.87187,     0.87287,     0.87387,     0.87487,     0.87588,     0.87688,     0.87788,     0.87888,     0.87988,     0.88088,     0.88188,     0.88288,     0.88388,     0.88488,     0.88589,     0.88689,     0.88789,\n",
       "           0.88889,     0.88989,     0.89089,     0.89189,     0.89289,     0.89389,     0.89489,      0.8959,      0.8969,      0.8979,      0.8989,      0.8999,      0.9009,      0.9019,      0.9029,      0.9039,      0.9049,     0.90591,     0.90691,     0.90791,     0.90891,     0.90991,     0.91091,     0.91191,\n",
       "           0.91291,     0.91391,     0.91491,     0.91592,     0.91692,     0.91792,     0.91892,     0.91992,     0.92092,     0.92192,     0.92292,     0.92392,     0.92492,     0.92593,     0.92693,     0.92793,     0.92893,     0.92993,     0.93093,     0.93193,     0.93293,     0.93393,     0.93493,     0.93594,\n",
       "           0.93694,     0.93794,     0.93894,     0.93994,     0.94094,     0.94194,     0.94294,     0.94394,     0.94494,     0.94595,     0.94695,     0.94795,     0.94895,     0.94995,     0.95095,     0.95195,     0.95295,     0.95395,     0.95495,     0.95596,     0.95696,     0.95796,     0.95896,     0.95996,\n",
       "           0.96096,     0.96196,     0.96296,     0.96396,     0.96496,     0.96597,     0.96697,     0.96797,     0.96897,     0.96997,     0.97097,     0.97197,     0.97297,     0.97397,     0.97497,     0.97598,     0.97698,     0.97798,     0.97898,     0.97998,     0.98098,     0.98198,     0.98298,     0.98398,\n",
       "           0.98498,     0.98599,     0.98699,     0.98799,     0.98899,     0.98999,     0.99099,     0.99199,     0.99299,     0.99399,     0.99499,       0.996,       0.997,       0.998,       0.999,           1]), array([[          1,           1,           1, ...,      0.9562,      0.9562,           0],\n",
       "       [          1,           1,           1, ...,    0.092396,    0.046198,           0]]), 'Recall', 'Precision'], [array([          0,    0.001001,    0.002002,    0.003003,    0.004004,    0.005005,    0.006006,    0.007007,    0.008008,    0.009009,     0.01001,    0.011011,    0.012012,    0.013013,    0.014014,    0.015015,    0.016016,    0.017017,    0.018018,    0.019019,     0.02002,    0.021021,    0.022022,    0.023023,\n",
       "          0.024024,    0.025025,    0.026026,    0.027027,    0.028028,    0.029029,     0.03003,    0.031031,    0.032032,    0.033033,    0.034034,    0.035035,    0.036036,    0.037037,    0.038038,    0.039039,     0.04004,    0.041041,    0.042042,    0.043043,    0.044044,    0.045045,    0.046046,    0.047047,\n",
       "          0.048048,    0.049049,     0.05005,    0.051051,    0.052052,    0.053053,    0.054054,    0.055055,    0.056056,    0.057057,    0.058058,    0.059059,     0.06006,    0.061061,    0.062062,    0.063063,    0.064064,    0.065065,    0.066066,    0.067067,    0.068068,    0.069069,     0.07007,    0.071071,\n",
       "          0.072072,    0.073073,    0.074074,    0.075075,    0.076076,    0.077077,    0.078078,    0.079079,     0.08008,    0.081081,    0.082082,    0.083083,    0.084084,    0.085085,    0.086086,    0.087087,    0.088088,    0.089089,     0.09009,    0.091091,    0.092092,    0.093093,    0.094094,    0.095095,\n",
       "          0.096096,    0.097097,    0.098098,    0.099099,      0.1001,      0.1011,      0.1021,      0.1031,      0.1041,     0.10511,     0.10611,     0.10711,     0.10811,     0.10911,     0.11011,     0.11111,     0.11211,     0.11311,     0.11411,     0.11512,     0.11612,     0.11712,     0.11812,     0.11912,\n",
       "           0.12012,     0.12112,     0.12212,     0.12312,     0.12412,     0.12513,     0.12613,     0.12713,     0.12813,     0.12913,     0.13013,     0.13113,     0.13213,     0.13313,     0.13413,     0.13514,     0.13614,     0.13714,     0.13814,     0.13914,     0.14014,     0.14114,     0.14214,     0.14314,\n",
       "           0.14414,     0.14515,     0.14615,     0.14715,     0.14815,     0.14915,     0.15015,     0.15115,     0.15215,     0.15315,     0.15415,     0.15516,     0.15616,     0.15716,     0.15816,     0.15916,     0.16016,     0.16116,     0.16216,     0.16316,     0.16416,     0.16517,     0.16617,     0.16717,\n",
       "           0.16817,     0.16917,     0.17017,     0.17117,     0.17217,     0.17317,     0.17417,     0.17518,     0.17618,     0.17718,     0.17818,     0.17918,     0.18018,     0.18118,     0.18218,     0.18318,     0.18418,     0.18519,     0.18619,     0.18719,     0.18819,     0.18919,     0.19019,     0.19119,\n",
       "           0.19219,     0.19319,     0.19419,      0.1952,      0.1962,      0.1972,      0.1982,      0.1992,      0.2002,      0.2012,      0.2022,      0.2032,      0.2042,     0.20521,     0.20621,     0.20721,     0.20821,     0.20921,     0.21021,     0.21121,     0.21221,     0.21321,     0.21421,     0.21522,\n",
       "           0.21622,     0.21722,     0.21822,     0.21922,     0.22022,     0.22122,     0.22222,     0.22322,     0.22422,     0.22523,     0.22623,     0.22723,     0.22823,     0.22923,     0.23023,     0.23123,     0.23223,     0.23323,     0.23423,     0.23524,     0.23624,     0.23724,     0.23824,     0.23924,\n",
       "           0.24024,     0.24124,     0.24224,     0.24324,     0.24424,     0.24525,     0.24625,     0.24725,     0.24825,     0.24925,     0.25025,     0.25125,     0.25225,     0.25325,     0.25425,     0.25526,     0.25626,     0.25726,     0.25826,     0.25926,     0.26026,     0.26126,     0.26226,     0.26326,\n",
       "           0.26426,     0.26527,     0.26627,     0.26727,     0.26827,     0.26927,     0.27027,     0.27127,     0.27227,     0.27327,     0.27427,     0.27528,     0.27628,     0.27728,     0.27828,     0.27928,     0.28028,     0.28128,     0.28228,     0.28328,     0.28428,     0.28529,     0.28629,     0.28729,\n",
       "           0.28829,     0.28929,     0.29029,     0.29129,     0.29229,     0.29329,     0.29429,      0.2953,      0.2963,      0.2973,      0.2983,      0.2993,      0.3003,      0.3013,      0.3023,      0.3033,      0.3043,     0.30531,     0.30631,     0.30731,     0.30831,     0.30931,     0.31031,     0.31131,\n",
       "           0.31231,     0.31331,     0.31431,     0.31532,     0.31632,     0.31732,     0.31832,     0.31932,     0.32032,     0.32132,     0.32232,     0.32332,     0.32432,     0.32533,     0.32633,     0.32733,     0.32833,     0.32933,     0.33033,     0.33133,     0.33233,     0.33333,     0.33433,     0.33534,\n",
       "           0.33634,     0.33734,     0.33834,     0.33934,     0.34034,     0.34134,     0.34234,     0.34334,     0.34434,     0.34535,     0.34635,     0.34735,     0.34835,     0.34935,     0.35035,     0.35135,     0.35235,     0.35335,     0.35435,     0.35536,     0.35636,     0.35736,     0.35836,     0.35936,\n",
       "           0.36036,     0.36136,     0.36236,     0.36336,     0.36436,     0.36537,     0.36637,     0.36737,     0.36837,     0.36937,     0.37037,     0.37137,     0.37237,     0.37337,     0.37437,     0.37538,     0.37638,     0.37738,     0.37838,     0.37938,     0.38038,     0.38138,     0.38238,     0.38338,\n",
       "           0.38438,     0.38539,     0.38639,     0.38739,     0.38839,     0.38939,     0.39039,     0.39139,     0.39239,     0.39339,     0.39439,      0.3954,      0.3964,      0.3974,      0.3984,      0.3994,      0.4004,      0.4014,      0.4024,      0.4034,      0.4044,     0.40541,     0.40641,     0.40741,\n",
       "           0.40841,     0.40941,     0.41041,     0.41141,     0.41241,     0.41341,     0.41441,     0.41542,     0.41642,     0.41742,     0.41842,     0.41942,     0.42042,     0.42142,     0.42242,     0.42342,     0.42442,     0.42543,     0.42643,     0.42743,     0.42843,     0.42943,     0.43043,     0.43143,\n",
       "           0.43243,     0.43343,     0.43443,     0.43544,     0.43644,     0.43744,     0.43844,     0.43944,     0.44044,     0.44144,     0.44244,     0.44344,     0.44444,     0.44545,     0.44645,     0.44745,     0.44845,     0.44945,     0.45045,     0.45145,     0.45245,     0.45345,     0.45445,     0.45546,\n",
       "           0.45646,     0.45746,     0.45846,     0.45946,     0.46046,     0.46146,     0.46246,     0.46346,     0.46446,     0.46547,     0.46647,     0.46747,     0.46847,     0.46947,     0.47047,     0.47147,     0.47247,     0.47347,     0.47447,     0.47548,     0.47648,     0.47748,     0.47848,     0.47948,\n",
       "           0.48048,     0.48148,     0.48248,     0.48348,     0.48448,     0.48549,     0.48649,     0.48749,     0.48849,     0.48949,     0.49049,     0.49149,     0.49249,     0.49349,     0.49449,      0.4955,      0.4965,      0.4975,      0.4985,      0.4995,      0.5005,      0.5015,      0.5025,      0.5035,\n",
       "            0.5045,     0.50551,     0.50651,     0.50751,     0.50851,     0.50951,     0.51051,     0.51151,     0.51251,     0.51351,     0.51451,     0.51552,     0.51652,     0.51752,     0.51852,     0.51952,     0.52052,     0.52152,     0.52252,     0.52352,     0.52452,     0.52553,     0.52653,     0.52753,\n",
       "           0.52853,     0.52953,     0.53053,     0.53153,     0.53253,     0.53353,     0.53453,     0.53554,     0.53654,     0.53754,     0.53854,     0.53954,     0.54054,     0.54154,     0.54254,     0.54354,     0.54454,     0.54555,     0.54655,     0.54755,     0.54855,     0.54955,     0.55055,     0.55155,\n",
       "           0.55255,     0.55355,     0.55455,     0.55556,     0.55656,     0.55756,     0.55856,     0.55956,     0.56056,     0.56156,     0.56256,     0.56356,     0.56456,     0.56557,     0.56657,     0.56757,     0.56857,     0.56957,     0.57057,     0.57157,     0.57257,     0.57357,     0.57457,     0.57558,\n",
       "           0.57658,     0.57758,     0.57858,     0.57958,     0.58058,     0.58158,     0.58258,     0.58358,     0.58458,     0.58559,     0.58659,     0.58759,     0.58859,     0.58959,     0.59059,     0.59159,     0.59259,     0.59359,     0.59459,      0.5956,      0.5966,      0.5976,      0.5986,      0.5996,\n",
       "            0.6006,      0.6016,      0.6026,      0.6036,      0.6046,     0.60561,     0.60661,     0.60761,     0.60861,     0.60961,     0.61061,     0.61161,     0.61261,     0.61361,     0.61461,     0.61562,     0.61662,     0.61762,     0.61862,     0.61962,     0.62062,     0.62162,     0.62262,     0.62362,\n",
       "           0.62462,     0.62563,     0.62663,     0.62763,     0.62863,     0.62963,     0.63063,     0.63163,     0.63263,     0.63363,     0.63463,     0.63564,     0.63664,     0.63764,     0.63864,     0.63964,     0.64064,     0.64164,     0.64264,     0.64364,     0.64464,     0.64565,     0.64665,     0.64765,\n",
       "           0.64865,     0.64965,     0.65065,     0.65165,     0.65265,     0.65365,     0.65465,     0.65566,     0.65666,     0.65766,     0.65866,     0.65966,     0.66066,     0.66166,     0.66266,     0.66366,     0.66466,     0.66567,     0.66667,     0.66767,     0.66867,     0.66967,     0.67067,     0.67167,\n",
       "           0.67267,     0.67367,     0.67467,     0.67568,     0.67668,     0.67768,     0.67868,     0.67968,     0.68068,     0.68168,     0.68268,     0.68368,     0.68468,     0.68569,     0.68669,     0.68769,     0.68869,     0.68969,     0.69069,     0.69169,     0.69269,     0.69369,     0.69469,      0.6957,\n",
       "            0.6967,      0.6977,      0.6987,      0.6997,      0.7007,      0.7017,      0.7027,      0.7037,      0.7047,     0.70571,     0.70671,     0.70771,     0.70871,     0.70971,     0.71071,     0.71171,     0.71271,     0.71371,     0.71471,     0.71572,     0.71672,     0.71772,     0.71872,     0.71972,\n",
       "           0.72072,     0.72172,     0.72272,     0.72372,     0.72472,     0.72573,     0.72673,     0.72773,     0.72873,     0.72973,     0.73073,     0.73173,     0.73273,     0.73373,     0.73473,     0.73574,     0.73674,     0.73774,     0.73874,     0.73974,     0.74074,     0.74174,     0.74274,     0.74374,\n",
       "           0.74474,     0.74575,     0.74675,     0.74775,     0.74875,     0.74975,     0.75075,     0.75175,     0.75275,     0.75375,     0.75475,     0.75576,     0.75676,     0.75776,     0.75876,     0.75976,     0.76076,     0.76176,     0.76276,     0.76376,     0.76476,     0.76577,     0.76677,     0.76777,\n",
       "           0.76877,     0.76977,     0.77077,     0.77177,     0.77277,     0.77377,     0.77477,     0.77578,     0.77678,     0.77778,     0.77878,     0.77978,     0.78078,     0.78178,     0.78278,     0.78378,     0.78478,     0.78579,     0.78679,     0.78779,     0.78879,     0.78979,     0.79079,     0.79179,\n",
       "           0.79279,     0.79379,     0.79479,      0.7958,      0.7968,      0.7978,      0.7988,      0.7998,      0.8008,      0.8018,      0.8028,      0.8038,      0.8048,     0.80581,     0.80681,     0.80781,     0.80881,     0.80981,     0.81081,     0.81181,     0.81281,     0.81381,     0.81481,     0.81582,\n",
       "           0.81682,     0.81782,     0.81882,     0.81982,     0.82082,     0.82182,     0.82282,     0.82382,     0.82482,     0.82583,     0.82683,     0.82783,     0.82883,     0.82983,     0.83083,     0.83183,     0.83283,     0.83383,     0.83483,     0.83584,     0.83684,     0.83784,     0.83884,     0.83984,\n",
       "           0.84084,     0.84184,     0.84284,     0.84384,     0.84484,     0.84585,     0.84685,     0.84785,     0.84885,     0.84985,     0.85085,     0.85185,     0.85285,     0.85385,     0.85485,     0.85586,     0.85686,     0.85786,     0.85886,     0.85986,     0.86086,     0.86186,     0.86286,     0.86386,\n",
       "           0.86486,     0.86587,     0.86687,     0.86787,     0.86887,     0.86987,     0.87087,     0.87187,     0.87287,     0.87387,     0.87487,     0.87588,     0.87688,     0.87788,     0.87888,     0.87988,     0.88088,     0.88188,     0.88288,     0.88388,     0.88488,     0.88589,     0.88689,     0.88789,\n",
       "           0.88889,     0.88989,     0.89089,     0.89189,     0.89289,     0.89389,     0.89489,      0.8959,      0.8969,      0.8979,      0.8989,      0.8999,      0.9009,      0.9019,      0.9029,      0.9039,      0.9049,     0.90591,     0.90691,     0.90791,     0.90891,     0.90991,     0.91091,     0.91191,\n",
       "           0.91291,     0.91391,     0.91491,     0.91592,     0.91692,     0.91792,     0.91892,     0.91992,     0.92092,     0.92192,     0.92292,     0.92392,     0.92492,     0.92593,     0.92693,     0.92793,     0.92893,     0.92993,     0.93093,     0.93193,     0.93293,     0.93393,     0.93493,     0.93594,\n",
       "           0.93694,     0.93794,     0.93894,     0.93994,     0.94094,     0.94194,     0.94294,     0.94394,     0.94494,     0.94595,     0.94695,     0.94795,     0.94895,     0.94995,     0.95095,     0.95195,     0.95295,     0.95395,     0.95495,     0.95596,     0.95696,     0.95796,     0.95896,     0.95996,\n",
       "           0.96096,     0.96196,     0.96296,     0.96396,     0.96496,     0.96597,     0.96697,     0.96797,     0.96897,     0.96997,     0.97097,     0.97197,     0.97297,     0.97397,     0.97497,     0.97598,     0.97698,     0.97798,     0.97898,     0.97998,     0.98098,     0.98198,     0.98298,     0.98398,\n",
       "           0.98498,     0.98599,     0.98699,     0.98799,     0.98899,     0.98999,     0.99099,     0.99199,     0.99299,     0.99399,     0.99499,       0.996,       0.997,       0.998,       0.999,           1]), array([[    0.66497,     0.66497,     0.77493, ...,           0,           0,           0],\n",
       "       [       0.52,        0.52,     0.62246, ...,           0,           0,           0]]), 'Confidence', 'F1'], [array([          0,    0.001001,    0.002002,    0.003003,    0.004004,    0.005005,    0.006006,    0.007007,    0.008008,    0.009009,     0.01001,    0.011011,    0.012012,    0.013013,    0.014014,    0.015015,    0.016016,    0.017017,    0.018018,    0.019019,     0.02002,    0.021021,    0.022022,    0.023023,\n",
       "          0.024024,    0.025025,    0.026026,    0.027027,    0.028028,    0.029029,     0.03003,    0.031031,    0.032032,    0.033033,    0.034034,    0.035035,    0.036036,    0.037037,    0.038038,    0.039039,     0.04004,    0.041041,    0.042042,    0.043043,    0.044044,    0.045045,    0.046046,    0.047047,\n",
       "          0.048048,    0.049049,     0.05005,    0.051051,    0.052052,    0.053053,    0.054054,    0.055055,    0.056056,    0.057057,    0.058058,    0.059059,     0.06006,    0.061061,    0.062062,    0.063063,    0.064064,    0.065065,    0.066066,    0.067067,    0.068068,    0.069069,     0.07007,    0.071071,\n",
       "          0.072072,    0.073073,    0.074074,    0.075075,    0.076076,    0.077077,    0.078078,    0.079079,     0.08008,    0.081081,    0.082082,    0.083083,    0.084084,    0.085085,    0.086086,    0.087087,    0.088088,    0.089089,     0.09009,    0.091091,    0.092092,    0.093093,    0.094094,    0.095095,\n",
       "          0.096096,    0.097097,    0.098098,    0.099099,      0.1001,      0.1011,      0.1021,      0.1031,      0.1041,     0.10511,     0.10611,     0.10711,     0.10811,     0.10911,     0.11011,     0.11111,     0.11211,     0.11311,     0.11411,     0.11512,     0.11612,     0.11712,     0.11812,     0.11912,\n",
       "           0.12012,     0.12112,     0.12212,     0.12312,     0.12412,     0.12513,     0.12613,     0.12713,     0.12813,     0.12913,     0.13013,     0.13113,     0.13213,     0.13313,     0.13413,     0.13514,     0.13614,     0.13714,     0.13814,     0.13914,     0.14014,     0.14114,     0.14214,     0.14314,\n",
       "           0.14414,     0.14515,     0.14615,     0.14715,     0.14815,     0.14915,     0.15015,     0.15115,     0.15215,     0.15315,     0.15415,     0.15516,     0.15616,     0.15716,     0.15816,     0.15916,     0.16016,     0.16116,     0.16216,     0.16316,     0.16416,     0.16517,     0.16617,     0.16717,\n",
       "           0.16817,     0.16917,     0.17017,     0.17117,     0.17217,     0.17317,     0.17417,     0.17518,     0.17618,     0.17718,     0.17818,     0.17918,     0.18018,     0.18118,     0.18218,     0.18318,     0.18418,     0.18519,     0.18619,     0.18719,     0.18819,     0.18919,     0.19019,     0.19119,\n",
       "           0.19219,     0.19319,     0.19419,      0.1952,      0.1962,      0.1972,      0.1982,      0.1992,      0.2002,      0.2012,      0.2022,      0.2032,      0.2042,     0.20521,     0.20621,     0.20721,     0.20821,     0.20921,     0.21021,     0.21121,     0.21221,     0.21321,     0.21421,     0.21522,\n",
       "           0.21622,     0.21722,     0.21822,     0.21922,     0.22022,     0.22122,     0.22222,     0.22322,     0.22422,     0.22523,     0.22623,     0.22723,     0.22823,     0.22923,     0.23023,     0.23123,     0.23223,     0.23323,     0.23423,     0.23524,     0.23624,     0.23724,     0.23824,     0.23924,\n",
       "           0.24024,     0.24124,     0.24224,     0.24324,     0.24424,     0.24525,     0.24625,     0.24725,     0.24825,     0.24925,     0.25025,     0.25125,     0.25225,     0.25325,     0.25425,     0.25526,     0.25626,     0.25726,     0.25826,     0.25926,     0.26026,     0.26126,     0.26226,     0.26326,\n",
       "           0.26426,     0.26527,     0.26627,     0.26727,     0.26827,     0.26927,     0.27027,     0.27127,     0.27227,     0.27327,     0.27427,     0.27528,     0.27628,     0.27728,     0.27828,     0.27928,     0.28028,     0.28128,     0.28228,     0.28328,     0.28428,     0.28529,     0.28629,     0.28729,\n",
       "           0.28829,     0.28929,     0.29029,     0.29129,     0.29229,     0.29329,     0.29429,      0.2953,      0.2963,      0.2973,      0.2983,      0.2993,      0.3003,      0.3013,      0.3023,      0.3033,      0.3043,     0.30531,     0.30631,     0.30731,     0.30831,     0.30931,     0.31031,     0.31131,\n",
       "           0.31231,     0.31331,     0.31431,     0.31532,     0.31632,     0.31732,     0.31832,     0.31932,     0.32032,     0.32132,     0.32232,     0.32332,     0.32432,     0.32533,     0.32633,     0.32733,     0.32833,     0.32933,     0.33033,     0.33133,     0.33233,     0.33333,     0.33433,     0.33534,\n",
       "           0.33634,     0.33734,     0.33834,     0.33934,     0.34034,     0.34134,     0.34234,     0.34334,     0.34434,     0.34535,     0.34635,     0.34735,     0.34835,     0.34935,     0.35035,     0.35135,     0.35235,     0.35335,     0.35435,     0.35536,     0.35636,     0.35736,     0.35836,     0.35936,\n",
       "           0.36036,     0.36136,     0.36236,     0.36336,     0.36436,     0.36537,     0.36637,     0.36737,     0.36837,     0.36937,     0.37037,     0.37137,     0.37237,     0.37337,     0.37437,     0.37538,     0.37638,     0.37738,     0.37838,     0.37938,     0.38038,     0.38138,     0.38238,     0.38338,\n",
       "           0.38438,     0.38539,     0.38639,     0.38739,     0.38839,     0.38939,     0.39039,     0.39139,     0.39239,     0.39339,     0.39439,      0.3954,      0.3964,      0.3974,      0.3984,      0.3994,      0.4004,      0.4014,      0.4024,      0.4034,      0.4044,     0.40541,     0.40641,     0.40741,\n",
       "           0.40841,     0.40941,     0.41041,     0.41141,     0.41241,     0.41341,     0.41441,     0.41542,     0.41642,     0.41742,     0.41842,     0.41942,     0.42042,     0.42142,     0.42242,     0.42342,     0.42442,     0.42543,     0.42643,     0.42743,     0.42843,     0.42943,     0.43043,     0.43143,\n",
       "           0.43243,     0.43343,     0.43443,     0.43544,     0.43644,     0.43744,     0.43844,     0.43944,     0.44044,     0.44144,     0.44244,     0.44344,     0.44444,     0.44545,     0.44645,     0.44745,     0.44845,     0.44945,     0.45045,     0.45145,     0.45245,     0.45345,     0.45445,     0.45546,\n",
       "           0.45646,     0.45746,     0.45846,     0.45946,     0.46046,     0.46146,     0.46246,     0.46346,     0.46446,     0.46547,     0.46647,     0.46747,     0.46847,     0.46947,     0.47047,     0.47147,     0.47247,     0.47347,     0.47447,     0.47548,     0.47648,     0.47748,     0.47848,     0.47948,\n",
       "           0.48048,     0.48148,     0.48248,     0.48348,     0.48448,     0.48549,     0.48649,     0.48749,     0.48849,     0.48949,     0.49049,     0.49149,     0.49249,     0.49349,     0.49449,      0.4955,      0.4965,      0.4975,      0.4985,      0.4995,      0.5005,      0.5015,      0.5025,      0.5035,\n",
       "            0.5045,     0.50551,     0.50651,     0.50751,     0.50851,     0.50951,     0.51051,     0.51151,     0.51251,     0.51351,     0.51451,     0.51552,     0.51652,     0.51752,     0.51852,     0.51952,     0.52052,     0.52152,     0.52252,     0.52352,     0.52452,     0.52553,     0.52653,     0.52753,\n",
       "           0.52853,     0.52953,     0.53053,     0.53153,     0.53253,     0.53353,     0.53453,     0.53554,     0.53654,     0.53754,     0.53854,     0.53954,     0.54054,     0.54154,     0.54254,     0.54354,     0.54454,     0.54555,     0.54655,     0.54755,     0.54855,     0.54955,     0.55055,     0.55155,\n",
       "           0.55255,     0.55355,     0.55455,     0.55556,     0.55656,     0.55756,     0.55856,     0.55956,     0.56056,     0.56156,     0.56256,     0.56356,     0.56456,     0.56557,     0.56657,     0.56757,     0.56857,     0.56957,     0.57057,     0.57157,     0.57257,     0.57357,     0.57457,     0.57558,\n",
       "           0.57658,     0.57758,     0.57858,     0.57958,     0.58058,     0.58158,     0.58258,     0.58358,     0.58458,     0.58559,     0.58659,     0.58759,     0.58859,     0.58959,     0.59059,     0.59159,     0.59259,     0.59359,     0.59459,      0.5956,      0.5966,      0.5976,      0.5986,      0.5996,\n",
       "            0.6006,      0.6016,      0.6026,      0.6036,      0.6046,     0.60561,     0.60661,     0.60761,     0.60861,     0.60961,     0.61061,     0.61161,     0.61261,     0.61361,     0.61461,     0.61562,     0.61662,     0.61762,     0.61862,     0.61962,     0.62062,     0.62162,     0.62262,     0.62362,\n",
       "           0.62462,     0.62563,     0.62663,     0.62763,     0.62863,     0.62963,     0.63063,     0.63163,     0.63263,     0.63363,     0.63463,     0.63564,     0.63664,     0.63764,     0.63864,     0.63964,     0.64064,     0.64164,     0.64264,     0.64364,     0.64464,     0.64565,     0.64665,     0.64765,\n",
       "           0.64865,     0.64965,     0.65065,     0.65165,     0.65265,     0.65365,     0.65465,     0.65566,     0.65666,     0.65766,     0.65866,     0.65966,     0.66066,     0.66166,     0.66266,     0.66366,     0.66466,     0.66567,     0.66667,     0.66767,     0.66867,     0.66967,     0.67067,     0.67167,\n",
       "           0.67267,     0.67367,     0.67467,     0.67568,     0.67668,     0.67768,     0.67868,     0.67968,     0.68068,     0.68168,     0.68268,     0.68368,     0.68468,     0.68569,     0.68669,     0.68769,     0.68869,     0.68969,     0.69069,     0.69169,     0.69269,     0.69369,     0.69469,      0.6957,\n",
       "            0.6967,      0.6977,      0.6987,      0.6997,      0.7007,      0.7017,      0.7027,      0.7037,      0.7047,     0.70571,     0.70671,     0.70771,     0.70871,     0.70971,     0.71071,     0.71171,     0.71271,     0.71371,     0.71471,     0.71572,     0.71672,     0.71772,     0.71872,     0.71972,\n",
       "           0.72072,     0.72172,     0.72272,     0.72372,     0.72472,     0.72573,     0.72673,     0.72773,     0.72873,     0.72973,     0.73073,     0.73173,     0.73273,     0.73373,     0.73473,     0.73574,     0.73674,     0.73774,     0.73874,     0.73974,     0.74074,     0.74174,     0.74274,     0.74374,\n",
       "           0.74474,     0.74575,     0.74675,     0.74775,     0.74875,     0.74975,     0.75075,     0.75175,     0.75275,     0.75375,     0.75475,     0.75576,     0.75676,     0.75776,     0.75876,     0.75976,     0.76076,     0.76176,     0.76276,     0.76376,     0.76476,     0.76577,     0.76677,     0.76777,\n",
       "           0.76877,     0.76977,     0.77077,     0.77177,     0.77277,     0.77377,     0.77477,     0.77578,     0.77678,     0.77778,     0.77878,     0.77978,     0.78078,     0.78178,     0.78278,     0.78378,     0.78478,     0.78579,     0.78679,     0.78779,     0.78879,     0.78979,     0.79079,     0.79179,\n",
       "           0.79279,     0.79379,     0.79479,      0.7958,      0.7968,      0.7978,      0.7988,      0.7998,      0.8008,      0.8018,      0.8028,      0.8038,      0.8048,     0.80581,     0.80681,     0.80781,     0.80881,     0.80981,     0.81081,     0.81181,     0.81281,     0.81381,     0.81481,     0.81582,\n",
       "           0.81682,     0.81782,     0.81882,     0.81982,     0.82082,     0.82182,     0.82282,     0.82382,     0.82482,     0.82583,     0.82683,     0.82783,     0.82883,     0.82983,     0.83083,     0.83183,     0.83283,     0.83383,     0.83483,     0.83584,     0.83684,     0.83784,     0.83884,     0.83984,\n",
       "           0.84084,     0.84184,     0.84284,     0.84384,     0.84484,     0.84585,     0.84685,     0.84785,     0.84885,     0.84985,     0.85085,     0.85185,     0.85285,     0.85385,     0.85485,     0.85586,     0.85686,     0.85786,     0.85886,     0.85986,     0.86086,     0.86186,     0.86286,     0.86386,\n",
       "           0.86486,     0.86587,     0.86687,     0.86787,     0.86887,     0.86987,     0.87087,     0.87187,     0.87287,     0.87387,     0.87487,     0.87588,     0.87688,     0.87788,     0.87888,     0.87988,     0.88088,     0.88188,     0.88288,     0.88388,     0.88488,     0.88589,     0.88689,     0.88789,\n",
       "           0.88889,     0.88989,     0.89089,     0.89189,     0.89289,     0.89389,     0.89489,      0.8959,      0.8969,      0.8979,      0.8989,      0.8999,      0.9009,      0.9019,      0.9029,      0.9039,      0.9049,     0.90591,     0.90691,     0.90791,     0.90891,     0.90991,     0.91091,     0.91191,\n",
       "           0.91291,     0.91391,     0.91491,     0.91592,     0.91692,     0.91792,     0.91892,     0.91992,     0.92092,     0.92192,     0.92292,     0.92392,     0.92492,     0.92593,     0.92693,     0.92793,     0.92893,     0.92993,     0.93093,     0.93193,     0.93293,     0.93393,     0.93493,     0.93594,\n",
       "           0.93694,     0.93794,     0.93894,     0.93994,     0.94094,     0.94194,     0.94294,     0.94394,     0.94494,     0.94595,     0.94695,     0.94795,     0.94895,     0.94995,     0.95095,     0.95195,     0.95295,     0.95395,     0.95495,     0.95596,     0.95696,     0.95796,     0.95896,     0.95996,\n",
       "           0.96096,     0.96196,     0.96296,     0.96396,     0.96496,     0.96597,     0.96697,     0.96797,     0.96897,     0.96997,     0.97097,     0.97197,     0.97297,     0.97397,     0.97497,     0.97598,     0.97698,     0.97798,     0.97898,     0.97998,     0.98098,     0.98198,     0.98298,     0.98398,\n",
       "           0.98498,     0.98599,     0.98699,     0.98799,     0.98899,     0.98999,     0.99099,     0.99199,     0.99299,     0.99399,     0.99499,       0.996,       0.997,       0.998,       0.999,           1]), array([[     0.4981,      0.4981,     0.63257, ...,           1,           1,           1],\n",
       "       [     0.3523,      0.3523,     0.45344, ...,           1,           1,           1]]), 'Confidence', 'Precision'], [array([          0,    0.001001,    0.002002,    0.003003,    0.004004,    0.005005,    0.006006,    0.007007,    0.008008,    0.009009,     0.01001,    0.011011,    0.012012,    0.013013,    0.014014,    0.015015,    0.016016,    0.017017,    0.018018,    0.019019,     0.02002,    0.021021,    0.022022,    0.023023,\n",
       "          0.024024,    0.025025,    0.026026,    0.027027,    0.028028,    0.029029,     0.03003,    0.031031,    0.032032,    0.033033,    0.034034,    0.035035,    0.036036,    0.037037,    0.038038,    0.039039,     0.04004,    0.041041,    0.042042,    0.043043,    0.044044,    0.045045,    0.046046,    0.047047,\n",
       "          0.048048,    0.049049,     0.05005,    0.051051,    0.052052,    0.053053,    0.054054,    0.055055,    0.056056,    0.057057,    0.058058,    0.059059,     0.06006,    0.061061,    0.062062,    0.063063,    0.064064,    0.065065,    0.066066,    0.067067,    0.068068,    0.069069,     0.07007,    0.071071,\n",
       "          0.072072,    0.073073,    0.074074,    0.075075,    0.076076,    0.077077,    0.078078,    0.079079,     0.08008,    0.081081,    0.082082,    0.083083,    0.084084,    0.085085,    0.086086,    0.087087,    0.088088,    0.089089,     0.09009,    0.091091,    0.092092,    0.093093,    0.094094,    0.095095,\n",
       "          0.096096,    0.097097,    0.098098,    0.099099,      0.1001,      0.1011,      0.1021,      0.1031,      0.1041,     0.10511,     0.10611,     0.10711,     0.10811,     0.10911,     0.11011,     0.11111,     0.11211,     0.11311,     0.11411,     0.11512,     0.11612,     0.11712,     0.11812,     0.11912,\n",
       "           0.12012,     0.12112,     0.12212,     0.12312,     0.12412,     0.12513,     0.12613,     0.12713,     0.12813,     0.12913,     0.13013,     0.13113,     0.13213,     0.13313,     0.13413,     0.13514,     0.13614,     0.13714,     0.13814,     0.13914,     0.14014,     0.14114,     0.14214,     0.14314,\n",
       "           0.14414,     0.14515,     0.14615,     0.14715,     0.14815,     0.14915,     0.15015,     0.15115,     0.15215,     0.15315,     0.15415,     0.15516,     0.15616,     0.15716,     0.15816,     0.15916,     0.16016,     0.16116,     0.16216,     0.16316,     0.16416,     0.16517,     0.16617,     0.16717,\n",
       "           0.16817,     0.16917,     0.17017,     0.17117,     0.17217,     0.17317,     0.17417,     0.17518,     0.17618,     0.17718,     0.17818,     0.17918,     0.18018,     0.18118,     0.18218,     0.18318,     0.18418,     0.18519,     0.18619,     0.18719,     0.18819,     0.18919,     0.19019,     0.19119,\n",
       "           0.19219,     0.19319,     0.19419,      0.1952,      0.1962,      0.1972,      0.1982,      0.1992,      0.2002,      0.2012,      0.2022,      0.2032,      0.2042,     0.20521,     0.20621,     0.20721,     0.20821,     0.20921,     0.21021,     0.21121,     0.21221,     0.21321,     0.21421,     0.21522,\n",
       "           0.21622,     0.21722,     0.21822,     0.21922,     0.22022,     0.22122,     0.22222,     0.22322,     0.22422,     0.22523,     0.22623,     0.22723,     0.22823,     0.22923,     0.23023,     0.23123,     0.23223,     0.23323,     0.23423,     0.23524,     0.23624,     0.23724,     0.23824,     0.23924,\n",
       "           0.24024,     0.24124,     0.24224,     0.24324,     0.24424,     0.24525,     0.24625,     0.24725,     0.24825,     0.24925,     0.25025,     0.25125,     0.25225,     0.25325,     0.25425,     0.25526,     0.25626,     0.25726,     0.25826,     0.25926,     0.26026,     0.26126,     0.26226,     0.26326,\n",
       "           0.26426,     0.26527,     0.26627,     0.26727,     0.26827,     0.26927,     0.27027,     0.27127,     0.27227,     0.27327,     0.27427,     0.27528,     0.27628,     0.27728,     0.27828,     0.27928,     0.28028,     0.28128,     0.28228,     0.28328,     0.28428,     0.28529,     0.28629,     0.28729,\n",
       "           0.28829,     0.28929,     0.29029,     0.29129,     0.29229,     0.29329,     0.29429,      0.2953,      0.2963,      0.2973,      0.2983,      0.2993,      0.3003,      0.3013,      0.3023,      0.3033,      0.3043,     0.30531,     0.30631,     0.30731,     0.30831,     0.30931,     0.31031,     0.31131,\n",
       "           0.31231,     0.31331,     0.31431,     0.31532,     0.31632,     0.31732,     0.31832,     0.31932,     0.32032,     0.32132,     0.32232,     0.32332,     0.32432,     0.32533,     0.32633,     0.32733,     0.32833,     0.32933,     0.33033,     0.33133,     0.33233,     0.33333,     0.33433,     0.33534,\n",
       "           0.33634,     0.33734,     0.33834,     0.33934,     0.34034,     0.34134,     0.34234,     0.34334,     0.34434,     0.34535,     0.34635,     0.34735,     0.34835,     0.34935,     0.35035,     0.35135,     0.35235,     0.35335,     0.35435,     0.35536,     0.35636,     0.35736,     0.35836,     0.35936,\n",
       "           0.36036,     0.36136,     0.36236,     0.36336,     0.36436,     0.36537,     0.36637,     0.36737,     0.36837,     0.36937,     0.37037,     0.37137,     0.37237,     0.37337,     0.37437,     0.37538,     0.37638,     0.37738,     0.37838,     0.37938,     0.38038,     0.38138,     0.38238,     0.38338,\n",
       "           0.38438,     0.38539,     0.38639,     0.38739,     0.38839,     0.38939,     0.39039,     0.39139,     0.39239,     0.39339,     0.39439,      0.3954,      0.3964,      0.3974,      0.3984,      0.3994,      0.4004,      0.4014,      0.4024,      0.4034,      0.4044,     0.40541,     0.40641,     0.40741,\n",
       "           0.40841,     0.40941,     0.41041,     0.41141,     0.41241,     0.41341,     0.41441,     0.41542,     0.41642,     0.41742,     0.41842,     0.41942,     0.42042,     0.42142,     0.42242,     0.42342,     0.42442,     0.42543,     0.42643,     0.42743,     0.42843,     0.42943,     0.43043,     0.43143,\n",
       "           0.43243,     0.43343,     0.43443,     0.43544,     0.43644,     0.43744,     0.43844,     0.43944,     0.44044,     0.44144,     0.44244,     0.44344,     0.44444,     0.44545,     0.44645,     0.44745,     0.44845,     0.44945,     0.45045,     0.45145,     0.45245,     0.45345,     0.45445,     0.45546,\n",
       "           0.45646,     0.45746,     0.45846,     0.45946,     0.46046,     0.46146,     0.46246,     0.46346,     0.46446,     0.46547,     0.46647,     0.46747,     0.46847,     0.46947,     0.47047,     0.47147,     0.47247,     0.47347,     0.47447,     0.47548,     0.47648,     0.47748,     0.47848,     0.47948,\n",
       "           0.48048,     0.48148,     0.48248,     0.48348,     0.48448,     0.48549,     0.48649,     0.48749,     0.48849,     0.48949,     0.49049,     0.49149,     0.49249,     0.49349,     0.49449,      0.4955,      0.4965,      0.4975,      0.4985,      0.4995,      0.5005,      0.5015,      0.5025,      0.5035,\n",
       "            0.5045,     0.50551,     0.50651,     0.50751,     0.50851,     0.50951,     0.51051,     0.51151,     0.51251,     0.51351,     0.51451,     0.51552,     0.51652,     0.51752,     0.51852,     0.51952,     0.52052,     0.52152,     0.52252,     0.52352,     0.52452,     0.52553,     0.52653,     0.52753,\n",
       "           0.52853,     0.52953,     0.53053,     0.53153,     0.53253,     0.53353,     0.53453,     0.53554,     0.53654,     0.53754,     0.53854,     0.53954,     0.54054,     0.54154,     0.54254,     0.54354,     0.54454,     0.54555,     0.54655,     0.54755,     0.54855,     0.54955,     0.55055,     0.55155,\n",
       "           0.55255,     0.55355,     0.55455,     0.55556,     0.55656,     0.55756,     0.55856,     0.55956,     0.56056,     0.56156,     0.56256,     0.56356,     0.56456,     0.56557,     0.56657,     0.56757,     0.56857,     0.56957,     0.57057,     0.57157,     0.57257,     0.57357,     0.57457,     0.57558,\n",
       "           0.57658,     0.57758,     0.57858,     0.57958,     0.58058,     0.58158,     0.58258,     0.58358,     0.58458,     0.58559,     0.58659,     0.58759,     0.58859,     0.58959,     0.59059,     0.59159,     0.59259,     0.59359,     0.59459,      0.5956,      0.5966,      0.5976,      0.5986,      0.5996,\n",
       "            0.6006,      0.6016,      0.6026,      0.6036,      0.6046,     0.60561,     0.60661,     0.60761,     0.60861,     0.60961,     0.61061,     0.61161,     0.61261,     0.61361,     0.61461,     0.61562,     0.61662,     0.61762,     0.61862,     0.61962,     0.62062,     0.62162,     0.62262,     0.62362,\n",
       "           0.62462,     0.62563,     0.62663,     0.62763,     0.62863,     0.62963,     0.63063,     0.63163,     0.63263,     0.63363,     0.63463,     0.63564,     0.63664,     0.63764,     0.63864,     0.63964,     0.64064,     0.64164,     0.64264,     0.64364,     0.64464,     0.64565,     0.64665,     0.64765,\n",
       "           0.64865,     0.64965,     0.65065,     0.65165,     0.65265,     0.65365,     0.65465,     0.65566,     0.65666,     0.65766,     0.65866,     0.65966,     0.66066,     0.66166,     0.66266,     0.66366,     0.66466,     0.66567,     0.66667,     0.66767,     0.66867,     0.66967,     0.67067,     0.67167,\n",
       "           0.67267,     0.67367,     0.67467,     0.67568,     0.67668,     0.67768,     0.67868,     0.67968,     0.68068,     0.68168,     0.68268,     0.68368,     0.68468,     0.68569,     0.68669,     0.68769,     0.68869,     0.68969,     0.69069,     0.69169,     0.69269,     0.69369,     0.69469,      0.6957,\n",
       "            0.6967,      0.6977,      0.6987,      0.6997,      0.7007,      0.7017,      0.7027,      0.7037,      0.7047,     0.70571,     0.70671,     0.70771,     0.70871,     0.70971,     0.71071,     0.71171,     0.71271,     0.71371,     0.71471,     0.71572,     0.71672,     0.71772,     0.71872,     0.71972,\n",
       "           0.72072,     0.72172,     0.72272,     0.72372,     0.72472,     0.72573,     0.72673,     0.72773,     0.72873,     0.72973,     0.73073,     0.73173,     0.73273,     0.73373,     0.73473,     0.73574,     0.73674,     0.73774,     0.73874,     0.73974,     0.74074,     0.74174,     0.74274,     0.74374,\n",
       "           0.74474,     0.74575,     0.74675,     0.74775,     0.74875,     0.74975,     0.75075,     0.75175,     0.75275,     0.75375,     0.75475,     0.75576,     0.75676,     0.75776,     0.75876,     0.75976,     0.76076,     0.76176,     0.76276,     0.76376,     0.76476,     0.76577,     0.76677,     0.76777,\n",
       "           0.76877,     0.76977,     0.77077,     0.77177,     0.77277,     0.77377,     0.77477,     0.77578,     0.77678,     0.77778,     0.77878,     0.77978,     0.78078,     0.78178,     0.78278,     0.78378,     0.78478,     0.78579,     0.78679,     0.78779,     0.78879,     0.78979,     0.79079,     0.79179,\n",
       "           0.79279,     0.79379,     0.79479,      0.7958,      0.7968,      0.7978,      0.7988,      0.7998,      0.8008,      0.8018,      0.8028,      0.8038,      0.8048,     0.80581,     0.80681,     0.80781,     0.80881,     0.80981,     0.81081,     0.81181,     0.81281,     0.81381,     0.81481,     0.81582,\n",
       "           0.81682,     0.81782,     0.81882,     0.81982,     0.82082,     0.82182,     0.82282,     0.82382,     0.82482,     0.82583,     0.82683,     0.82783,     0.82883,     0.82983,     0.83083,     0.83183,     0.83283,     0.83383,     0.83483,     0.83584,     0.83684,     0.83784,     0.83884,     0.83984,\n",
       "           0.84084,     0.84184,     0.84284,     0.84384,     0.84484,     0.84585,     0.84685,     0.84785,     0.84885,     0.84985,     0.85085,     0.85185,     0.85285,     0.85385,     0.85485,     0.85586,     0.85686,     0.85786,     0.85886,     0.85986,     0.86086,     0.86186,     0.86286,     0.86386,\n",
       "           0.86486,     0.86587,     0.86687,     0.86787,     0.86887,     0.86987,     0.87087,     0.87187,     0.87287,     0.87387,     0.87487,     0.87588,     0.87688,     0.87788,     0.87888,     0.87988,     0.88088,     0.88188,     0.88288,     0.88388,     0.88488,     0.88589,     0.88689,     0.88789,\n",
       "           0.88889,     0.88989,     0.89089,     0.89189,     0.89289,     0.89389,     0.89489,      0.8959,      0.8969,      0.8979,      0.8989,      0.8999,      0.9009,      0.9019,      0.9029,      0.9039,      0.9049,     0.90591,     0.90691,     0.90791,     0.90891,     0.90991,     0.91091,     0.91191,\n",
       "           0.91291,     0.91391,     0.91491,     0.91592,     0.91692,     0.91792,     0.91892,     0.91992,     0.92092,     0.92192,     0.92292,     0.92392,     0.92492,     0.92593,     0.92693,     0.92793,     0.92893,     0.92993,     0.93093,     0.93193,     0.93293,     0.93393,     0.93493,     0.93594,\n",
       "           0.93694,     0.93794,     0.93894,     0.93994,     0.94094,     0.94194,     0.94294,     0.94394,     0.94494,     0.94595,     0.94695,     0.94795,     0.94895,     0.94995,     0.95095,     0.95195,     0.95295,     0.95395,     0.95495,     0.95596,     0.95696,     0.95796,     0.95896,     0.95996,\n",
       "           0.96096,     0.96196,     0.96296,     0.96396,     0.96496,     0.96597,     0.96697,     0.96797,     0.96897,     0.96997,     0.97097,     0.97197,     0.97297,     0.97397,     0.97497,     0.97598,     0.97698,     0.97798,     0.97898,     0.97998,     0.98098,     0.98198,     0.98298,     0.98398,\n",
       "           0.98498,     0.98599,     0.98699,     0.98799,     0.98899,     0.98999,     0.99099,     0.99199,     0.99299,     0.99399,     0.99499,       0.996,       0.997,       0.998,       0.999,           1]), array([[          1,           1,           1, ...,           0,           0,           0],\n",
       "       [    0.99237,     0.99237,     0.99237, ...,           0,           0,           0]]), 'Confidence', 'Recall']]\n",
       "fitness: 0.9197781071828965\n",
       "keys: ['metrics/precision(B)', 'metrics/recall(B)', 'metrics/mAP50(B)', 'metrics/mAP50-95(B)']\n",
       "maps: array([    0.94866,     0.87826])\n",
       "names: {0: 'weed', 1: 'background'}\n",
       "plot: True\n",
       "results_dict: {'metrics/precision(B)': 0.9094727226334426, 'metrics/recall(B)': 0.9697884907808572, 'metrics/mAP50(B)': 0.9766269841673224, 'metrics/mAP50-95(B)': 0.9134615652957381, 'fitness': 0.9197781071828965}\n",
       "save_dir: PosixPath('runs/detect/train')\n",
       "speed: {'preprocess': 0.20224921369322257, 'inference': 4.566806525999797, 'loss': 0.0408951211090825, 'postprocess': 3.5512447357177734}\n",
       "task: 'detect'"
      ]
     },
     "execution_count": 11,
     "metadata": {},
     "output_type": "execute_result"
    }
   ],
   "source": [
    "dataset_path = r'/kaggle/working/Preprocessed_img_weed'  \n",
    "train_path = f\"{dataset_path}/train/images\"\n",
    "val_path = f\"{dataset_path}/val/images\"\n",
    "test_path = f\"{dataset_path}/test/images\"\n",
    "\n",
    "# Defining dataset configuration for yaml file\n",
    "dataset_config = {\n",
    "    \"path\": \"/kaggle/working/Preprocessed_img_weed\",  \n",
    "    \"train\": \"train/images\",\n",
    "    \"val\": \"val/images\",\n",
    "    \"test\": \"test/images\",\n",
    "    \"nc\": 2,  \n",
    "    \"names\": [\"weed\", \"crop\"] \n",
    "}\n",
    "yaml_path = \"/kaggle/working/weed_dataset.yaml\"\n",
    "with open(yaml_path, \"w\") as yaml_file:\n",
    "    yaml.dump(dataset_config, yaml_file, default_flow_style=False)\n",
    "\n",
    "print(f\"YAML file created at: {yaml_path}\")\n",
    "\n",
    "model = YOLO(\"yolov8s.pt\")  \n",
    "model.train(data=\"/kaggle/working/weed_dataset.yaml\", epochs=100, batch=16, imgsz=640, device=\"cuda\")\n"
   ]
  },
  {
   "cell_type": "code",
   "execution_count": 12,
   "metadata": {
    "execution": {
     "iopub.execute_input": "2025-02-04T18:55:35.798004Z",
     "iopub.status.busy": "2025-02-04T18:55:35.797691Z",
     "iopub.status.idle": "2025-02-04T18:55:40.683849Z",
     "shell.execute_reply": "2025-02-04T18:55:40.682660Z",
     "shell.execute_reply.started": "2025-02-04T18:55:35.797981Z"
    },
    "trusted": true
   },
   "outputs": [
    {
     "name": "stdout",
     "output_type": "stream",
     "text": [
      "Ultralytics 8.3.71 🚀 Python-3.10.12 torch-2.5.1+cu121 CUDA:0 (Tesla P100-PCIE-16GB, 16269MiB)\n",
      "Model summary (fused): 168 layers, 11,126,358 parameters, 0 gradients, 28.4 GFLOPs\n"
     ]
    },
    {
     "name": "stderr",
     "output_type": "stream",
     "text": [
      "\u001b[34m\u001b[1mval: \u001b[0mScanning /kaggle/working/Preprocessed_img_weed/test/labels... 50 images, 0 backgrounds, 0 corrupt: 100%|██████████| 50/50 [00:00<00:00, 1155.76it/s]"
     ]
    },
    {
     "name": "stdout",
     "output_type": "stream",
     "text": [
      "\u001b[34m\u001b[1mval: \u001b[0mNew cache created: /kaggle/working/Preprocessed_img_weed/test/labels.cache\n"
     ]
    },
    {
     "name": "stderr",
     "output_type": "stream",
     "text": [
      "\n",
      "                 Class     Images  Instances      Box(P          R      mAP50  mAP50-95): 100%|██████████| 4/4 [00:01<00:00,  2.84it/s]\n"
     ]
    },
    {
     "name": "stdout",
     "output_type": "stream",
     "text": [
      "                   all         50         74       0.96      0.785      0.878      0.574\n",
      "                  weed         24         42          1      0.853      0.913      0.633\n",
      "            background         26         32       0.92      0.716      0.844      0.516\n"
     ]
    },
    {
     "name": "stderr",
     "output_type": "stream",
     "text": [
      "/usr/local/lib/python3.10/dist-packages/matplotlib/colors.py:721: RuntimeWarning: invalid value encountered in less\n",
      "  xa[xa < 0] = -1\n",
      "/usr/local/lib/python3.10/dist-packages/matplotlib/colors.py:721: RuntimeWarning: invalid value encountered in less\n",
      "  xa[xa < 0] = -1\n"
     ]
    },
    {
     "name": "stdout",
     "output_type": "stream",
     "text": [
      "Speed: 0.2ms preprocess, 8.9ms inference, 0.0ms loss, 2.7ms postprocess per image\n",
      "Results saved to \u001b[1mruns/detect/val\u001b[0m\n"
     ]
    }
   ],
   "source": [
    "model = YOLO(\"/kaggle/working/runs/detect/train/weights/best.pt\")  \n",
    "# Evaluating on test dataset\n",
    "metrics = model.val(data=\"/kaggle/working/weed_dataset.yaml\", split=\"test\")"
   ]
  },
  {
   "cell_type": "code",
   "execution_count": null,
   "metadata": {
    "trusted": true
   },
   "outputs": [],
   "source": []
  }
 ],
 "metadata": {
  "kaggle": {
   "accelerator": "gpu",
   "dataSources": [
    {
     "datasetId": 6569314,
     "sourceId": 10611371,
     "sourceType": "datasetVersion"
    }
   ],
   "dockerImageVersionId": 30840,
   "isGpuEnabled": true,
   "isInternetEnabled": true,
   "language": "python",
   "sourceType": "notebook"
  },
  "kernelspec": {
   "display_name": "Python 3",
   "language": "python",
   "name": "python3"
  },
  "language_info": {
   "codemirror_mode": {
    "name": "ipython",
    "version": 3
   },
   "file_extension": ".py",
   "mimetype": "text/x-python",
   "name": "python",
   "nbconvert_exporter": "python",
   "pygments_lexer": "ipython3",
   "version": "3.10.12"
  }
 },
 "nbformat": 4,
 "nbformat_minor": 4
}
